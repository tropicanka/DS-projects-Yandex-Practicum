{
 "cells": [
  {
   "cell_type": "markdown",
   "metadata": {
    "toc": true
   },
   "source": [
    "<h1>Содержание<span class=\"tocSkip\"></span></h1>\n",
    "<div class=\"toc\"><ul class=\"toc-item\"><li><span><a href=\"#Загрузка-данных\" data-toc-modified-id=\"Загрузка-данных-1\"><span class=\"toc-item-num\">1&nbsp;&nbsp;</span>Загрузка данных</a></span></li><li><span><a href=\"#Умножение-матриц\" data-toc-modified-id=\"Умножение-матриц-2\"><span class=\"toc-item-num\">2&nbsp;&nbsp;</span>Умножение матриц</a></span></li><li><span><a href=\"#Алгоритм-преобразования\" data-toc-modified-id=\"Алгоритм-преобразования-3\"><span class=\"toc-item-num\">3&nbsp;&nbsp;</span>Алгоритм преобразования</a></span></li><li><span><a href=\"#Проверка-алгоритма\" data-toc-modified-id=\"Проверка-алгоритма-4\"><span class=\"toc-item-num\">4&nbsp;&nbsp;</span>Проверка алгоритма</a></span><ul class=\"toc-item\"><li><span><a href=\"#Реализация-алгоритма-преобразования\" data-toc-modified-id=\"Реализация-алгоритма-преобразования-4.1\"><span class=\"toc-item-num\">4.1&nbsp;&nbsp;</span>Реализация алгоритма преобразования</a></span></li><li><span><a href=\"#Проверка-качества-линейной-регрессии-с-использование-алгоритма-преобразования\" data-toc-modified-id=\"Проверка-качества-линейной-регрессии-с-использование-алгоритма-преобразования-4.2\"><span class=\"toc-item-num\">4.2&nbsp;&nbsp;</span>Проверка качества линейной регрессии с использование алгоритма преобразования</a></span></li></ul></li><li><span><a href=\"#Общие-выводы\" data-toc-modified-id=\"Общие-выводы-5\"><span class=\"toc-item-num\">5&nbsp;&nbsp;</span>Общие выводы</a></span></li><li><span><a href=\"#Чек-лист-проверки\" data-toc-modified-id=\"Чек-лист-проверки-6\"><span class=\"toc-item-num\">6&nbsp;&nbsp;</span>Чек-лист проверки</a></span></li></ul></div>"
   ]
  },
  {
   "cell_type": "markdown",
   "metadata": {},
   "source": [
    "# Защита персональных данных клиентов"
   ]
  },
  {
   "cell_type": "markdown",
   "metadata": {},
   "source": [
    "Вам нужно защитить данные клиентов страховой компании «Хоть потоп». Разработайте такой метод преобразования данных, чтобы по ним было сложно восстановить персональную информацию. Обоснуйте корректность его работы.\n",
    "\n",
    "Нужно защитить данные, чтобы при преобразовании качество моделей машинного обучения не ухудшилось. Подбирать наилучшую модель не требуется."
   ]
  },
  {
   "cell_type": "markdown",
   "metadata": {},
   "source": [
    "**Описание данных:**\n",
    "В датафрейме представлены данные клиентов страховой компании.\n",
    "\n",
    "**Признаки:** пол, возраст и зарплата застрахованного, количество членов его семьи.\n",
    "\n",
    "**Целевой признак:**\n",
    "* `Страховые выплаты` — количество страховых выплат клиенту за последние 5 лет."
   ]
  },
  {
   "cell_type": "markdown",
   "metadata": {},
   "source": [
    "## Загрузка данных"
   ]
  },
  {
   "cell_type": "markdown",
   "metadata": {},
   "source": [
    "Импортируем нужные библиотеки, считаем данные из датасетов и напишем функцию, отвечающую за их первичный анализ."
   ]
  },
  {
   "cell_type": "code",
   "execution_count": 1,
   "metadata": {},
   "outputs": [
    {
     "data": {
      "text/html": [
       "<style>.container { width:90% !important; }</style>"
      ],
      "text/plain": [
       "<IPython.core.display.HTML object>"
      ]
     },
     "metadata": {},
     "output_type": "display_data"
    }
   ],
   "source": [
    "# перейдем в широкоформатный режим  Jupyterи\n",
    "from IPython.core.display import display, HTML\n",
    "display(HTML(\"<style>.container { width:90% !important; }</style>\"))"
   ]
  },
  {
   "cell_type": "code",
   "execution_count": 2,
   "metadata": {},
   "outputs": [],
   "source": [
    "# импортируем необходимые библиотеки\n",
    "import pandas as pd\n",
    "import matplotlib.pyplot as plt\n",
    "import seaborn as sns\n",
    "import numpy as np\n",
    "\n",
    "from numpy.random import RandomState\n",
    "from sklearn.model_selection import train_test_split\n",
    "from sklearn.linear_model import LinearRegression\n",
    "from sklearn.metrics import r2_score"
   ]
  },
  {
   "cell_type": "code",
   "execution_count": 3,
   "metadata": {},
   "outputs": [],
   "source": [
    "# Считаем датафрейм\n",
    "data = pd.read_csv('/datasets/insurance.csv')"
   ]
  },
  {
   "cell_type": "code",
   "execution_count": 4,
   "metadata": {},
   "outputs": [],
   "source": [
    "# напишем функцию, выполняющую первичный анализ данных\n",
    "def overview_data(data):\n",
    "    # выведем первые 20 строк\n",
    "    display(data.head(20))\n",
    "    # выведем информацию о датафрейме\n",
    "    data.info()\n",
    "    \n",
    "    # построим общую гистограмму для всех числовых столбцов таблицы\n",
    "    data.hist(figsize=(15, 20), bins=20);\n",
    "    plt.show()\n",
    "    \n",
    "    # построим диаграммы рассеивания\n",
    "    sns.pairplot(data);\n",
    "    plt.show()\n",
    "    \n",
    "    # построим тепловую карту матриц корреляции\n",
    "    f, ax = plt.subplots(figsize=(16, 12))\n",
    "    sns.heatmap(data.corr(), annot=True, square=True);\n",
    "    plt.title('Тепловая карта матрицы корреляции')\n",
    "    plt.show()"
   ]
  },
  {
   "cell_type": "code",
   "execution_count": 5,
   "metadata": {
    "scrolled": false
   },
   "outputs": [
    {
     "data": {
      "text/html": [
       "<div>\n",
       "<style scoped>\n",
       "    .dataframe tbody tr th:only-of-type {\n",
       "        vertical-align: middle;\n",
       "    }\n",
       "\n",
       "    .dataframe tbody tr th {\n",
       "        vertical-align: top;\n",
       "    }\n",
       "\n",
       "    .dataframe thead th {\n",
       "        text-align: right;\n",
       "    }\n",
       "</style>\n",
       "<table border=\"1\" class=\"dataframe\">\n",
       "  <thead>\n",
       "    <tr style=\"text-align: right;\">\n",
       "      <th></th>\n",
       "      <th>Пол</th>\n",
       "      <th>Возраст</th>\n",
       "      <th>Зарплата</th>\n",
       "      <th>Члены семьи</th>\n",
       "      <th>Страховые выплаты</th>\n",
       "    </tr>\n",
       "  </thead>\n",
       "  <tbody>\n",
       "    <tr>\n",
       "      <th>0</th>\n",
       "      <td>1</td>\n",
       "      <td>41.0</td>\n",
       "      <td>49600.0</td>\n",
       "      <td>1</td>\n",
       "      <td>0</td>\n",
       "    </tr>\n",
       "    <tr>\n",
       "      <th>1</th>\n",
       "      <td>0</td>\n",
       "      <td>46.0</td>\n",
       "      <td>38000.0</td>\n",
       "      <td>1</td>\n",
       "      <td>1</td>\n",
       "    </tr>\n",
       "    <tr>\n",
       "      <th>2</th>\n",
       "      <td>0</td>\n",
       "      <td>29.0</td>\n",
       "      <td>21000.0</td>\n",
       "      <td>0</td>\n",
       "      <td>0</td>\n",
       "    </tr>\n",
       "    <tr>\n",
       "      <th>3</th>\n",
       "      <td>0</td>\n",
       "      <td>21.0</td>\n",
       "      <td>41700.0</td>\n",
       "      <td>2</td>\n",
       "      <td>0</td>\n",
       "    </tr>\n",
       "    <tr>\n",
       "      <th>4</th>\n",
       "      <td>1</td>\n",
       "      <td>28.0</td>\n",
       "      <td>26100.0</td>\n",
       "      <td>0</td>\n",
       "      <td>0</td>\n",
       "    </tr>\n",
       "    <tr>\n",
       "      <th>5</th>\n",
       "      <td>1</td>\n",
       "      <td>43.0</td>\n",
       "      <td>41000.0</td>\n",
       "      <td>2</td>\n",
       "      <td>1</td>\n",
       "    </tr>\n",
       "    <tr>\n",
       "      <th>6</th>\n",
       "      <td>1</td>\n",
       "      <td>39.0</td>\n",
       "      <td>39700.0</td>\n",
       "      <td>2</td>\n",
       "      <td>0</td>\n",
       "    </tr>\n",
       "    <tr>\n",
       "      <th>7</th>\n",
       "      <td>1</td>\n",
       "      <td>25.0</td>\n",
       "      <td>38600.0</td>\n",
       "      <td>4</td>\n",
       "      <td>0</td>\n",
       "    </tr>\n",
       "    <tr>\n",
       "      <th>8</th>\n",
       "      <td>1</td>\n",
       "      <td>36.0</td>\n",
       "      <td>49700.0</td>\n",
       "      <td>1</td>\n",
       "      <td>0</td>\n",
       "    </tr>\n",
       "    <tr>\n",
       "      <th>9</th>\n",
       "      <td>1</td>\n",
       "      <td>32.0</td>\n",
       "      <td>51700.0</td>\n",
       "      <td>1</td>\n",
       "      <td>0</td>\n",
       "    </tr>\n",
       "    <tr>\n",
       "      <th>10</th>\n",
       "      <td>1</td>\n",
       "      <td>25.0</td>\n",
       "      <td>36600.0</td>\n",
       "      <td>1</td>\n",
       "      <td>0</td>\n",
       "    </tr>\n",
       "    <tr>\n",
       "      <th>11</th>\n",
       "      <td>1</td>\n",
       "      <td>38.0</td>\n",
       "      <td>29300.0</td>\n",
       "      <td>0</td>\n",
       "      <td>0</td>\n",
       "    </tr>\n",
       "    <tr>\n",
       "      <th>12</th>\n",
       "      <td>0</td>\n",
       "      <td>23.0</td>\n",
       "      <td>39500.0</td>\n",
       "      <td>3</td>\n",
       "      <td>0</td>\n",
       "    </tr>\n",
       "    <tr>\n",
       "      <th>13</th>\n",
       "      <td>0</td>\n",
       "      <td>21.0</td>\n",
       "      <td>55000.0</td>\n",
       "      <td>0</td>\n",
       "      <td>0</td>\n",
       "    </tr>\n",
       "    <tr>\n",
       "      <th>14</th>\n",
       "      <td>0</td>\n",
       "      <td>40.0</td>\n",
       "      <td>43700.0</td>\n",
       "      <td>1</td>\n",
       "      <td>0</td>\n",
       "    </tr>\n",
       "    <tr>\n",
       "      <th>15</th>\n",
       "      <td>1</td>\n",
       "      <td>34.0</td>\n",
       "      <td>23300.0</td>\n",
       "      <td>0</td>\n",
       "      <td>0</td>\n",
       "    </tr>\n",
       "    <tr>\n",
       "      <th>16</th>\n",
       "      <td>1</td>\n",
       "      <td>26.0</td>\n",
       "      <td>48900.0</td>\n",
       "      <td>2</td>\n",
       "      <td>0</td>\n",
       "    </tr>\n",
       "    <tr>\n",
       "      <th>17</th>\n",
       "      <td>1</td>\n",
       "      <td>41.0</td>\n",
       "      <td>33200.0</td>\n",
       "      <td>2</td>\n",
       "      <td>0</td>\n",
       "    </tr>\n",
       "    <tr>\n",
       "      <th>18</th>\n",
       "      <td>1</td>\n",
       "      <td>42.0</td>\n",
       "      <td>49700.0</td>\n",
       "      <td>0</td>\n",
       "      <td>1</td>\n",
       "    </tr>\n",
       "    <tr>\n",
       "      <th>19</th>\n",
       "      <td>1</td>\n",
       "      <td>27.0</td>\n",
       "      <td>36900.0</td>\n",
       "      <td>0</td>\n",
       "      <td>0</td>\n",
       "    </tr>\n",
       "  </tbody>\n",
       "</table>\n",
       "</div>"
      ],
      "text/plain": [
       "    Пол  Возраст  Зарплата  Члены семьи  Страховые выплаты\n",
       "0     1     41.0   49600.0            1                  0\n",
       "1     0     46.0   38000.0            1                  1\n",
       "2     0     29.0   21000.0            0                  0\n",
       "3     0     21.0   41700.0            2                  0\n",
       "4     1     28.0   26100.0            0                  0\n",
       "5     1     43.0   41000.0            2                  1\n",
       "6     1     39.0   39700.0            2                  0\n",
       "7     1     25.0   38600.0            4                  0\n",
       "8     1     36.0   49700.0            1                  0\n",
       "9     1     32.0   51700.0            1                  0\n",
       "10    1     25.0   36600.0            1                  0\n",
       "11    1     38.0   29300.0            0                  0\n",
       "12    0     23.0   39500.0            3                  0\n",
       "13    0     21.0   55000.0            0                  0\n",
       "14    0     40.0   43700.0            1                  0\n",
       "15    1     34.0   23300.0            0                  0\n",
       "16    1     26.0   48900.0            2                  0\n",
       "17    1     41.0   33200.0            2                  0\n",
       "18    1     42.0   49700.0            0                  1\n",
       "19    1     27.0   36900.0            0                  0"
      ]
     },
     "metadata": {},
     "output_type": "display_data"
    },
    {
     "name": "stdout",
     "output_type": "stream",
     "text": [
      "<class 'pandas.core.frame.DataFrame'>\n",
      "RangeIndex: 5000 entries, 0 to 4999\n",
      "Data columns (total 5 columns):\n",
      " #   Column             Non-Null Count  Dtype  \n",
      "---  ------             --------------  -----  \n",
      " 0   Пол                5000 non-null   int64  \n",
      " 1   Возраст            5000 non-null   float64\n",
      " 2   Зарплата           5000 non-null   float64\n",
      " 3   Члены семьи        5000 non-null   int64  \n",
      " 4   Страховые выплаты  5000 non-null   int64  \n",
      "dtypes: float64(2), int64(3)\n",
      "memory usage: 195.4 KB\n"
     ]
    },
    {
     "data": {
      "image/png": "[encoded data removed]",
      "text/plain": [
       "<Figure size 1080x1440 with 6 Axes>"
      ]
     },
     "metadata": {
      "needs_background": "light"
     },
     "output_type": "display_data"
    },
    {
     "data": {
      "image/png": "[encoded data removed]",
      "text/plain": [
       "<Figure size 900x900 with 30 Axes>"
      ]
     },
     "metadata": {
      "needs_background": "light"
     },
     "output_type": "display_data"
    },
    {
     "data": {
      "image/png": "[encoded data removed]",
      "text/plain": [
       "<Figure size 1152x864 with 2 Axes>"
      ]
     },
     "metadata": {
      "needs_background": "light"
     },
     "output_type": "display_data"
    }
   ],
   "source": [
    "# выполним первичный анализ данных для датафрейма\n",
    "overview_data(data)"
   ]
  },
  {
   "cell_type": "markdown",
   "metadata": {},
   "source": [
    "<div style=\"border:solid green 2px; padding: 20px\">\n",
    "    \n",
    "* В датафрейме нет пропусков.\n",
    "* Судя по гистограммам, все признаки содержат адекватные диапазоны значений.\n",
    "* Наибольшее влияние на количество страховых выплат имеет возраст клиента. Все остальные корреляции признаков слабые.\n",
    "    \n",
    "</div>"
   ]
  },
  {
   "cell_type": "markdown",
   "metadata": {},
   "source": [
    "## Умножение матриц"
   ]
  },
  {
   "cell_type": "markdown",
   "metadata": {},
   "source": [
    "Посмотрим, изменится ли качество линейной регрессии, если признаки умножат на обратимую матрицу. Модель при этом можно обучить заново. "
   ]
  },
  {
   "cell_type": "markdown",
   "metadata": {},
   "source": [
    "Обозначения:\n",
    "\n",
    "- $X$ — матрица признаков (нулевой столбец состоит из единиц)\n",
    "\n",
    "- $y$ — вектор целевого признака\n",
    "\n",
    "- $P$ — матрица, на которую умножаются признаки\n",
    "\n",
    "- $w$ — вектор весов линейной регрессии (нулевой элемент равен сдвигу)"
   ]
  },
  {
   "cell_type": "markdown",
   "metadata": {},
   "source": [
    "Предсказания:\n",
    "\n",
    "$$\n",
    "a = Xw\n",
    "$$\n",
    "\n",
    "Задача обучения:\n",
    "\n",
    "$$\n",
    "w = \\arg\\min_w MSE(Xw, y)\n",
    "$$\n",
    "\n",
    "Формула обучения:\n",
    "\n",
    "$$\n",
    "w = (X^T X)^{-1} X^T y\n",
    "$$"
   ]
  },
  {
   "cell_type": "markdown",
   "metadata": {},
   "source": [
    "То есть вопрос в том, изменится ли качетсво линейной регрессии, если линейная регрессия вместо обучения на признаках $ X $ будет обучаться на $ XP $, где $ P $ - обратимая матрица?"
   ]
  },
  {
   "cell_type": "markdown",
   "metadata": {},
   "source": [
    "**Ответ:** качество линейной регрессии не изменится.\n",
    "\n",
    "**Обоснование:** Обозначим через $ \\tilde X $ преобразованные признаки для новой модели линейной регресии:  $ \\tilde X  = XP $, через $ \\tilde w $ - новый вектор весов линейной регрессии, через $ \\tilde a $ - новый вектор предсказаний модели.\n",
    "\n",
    "Раскроем  $ \\tilde X $ в формуле обучения линейной регрессии:\n",
    "\n",
    "$$\n",
    "\\tilde w = (\\tilde X^T \\tilde X)^{-1} \\tilde X^T y\n",
    "$$\n",
    "\n",
    "$$\n",
    "\\tilde w = ((XP)^T (XP))^{-1} (XP)^T y\n",
    "$$\n",
    "\n",
    "\n",
    "<div style=\"border:solid grey 1px; padding: 20px\">\n",
    "Перед преобразованием формулы вспомним свойства матриц, что транспонирование произведения матриц равно произведению транспонированных матриц в обратном порядке:\n",
    "    \n",
    "$$\n",
    "(AB)^T = B^T A^T\n",
    "$$\n",
    "    \n",
    "Также вспомним, что для обратимых матриц, обратной матрицей к произведению двух матриц является произведение обратных матриц в обратном порядке:\n",
    "    \n",
    "$$\n",
    "(AB)^{-1} = B^{-1} A^{-1}\n",
    "$$\n",
    "</div>\n",
    "\n",
    "\n",
    "Теперь раскроем скобки и применим эти свойства матриц для преобразования формулы обучения:\n",
    "\n",
    "$$\n",
    "\\tilde w = (P^T X^T X P)^{-1} P^T X^T y\n",
    "$$\n",
    "\n",
    "$$\n",
    "\\tilde w = P^{-1} (X^T X)^{-1} (P^T)^{-1} P^T X^T y\n",
    "$$\n",
    "\n",
    "$ (P^T)^{-1} P^T $ сократятся, поэтому:\n",
    "\n",
    "$$\n",
    "\\tilde w = P^{-1} (X^T X)^{-1} X^T y\n",
    "$$\n",
    "\n",
    "А по формуле обучения для исходной модели $ (X^T X)^{-1} X^T y = w $, поэтому:\n",
    "\n",
    "$$\n",
    "\\tilde w = P^{-1} w\n",
    "$$\n",
    "\n",
    "Подставим теперь это выбражение в формулу вычисления предсказаний для новой модели:\n",
    "\n",
    "$$\n",
    "\\tilde A = \\tilde X \\tilde w = (X P) (P^{-1} w) = X P P^{-1} w\n",
    "$$\n",
    "\n",
    "$ P P^{-1} $ сократятся, поэтому:\n",
    "\n",
    "$$\n",
    "\\tilde A = X w = a\n",
    "$$\n",
    "\n",
    "Таким образом, предсказания первой и второй модели совпадают, а значит качество линейной регрессии не изменится."
   ]
  },
  {
   "cell_type": "markdown",
   "metadata": {},
   "source": [
    "<div style=\"border:solid green 2px; padding: 20px\">\n",
    "    \n",
    "Доказали, что если умножить признаки на произвольную обратимую матрицу, то качество линейной регрессии не изменится. При этом вектор весов линейной регрессии для признаков после преобразования получается путем умножения исходного вектора весов линейной регрессии на обратную матрицу преобразования признаков.\n",
    "    \n",
    "</div>"
   ]
  },
  {
   "cell_type": "markdown",
   "metadata": {},
   "source": [
    "## Алгоритм преобразования"
   ]
  },
  {
   "cell_type": "markdown",
   "metadata": {},
   "source": [
    "Предложим алгоритм преобразования данных, чтобы по ним было сложно восстановить персональную информацию клиентов. Важно, чтобы при преобразовании качество моделей машинного обучения не ухудшилось. "
   ]
  },
  {
   "cell_type": "markdown",
   "metadata": {},
   "source": [
    "**Алгоритм**\n",
    "\n",
    "1. Пока не получится сгенерировать обратимую матрицу нужного размера, сгенерируем случайную квадратную матрицу с размером стороны, равным количеству признаков без целевого признака. Если при генерации получилась необратимая матрица, заново пробуем сгенерировать нужную матрицу. Чтобы не уйти в вечный цикл, можно заранее установить некоторое число попыток для этого.\n",
    "2. Получим новые признаки в результате умножения старых признаков без целевого признака на найденную выше обратимую матрицу.\n",
    "3. Обучим модель линейной регрессии на новых признаках, при рассчете пркдсказаний моделью далее будем домножать признаки на найденную матрицу. "
   ]
  },
  {
   "cell_type": "markdown",
   "metadata": {},
   "source": [
    "**Обоснование**\n",
    "\n",
    "Так как выше было доказано, что качество линейной регрессии не изменится, если признаки умножат на обратимую матрицу, то такой алгоритм преобразования данных будет обеспечивать неизменное качество модели линейной регрессии."
   ]
  },
  {
   "cell_type": "markdown",
   "metadata": {},
   "source": [
    "## Проверка алгоритма"
   ]
  },
  {
   "cell_type": "markdown",
   "metadata": {},
   "source": [
    "### Реализация алгоритма преобразования"
   ]
  },
  {
   "cell_type": "markdown",
   "metadata": {},
   "source": [
    "Реализуем вышеописанный алгоритм преобразования данных"
   ]
  },
  {
   "cell_type": "code",
   "execution_count": 6,
   "metadata": {},
   "outputs": [],
   "source": [
    "def transform_features(features):\n",
    "    # найдем произвольную обратимую матрицу с размером стороны, совпадающим с количеством признаков\n",
    "    random_state = RandomState(12345)\n",
    "    for i in range(1, 11):\n",
    "        try:\n",
    "            features_count = features.shape[1]\n",
    "            # сгенерируем произвольную матрицу для преобразования признаков\n",
    "            transform_matrix = random_state.rand(features_count, features_count)\n",
    "\n",
    "            # вычислим обратную матрицу, если матрица не обратима, возникнет LinAlgError,\n",
    "            # тогда на следующей итерации попробуем еще раз\n",
    "            inversed_transform_matrix = np.linalg.inv(transform_matrix)\n",
    "            \n",
    "            # вычислим преобразованные признаки\n",
    "            transformed_features = np.dot(features, transform_matrix)\n",
    "            \n",
    "            # вернем преобразованные признаки и обратную матрицу, чтобы вычислять исходные признаки\n",
    "            return pd.DataFrame(transformed_features, columns=features.columns), inversed_transform_matrix\n",
    "        except:\n",
    "            print(f'На {i} итерации сгенерированная матрица оказалась необратимой')"
   ]
  },
  {
   "cell_type": "markdown",
   "metadata": {},
   "source": [
    "Проверим, как работает алгоритм преобразования данных. Для этого применим его к признакам из датафрейма, попробуем восстановить признаки с помощью обратной матрицы и сравним их с исходными: "
   ]
  },
  {
   "cell_type": "code",
   "execution_count": 7,
   "metadata": {},
   "outputs": [
    {
     "data": {
      "text/html": [
       "<div>\n",
       "<style scoped>\n",
       "    .dataframe tbody tr th:only-of-type {\n",
       "        vertical-align: middle;\n",
       "    }\n",
       "\n",
       "    .dataframe tbody tr th {\n",
       "        vertical-align: top;\n",
       "    }\n",
       "\n",
       "    .dataframe thead th {\n",
       "        text-align: right;\n",
       "    }\n",
       "</style>\n",
       "<table border=\"1\" class=\"dataframe\">\n",
       "  <thead>\n",
       "    <tr style=\"text-align: right;\">\n",
       "      <th></th>\n",
       "      <th>Пол</th>\n",
       "      <th>Возраст</th>\n",
       "      <th>Зарплата</th>\n",
       "      <th>Члены семьи</th>\n",
       "    </tr>\n",
       "  </thead>\n",
       "  <tbody>\n",
       "    <tr>\n",
       "      <th>0</th>\n",
       "      <td>37169.983952</td>\n",
       "      <td>32441.905747</td>\n",
       "      <td>37126.682258</td>\n",
       "      <td>47708.455342</td>\n",
       "    </tr>\n",
       "    <tr>\n",
       "      <th>1</th>\n",
       "      <td>28484.575966</td>\n",
       "      <td>24863.156593</td>\n",
       "      <td>28457.829124</td>\n",
       "      <td>36560.358528</td>\n",
       "    </tr>\n",
       "    <tr>\n",
       "      <th>2</th>\n",
       "      <td>15743.503414</td>\n",
       "      <td>13742.238084</td>\n",
       "      <td>15729.981916</td>\n",
       "      <td>20206.383593</td>\n",
       "    </tr>\n",
       "    <tr>\n",
       "      <th>3</th>\n",
       "      <td>31241.345787</td>\n",
       "      <td>27266.582942</td>\n",
       "      <td>31200.559759</td>\n",
       "      <td>40101.520436</td>\n",
       "    </tr>\n",
       "    <tr>\n",
       "      <th>4</th>\n",
       "      <td>19563.289157</td>\n",
       "      <td>17075.165256</td>\n",
       "      <td>19542.546847</td>\n",
       "      <td>25108.599330</td>\n",
       "    </tr>\n",
       "  </tbody>\n",
       "</table>\n",
       "</div>"
      ],
      "text/plain": [
       "            Пол       Возраст      Зарплата   Члены семьи\n",
       "0  37169.983952  32441.905747  37126.682258  47708.455342\n",
       "1  28484.575966  24863.156593  28457.829124  36560.358528\n",
       "2  15743.503414  13742.238084  15729.981916  20206.383593\n",
       "3  31241.345787  27266.582942  31200.559759  40101.520436\n",
       "4  19563.289157  17075.165256  19542.546847  25108.599330"
      ]
     },
     "metadata": {},
     "output_type": "display_data"
    }
   ],
   "source": [
    "features = data.drop('Страховые выплаты', axis=1)\n",
    "target = data['Страховые выплаты']\n",
    "\n",
    "transformed_features, inversed_transform_matrix = transform_features(features)\n",
    "\n",
    "display(transformed_features.head())"
   ]
  },
  {
   "cell_type": "code",
   "execution_count": 8,
   "metadata": {
    "scrolled": false
   },
   "outputs": [
    {
     "name": "stdout",
     "output_type": "stream",
     "text": [
      "Исходные признаки\n"
     ]
    },
    {
     "data": {
      "text/html": [
       "<div>\n",
       "<style scoped>\n",
       "    .dataframe tbody tr th:only-of-type {\n",
       "        vertical-align: middle;\n",
       "    }\n",
       "\n",
       "    .dataframe tbody tr th {\n",
       "        vertical-align: top;\n",
       "    }\n",
       "\n",
       "    .dataframe thead th {\n",
       "        text-align: right;\n",
       "    }\n",
       "</style>\n",
       "<table border=\"1\" class=\"dataframe\">\n",
       "  <thead>\n",
       "    <tr style=\"text-align: right;\">\n",
       "      <th></th>\n",
       "      <th>Пол</th>\n",
       "      <th>Возраст</th>\n",
       "      <th>Зарплата</th>\n",
       "      <th>Члены семьи</th>\n",
       "    </tr>\n",
       "  </thead>\n",
       "  <tbody>\n",
       "    <tr>\n",
       "      <th>0</th>\n",
       "      <td>1</td>\n",
       "      <td>41.0</td>\n",
       "      <td>49600.0</td>\n",
       "      <td>1</td>\n",
       "    </tr>\n",
       "    <tr>\n",
       "      <th>1</th>\n",
       "      <td>0</td>\n",
       "      <td>46.0</td>\n",
       "      <td>38000.0</td>\n",
       "      <td>1</td>\n",
       "    </tr>\n",
       "    <tr>\n",
       "      <th>2</th>\n",
       "      <td>0</td>\n",
       "      <td>29.0</td>\n",
       "      <td>21000.0</td>\n",
       "      <td>0</td>\n",
       "    </tr>\n",
       "    <tr>\n",
       "      <th>3</th>\n",
       "      <td>0</td>\n",
       "      <td>21.0</td>\n",
       "      <td>41700.0</td>\n",
       "      <td>2</td>\n",
       "    </tr>\n",
       "    <tr>\n",
       "      <th>4</th>\n",
       "      <td>1</td>\n",
       "      <td>28.0</td>\n",
       "      <td>26100.0</td>\n",
       "      <td>0</td>\n",
       "    </tr>\n",
       "    <tr>\n",
       "      <th>...</th>\n",
       "      <td>...</td>\n",
       "      <td>...</td>\n",
       "      <td>...</td>\n",
       "      <td>...</td>\n",
       "    </tr>\n",
       "    <tr>\n",
       "      <th>4995</th>\n",
       "      <td>0</td>\n",
       "      <td>28.0</td>\n",
       "      <td>35700.0</td>\n",
       "      <td>2</td>\n",
       "    </tr>\n",
       "    <tr>\n",
       "      <th>4996</th>\n",
       "      <td>0</td>\n",
       "      <td>34.0</td>\n",
       "      <td>52400.0</td>\n",
       "      <td>1</td>\n",
       "    </tr>\n",
       "    <tr>\n",
       "      <th>4997</th>\n",
       "      <td>0</td>\n",
       "      <td>20.0</td>\n",
       "      <td>33900.0</td>\n",
       "      <td>2</td>\n",
       "    </tr>\n",
       "    <tr>\n",
       "      <th>4998</th>\n",
       "      <td>1</td>\n",
       "      <td>22.0</td>\n",
       "      <td>32700.0</td>\n",
       "      <td>3</td>\n",
       "    </tr>\n",
       "    <tr>\n",
       "      <th>4999</th>\n",
       "      <td>1</td>\n",
       "      <td>28.0</td>\n",
       "      <td>40600.0</td>\n",
       "      <td>1</td>\n",
       "    </tr>\n",
       "  </tbody>\n",
       "</table>\n",
       "<p>5000 rows × 4 columns</p>\n",
       "</div>"
      ],
      "text/plain": [
       "      Пол  Возраст  Зарплата  Члены семьи\n",
       "0       1     41.0   49600.0            1\n",
       "1       0     46.0   38000.0            1\n",
       "2       0     29.0   21000.0            0\n",
       "3       0     21.0   41700.0            2\n",
       "4       1     28.0   26100.0            0\n",
       "...   ...      ...       ...          ...\n",
       "4995    0     28.0   35700.0            2\n",
       "4996    0     34.0   52400.0            1\n",
       "4997    0     20.0   33900.0            2\n",
       "4998    1     22.0   32700.0            3\n",
       "4999    1     28.0   40600.0            1\n",
       "\n",
       "[5000 rows x 4 columns]"
      ]
     },
     "metadata": {},
     "output_type": "display_data"
    },
    {
     "name": "stdout",
     "output_type": "stream",
     "text": [
      "Признаки, восстановленные обратным преобразованием после трансформирования\n"
     ]
    },
    {
     "data": {
      "text/html": [
       "<div>\n",
       "<style scoped>\n",
       "    .dataframe tbody tr th:only-of-type {\n",
       "        vertical-align: middle;\n",
       "    }\n",
       "\n",
       "    .dataframe tbody tr th {\n",
       "        vertical-align: top;\n",
       "    }\n",
       "\n",
       "    .dataframe thead th {\n",
       "        text-align: right;\n",
       "    }\n",
       "</style>\n",
       "<table border=\"1\" class=\"dataframe\">\n",
       "  <thead>\n",
       "    <tr style=\"text-align: right;\">\n",
       "      <th></th>\n",
       "      <th>0</th>\n",
       "      <th>1</th>\n",
       "      <th>2</th>\n",
       "      <th>3</th>\n",
       "    </tr>\n",
       "  </thead>\n",
       "  <tbody>\n",
       "    <tr>\n",
       "      <th>0</th>\n",
       "      <td>1.000000e+00</td>\n",
       "      <td>41.0</td>\n",
       "      <td>49600.0</td>\n",
       "      <td>1.000000e+00</td>\n",
       "    </tr>\n",
       "    <tr>\n",
       "      <th>1</th>\n",
       "      <td>6.751721e-12</td>\n",
       "      <td>46.0</td>\n",
       "      <td>38000.0</td>\n",
       "      <td>1.000000e+00</td>\n",
       "    </tr>\n",
       "    <tr>\n",
       "      <th>2</th>\n",
       "      <td>5.722700e-12</td>\n",
       "      <td>29.0</td>\n",
       "      <td>21000.0</td>\n",
       "      <td>3.647693e-12</td>\n",
       "    </tr>\n",
       "    <tr>\n",
       "      <th>3</th>\n",
       "      <td>2.189558e-11</td>\n",
       "      <td>21.0</td>\n",
       "      <td>41700.0</td>\n",
       "      <td>2.000000e+00</td>\n",
       "    </tr>\n",
       "    <tr>\n",
       "      <th>4</th>\n",
       "      <td>1.000000e+00</td>\n",
       "      <td>28.0</td>\n",
       "      <td>26100.0</td>\n",
       "      <td>1.319332e-11</td>\n",
       "    </tr>\n",
       "    <tr>\n",
       "      <th>...</th>\n",
       "      <td>...</td>\n",
       "      <td>...</td>\n",
       "      <td>...</td>\n",
       "      <td>...</td>\n",
       "    </tr>\n",
       "    <tr>\n",
       "      <th>4995</th>\n",
       "      <td>4.357851e-12</td>\n",
       "      <td>28.0</td>\n",
       "      <td>35700.0</td>\n",
       "      <td>2.000000e+00</td>\n",
       "    </tr>\n",
       "    <tr>\n",
       "      <th>4996</th>\n",
       "      <td>-8.893506e-12</td>\n",
       "      <td>34.0</td>\n",
       "      <td>52400.0</td>\n",
       "      <td>1.000000e+00</td>\n",
       "    </tr>\n",
       "    <tr>\n",
       "      <th>4997</th>\n",
       "      <td>1.044647e-11</td>\n",
       "      <td>20.0</td>\n",
       "      <td>33900.0</td>\n",
       "      <td>2.000000e+00</td>\n",
       "    </tr>\n",
       "    <tr>\n",
       "      <th>4998</th>\n",
       "      <td>1.000000e+00</td>\n",
       "      <td>22.0</td>\n",
       "      <td>32700.0</td>\n",
       "      <td>3.000000e+00</td>\n",
       "    </tr>\n",
       "    <tr>\n",
       "      <th>4999</th>\n",
       "      <td>1.000000e+00</td>\n",
       "      <td>28.0</td>\n",
       "      <td>40600.0</td>\n",
       "      <td>1.000000e+00</td>\n",
       "    </tr>\n",
       "  </tbody>\n",
       "</table>\n",
       "<p>5000 rows × 4 columns</p>\n",
       "</div>"
      ],
      "text/plain": [
       "                 0     1        2             3\n",
       "0     1.000000e+00  41.0  49600.0  1.000000e+00\n",
       "1     6.751721e-12  46.0  38000.0  1.000000e+00\n",
       "2     5.722700e-12  29.0  21000.0  3.647693e-12\n",
       "3     2.189558e-11  21.0  41700.0  2.000000e+00\n",
       "4     1.000000e+00  28.0  26100.0  1.319332e-11\n",
       "...            ...   ...      ...           ...\n",
       "4995  4.357851e-12  28.0  35700.0  2.000000e+00\n",
       "4996 -8.893506e-12  34.0  52400.0  1.000000e+00\n",
       "4997  1.044647e-11  20.0  33900.0  2.000000e+00\n",
       "4998  1.000000e+00  22.0  32700.0  3.000000e+00\n",
       "4999  1.000000e+00  28.0  40600.0  1.000000e+00\n",
       "\n",
       "[5000 rows x 4 columns]"
      ]
     },
     "metadata": {},
     "output_type": "display_data"
    }
   ],
   "source": [
    "# сравним исходные признаки и восстановленные после трансформирования и обратного преобразования\n",
    "print('Исходные признаки')\n",
    "display(features)\n",
    "print('Признаки, восстановленные обратным преобразованием после трансформирования')\n",
    "display(transformed_features.dot(inversed_transform_matrix))"
   ]
  },
  {
   "cell_type": "markdown",
   "metadata": {},
   "source": [
    "Заметим, что признаки, восстановленные обратным преобразованием после трансформирования, получились почти такими же, как и исходные признаки, только нули заменены очень близкими значениями."
   ]
  },
  {
   "cell_type": "markdown",
   "metadata": {},
   "source": [
    "### Проверка качества линейной регрессии с использование алгоритма преобразования"
   ]
  },
  {
   "cell_type": "markdown",
   "metadata": {},
   "source": [
    "Проверим, что качество линейной регрессии из sklearn не отличается до и после преобразования. Применим метрику R2. Для этого напишем функцию, которая по переданным признакам и целевому признаку вычисляет R2 и сравним результаты для признаков до и после преобразования:"
   ]
  },
  {
   "cell_type": "code",
   "execution_count": 9,
   "metadata": {},
   "outputs": [],
   "source": [
    "def calculate_quality(features, target):\n",
    "    # разделим исходные данные на тренировочную и валидационную выборку в соотношении 75:25.\n",
    "    features_train, features_valid, target_train, target_valid = train_test_split(\n",
    "        features, target, test_size=0.25, random_state=12345)\n",
    "    \n",
    "    # обучим модель линейной регрессии и вычислим предсказания на валидационной выборке\n",
    "    model = LinearRegression()\n",
    "    model.fit(features_train, target_train)\n",
    "    predictions = model.predict(features_valid)\n",
    "\n",
    "    # вычислим метрику R2\n",
    "    r2 = r2_score(target_valid, predictions)\n",
    "    return r2   "
   ]
  },
  {
   "cell_type": "code",
   "execution_count": 10,
   "metadata": {},
   "outputs": [
    {
     "name": "stdout",
     "output_type": "stream",
     "text": [
      "R2 модели линейной регрессии на исходных признаках 0.43523\n",
      "R2 модели линейной регрессии на преобразованных признаках 0.43523\n"
     ]
    }
   ],
   "source": [
    "# вычислим качество на исходных признаках\n",
    "initial_quality = calculate_quality(features, target)\n",
    "print(f'R2 модели линейной регрессии на исходных признаках {initial_quality:.5f}')\n",
    "\n",
    "# вычислим качество на преобразованных признаках\n",
    "transformed_quality = calculate_quality(transformed_features, target)\n",
    "print(f'R2 модели линейной регрессии на преобразованных признаках {transformed_quality:.5f}')"
   ]
  },
  {
   "cell_type": "markdown",
   "metadata": {},
   "source": [
    "На исходных и преобразованных признаках метрика R2 получилась одинаковой, значит, преобразование признаков не повлияло на качество модели линейной регрессии."
   ]
  },
  {
   "cell_type": "markdown",
   "metadata": {},
   "source": [
    "<div style=\"border:solid green 2px; padding: 20px\">\n",
    "\n",
    "* Для защиты данных клиентов был использован алгоритм домножения признаков на произвольную подходящую по размерам обратимую матрицу. Такой алгоритм преобразования данных будет обеспечивать неизменное качество модели линейной регрессии.\n",
    "* Было проведено сравнение метрики R2 для моделей линейной регрессии на исходных и преобразованных признаках. На них метрика R2 получилась одинаковой, значит, преобразование признаков не повлияло на качество модели линейной регрессии.\n",
    "</div>"
   ]
  },
  {
   "cell_type": "markdown",
   "metadata": {},
   "source": [
    "## Общие выводы"
   ]
  },
  {
   "cell_type": "markdown",
   "metadata": {},
   "source": [
    "<div style=\"border:solid green 2px; padding: 20px\">\n",
    "\n",
    "* В проекте **требовалось разработать алгоритм преобразования данных, чтобы по ним было сложно восстановить персональную информацию**. Было важно, чтобы **при преобразовании качество моделей машинного обучения не ухудшилось**.\n",
    "-----------------------------------------------------------------------------------------------------------------------------------------------------------------------------------------------\n",
    "* После обзора данных выявили, что в датафрейме нет пропусков.\n",
    "* Судя по гистограммам, все признаки содержат адекватные диапазоны значений.\n",
    "* Наибольшее влияние на количество страховых выплат имеет возраст клиента. Все остальные корреляции признаков слабые.\n",
    "-----------------------------------------------------------------------------------------------------------------------------------------------------------------------------------------------\n",
    "* Было доказано, что если умножить признаки на произвольную обратимую матрицу, то качество линейной регрессии не изменится. При этом вектор весов линейной регрессии для признаков после преобразования получается путем умножения исходного вектора весов линейной регрессии на обратную матрицу преобразования признаков.  \n",
    "-----------------------------------------------------------------------------------------------------------------------------------------------------------------------------------------------\n",
    "* **Для защиты данных клиентов был использован алгоритм домножения признаков на произвольную подходящую по размерам обратимую матрицу**. Такой алгоритм преобразования данных **будет обеспечивать неизменное качество модели линейной регрессии**.\n",
    "* Было проведено **сравнение метрики R2 для моделей линейной регрессии на исходных и преобразованных признаках**. На них **метрика R2 получилась одинаковой, значит, преобразование признаков не повлияло на качество модели линейной регрессии**.\n",
    "</div>"
   ]
  }
 ],
 "metadata": {
  "ExecuteTimeLog": [
   {
    "duration": 42,
    "start_time": "2023-06-28T19:28:45.288Z"
   },
   {
    "duration": 1516,
    "start_time": "2023-06-28T19:29:03.731Z"
   },
   {
    "duration": 88,
    "start_time": "2023-06-28T19:32:41.293Z"
   },
   {
    "duration": 5,
    "start_time": "2023-06-28T19:42:21.508Z"
   },
   {
    "duration": 1790,
    "start_time": "2023-06-28T19:42:24.572Z"
   },
   {
    "duration": 6,
    "start_time": "2023-06-28T20:05:54.409Z"
   },
   {
    "duration": 4,
    "start_time": "2023-06-28T20:06:13.435Z"
   },
   {
    "duration": 5106,
    "start_time": "2023-06-28T20:06:15.291Z"
   },
   {
    "duration": 4,
    "start_time": "2023-06-28T20:07:44.234Z"
   },
   {
    "duration": 5041,
    "start_time": "2023-06-28T20:07:46.331Z"
   },
   {
    "duration": 1391,
    "start_time": "2023-06-30T20:16:52.845Z"
   },
   {
    "duration": 10,
    "start_time": "2023-07-01T20:28:32.736Z"
   },
   {
    "duration": 46,
    "start_time": "2023-07-01T20:29:33.022Z"
   },
   {
    "duration": 1438,
    "start_time": "2023-07-01T20:29:33.071Z"
   },
   {
    "duration": 76,
    "start_time": "2023-07-01T20:29:34.511Z"
   },
   {
    "duration": 5,
    "start_time": "2023-07-01T20:29:34.589Z"
   },
   {
    "duration": 5267,
    "start_time": "2023-07-01T20:29:34.596Z"
   },
   {
    "duration": 6,
    "start_time": "2023-07-01T20:29:39.866Z"
   },
   {
    "duration": 24,
    "start_time": "2023-07-01T21:04:40.411Z"
   },
   {
    "duration": 13,
    "start_time": "2023-07-01T21:05:41.574Z"
   },
   {
    "duration": 5,
    "start_time": "2023-07-01T21:06:38.830Z"
   },
   {
    "duration": 23,
    "start_time": "2023-07-01T21:06:44.060Z"
   },
   {
    "duration": 7,
    "start_time": "2023-07-01T21:08:55.709Z"
   },
   {
    "duration": 22,
    "start_time": "2023-07-01T21:08:58.158Z"
   },
   {
    "duration": 21,
    "start_time": "2023-07-01T21:10:32.048Z"
   },
   {
    "duration": 48,
    "start_time": "2023-07-02T08:09:22.801Z"
   },
   {
    "duration": 63,
    "start_time": "2023-07-02T08:09:36.149Z"
   },
   {
    "duration": 1282,
    "start_time": "2023-07-02T08:09:36.214Z"
   },
   {
    "duration": 92,
    "start_time": "2023-07-02T08:09:37.497Z"
   },
   {
    "duration": 4,
    "start_time": "2023-07-02T08:09:37.591Z"
   },
   {
    "duration": 4765,
    "start_time": "2023-07-02T08:09:37.596Z"
   },
   {
    "duration": 9,
    "start_time": "2023-07-02T08:09:42.373Z"
   },
   {
    "duration": 87,
    "start_time": "2023-07-02T08:09:42.384Z"
   },
   {
    "duration": 105,
    "start_time": "2023-07-02T08:09:42.473Z"
   },
   {
    "duration": 5,
    "start_time": "2023-07-02T08:13:30.449Z"
   },
   {
    "duration": 18,
    "start_time": "2023-07-02T08:13:32.647Z"
   },
   {
    "duration": 4,
    "start_time": "2023-07-02T08:15:36.458Z"
   },
   {
    "duration": 16,
    "start_time": "2023-07-02T08:15:38.759Z"
   },
   {
    "duration": 435,
    "start_time": "2023-07-02T08:57:17.575Z"
   },
   {
    "duration": 3,
    "start_time": "2023-07-02T09:17:24.204Z"
   },
   {
    "duration": 3,
    "start_time": "2023-07-02T09:22:10.697Z"
   },
   {
    "duration": 19,
    "start_time": "2023-07-02T09:27:47.860Z"
   },
   {
    "duration": 17,
    "start_time": "2023-07-02T09:28:00.569Z"
   },
   {
    "duration": 16,
    "start_time": "2023-07-02T09:28:10.547Z"
   },
   {
    "duration": 4,
    "start_time": "2023-07-02T09:28:15.421Z"
   },
   {
    "duration": 17,
    "start_time": "2023-07-02T09:28:17.195Z"
   },
   {
    "duration": 20,
    "start_time": "2023-07-02T10:48:48.587Z"
   },
   {
    "duration": 17,
    "start_time": "2023-07-02T10:49:01.180Z"
   },
   {
    "duration": 4,
    "start_time": "2023-07-02T10:49:06.191Z"
   },
   {
    "duration": 20,
    "start_time": "2023-07-02T10:49:08.903Z"
   },
   {
    "duration": 15,
    "start_time": "2023-07-02T10:49:32.662Z"
   },
   {
    "duration": 27,
    "start_time": "2023-07-02T10:52:21.545Z"
   },
   {
    "duration": 27,
    "start_time": "2023-07-02T10:54:28.822Z"
   },
   {
    "duration": 6,
    "start_time": "2023-07-02T11:17:04.003Z"
   },
   {
    "duration": 16,
    "start_time": "2023-07-02T11:17:07.038Z"
   },
   {
    "duration": 53,
    "start_time": "2023-07-02T11:24:57.833Z"
   },
   {
    "duration": 1357,
    "start_time": "2023-07-02T11:24:57.889Z"
   },
   {
    "duration": 38,
    "start_time": "2023-07-02T11:24:59.248Z"
   },
   {
    "duration": 5,
    "start_time": "2023-07-02T11:24:59.289Z"
   },
   {
    "duration": 4973,
    "start_time": "2023-07-02T11:24:59.296Z"
   },
   {
    "duration": 15,
    "start_time": "2023-07-02T11:25:04.273Z"
   },
   {
    "duration": 11,
    "start_time": "2023-07-02T11:25:04.290Z"
   },
   {
    "duration": 83,
    "start_time": "2023-07-02T11:25:04.303Z"
   },
   {
    "duration": 5,
    "start_time": "2023-07-02T11:25:04.387Z"
   },
   {
    "duration": 22,
    "start_time": "2023-07-02T11:25:04.468Z"
   },
   {
    "duration": 48,
    "start_time": "2023-07-02T11:38:37.390Z"
   },
   {
    "duration": 1471,
    "start_time": "2023-07-02T11:38:37.440Z"
   },
   {
    "duration": 31,
    "start_time": "2023-07-02T11:38:38.913Z"
   },
   {
    "duration": 5,
    "start_time": "2023-07-02T11:38:38.945Z"
   },
   {
    "duration": 5575,
    "start_time": "2023-07-02T11:38:38.952Z"
   },
   {
    "duration": 7,
    "start_time": "2023-07-02T11:38:44.529Z"
   },
   {
    "duration": 55,
    "start_time": "2023-07-02T11:38:44.538Z"
   },
   {
    "duration": 94,
    "start_time": "2023-07-02T11:38:44.595Z"
   },
   {
    "duration": 5,
    "start_time": "2023-07-02T11:38:44.691Z"
   },
   {
    "duration": 82,
    "start_time": "2023-07-02T11:38:44.699Z"
   },
   {
    "duration": 84,
    "start_time": "2023-07-02T13:20:00.272Z"
   },
   {
    "duration": 2594,
    "start_time": "2023-07-02T13:20:00.358Z"
   },
   {
    "duration": 134,
    "start_time": "2023-07-02T13:20:02.968Z"
   },
   {
    "duration": 4,
    "start_time": "2023-07-02T13:20:03.104Z"
   },
   {
    "duration": 5156,
    "start_time": "2023-07-02T13:20:03.110Z"
   },
   {
    "duration": 14,
    "start_time": "2023-07-02T13:20:08.274Z"
   },
   {
    "duration": 76,
    "start_time": "2023-07-02T13:20:08.289Z"
   },
   {
    "duration": 116,
    "start_time": "2023-07-02T13:20:08.367Z"
   },
   {
    "duration": 9,
    "start_time": "2023-07-02T13:20:08.487Z"
   },
   {
    "duration": 19,
    "start_time": "2023-07-02T13:20:08.498Z"
   },
   {
    "duration": 4,
    "start_time": "2023-07-02T14:04:07.632Z"
   },
   {
    "duration": 4,
    "start_time": "2023-07-02T14:04:17.474Z"
   },
   {
    "duration": 5,
    "start_time": "2023-07-02T14:05:03.434Z"
   },
   {
    "duration": 11,
    "start_time": "2023-07-02T14:05:06.793Z"
   },
   {
    "duration": 69,
    "start_time": "2023-07-02T14:05:27.706Z"
   },
   {
    "duration": 2255,
    "start_time": "2023-07-02T14:05:27.777Z"
   },
   {
    "duration": 36,
    "start_time": "2023-07-02T14:05:30.033Z"
   },
   {
    "duration": 14,
    "start_time": "2023-07-02T14:05:30.071Z"
   },
   {
    "duration": 4960,
    "start_time": "2023-07-02T14:05:30.088Z"
   },
   {
    "duration": 4,
    "start_time": "2023-07-02T14:05:35.050Z"
   },
   {
    "duration": 39,
    "start_time": "2023-07-02T14:05:35.055Z"
   },
   {
    "duration": 85,
    "start_time": "2023-07-02T14:05:35.096Z"
   },
   {
    "duration": 76,
    "start_time": "2023-07-02T14:05:35.182Z"
   },
   {
    "duration": 19,
    "start_time": "2023-07-02T14:05:35.261Z"
   }
  ],
  "kernelspec": {
   "display_name": "Python 3 (ipykernel)",
   "language": "python",
   "name": "python3"
  },
  "language_info": {
   "codemirror_mode": {
    "name": "ipython",
    "version": 3
   },
   "file_extension": ".py",
   "mimetype": "text/x-python",
   "name": "python",
   "nbconvert_exporter": "python",
   "pygments_lexer": "ipython3",
   "version": "3.9.13"
  },
  "toc": {
   "base_numbering": 1,
   "nav_menu": {},
   "number_sections": true,
   "sideBar": true,
   "skip_h1_title": true,
   "title_cell": "Содержание",
   "title_sidebar": "Contents",
   "toc_cell": true,
   "toc_position": {},
   "toc_section_display": true,
   "toc_window_display": false
  }
 },
 "nbformat": 4,
 "nbformat_minor": 2
}
