{
 "cells": [
  {
   "cell_type": "markdown",
   "metadata": {
    "toc": true
   },
   "source": [
    "<h1>Содержание<span class=\"tocSkip\"></span></h1>\n",
    "<div class=\"toc\"><ul class=\"toc-item\"><li><span><a href=\"#Подготовка-данных\" data-toc-modified-id=\"Подготовка-данных-1\"><span class=\"toc-item-num\">1&nbsp;&nbsp;</span>Подготовка данных</a></span><ul class=\"toc-item\"><li><span><a href=\"#Обзор-данных\" data-toc-modified-id=\"Обзор-данных-1.1\"><span class=\"toc-item-num\">1.1&nbsp;&nbsp;</span>Обзор данных</a></span></li><li><span><a href=\"#Обработка-пропусков\" data-toc-modified-id=\"Обработка-пропусков-1.2\"><span class=\"toc-item-num\">1.2&nbsp;&nbsp;</span>Обработка пропусков</a></span></li><li><span><a href=\"#Устранение-дубликатов\" data-toc-modified-id=\"Устранение-дубликатов-1.3\"><span class=\"toc-item-num\">1.3&nbsp;&nbsp;</span>Устранение дубликатов</a></span></li><li><span><a href=\"#Удаление-лишних-столбцов\" data-toc-modified-id=\"Удаление-лишних-столбцов-1.4\"><span class=\"toc-item-num\">1.4&nbsp;&nbsp;</span>Удаление лишних столбцов</a></span></li><li><span><a href=\"#Разбиение-данных-на-выборки\" data-toc-modified-id=\"Разбиение-данных-на-выборки-1.5\"><span class=\"toc-item-num\">1.5&nbsp;&nbsp;</span>Разбиение данных на выборки</a></span></li><li><span><a href=\"#Кодирование-категориальных-признаков\" data-toc-modified-id=\"Кодирование-категориальных-признаков-1.6\"><span class=\"toc-item-num\">1.6&nbsp;&nbsp;</span>Кодирование категориальных признаков</a></span></li></ul></li><li><span><a href=\"#Исследование-задачи\" data-toc-modified-id=\"Исследование-задачи-2\"><span class=\"toc-item-num\">2&nbsp;&nbsp;</span>Исследование задачи</a></span><ul class=\"toc-item\"><li><span><a href=\"#Исследование-баланса-классов\" data-toc-modified-id=\"Исследование-баланса-классов-2.1\"><span class=\"toc-item-num\">2.1&nbsp;&nbsp;</span>Исследование баланса классов</a></span></li><li><span><a href=\"#Поиск-наилучшей-модели-без-учета-дисбаланса-классов\" data-toc-modified-id=\"Поиск-наилучшей-модели-без-учета-дисбаланса-классов-2.2\"><span class=\"toc-item-num\">2.2&nbsp;&nbsp;</span>Поиск наилучшей модели без учета дисбаланса классов</a></span><ul class=\"toc-item\"><li><span><a href=\"#Исследование-модели-решающего-дерева\" data-toc-modified-id=\"Исследование-модели-решающего-дерева-2.2.1\"><span class=\"toc-item-num\">2.2.1&nbsp;&nbsp;</span>Исследование модели решающего дерева</a></span></li><li><span><a href=\"#Исследование-модели-случайного-леса\" data-toc-modified-id=\"Исследование-модели-случайного-леса-2.2.2\"><span class=\"toc-item-num\">2.2.2&nbsp;&nbsp;</span>Исследование модели случайного леса</a></span></li><li><span><a href=\"#Исследование-модели-логистической-регрессии\" data-toc-modified-id=\"Исследование-модели-логистической-регрессии-2.2.3\"><span class=\"toc-item-num\">2.2.3&nbsp;&nbsp;</span>Исследование модели логистической регрессии</a></span></li></ul></li></ul></li><li><span><a href=\"#Борьба-с-дисбалансом\" data-toc-modified-id=\"Борьба-с-дисбалансом-3\"><span class=\"toc-item-num\">3&nbsp;&nbsp;</span>Борьба с дисбалансом</a></span><ul class=\"toc-item\"><li><span><a href=\"#Взвешивание-классов\" data-toc-modified-id=\"Взвешивание-классов-3.1\"><span class=\"toc-item-num\">3.1&nbsp;&nbsp;</span>Взвешивание классов</a></span><ul class=\"toc-item\"><li><span><a href=\"#Исследование-модели-решающего-дерева\" data-toc-modified-id=\"Исследование-модели-решающего-дерева-3.1.1\"><span class=\"toc-item-num\">3.1.1&nbsp;&nbsp;</span>Исследование модели решающего дерева</a></span></li><li><span><a href=\"#Исследование-модели-случайного-леса\" data-toc-modified-id=\"Исследование-модели-случайного-леса-3.1.2\"><span class=\"toc-item-num\">3.1.2&nbsp;&nbsp;</span>Исследование модели случайного леса</a></span></li><li><span><a href=\"#Исследование-модели-логистической-регрессии\" data-toc-modified-id=\"Исследование-модели-логистической-регрессии-3.1.3\"><span class=\"toc-item-num\">3.1.3&nbsp;&nbsp;</span>Исследование модели логистической регрессии</a></span></li></ul></li><li><span><a href=\"#Увеличение-выборки\" data-toc-modified-id=\"Увеличение-выборки-3.2\"><span class=\"toc-item-num\">3.2&nbsp;&nbsp;</span>Увеличение выборки</a></span><ul class=\"toc-item\"><li><span><a href=\"#Исследование-модели-решающего-дерева\" data-toc-modified-id=\"Исследование-модели-решающего-дерева-3.2.1\"><span class=\"toc-item-num\">3.2.1&nbsp;&nbsp;</span>Исследование модели решающего дерева</a></span></li><li><span><a href=\"#Исследование-модели-случайного-леса\" data-toc-modified-id=\"Исследование-модели-случайного-леса-3.2.2\"><span class=\"toc-item-num\">3.2.2&nbsp;&nbsp;</span>Исследование модели случайного леса</a></span></li><li><span><a href=\"#Исследование-модели-логистической-регрессии\" data-toc-modified-id=\"Исследование-модели-логистической-регрессии-3.2.3\"><span class=\"toc-item-num\">3.2.3&nbsp;&nbsp;</span>Исследование модели логистической регрессии</a></span></li></ul></li><li><span><a href=\"#Уменьшение-выборки\" data-toc-modified-id=\"Уменьшение-выборки-3.3\"><span class=\"toc-item-num\">3.3&nbsp;&nbsp;</span>Уменьшение выборки</a></span><ul class=\"toc-item\"><li><span><a href=\"#Исследование-модели-решающего-дерева\" data-toc-modified-id=\"Исследование-модели-решающего-дерева-3.3.1\"><span class=\"toc-item-num\">3.3.1&nbsp;&nbsp;</span>Исследование модели решающего дерева</a></span></li><li><span><a href=\"#Исследование-модели-случайного-леса\" data-toc-modified-id=\"Исследование-модели-случайного-леса-3.3.2\"><span class=\"toc-item-num\">3.3.2&nbsp;&nbsp;</span>Исследование модели случайного леса</a></span></li><li><span><a href=\"#Исследование-модели-логистической-регрессии\" data-toc-modified-id=\"Исследование-модели-логистической-регрессии-3.3.3\"><span class=\"toc-item-num\">3.3.3&nbsp;&nbsp;</span>Исследование модели логистической регрессии</a></span></li></ul></li></ul></li><li><span><a href=\"#Тестирование-модели\" data-toc-modified-id=\"Тестирование-модели-4\"><span class=\"toc-item-num\">4&nbsp;&nbsp;</span>Тестирование модели</a></span></li><li><span><a href=\"#Общие-выводы\" data-toc-modified-id=\"Общие-выводы-5\"><span class=\"toc-item-num\">5&nbsp;&nbsp;</span>Общие выводы</a></span></li></ul></div>"
   ]
  },
  {
   "cell_type": "markdown",
   "metadata": {},
   "source": [
    "# Отток клиентов"
   ]
  },
  {
   "cell_type": "markdown",
   "metadata": {},
   "source": [
    "Из «Бета-Банка» стали уходить клиенты. Каждый месяц. Немного, но заметно. Банковские маркетологи посчитали: сохранять текущих клиентов дешевле, чем привлекать новых.\n",
    "\n",
    "Нужно спрогнозировать, уйдёт клиент из банка в ближайшее время или нет. Вам предоставлены исторические данные о поведении клиентов и расторжении договоров с банком. \n",
    "\n",
    "Постройте модель с предельно большим значением *F1*-меры. Чтобы сдать проект успешно, нужно довести метрику до 0.59. Проверьте *F1*-меру на тестовой выборке самостоятельно.\n",
    "\n",
    "Дополнительно измеряйте *AUC-ROC*, сравнивайте её значение с *F1*-мерой.\n",
    "\n",
    "Источник данных: [https://www.kaggle.com/barelydedicated/bank-customer-churn-modeling](https://www.kaggle.com/barelydedicated/bank-customer-churn-modeling)"
   ]
  },
  {
   "cell_type": "markdown",
   "metadata": {},
   "source": [
    "**Описание данных:**\n",
    "\n",
    "**Признаки:**\n",
    "\n",
    "* `RowNumber` — индекс строки в данных\n",
    "* `CustomerId` — уникальный идентификатор клиента\n",
    "* `Surname` — фамилия\n",
    "* `CreditScore` — кредитный рейтинг\n",
    "* `Geography` — страна проживания\n",
    "* `Gender` — пол\n",
    "* `Age` — возраст\n",
    "* `Tenure` — сколько лет человек является клиентом банка\n",
    "* `Balance` — баланс на счёте\n",
    "* `NumOfProducts` — количество продуктов банка, используемых клиентом\n",
    "* `HasCrCard` — наличие кредитной карты\n",
    "* `IsActiveMember` — активность клиента\n",
    "* `EstimatedSalary` — предполагаемая зарплата\n",
    "\n",
    "**Целевой признак:**\n",
    "* `Exited` — факт ухода клиента"
   ]
  },
  {
   "cell_type": "markdown",
   "metadata": {},
   "source": [
    "## Подготовка данных"
   ]
  },
  {
   "cell_type": "markdown",
   "metadata": {},
   "source": [
    "### Обзор данных"
   ]
  },
  {
   "cell_type": "markdown",
   "metadata": {},
   "source": [
    "Импортируем необходимые библиотеки и ознакомимся с первыми 20 строками датафрейма:"
   ]
  },
  {
   "cell_type": "code",
   "execution_count": 1,
   "metadata": {},
   "outputs": [
    {
     "name": "stdout",
     "output_type": "stream",
     "text": [
      "Requirement already satisfied: scikit-learn==1.1.3 in /opt/conda/lib/python3.9/site-packages (1.1.3)\n",
      "Requirement already satisfied: scipy>=1.3.2 in /opt/conda/lib/python3.9/site-packages (from scikit-learn==1.1.3) (1.9.1)\n",
      "Requirement already satisfied: numpy>=1.17.3 in /opt/conda/lib/python3.9/site-packages (from scikit-learn==1.1.3) (1.21.1)\n",
      "Requirement already satisfied: threadpoolctl>=2.0.0 in /opt/conda/lib/python3.9/site-packages (from scikit-learn==1.1.3) (3.1.0)\n",
      "Requirement already satisfied: joblib>=1.0.0 in /opt/conda/lib/python3.9/site-packages (from scikit-learn==1.1.3) (1.2.0)\n",
      "Requirement already satisfied: imblearn in /opt/conda/lib/python3.9/site-packages (0.0)\n",
      "Requirement already satisfied: imbalanced-learn in /opt/conda/lib/python3.9/site-packages (from imblearn) (0.10.1)\n",
      "Requirement already satisfied: scikit-learn>=1.0.2 in /opt/conda/lib/python3.9/site-packages (from imbalanced-learn->imblearn) (1.1.3)\n",
      "Requirement already satisfied: threadpoolctl>=2.0.0 in /opt/conda/lib/python3.9/site-packages (from imbalanced-learn->imblearn) (3.1.0)\n",
      "Requirement already satisfied: numpy>=1.17.3 in /opt/conda/lib/python3.9/site-packages (from imbalanced-learn->imblearn) (1.21.1)\n",
      "Requirement already satisfied: joblib>=1.1.1 in /opt/conda/lib/python3.9/site-packages (from imbalanced-learn->imblearn) (1.2.0)\n",
      "Requirement already satisfied: scipy>=1.3.2 in /opt/conda/lib/python3.9/site-packages (from imbalanced-learn->imblearn) (1.9.1)\n"
     ]
    }
   ],
   "source": [
    "# установим необходимые библиотеки\n",
    "!pip install scikit-learn==1.1.3\n",
    "!pip install imblearn"
   ]
  },
  {
   "cell_type": "code",
   "execution_count": 2,
   "metadata": {},
   "outputs": [],
   "source": [
    "# импортируем необходимые библиотеки\n",
    "import pandas as pd\n",
    "import matplotlib.pyplot as plt\n",
    "import numpy as np\n",
    "import seaborn as sns\n",
    "from sklearn.model_selection import train_test_split\n",
    "from sklearn.tree import DecisionTreeClassifier\n",
    "from sklearn.ensemble import RandomForestClassifier\n",
    "from sklearn.linear_model import LogisticRegression\n",
    "from sklearn.pipeline import make_pipeline\n",
    "from sklearn.preprocessing import OneHotEncoder, StandardScaler\n",
    "from sklearn.metrics import f1_score, roc_auc_score\n",
    "from sklearn.utils import shuffle\n",
    "from sklearn.dummy import DummyClassifier\n",
    "from imblearn.over_sampling import SMOTE\n",
    "from imblearn.under_sampling import RandomUnderSampler"
   ]
  },
  {
   "cell_type": "code",
   "execution_count": 3,
   "metadata": {},
   "outputs": [],
   "source": [
    "# Считаем датафрейм\n",
    "data = pd.read_csv('/datasets/Churn.csv')"
   ]
  },
  {
   "cell_type": "code",
   "execution_count": 4,
   "metadata": {
    "scrolled": true
   },
   "outputs": [
    {
     "data": {
      "text/html": [
       "<div>\n",
       "<style scoped>\n",
       "    .dataframe tbody tr th:only-of-type {\n",
       "        vertical-align: middle;\n",
       "    }\n",
       "\n",
       "    .dataframe tbody tr th {\n",
       "        vertical-align: top;\n",
       "    }\n",
       "\n",
       "    .dataframe thead th {\n",
       "        text-align: right;\n",
       "    }\n",
       "</style>\n",
       "<table border=\"1\" class=\"dataframe\">\n",
       "  <thead>\n",
       "    <tr style=\"text-align: right;\">\n",
       "      <th></th>\n",
       "      <th>RowNumber</th>\n",
       "      <th>CustomerId</th>\n",
       "      <th>Surname</th>\n",
       "      <th>CreditScore</th>\n",
       "      <th>Geography</th>\n",
       "      <th>Gender</th>\n",
       "      <th>Age</th>\n",
       "      <th>Tenure</th>\n",
       "      <th>Balance</th>\n",
       "      <th>NumOfProducts</th>\n",
       "      <th>HasCrCard</th>\n",
       "      <th>IsActiveMember</th>\n",
       "      <th>EstimatedSalary</th>\n",
       "      <th>Exited</th>\n",
       "    </tr>\n",
       "  </thead>\n",
       "  <tbody>\n",
       "    <tr>\n",
       "      <th>0</th>\n",
       "      <td>1</td>\n",
       "      <td>15634602</td>\n",
       "      <td>Hargrave</td>\n",
       "      <td>619</td>\n",
       "      <td>France</td>\n",
       "      <td>Female</td>\n",
       "      <td>42</td>\n",
       "      <td>2.0</td>\n",
       "      <td>0.00</td>\n",
       "      <td>1</td>\n",
       "      <td>1</td>\n",
       "      <td>1</td>\n",
       "      <td>101348.88</td>\n",
       "      <td>1</td>\n",
       "    </tr>\n",
       "    <tr>\n",
       "      <th>1</th>\n",
       "      <td>2</td>\n",
       "      <td>15647311</td>\n",
       "      <td>Hill</td>\n",
       "      <td>608</td>\n",
       "      <td>Spain</td>\n",
       "      <td>Female</td>\n",
       "      <td>41</td>\n",
       "      <td>1.0</td>\n",
       "      <td>83807.86</td>\n",
       "      <td>1</td>\n",
       "      <td>0</td>\n",
       "      <td>1</td>\n",
       "      <td>112542.58</td>\n",
       "      <td>0</td>\n",
       "    </tr>\n",
       "    <tr>\n",
       "      <th>2</th>\n",
       "      <td>3</td>\n",
       "      <td>15619304</td>\n",
       "      <td>Onio</td>\n",
       "      <td>502</td>\n",
       "      <td>France</td>\n",
       "      <td>Female</td>\n",
       "      <td>42</td>\n",
       "      <td>8.0</td>\n",
       "      <td>159660.80</td>\n",
       "      <td>3</td>\n",
       "      <td>1</td>\n",
       "      <td>0</td>\n",
       "      <td>113931.57</td>\n",
       "      <td>1</td>\n",
       "    </tr>\n",
       "    <tr>\n",
       "      <th>3</th>\n",
       "      <td>4</td>\n",
       "      <td>15701354</td>\n",
       "      <td>Boni</td>\n",
       "      <td>699</td>\n",
       "      <td>France</td>\n",
       "      <td>Female</td>\n",
       "      <td>39</td>\n",
       "      <td>1.0</td>\n",
       "      <td>0.00</td>\n",
       "      <td>2</td>\n",
       "      <td>0</td>\n",
       "      <td>0</td>\n",
       "      <td>93826.63</td>\n",
       "      <td>0</td>\n",
       "    </tr>\n",
       "    <tr>\n",
       "      <th>4</th>\n",
       "      <td>5</td>\n",
       "      <td>15737888</td>\n",
       "      <td>Mitchell</td>\n",
       "      <td>850</td>\n",
       "      <td>Spain</td>\n",
       "      <td>Female</td>\n",
       "      <td>43</td>\n",
       "      <td>2.0</td>\n",
       "      <td>125510.82</td>\n",
       "      <td>1</td>\n",
       "      <td>1</td>\n",
       "      <td>1</td>\n",
       "      <td>79084.10</td>\n",
       "      <td>0</td>\n",
       "    </tr>\n",
       "    <tr>\n",
       "      <th>5</th>\n",
       "      <td>6</td>\n",
       "      <td>15574012</td>\n",
       "      <td>Chu</td>\n",
       "      <td>645</td>\n",
       "      <td>Spain</td>\n",
       "      <td>Male</td>\n",
       "      <td>44</td>\n",
       "      <td>8.0</td>\n",
       "      <td>113755.78</td>\n",
       "      <td>2</td>\n",
       "      <td>1</td>\n",
       "      <td>0</td>\n",
       "      <td>149756.71</td>\n",
       "      <td>1</td>\n",
       "    </tr>\n",
       "    <tr>\n",
       "      <th>6</th>\n",
       "      <td>7</td>\n",
       "      <td>15592531</td>\n",
       "      <td>Bartlett</td>\n",
       "      <td>822</td>\n",
       "      <td>France</td>\n",
       "      <td>Male</td>\n",
       "      <td>50</td>\n",
       "      <td>7.0</td>\n",
       "      <td>0.00</td>\n",
       "      <td>2</td>\n",
       "      <td>1</td>\n",
       "      <td>1</td>\n",
       "      <td>10062.80</td>\n",
       "      <td>0</td>\n",
       "    </tr>\n",
       "    <tr>\n",
       "      <th>7</th>\n",
       "      <td>8</td>\n",
       "      <td>15656148</td>\n",
       "      <td>Obinna</td>\n",
       "      <td>376</td>\n",
       "      <td>Germany</td>\n",
       "      <td>Female</td>\n",
       "      <td>29</td>\n",
       "      <td>4.0</td>\n",
       "      <td>115046.74</td>\n",
       "      <td>4</td>\n",
       "      <td>1</td>\n",
       "      <td>0</td>\n",
       "      <td>119346.88</td>\n",
       "      <td>1</td>\n",
       "    </tr>\n",
       "    <tr>\n",
       "      <th>8</th>\n",
       "      <td>9</td>\n",
       "      <td>15792365</td>\n",
       "      <td>He</td>\n",
       "      <td>501</td>\n",
       "      <td>France</td>\n",
       "      <td>Male</td>\n",
       "      <td>44</td>\n",
       "      <td>4.0</td>\n",
       "      <td>142051.07</td>\n",
       "      <td>2</td>\n",
       "      <td>0</td>\n",
       "      <td>1</td>\n",
       "      <td>74940.50</td>\n",
       "      <td>0</td>\n",
       "    </tr>\n",
       "    <tr>\n",
       "      <th>9</th>\n",
       "      <td>10</td>\n",
       "      <td>15592389</td>\n",
       "      <td>H?</td>\n",
       "      <td>684</td>\n",
       "      <td>France</td>\n",
       "      <td>Male</td>\n",
       "      <td>27</td>\n",
       "      <td>2.0</td>\n",
       "      <td>134603.88</td>\n",
       "      <td>1</td>\n",
       "      <td>1</td>\n",
       "      <td>1</td>\n",
       "      <td>71725.73</td>\n",
       "      <td>0</td>\n",
       "    </tr>\n",
       "    <tr>\n",
       "      <th>10</th>\n",
       "      <td>11</td>\n",
       "      <td>15767821</td>\n",
       "      <td>Bearce</td>\n",
       "      <td>528</td>\n",
       "      <td>France</td>\n",
       "      <td>Male</td>\n",
       "      <td>31</td>\n",
       "      <td>6.0</td>\n",
       "      <td>102016.72</td>\n",
       "      <td>2</td>\n",
       "      <td>0</td>\n",
       "      <td>0</td>\n",
       "      <td>80181.12</td>\n",
       "      <td>0</td>\n",
       "    </tr>\n",
       "    <tr>\n",
       "      <th>11</th>\n",
       "      <td>12</td>\n",
       "      <td>15737173</td>\n",
       "      <td>Andrews</td>\n",
       "      <td>497</td>\n",
       "      <td>Spain</td>\n",
       "      <td>Male</td>\n",
       "      <td>24</td>\n",
       "      <td>3.0</td>\n",
       "      <td>0.00</td>\n",
       "      <td>2</td>\n",
       "      <td>1</td>\n",
       "      <td>0</td>\n",
       "      <td>76390.01</td>\n",
       "      <td>0</td>\n",
       "    </tr>\n",
       "    <tr>\n",
       "      <th>12</th>\n",
       "      <td>13</td>\n",
       "      <td>15632264</td>\n",
       "      <td>Kay</td>\n",
       "      <td>476</td>\n",
       "      <td>France</td>\n",
       "      <td>Female</td>\n",
       "      <td>34</td>\n",
       "      <td>10.0</td>\n",
       "      <td>0.00</td>\n",
       "      <td>2</td>\n",
       "      <td>1</td>\n",
       "      <td>0</td>\n",
       "      <td>26260.98</td>\n",
       "      <td>0</td>\n",
       "    </tr>\n",
       "    <tr>\n",
       "      <th>13</th>\n",
       "      <td>14</td>\n",
       "      <td>15691483</td>\n",
       "      <td>Chin</td>\n",
       "      <td>549</td>\n",
       "      <td>France</td>\n",
       "      <td>Female</td>\n",
       "      <td>25</td>\n",
       "      <td>5.0</td>\n",
       "      <td>0.00</td>\n",
       "      <td>2</td>\n",
       "      <td>0</td>\n",
       "      <td>0</td>\n",
       "      <td>190857.79</td>\n",
       "      <td>0</td>\n",
       "    </tr>\n",
       "    <tr>\n",
       "      <th>14</th>\n",
       "      <td>15</td>\n",
       "      <td>15600882</td>\n",
       "      <td>Scott</td>\n",
       "      <td>635</td>\n",
       "      <td>Spain</td>\n",
       "      <td>Female</td>\n",
       "      <td>35</td>\n",
       "      <td>7.0</td>\n",
       "      <td>0.00</td>\n",
       "      <td>2</td>\n",
       "      <td>1</td>\n",
       "      <td>1</td>\n",
       "      <td>65951.65</td>\n",
       "      <td>0</td>\n",
       "    </tr>\n",
       "    <tr>\n",
       "      <th>15</th>\n",
       "      <td>16</td>\n",
       "      <td>15643966</td>\n",
       "      <td>Goforth</td>\n",
       "      <td>616</td>\n",
       "      <td>Germany</td>\n",
       "      <td>Male</td>\n",
       "      <td>45</td>\n",
       "      <td>3.0</td>\n",
       "      <td>143129.41</td>\n",
       "      <td>2</td>\n",
       "      <td>0</td>\n",
       "      <td>1</td>\n",
       "      <td>64327.26</td>\n",
       "      <td>0</td>\n",
       "    </tr>\n",
       "    <tr>\n",
       "      <th>16</th>\n",
       "      <td>17</td>\n",
       "      <td>15737452</td>\n",
       "      <td>Romeo</td>\n",
       "      <td>653</td>\n",
       "      <td>Germany</td>\n",
       "      <td>Male</td>\n",
       "      <td>58</td>\n",
       "      <td>1.0</td>\n",
       "      <td>132602.88</td>\n",
       "      <td>1</td>\n",
       "      <td>1</td>\n",
       "      <td>0</td>\n",
       "      <td>5097.67</td>\n",
       "      <td>1</td>\n",
       "    </tr>\n",
       "    <tr>\n",
       "      <th>17</th>\n",
       "      <td>18</td>\n",
       "      <td>15788218</td>\n",
       "      <td>Henderson</td>\n",
       "      <td>549</td>\n",
       "      <td>Spain</td>\n",
       "      <td>Female</td>\n",
       "      <td>24</td>\n",
       "      <td>9.0</td>\n",
       "      <td>0.00</td>\n",
       "      <td>2</td>\n",
       "      <td>1</td>\n",
       "      <td>1</td>\n",
       "      <td>14406.41</td>\n",
       "      <td>0</td>\n",
       "    </tr>\n",
       "    <tr>\n",
       "      <th>18</th>\n",
       "      <td>19</td>\n",
       "      <td>15661507</td>\n",
       "      <td>Muldrow</td>\n",
       "      <td>587</td>\n",
       "      <td>Spain</td>\n",
       "      <td>Male</td>\n",
       "      <td>45</td>\n",
       "      <td>6.0</td>\n",
       "      <td>0.00</td>\n",
       "      <td>1</td>\n",
       "      <td>0</td>\n",
       "      <td>0</td>\n",
       "      <td>158684.81</td>\n",
       "      <td>0</td>\n",
       "    </tr>\n",
       "    <tr>\n",
       "      <th>19</th>\n",
       "      <td>20</td>\n",
       "      <td>15568982</td>\n",
       "      <td>Hao</td>\n",
       "      <td>726</td>\n",
       "      <td>France</td>\n",
       "      <td>Female</td>\n",
       "      <td>24</td>\n",
       "      <td>6.0</td>\n",
       "      <td>0.00</td>\n",
       "      <td>2</td>\n",
       "      <td>1</td>\n",
       "      <td>1</td>\n",
       "      <td>54724.03</td>\n",
       "      <td>0</td>\n",
       "    </tr>\n",
       "  </tbody>\n",
       "</table>\n",
       "</div>"
      ],
      "text/plain": [
       "    RowNumber  CustomerId    Surname  CreditScore Geography  Gender  Age  \\\n",
       "0           1    15634602   Hargrave          619    France  Female   42   \n",
       "1           2    15647311       Hill          608     Spain  Female   41   \n",
       "2           3    15619304       Onio          502    France  Female   42   \n",
       "3           4    15701354       Boni          699    France  Female   39   \n",
       "4           5    15737888   Mitchell          850     Spain  Female   43   \n",
       "5           6    15574012        Chu          645     Spain    Male   44   \n",
       "6           7    15592531   Bartlett          822    France    Male   50   \n",
       "7           8    15656148     Obinna          376   Germany  Female   29   \n",
       "8           9    15792365         He          501    France    Male   44   \n",
       "9          10    15592389         H?          684    France    Male   27   \n",
       "10         11    15767821     Bearce          528    France    Male   31   \n",
       "11         12    15737173    Andrews          497     Spain    Male   24   \n",
       "12         13    15632264        Kay          476    France  Female   34   \n",
       "13         14    15691483       Chin          549    France  Female   25   \n",
       "14         15    15600882      Scott          635     Spain  Female   35   \n",
       "15         16    15643966    Goforth          616   Germany    Male   45   \n",
       "16         17    15737452      Romeo          653   Germany    Male   58   \n",
       "17         18    15788218  Henderson          549     Spain  Female   24   \n",
       "18         19    15661507    Muldrow          587     Spain    Male   45   \n",
       "19         20    15568982        Hao          726    France  Female   24   \n",
       "\n",
       "    Tenure    Balance  NumOfProducts  HasCrCard  IsActiveMember  \\\n",
       "0      2.0       0.00              1          1               1   \n",
       "1      1.0   83807.86              1          0               1   \n",
       "2      8.0  159660.80              3          1               0   \n",
       "3      1.0       0.00              2          0               0   \n",
       "4      2.0  125510.82              1          1               1   \n",
       "5      8.0  113755.78              2          1               0   \n",
       "6      7.0       0.00              2          1               1   \n",
       "7      4.0  115046.74              4          1               0   \n",
       "8      4.0  142051.07              2          0               1   \n",
       "9      2.0  134603.88              1          1               1   \n",
       "10     6.0  102016.72              2          0               0   \n",
       "11     3.0       0.00              2          1               0   \n",
       "12    10.0       0.00              2          1               0   \n",
       "13     5.0       0.00              2          0               0   \n",
       "14     7.0       0.00              2          1               1   \n",
       "15     3.0  143129.41              2          0               1   \n",
       "16     1.0  132602.88              1          1               0   \n",
       "17     9.0       0.00              2          1               1   \n",
       "18     6.0       0.00              1          0               0   \n",
       "19     6.0       0.00              2          1               1   \n",
       "\n",
       "    EstimatedSalary  Exited  \n",
       "0         101348.88       1  \n",
       "1         112542.58       0  \n",
       "2         113931.57       1  \n",
       "3          93826.63       0  \n",
       "4          79084.10       0  \n",
       "5         149756.71       1  \n",
       "6          10062.80       0  \n",
       "7         119346.88       1  \n",
       "8          74940.50       0  \n",
       "9          71725.73       0  \n",
       "10         80181.12       0  \n",
       "11         76390.01       0  \n",
       "12         26260.98       0  \n",
       "13        190857.79       0  \n",
       "14         65951.65       0  \n",
       "15         64327.26       0  \n",
       "16          5097.67       1  \n",
       "17         14406.41       0  \n",
       "18        158684.81       0  \n",
       "19         54724.03       0  "
      ]
     },
     "metadata": {},
     "output_type": "display_data"
    }
   ],
   "source": [
    "display(data.head(20))"
   ]
  },
  {
   "cell_type": "markdown",
   "metadata": {},
   "source": [
    "Выведем основную информацию о датафрейме:"
   ]
  },
  {
   "cell_type": "code",
   "execution_count": 5,
   "metadata": {},
   "outputs": [
    {
     "name": "stdout",
     "output_type": "stream",
     "text": [
      "<class 'pandas.core.frame.DataFrame'>\n",
      "RangeIndex: 10000 entries, 0 to 9999\n",
      "Data columns (total 14 columns):\n",
      " #   Column           Non-Null Count  Dtype  \n",
      "---  ------           --------------  -----  \n",
      " 0   RowNumber        10000 non-null  int64  \n",
      " 1   CustomerId       10000 non-null  int64  \n",
      " 2   Surname          10000 non-null  object \n",
      " 3   CreditScore      10000 non-null  int64  \n",
      " 4   Geography        10000 non-null  object \n",
      " 5   Gender           10000 non-null  object \n",
      " 6   Age              10000 non-null  int64  \n",
      " 7   Tenure           9091 non-null   float64\n",
      " 8   Balance          10000 non-null  float64\n",
      " 9   NumOfProducts    10000 non-null  int64  \n",
      " 10  HasCrCard        10000 non-null  int64  \n",
      " 11  IsActiveMember   10000 non-null  int64  \n",
      " 12  EstimatedSalary  10000 non-null  float64\n",
      " 13  Exited           10000 non-null  int64  \n",
      "dtypes: float64(3), int64(8), object(3)\n",
      "memory usage: 1.1+ MB\n"
     ]
    }
   ],
   "source": [
    "data.info()"
   ]
  },
  {
   "cell_type": "markdown",
   "metadata": {},
   "source": [
    "Заметим, что есть пропуски в столбце `Tenure`, в котором хранится, сколько лет человек является клиентом банка, требуется их обработка. Также для построения некоторых моделей, например, модели логистической регрессии, чтобы признаки были численные, а не категориальные, поэтому признаки `Geography` и `Gender` лучше закодировать к числовым признакам. \n",
    "\n",
    "Столбцы `RowNumber`, `CustomerId`, `Surname` следует исключить из исследования, так как они не дадут никакой полезной информации для построения модели, предсказывающей отток клиентов."
   ]
  },
  {
   "cell_type": "markdown",
   "metadata": {},
   "source": [
    "Построим общую гистограмму для всех числовых столбцов таблицы для того, чтобы посмотреть на изначальное распределения данных в числовых столбцах:"
   ]
  },
  {
   "cell_type": "code",
   "execution_count": 6,
   "metadata": {},
   "outputs": [
    {
     "data": {
      "image/png": "[encoded data removed]",
      "text/plain": [
       "<Figure size 1080x1440 with 12 Axes>"
      ]
     },
     "metadata": {
      "needs_background": "light"
     },
     "output_type": "display_data"
    }
   ],
   "source": [
    "data.hist(figsize=(15, 20), bins=20);"
   ]
  },
  {
   "cell_type": "markdown",
   "metadata": {},
   "source": [
    "В каждой строке данные о поведении клиента банка. В целом по общей гистаграмме кажется, что данные заполнены адекватно. "
   ]
  },
  {
   "cell_type": "markdown",
   "metadata": {},
   "source": [
    "Построим матрицу корреляции и тепловую карту матрицы корреляции для оценки влияния параметров на факт ухода клиента:"
   ]
  },
  {
   "cell_type": "code",
   "execution_count": 7,
   "metadata": {},
   "outputs": [
    {
     "data": {
      "text/html": [
       "<div>\n",
       "<style scoped>\n",
       "    .dataframe tbody tr th:only-of-type {\n",
       "        vertical-align: middle;\n",
       "    }\n",
       "\n",
       "    .dataframe tbody tr th {\n",
       "        vertical-align: top;\n",
       "    }\n",
       "\n",
       "    .dataframe thead th {\n",
       "        text-align: right;\n",
       "    }\n",
       "</style>\n",
       "<table border=\"1\" class=\"dataframe\">\n",
       "  <thead>\n",
       "    <tr style=\"text-align: right;\">\n",
       "      <th></th>\n",
       "      <th>Exited</th>\n",
       "      <th>CreditScore</th>\n",
       "      <th>Age</th>\n",
       "      <th>Tenure</th>\n",
       "      <th>Balance</th>\n",
       "      <th>NumOfProducts</th>\n",
       "      <th>HasCrCard</th>\n",
       "      <th>IsActiveMember</th>\n",
       "      <th>EstimatedSalary</th>\n",
       "    </tr>\n",
       "  </thead>\n",
       "  <tbody>\n",
       "    <tr>\n",
       "      <th>Exited</th>\n",
       "      <td>1.000000</td>\n",
       "      <td>-0.027094</td>\n",
       "      <td>0.285323</td>\n",
       "      <td>-0.016761</td>\n",
       "      <td>0.118533</td>\n",
       "      <td>-0.047820</td>\n",
       "      <td>-0.007138</td>\n",
       "      <td>-0.156128</td>\n",
       "      <td>0.012097</td>\n",
       "    </tr>\n",
       "    <tr>\n",
       "      <th>CreditScore</th>\n",
       "      <td>-0.027094</td>\n",
       "      <td>1.000000</td>\n",
       "      <td>-0.003965</td>\n",
       "      <td>-0.000062</td>\n",
       "      <td>0.006268</td>\n",
       "      <td>0.012238</td>\n",
       "      <td>-0.005458</td>\n",
       "      <td>0.025651</td>\n",
       "      <td>-0.001384</td>\n",
       "    </tr>\n",
       "    <tr>\n",
       "      <th>Age</th>\n",
       "      <td>0.285323</td>\n",
       "      <td>-0.003965</td>\n",
       "      <td>1.000000</td>\n",
       "      <td>-0.013134</td>\n",
       "      <td>0.028308</td>\n",
       "      <td>-0.030680</td>\n",
       "      <td>-0.011721</td>\n",
       "      <td>0.085472</td>\n",
       "      <td>-0.007201</td>\n",
       "    </tr>\n",
       "    <tr>\n",
       "      <th>Tenure</th>\n",
       "      <td>-0.016761</td>\n",
       "      <td>-0.000062</td>\n",
       "      <td>-0.013134</td>\n",
       "      <td>1.000000</td>\n",
       "      <td>-0.007911</td>\n",
       "      <td>0.011979</td>\n",
       "      <td>0.027232</td>\n",
       "      <td>-0.032178</td>\n",
       "      <td>0.010520</td>\n",
       "    </tr>\n",
       "    <tr>\n",
       "      <th>Balance</th>\n",
       "      <td>0.118533</td>\n",
       "      <td>0.006268</td>\n",
       "      <td>0.028308</td>\n",
       "      <td>-0.007911</td>\n",
       "      <td>1.000000</td>\n",
       "      <td>-0.304180</td>\n",
       "      <td>-0.014858</td>\n",
       "      <td>-0.010084</td>\n",
       "      <td>0.012797</td>\n",
       "    </tr>\n",
       "    <tr>\n",
       "      <th>NumOfProducts</th>\n",
       "      <td>-0.047820</td>\n",
       "      <td>0.012238</td>\n",
       "      <td>-0.030680</td>\n",
       "      <td>0.011979</td>\n",
       "      <td>-0.304180</td>\n",
       "      <td>1.000000</td>\n",
       "      <td>0.003183</td>\n",
       "      <td>0.009612</td>\n",
       "      <td>0.014204</td>\n",
       "    </tr>\n",
       "    <tr>\n",
       "      <th>HasCrCard</th>\n",
       "      <td>-0.007138</td>\n",
       "      <td>-0.005458</td>\n",
       "      <td>-0.011721</td>\n",
       "      <td>0.027232</td>\n",
       "      <td>-0.014858</td>\n",
       "      <td>0.003183</td>\n",
       "      <td>1.000000</td>\n",
       "      <td>-0.011866</td>\n",
       "      <td>-0.009933</td>\n",
       "    </tr>\n",
       "    <tr>\n",
       "      <th>IsActiveMember</th>\n",
       "      <td>-0.156128</td>\n",
       "      <td>0.025651</td>\n",
       "      <td>0.085472</td>\n",
       "      <td>-0.032178</td>\n",
       "      <td>-0.010084</td>\n",
       "      <td>0.009612</td>\n",
       "      <td>-0.011866</td>\n",
       "      <td>1.000000</td>\n",
       "      <td>-0.011421</td>\n",
       "    </tr>\n",
       "    <tr>\n",
       "      <th>EstimatedSalary</th>\n",
       "      <td>0.012097</td>\n",
       "      <td>-0.001384</td>\n",
       "      <td>-0.007201</td>\n",
       "      <td>0.010520</td>\n",
       "      <td>0.012797</td>\n",
       "      <td>0.014204</td>\n",
       "      <td>-0.009933</td>\n",
       "      <td>-0.011421</td>\n",
       "      <td>1.000000</td>\n",
       "    </tr>\n",
       "  </tbody>\n",
       "</table>\n",
       "</div>"
      ],
      "text/plain": [
       "                   Exited  CreditScore       Age    Tenure   Balance  \\\n",
       "Exited           1.000000    -0.027094  0.285323 -0.016761  0.118533   \n",
       "CreditScore     -0.027094     1.000000 -0.003965 -0.000062  0.006268   \n",
       "Age              0.285323    -0.003965  1.000000 -0.013134  0.028308   \n",
       "Tenure          -0.016761    -0.000062 -0.013134  1.000000 -0.007911   \n",
       "Balance          0.118533     0.006268  0.028308 -0.007911  1.000000   \n",
       "NumOfProducts   -0.047820     0.012238 -0.030680  0.011979 -0.304180   \n",
       "HasCrCard       -0.007138    -0.005458 -0.011721  0.027232 -0.014858   \n",
       "IsActiveMember  -0.156128     0.025651  0.085472 -0.032178 -0.010084   \n",
       "EstimatedSalary  0.012097    -0.001384 -0.007201  0.010520  0.012797   \n",
       "\n",
       "                 NumOfProducts  HasCrCard  IsActiveMember  EstimatedSalary  \n",
       "Exited               -0.047820  -0.007138       -0.156128         0.012097  \n",
       "CreditScore           0.012238  -0.005458        0.025651        -0.001384  \n",
       "Age                  -0.030680  -0.011721        0.085472        -0.007201  \n",
       "Tenure                0.011979   0.027232       -0.032178         0.010520  \n",
       "Balance              -0.304180  -0.014858       -0.010084         0.012797  \n",
       "NumOfProducts         1.000000   0.003183        0.009612         0.014204  \n",
       "HasCrCard             0.003183   1.000000       -0.011866        -0.009933  \n",
       "IsActiveMember        0.009612  -0.011866        1.000000        -0.011421  \n",
       "EstimatedSalary       0.014204  -0.009933       -0.011421         1.000000  "
      ]
     },
     "metadata": {},
     "output_type": "display_data"
    }
   ],
   "source": [
    "exited_factors = data[['Exited', 'CreditScore', 'Age', 'Tenure', 'Balance',\n",
    "                       'NumOfProducts', 'HasCrCard', 'IsActiveMember', 'EstimatedSalary']]\n",
    "display(exited_factors.corr())"
   ]
  },
  {
   "cell_type": "code",
   "execution_count": 8,
   "metadata": {},
   "outputs": [
    {
     "data": {
      "image/png": "[encoded data removed]",
      "text/plain": [
       "<Figure size 1152x864 with 2 Axes>"
      ]
     },
     "metadata": {
      "needs_background": "light"
     },
     "output_type": "display_data"
    }
   ],
   "source": [
    "f, ax = plt.subplots(figsize=(16, 12))\n",
    "sns.heatmap(exited_factors.corr(), annot = True,square=True);"
   ]
  },
  {
   "cell_type": "markdown",
   "metadata": {},
   "source": [
    "Заметим, что наибольшее влияние на факт ухода имеет возраст клиента с коэффициентом корреляции 0.29, это слабая зависимость. Сильных зависимостей признаков от целевого признака нет."
   ]
  },
  {
   "cell_type": "markdown",
   "metadata": {},
   "source": [
    "### Обработка пропусков"
   ]
  },
  {
   "cell_type": "markdown",
   "metadata": {},
   "source": [
    "Выведем число пропусков в столбцах:"
   ]
  },
  {
   "cell_type": "code",
   "execution_count": 9,
   "metadata": {},
   "outputs": [
    {
     "data": {
      "text/plain": [
       "Tenure             909\n",
       "RowNumber            0\n",
       "CustomerId           0\n",
       "Surname              0\n",
       "CreditScore          0\n",
       "Geography            0\n",
       "Gender               0\n",
       "Age                  0\n",
       "Balance              0\n",
       "NumOfProducts        0\n",
       "HasCrCard            0\n",
       "IsActiveMember       0\n",
       "EstimatedSalary      0\n",
       "Exited               0\n",
       "dtype: int64"
      ]
     },
     "execution_count": 9,
     "metadata": {},
     "output_type": "execute_result"
    }
   ],
   "source": [
    "data.isna().sum().sort_values(ascending=False)"
   ]
  },
  {
   "cell_type": "markdown",
   "metadata": {},
   "source": [
    "Пропуски есть только в столбце `Tenure`, в котором хранится, сколько лет человек является клиентом банка, он будет использоваться для дальнейшего исследования, поэтому заменим пропуски в нем на медианное значение:"
   ]
  },
  {
   "cell_type": "code",
   "execution_count": 10,
   "metadata": {},
   "outputs": [
    {
     "data": {
      "text/plain": [
       "0"
      ]
     },
     "execution_count": 10,
     "metadata": {},
     "output_type": "execute_result"
    }
   ],
   "source": [
    "data['Tenure'] = data['Tenure'].fillna(data['Tenure'].median())\n",
    "# проверим, что пропусков в Tenure не осталось\n",
    "data['Tenure'].isna().sum()"
   ]
  },
  {
   "cell_type": "markdown",
   "metadata": {},
   "source": [
    "### Устранение дубликатов"
   ]
  },
  {
   "cell_type": "markdown",
   "metadata": {},
   "source": [
    "Посчитаем явные дубликаты в датафрейме:"
   ]
  },
  {
   "cell_type": "code",
   "execution_count": 11,
   "metadata": {},
   "outputs": [
    {
     "data": {
      "text/plain": [
       "0"
      ]
     },
     "execution_count": 11,
     "metadata": {},
     "output_type": "execute_result"
    }
   ],
   "source": [
    "# подсчёт явных дубликатов\n",
    "data.duplicated().sum()"
   ]
  },
  {
   "cell_type": "markdown",
   "metadata": {},
   "source": [
    "Явных дубликатов нет, поищем неявные дубликаты в столбцах с категориальными данными: `Geography` и `Gender`:"
   ]
  },
  {
   "cell_type": "markdown",
   "metadata": {},
   "source": [
    "Выведем уникальные значения в стоблце `Geography` и число уникальных значений:"
   ]
  },
  {
   "cell_type": "code",
   "execution_count": 12,
   "metadata": {},
   "outputs": [
    {
     "name": "stdout",
     "output_type": "stream",
     "text": [
      "Число уникальных значений в столбце Geography: 3\n"
     ]
    },
    {
     "data": {
      "text/plain": [
       "['France', 'Germany', 'Spain']"
      ]
     },
     "execution_count": 12,
     "metadata": {},
     "output_type": "execute_result"
    }
   ],
   "source": [
    "unique_geography_names = data['Geography'].unique()\n",
    "print('Число уникальных значений в столбце Geography:', len(unique_geography_names))\n",
    "sorted(unique_geography_names)"
   ]
  },
  {
   "cell_type": "markdown",
   "metadata": {},
   "source": [
    "Неявных дубликатов в столбце Geography нет."
   ]
  },
  {
   "cell_type": "markdown",
   "metadata": {},
   "source": [
    "Выведем уникальные значения в стоблце `Gender` и число уникальных значений:"
   ]
  },
  {
   "cell_type": "code",
   "execution_count": 13,
   "metadata": {},
   "outputs": [
    {
     "name": "stdout",
     "output_type": "stream",
     "text": [
      "Число уникальных значений в столбце Gender: 2\n"
     ]
    },
    {
     "data": {
      "text/plain": [
       "['Female', 'Male']"
      ]
     },
     "execution_count": 13,
     "metadata": {},
     "output_type": "execute_result"
    }
   ],
   "source": [
    "unique_gender_names = data['Gender'].unique()\n",
    "print('Число уникальных значений в столбце Gender:', len(unique_gender_names))\n",
    "sorted(unique_gender_names)"
   ]
  },
  {
   "cell_type": "markdown",
   "metadata": {},
   "source": [
    "Неявных дубликатов в столбце Gender нет."
   ]
  },
  {
   "cell_type": "markdown",
   "metadata": {},
   "source": [
    "### Удаление лишних столбцов"
   ]
  },
  {
   "cell_type": "markdown",
   "metadata": {},
   "source": [
    "Удалим столбцы `RowNumber`, `CustomerId`, `Surname`, так как они не добавляют полезной информации для целевого признака:"
   ]
  },
  {
   "cell_type": "code",
   "execution_count": 14,
   "metadata": {},
   "outputs": [
    {
     "data": {
      "text/plain": [
       "['CreditScore',\n",
       " 'Geography',\n",
       " 'Gender',\n",
       " 'Age',\n",
       " 'Tenure',\n",
       " 'Balance',\n",
       " 'NumOfProducts',\n",
       " 'HasCrCard',\n",
       " 'IsActiveMember',\n",
       " 'EstimatedSalary',\n",
       " 'Exited']"
      ]
     },
     "execution_count": 14,
     "metadata": {},
     "output_type": "execute_result"
    }
   ],
   "source": [
    "# удалим столбец Surname из датасета\n",
    "data = data.drop(['RowNumber', 'CustomerId', 'Surname'], axis=1)\n",
    "#выведем оставшиеся столбцы\n",
    "list(data.columns.values)"
   ]
  },
  {
   "cell_type": "markdown",
   "metadata": {},
   "source": [
    "### Разбиение данных на выборки"
   ]
  },
  {
   "cell_type": "markdown",
   "metadata": {},
   "source": [
    "Извлечем признаки и целевой признак - тариф пользователя:"
   ]
  },
  {
   "cell_type": "code",
   "execution_count": 15,
   "metadata": {},
   "outputs": [],
   "source": [
    "# извлечем признаки \n",
    "features = data.drop(['Exited'], axis=1)\n",
    "# извлечем целевой признак\n",
    "target = data['Exited']"
   ]
  },
  {
   "cell_type": "markdown",
   "metadata": {},
   "source": [
    "Разделим исходные данные на обучающую, валидационную и тестовую выборки в соотношении 3:1:1"
   ]
  },
  {
   "cell_type": "code",
   "execution_count": 16,
   "metadata": {},
   "outputs": [
    {
     "name": "stdout",
     "output_type": "stream",
     "text": [
      "Размер обучающей выборки: (6000, 10)\n",
      "Размер валидационной выборки: (2000, 10)\n",
      "Размер тестовой выборки: (2000, 10)\n"
     ]
    }
   ],
   "source": [
    "#разделим исходные данные на тренировочную выборку и оставшуюся. Доля оставшейся выборки 40%\n",
    "features_train, features_leftover, target_train, target_leftover = train_test_split(\n",
    "    features, target, test_size=0.4, random_state=12345)\n",
    "#разделим оставшуюся выборку на валидационую выборку и тестовую в соотношении 1:1\n",
    "features_valid, features_test, target_valid, target_test = train_test_split(\n",
    "    features_leftover, target_leftover, test_size=0.5, random_state=12345)\n",
    "# сравним размер этих выборок, чтобы проверить получившееся соотношение:\n",
    "print(\"Размер обучающей выборки:\", features_train.shape)\n",
    "print(\"Размер валидационной выборки:\", features_valid.shape)\n",
    "print(\"Размер тестовой выборки:\", features_test.shape)"
   ]
  },
  {
   "cell_type": "markdown",
   "metadata": {},
   "source": [
    "Исходные данные разделены на обучающую, валидационную и тестовую выборки в соотношении 3:1:1."
   ]
  },
  {
   "cell_type": "markdown",
   "metadata": {},
   "source": [
    "### Кодирование категориальных признаков"
   ]
  },
  {
   "cell_type": "markdown",
   "metadata": {},
   "source": [
    "Так как в датасете большинство признаков числовых и уникальных значений в столбцах `Geography` и `Gender` мало, то для того, чтобы в логистической ререссии эти столбцы корректно учитывались, воспользуемся техникой прямого кодирования категориальных признаков для этих столбцов.\n",
    "\n",
    "Применим технику прямого кодирования категориальных признаков ко всему датасету:"
   ]
  },
  {
   "cell_type": "code",
   "execution_count": 17,
   "metadata": {},
   "outputs": [],
   "source": [
    "encoder = OneHotEncoder(drop='first', handle_unknown = 'ignore', sparse=False)\n",
    "columns_to_encode = ['Gender', 'Geography']\n",
    "\n",
    "encoder.fit(features_train[columns_to_encode])\n",
    "\n",
    "# Преобразуем категориальные столбцы обучающей выборки\n",
    "# Метод .get_feature_names_out() позволяет получить названия столбцов, \n",
    "# которые получаться на выходе после енкодера\n",
    "features_train[encoder.get_feature_names_out()] = encoder.transform(features_train[columns_to_encode])\n",
    "\n",
    "# Преобразовываем валидационную выборку\n",
    "features_valid[encoder.get_feature_names_out()] = encoder.transform(features_valid[columns_to_encode])\n",
    "\n",
    "# Преобразовываем тестовую выборку\n",
    "features_test[encoder.get_feature_names_out()] = encoder.transform(features_test[columns_to_encode])\n",
    "\n",
    "# Далее удаляем исходные столбцы, поскольу они больше нам не нужны\n",
    "features_train = features_train.drop(columns_to_encode, axis=1)\n",
    "features_valid = features_valid.drop(columns_to_encode, axis=1)\n",
    "features_test = features_test.drop(columns_to_encode, axis=1)"
   ]
  },
  {
   "cell_type": "markdown",
   "metadata": {},
   "source": [
    "------------------------------------------------------"
   ]
  },
  {
   "cell_type": "code",
   "execution_count": 18,
   "metadata": {},
   "outputs": [
    {
     "data": {
      "text/html": [
       "<div>\n",
       "<style scoped>\n",
       "    .dataframe tbody tr th:only-of-type {\n",
       "        vertical-align: middle;\n",
       "    }\n",
       "\n",
       "    .dataframe tbody tr th {\n",
       "        vertical-align: top;\n",
       "    }\n",
       "\n",
       "    .dataframe thead th {\n",
       "        text-align: right;\n",
       "    }\n",
       "</style>\n",
       "<table border=\"1\" class=\"dataframe\">\n",
       "  <thead>\n",
       "    <tr style=\"text-align: right;\">\n",
       "      <th></th>\n",
       "      <th>CreditScore</th>\n",
       "      <th>Age</th>\n",
       "      <th>Tenure</th>\n",
       "      <th>Balance</th>\n",
       "      <th>NumOfProducts</th>\n",
       "      <th>HasCrCard</th>\n",
       "      <th>IsActiveMember</th>\n",
       "      <th>EstimatedSalary</th>\n",
       "      <th>Gender_Male</th>\n",
       "      <th>Geography_Germany</th>\n",
       "      <th>Geography_Spain</th>\n",
       "    </tr>\n",
       "  </thead>\n",
       "  <tbody>\n",
       "    <tr>\n",
       "      <th>7479</th>\n",
       "      <td>567</td>\n",
       "      <td>35</td>\n",
       "      <td>8.0</td>\n",
       "      <td>153137.74</td>\n",
       "      <td>1</td>\n",
       "      <td>1</td>\n",
       "      <td>0</td>\n",
       "      <td>88659.07</td>\n",
       "      <td>1.0</td>\n",
       "      <td>0.0</td>\n",
       "      <td>1.0</td>\n",
       "    </tr>\n",
       "    <tr>\n",
       "      <th>3411</th>\n",
       "      <td>711</td>\n",
       "      <td>37</td>\n",
       "      <td>8.0</td>\n",
       "      <td>113899.92</td>\n",
       "      <td>1</td>\n",
       "      <td>0</td>\n",
       "      <td>0</td>\n",
       "      <td>80215.20</td>\n",
       "      <td>0.0</td>\n",
       "      <td>0.0</td>\n",
       "      <td>0.0</td>\n",
       "    </tr>\n",
       "    <tr>\n",
       "      <th>6027</th>\n",
       "      <td>850</td>\n",
       "      <td>44</td>\n",
       "      <td>3.0</td>\n",
       "      <td>140393.65</td>\n",
       "      <td>2</td>\n",
       "      <td>0</td>\n",
       "      <td>1</td>\n",
       "      <td>186285.52</td>\n",
       "      <td>1.0</td>\n",
       "      <td>1.0</td>\n",
       "      <td>0.0</td>\n",
       "    </tr>\n",
       "    <tr>\n",
       "      <th>1247</th>\n",
       "      <td>512</td>\n",
       "      <td>24</td>\n",
       "      <td>6.0</td>\n",
       "      <td>0.00</td>\n",
       "      <td>2</td>\n",
       "      <td>1</td>\n",
       "      <td>0</td>\n",
       "      <td>37654.31</td>\n",
       "      <td>1.0</td>\n",
       "      <td>0.0</td>\n",
       "      <td>0.0</td>\n",
       "    </tr>\n",
       "    <tr>\n",
       "      <th>3716</th>\n",
       "      <td>665</td>\n",
       "      <td>27</td>\n",
       "      <td>2.0</td>\n",
       "      <td>147435.96</td>\n",
       "      <td>1</td>\n",
       "      <td>0</td>\n",
       "      <td>0</td>\n",
       "      <td>187508.06</td>\n",
       "      <td>0.0</td>\n",
       "      <td>1.0</td>\n",
       "      <td>0.0</td>\n",
       "    </tr>\n",
       "  </tbody>\n",
       "</table>\n",
       "</div>"
      ],
      "text/plain": [
       "      CreditScore  Age  Tenure    Balance  NumOfProducts  HasCrCard  \\\n",
       "7479          567   35     8.0  153137.74              1          1   \n",
       "3411          711   37     8.0  113899.92              1          0   \n",
       "6027          850   44     3.0  140393.65              2          0   \n",
       "1247          512   24     6.0       0.00              2          1   \n",
       "3716          665   27     2.0  147435.96              1          0   \n",
       "\n",
       "      IsActiveMember  EstimatedSalary  Gender_Male  Geography_Germany  \\\n",
       "7479               0         88659.07          1.0                0.0   \n",
       "3411               0         80215.20          0.0                0.0   \n",
       "6027               1        186285.52          1.0                1.0   \n",
       "1247               0         37654.31          1.0                0.0   \n",
       "3716               0        187508.06          0.0                1.0   \n",
       "\n",
       "      Geography_Spain  \n",
       "7479              1.0  \n",
       "3411              0.0  \n",
       "6027              0.0  \n",
       "1247              0.0  \n",
       "3716              0.0  "
      ]
     },
     "metadata": {},
     "output_type": "display_data"
    }
   ],
   "source": [
    "# проверим, что применилось кодирование признаков\n",
    "display(features_train.head())\n",
    "# применим прямое кодирование ко всему датасету\n",
    "#data = pd.get_dummies(data, drop_first=True)\n",
    "#display(data.head())"
   ]
  },
  {
   "cell_type": "markdown",
   "metadata": {},
   "source": [
    "<div style=\"border:solid green 2px; padding: 20px\">\n",
    "    \n",
    "* В каждой строке данные о поведении клиента банка. В целом по общей гистаграмме кажется, что данные заполнены адекватно.\n",
    "* По матрице корреляции наибольшее влияние на факт ухода имеет возраст клиента с коэффициентом корреляции 0.29.\n",
    "* Явных и неявных дубликатов в датасете не найдено.\n",
    "* Столбцы `RowNumber`, `CustomerId`, `Surname` исключены из исследования, так как они не дают никакой полезной информации для построения модели, предсказывающей отток клиентов.\n",
    "* Пропуски в столбце `Tenure` заменены на медианное значение, пропусков в остальных столбцах нет.\n",
    "* Категориальные признаки в столбцах `Geography` и `Gender` закодированы техникой прямого кодирования.\n",
    "\n",
    "</div>"
   ]
  },
  {
   "cell_type": "markdown",
   "metadata": {},
   "source": [
    "## Исследование задачи"
   ]
  },
  {
   "cell_type": "markdown",
   "metadata": {},
   "source": [
    "### Исследование баланса классов"
   ]
  },
  {
   "cell_type": "markdown",
   "metadata": {},
   "source": [
    "Исследуем, насколько хорошо сбалансированы классы по целевому признаку:"
   ]
  },
  {
   "cell_type": "code",
   "execution_count": 19,
   "metadata": {},
   "outputs": [
    {
     "name": "stdout",
     "output_type": "stream",
     "text": [
      "0    0.7963\n",
      "1    0.2037\n",
      "Name: Exited, dtype: float64\n"
     ]
    },
    {
     "data": {
      "text/plain": [
       "Text(0.5, 1.0, 'Баланс классов по целевому признаку')"
      ]
     },
     "execution_count": 19,
     "metadata": {},
     "output_type": "execute_result"
    },
    {
     "data": {
      "image/png": "[encoded data removed]",
      "text/plain": [
       "<Figure size 432x288 with 1 Axes>"
      ]
     },
     "metadata": {
      "needs_background": "light"
     },
     "output_type": "display_data"
    }
   ],
   "source": [
    "class_frequency = data['Exited'].value_counts(normalize=True)\n",
    "print(class_frequency)\n",
    "class_frequency.plot(kind='bar');\n",
    "plt.ylim(0.0, 1.0)\n",
    "plt.xlabel('Классы')\n",
    "plt.ylabel('Частота классов в выборке')\n",
    "plt.title('Баланс классов по целевому признаку')"
   ]
  },
  {
   "cell_type": "markdown",
   "metadata": {},
   "source": [
    "Заметим, что классы несбалансированы, клиентов в выборке, которые ушли из банка, в 3.9 раз меньше, чем клиентов, которые остались. Дисбаланс достаточно сильный, поэтому модели могут не очень хорошо предсказывать факт ухода.\n",
    "\n",
    "Проверим это, сначала поищем лучшую модель без учета дисбаланса классов, а потом с учетом этого."
   ]
  },
  {
   "cell_type": "markdown",
   "metadata": {},
   "source": [
    "### Поиск наилучшей модели без учета дисбаланса классов"
   ]
  },
  {
   "cell_type": "markdown",
   "metadata": {},
   "source": [
    "#### Исследование модели решающего дерева"
   ]
  },
  {
   "cell_type": "markdown",
   "metadata": {},
   "source": [
    "Построим модель решающего дерева и вычислим F1-меру и AUC-ROC для моделей с максимальной глубиной дерева от 1 до 15:"
   ]
  },
  {
   "cell_type": "code",
   "execution_count": 20,
   "metadata": {},
   "outputs": [
    {
     "name": "stdout",
     "output_type": "stream",
     "text": [
      "F1-мера наилучшей модели решающего дерева на валидационной выборке: 0.5714285714285714\n",
      "Максимальная глубина дерева наилучшей модели: 6\n",
      "AUC-ROC наилучшей модели: 0.8168555943357992\n"
     ]
    }
   ],
   "source": [
    "# добавим функцию, которая ищет наилучшую модель решающего дерева по F1-мере и печатает ее метрики качества\n",
    "# для дальнейшего применения техники взвешивания классов добавим параметр class_weight\n",
    "def find_best_decision_tree_model(features_train, target_train, features_valid, target_valid, class_weight=None):\n",
    "    best_decision_tree_model = None\n",
    "    best_f1_score = 0\n",
    "    best_tree_max_depth = 0\n",
    "    for depth in range(1, 16):\n",
    "        # создадим и сохраним пустую модель решающего дерева\n",
    "        decision_tree_model = DecisionTreeClassifier(random_state=123, max_depth=depth, class_weight=class_weight) \n",
    "        # обучим модель на тренировочной выборке\n",
    "        decision_tree_model.fit(features_train, target_train)\n",
    "        # получим предсказания на валидационной выборке\n",
    "        predicted_valid = decision_tree_model.predict(features_valid)\n",
    "        # посчитаем F1-меру модели на валидационной выборке\n",
    "        current_f1_score = f1_score(target_valid, predicted_valid)\n",
    "\n",
    "        # сохраним модель и F1-меру модели для нее, если она превзошла ее у предыдущих моделей\n",
    "        if current_f1_score > best_f1_score:\n",
    "            best_decision_tree_model = decision_tree_model\n",
    "            best_f1_score = current_f1_score\n",
    "            best_tree_max_depth = depth\n",
    "\n",
    "    # вычислим AUC-ROC для лучшей модели\n",
    "    probabilities_valid = best_decision_tree_model.predict_proba(features_valid)\n",
    "    probabilities_one_valid = probabilities_valid[:, 1]\n",
    "    auc_roc = roc_auc_score(target_valid, probabilities_one_valid)\n",
    "\n",
    "    print(\"F1-мера наилучшей модели решающего дерева на валидационной выборке:\", best_f1_score)\n",
    "    print(\"Максимальная глубина дерева наилучшей модели:\", best_tree_max_depth)\n",
    "    print(\"AUC-ROC наилучшей модели:\", auc_roc)\n",
    "    \n",
    "# вызовем эту функцию на наших тренировочной и валидационной выборках\n",
    "find_best_decision_tree_model(features_train, target_train, features_valid, target_valid)"
   ]
  },
  {
   "cell_type": "markdown",
   "metadata": {},
   "source": [
    "#### Исследование модели случайного леса"
   ]
  },
  {
   "cell_type": "markdown",
   "metadata": {},
   "source": [
    "Построим модели случайного леса для числа деревьев от 5 до 50 с шагом в 5 узлов и максимальной глубиной дерева от 1 до 10 и найдем среди них модель, которая даст наибольшее значение F1-меры. Вычислим AUC-ROC для наилучшей найденной модели:"
   ]
  },
  {
   "cell_type": "code",
   "execution_count": 21,
   "metadata": {},
   "outputs": [
    {
     "name": "stdout",
     "output_type": "stream",
     "text": [
      "F1-мера наилучшей модели случайного леса на валидационной выборке: 0.5846153846153846\n",
      "Количество деревьев в наилучшей модели: 45\n",
      "Максимальная глубина дерева наилучшей модели: 9\n",
      "AUC-ROC наилучшей модели: 0.8539218117699722\n"
     ]
    }
   ],
   "source": [
    "# добавим функцию, которая ищет наилучшую модель случайного леса по F1-мере и печатает ее метрики качества\n",
    "# для дальнейшего применения техники взвешивания классов добавим параметр class_weight\n",
    "def find_best_random_forest_model(features_train, target_train, features_valid, target_valid, class_weight=None):\n",
    "    best_random_forest_model = None\n",
    "    best_f1_score = 0\n",
    "    best_tree_count = 0\n",
    "    best_tree_max_depth = 0\n",
    "    for est in range(5, 51, 5):\n",
    "        for depth in range (1, 11):\n",
    "            # создадим пустую модель случайного леса с заданным количеством деревьев\n",
    "            random_forest_model = RandomForestClassifier(\n",
    "                random_state=123, n_estimators=est, max_depth=depth, class_weight=class_weight)\n",
    "            # обучим модель на тренировочной выборке\n",
    "            random_forest_model.fit(features_train, target_train)\n",
    "            # получим предсказания на валидационной выборке\n",
    "            predicted_valid = random_forest_model.predict(features_valid)\n",
    "            # посчитаем F1-меру модели на валидационной выборке\n",
    "            current_f1_score = f1_score(target_valid, predicted_valid)\n",
    "\n",
    "            # сохраним модель и F1-меру модели для нее, если она превзошла ее у предыдущих моделей\n",
    "            if current_f1_score > best_f1_score:\n",
    "                best_random_forest_model = random_forest_model\n",
    "                best_f1_score = current_f1_score\n",
    "                best_tree_count = est\n",
    "                best_tree_max_depth = depth\n",
    "\n",
    "    # вычислим AUC-ROC для лучшей модели\n",
    "    probabilities_valid = best_random_forest_model.predict_proba(features_valid)\n",
    "    probabilities_one_valid = probabilities_valid[:, 1]\n",
    "    auc_roc = roc_auc_score(target_valid, probabilities_one_valid)\n",
    "\n",
    "    print(\"F1-мера наилучшей модели случайного леса на валидационной выборке:\", best_f1_score)\n",
    "    print(\"Количество деревьев в наилучшей модели:\", best_tree_count)\n",
    "    print(\"Максимальная глубина дерева наилучшей модели:\", best_tree_max_depth)\n",
    "    print(\"AUC-ROC наилучшей модели:\", auc_roc)\n",
    "    \n",
    "# вызовем эту функцию на наших тренировочной и валидационной выборках\n",
    "find_best_random_forest_model(features_train, target_train, features_valid, target_valid)\n"
   ]
  },
  {
   "cell_type": "markdown",
   "metadata": {},
   "source": [
    "#### Исследование модели логистической регрессии"
   ]
  },
  {
   "cell_type": "markdown",
   "metadata": {},
   "source": [
    "Построим модель логистической регрессии и вычислим F1-меру для неe для разных алгоритмов. Вычислим также AUC-ROC для наилучшей найденной модели:"
   ]
  },
  {
   "cell_type": "code",
   "execution_count": 22,
   "metadata": {},
   "outputs": [
    {
     "name": "stdout",
     "output_type": "stream",
     "text": [
      "F1-мера наилучшей модели логистической регрессии на валидационной выборке: 0.33108108108108103\n",
      "Наилучший алгоритм логистической регрессии: liblinear\n",
      "AUC-ROC наилучшей модели: 0.7586363333918061\n"
     ]
    }
   ],
   "source": [
    "# добавим функцию, которая ищет наилучшую модель логистической регрессии по F1-мере и печатает ее метрики качества\n",
    "# для дальнейшего применения техники взвешивания классов добавим параметр class_weight\n",
    "def find_best_logistic_regression_model(features_train, target_train, features_valid, target_valid, class_weight=None):\n",
    "    solvers = ['liblinear', 'newton-cg', 'lbfgs', 'sag', 'saga']\n",
    "    best_logistic_regression_model = None\n",
    "    best_f1_score = 0\n",
    "    best_solver = 0\n",
    "    for solver in solvers:\n",
    "        # создадим и сохраним пустую модель логистической регрессии\n",
    "        logistic_regression_model = LogisticRegression(\n",
    "            random_state=123, solver=solver, max_iter=1000, class_weight=class_weight)\n",
    "        # добавим StandardScaler в конвейер, чтобы при 'newton-cg' алгоритм поиска строк сходился\n",
    "        pipe = make_pipeline(StandardScaler(), logistic_regression_model)\n",
    "        # обучим модель на тренировочной выборке\n",
    "        pipe.fit(features_train, target_train)\n",
    "        # получим предсказания на валидационной выборке\n",
    "        predicted_valid = pipe.predict(features_valid)\n",
    "        # посчитаем F1-меру модели на валидационной выборке\n",
    "        current_f1_score = f1_score(target_valid, predicted_valid)\n",
    "\n",
    "        # сохраним модель и F1-меру модели для нее, если она превзошла ее у предыдущих моделей\n",
    "        if current_f1_score > best_f1_score:\n",
    "            best_logistic_regression_model = pipe\n",
    "            best_f1_score = current_f1_score\n",
    "            best_solver = solver\n",
    "\n",
    "    # вычислим AUC-ROC для лучшей модели\n",
    "    probabilities_valid = best_logistic_regression_model.predict_proba(features_valid)\n",
    "    probabilities_one_valid = probabilities_valid[:, 1]\n",
    "    auc_roc = roc_auc_score(target_valid, probabilities_one_valid)\n",
    "\n",
    "    print(\"F1-мера наилучшей модели логистической регрессии на валидационной выборке:\", best_f1_score)\n",
    "    print(\"Наилучший алгоритм логистической регрессии:\", best_solver)\n",
    "    print(\"AUC-ROC наилучшей модели:\", auc_roc)\n",
    "    \n",
    "# вызовем эту функцию на наших тренировочной и валидационной выборках\n",
    "find_best_logistic_regression_model(features_train, target_train, features_valid, target_valid)"
   ]
  },
  {
   "cell_type": "markdown",
   "metadata": {},
   "source": [
    "<div style=\"border:solid green 2px; padding: 20px\">\n",
    "    \n",
    "* Выборка несбалансирована по целевому признаку, соотношение классов составляет 4:1.\n",
    "* Для начала проведен поиск наилучшей модели по F1-мере без учета дисбаланса классов. Наилучший результат F1-меры был достигнут у модели случайного леса 0.58 с параметрами количество деревьев - 45, максимальная глубина дерева - 9. AUC-ROC наилучшей модели случайного леса также больше, чем у других моделей - 0.85. \n",
    "* Максимальная F1-мера модели решающего дерева - 0.57, модели логистической регрессии - 0.33.\n",
    "* По требованиям задачи F1-мера должна быть не меньше 0.59 на тестовой выборке, поэтому такое качество моделей нас не устраивает. Поэтому далее будем использовать техники борьбы с дисбалансом классов, чтобы увеличить F1-меру моделей.\n",
    "\n",
    "</div>"
   ]
  },
  {
   "cell_type": "markdown",
   "metadata": {},
   "source": [
    "## Борьба с дисбалансом"
   ]
  },
  {
   "cell_type": "markdown",
   "metadata": {},
   "source": [
    "Выборка несбалансирована по целевому признаку, соотношение классов вычислили ранее, оно составляет 4:1. Во время поиска наилучшей модели без учета дисбаланса классов удалось достичь F1-меры 0.58 на валидационной выборке, но этого недостаточно. Применим несколько способов борьбы с дисбалансом классов и поищем наилучшие модели после применения этих методов: взвешивание классов, увеличение выборки, уменьшение выборки."
   ]
  },
  {
   "cell_type": "markdown",
   "metadata": {},
   "source": [
    "### Взвешивание классов"
   ]
  },
  {
   "cell_type": "markdown",
   "metadata": {},
   "source": [
    "Поищем наилучшую модель на несбалансированной выборке с применением взвешивания классов. Для вычисления параметров наилучших моделей будем использовать ранее созданные функции с передачений параметра class_weight='balanced':"
   ]
  },
  {
   "cell_type": "markdown",
   "metadata": {},
   "source": [
    "#### Исследование модели решающего дерева"
   ]
  },
  {
   "cell_type": "code",
   "execution_count": 23,
   "metadata": {
    "scrolled": true
   },
   "outputs": [
    {
     "name": "stdout",
     "output_type": "stream",
     "text": [
      "F1-мера наилучшей модели решающего дерева на валидационной выборке: 0.5963791267305644\n",
      "Максимальная глубина дерева наилучшей модели: 5\n",
      "AUC-ROC наилучшей модели: 0.8310244134068074\n"
     ]
    }
   ],
   "source": [
    "# вызовем функцию на наших тренировочной и валидационной выборках\n",
    "find_best_decision_tree_model(features_train, target_train, features_valid, target_valid, class_weight='balanced')"
   ]
  },
  {
   "cell_type": "markdown",
   "metadata": {},
   "source": [
    "#### Исследование модели случайного леса"
   ]
  },
  {
   "cell_type": "code",
   "execution_count": 24,
   "metadata": {
    "scrolled": true
   },
   "outputs": [
    {
     "name": "stdout",
     "output_type": "stream",
     "text": [
      "F1-мера наилучшей модели случайного леса на валидационной выборке: 0.6223175965665235\n",
      "Количество деревьев в наилучшей модели: 30\n",
      "Максимальная глубина дерева наилучшей модели: 7\n",
      "AUC-ROC наилучшей модели: 0.8511907282284552\n"
     ]
    }
   ],
   "source": [
    "# вызовем функцию на наших тренировочной и валидационной выборках\n",
    "find_best_random_forest_model(features_train, target_train, features_valid, target_valid, class_weight='balanced')"
   ]
  },
  {
   "cell_type": "markdown",
   "metadata": {},
   "source": [
    "#### Исследование модели логистической регрессии"
   ]
  },
  {
   "cell_type": "code",
   "execution_count": 25,
   "metadata": {
    "scrolled": true
   },
   "outputs": [
    {
     "name": "stdout",
     "output_type": "stream",
     "text": [
      "F1-мера наилучшей модели логистической регрессии на валидационной выборке: 0.4888507718696398\n",
      "Наилучший алгоритм логистической регрессии: liblinear\n",
      "AUC-ROC наилучшей модели: 0.7635692207187316\n"
     ]
    }
   ],
   "source": [
    "# вызовем эту функцию на наших тренировочной и валидационной выборках\n",
    "find_best_logistic_regression_model(features_train, target_train, features_valid, target_valid, class_weight='balanced')"
   ]
  },
  {
   "cell_type": "markdown",
   "metadata": {},
   "source": [
    "После взвешивания классов F1-мера наилучшей модели случайного леса выросла до 0.62 с AUC-ROC наилучшей модели - 0.83. Наилучшая модель решающего дерева выросла до 0.60, наилучшая модель логистической регресси выросла до 0.49"
   ]
  },
  {
   "cell_type": "markdown",
   "metadata": {},
   "source": [
    "### Увеличение выборки"
   ]
  },
  {
   "cell_type": "markdown",
   "metadata": {},
   "source": [
    "Воспользуемся техникой увеличения выборки для борьбы с несбалансированностью классов, для этого задублируем значения более редкого класса. Затем поищем наилучшую модель на такой выборке."
   ]
  },
  {
   "cell_type": "code",
   "execution_count": 26,
   "metadata": {},
   "outputs": [
    {
     "name": "stdout",
     "output_type": "stream",
     "text": [
      "(9608, 11)\n"
     ]
    }
   ],
   "source": [
    "oversample = SMOTE(random_state=12345)\n",
    "features_train_upsampled, target_train_upsampled = oversample.fit_resample(features_train, target_train)\n",
    "\n",
    "# проверим, что размер выборки увеличился\n",
    "print(features_train_upsampled.shape)"
   ]
  },
  {
   "cell_type": "markdown",
   "metadata": {},
   "source": [
    "Размер выборки действительно увеличился с 6000 до 9608 записей."
   ]
  },
  {
   "cell_type": "markdown",
   "metadata": {},
   "source": [
    "#### Исследование модели решающего дерева"
   ]
  },
  {
   "cell_type": "code",
   "execution_count": 27,
   "metadata": {
    "scrolled": false
   },
   "outputs": [
    {
     "name": "stdout",
     "output_type": "stream",
     "text": [
      "F1-мера наилучшей модели решающего дерева на валидационной выборке: 0.589242053789731\n",
      "Максимальная глубина дерева наилучшей модели: 7\n",
      "AUC-ROC наилучшей модели: 0.7993757523333674\n"
     ]
    }
   ],
   "source": [
    "# вызовем функцию на увеличенной тренировочной и прежней валидационной выборках\n",
    "find_best_decision_tree_model(features_train_upsampled, target_train_upsampled, features_valid, target_valid)"
   ]
  },
  {
   "cell_type": "markdown",
   "metadata": {},
   "source": [
    "#### Исследование модели случайного леса"
   ]
  },
  {
   "cell_type": "code",
   "execution_count": 28,
   "metadata": {
    "scrolled": true
   },
   "outputs": [
    {
     "name": "stdout",
     "output_type": "stream",
     "text": [
      "F1-мера наилучшей модели случайного леса на валидационной выборке: 0.6007067137809187\n",
      "Количество деревьев в наилучшей модели: 50\n",
      "Максимальная глубина дерева наилучшей модели: 9\n",
      "AUC-ROC наилучшей модели: 0.8339861116991996\n"
     ]
    }
   ],
   "source": [
    "# вызовем функцию на увеличенной тренировочной и прежней валидационной выборках\n",
    "find_best_random_forest_model(features_train_upsampled, target_train_upsampled, features_valid, target_valid)"
   ]
  },
  {
   "cell_type": "markdown",
   "metadata": {},
   "source": [
    "#### Исследование модели логистической регрессии"
   ]
  },
  {
   "cell_type": "code",
   "execution_count": 29,
   "metadata": {
    "scrolled": false
   },
   "outputs": [
    {
     "name": "stdout",
     "output_type": "stream",
     "text": [
      "F1-мера наилучшей модели логистической регрессии на валидационной выборке: 0.4628099173553719\n",
      "Наилучший алгоритм логистической регрессии: liblinear\n",
      "AUC-ROC наилучшей модели: 0.7279078629800566\n"
     ]
    }
   ],
   "source": [
    "# вызовем функцию на увеличенной тренировочной и прежней валидационной выборках\n",
    "find_best_logistic_regression_model(features_train_upsampled, target_train_upsampled, features_valid, target_valid)"
   ]
  },
  {
   "cell_type": "markdown",
   "metadata": {},
   "source": [
    "После увеличения выборки F1-мера наилучшей модели случайного леса выросла до 0.60 с AUC-ROC наилучшей модели - 0.83. Наилучшая модель решающего дерева выросла до 0.59, наилучшая модель логистической регресси выросла до 0.46."
   ]
  },
  {
   "cell_type": "markdown",
   "metadata": {},
   "source": [
    "### Уменьшение выборки"
   ]
  },
  {
   "cell_type": "markdown",
   "metadata": {},
   "source": [
    "Воспользуемся техникой уменьшения выборки для борьбы с несбалансированностью классов, для этого отбросим лишние значения более частого класса. Затем поищем наилучшую модель на такой выборке."
   ]
  },
  {
   "cell_type": "code",
   "execution_count": 30,
   "metadata": {},
   "outputs": [
    {
     "name": "stdout",
     "output_type": "stream",
     "text": [
      "(2392, 11)\n"
     ]
    }
   ],
   "source": [
    "undersampler = RandomUnderSampler(random_state=12345)\n",
    "features_train_undersampled, target_train_undersampled = undersampler.fit_resample(features_train, target_train)\n",
    "\n",
    "# проверим, что размер выборки уменьшился\n",
    "print(features_train_undersampled.shape)"
   ]
  },
  {
   "cell_type": "markdown",
   "metadata": {},
   "source": [
    "Размер выборки действительно уменьшился с 6000 до 2392 записей."
   ]
  },
  {
   "cell_type": "markdown",
   "metadata": {},
   "source": [
    "#### Исследование модели решающего дерева"
   ]
  },
  {
   "cell_type": "code",
   "execution_count": 31,
   "metadata": {
    "scrolled": false
   },
   "outputs": [
    {
     "name": "stdout",
     "output_type": "stream",
     "text": [
      "F1-мера наилучшей модели решающего дерева на валидационной выборке: 0.591691995947315\n",
      "Максимальная глубина дерева наилучшей модели: 5\n",
      "AUC-ROC наилучшей модели: 0.8205386253243729\n"
     ]
    }
   ],
   "source": [
    "# вызовем функцию на уменьшенной тренировочной и прежней валидационной выборках\n",
    "find_best_decision_tree_model(features_train_undersampled, target_train_undersampled, features_valid, target_valid)"
   ]
  },
  {
   "cell_type": "markdown",
   "metadata": {},
   "source": [
    "#### Исследование модели случайного леса"
   ]
  },
  {
   "cell_type": "code",
   "execution_count": 32,
   "metadata": {
    "scrolled": true
   },
   "outputs": [
    {
     "name": "stdout",
     "output_type": "stream",
     "text": [
      "F1-мера наилучшей модели случайного леса на валидационной выборке: 0.6009478672985782\n",
      "Количество деревьев в наилучшей модели: 15\n",
      "Максимальная глубина дерева наилучшей модели: 5\n",
      "AUC-ROC наилучшей модели: 0.8395790864933854\n"
     ]
    }
   ],
   "source": [
    "# вызовем функцию на уменьшенной тренировочной и прежней валидационной выборках\n",
    "find_best_random_forest_model(features_train_undersampled, target_train_undersampled, features_valid, target_valid)"
   ]
  },
  {
   "cell_type": "markdown",
   "metadata": {},
   "source": [
    "#### Исследование модели логистической регрессии"
   ]
  },
  {
   "cell_type": "code",
   "execution_count": 33,
   "metadata": {
    "scrolled": true
   },
   "outputs": [
    {
     "name": "stdout",
     "output_type": "stream",
     "text": [
      "F1-мера наилучшей модели логистической регрессии на валидационной выборке: 0.48364888123924266\n",
      "Наилучший алгоритм логистической регрессии: liblinear\n",
      "AUC-ROC наилучшей модели: 0.7617605961807172\n"
     ]
    }
   ],
   "source": [
    "# вызовем функцию на уменьшенной тренировочной и прежней валидационной выборках\n",
    "find_best_logistic_regression_model(features_train_undersampled, target_train_undersampled, features_valid, target_valid)"
   ]
  },
  {
   "cell_type": "markdown",
   "metadata": {},
   "source": [
    "После уменьшения выборки F1-мера наилучшей модели случайного леса выросла до 0.60 с AUC-ROC наилучшей модели - 0.84. Наилучшая модель решающего дерева выросла до 0.59, наилучшая модель логистической регресси выросла до 0.48."
   ]
  },
  {
   "cell_type": "markdown",
   "metadata": {},
   "source": [
    "<div style=\"border:solid green 2px; padding: 20px\">\n",
    "    \n",
    "* Были исследованы следующие методы борьбы с дисбалансом: взвешивание классов, увеличение выборки, уменьшение выборки. Все эти методы вызвали увеличение F1-меры у всех моделей.\n",
    "* Наилучший результат F1-меры был достигнут после применения взвешивания классов. После взвешивания классов самый лучший результат дала модель случайного леса с F1-мерой наилучшей модели случайного леса на валидационной выборке: 0.62 с количеством деревьев - 30, максимальной глубиной дерева - 7. AUC-ROC наилучшей модели: 0.85, что значительно выше, чем у случайной модели (0.5).\n",
    "* Методы увеличения и уменьшения выборки так же дало улучение у F1-меры до 0.60 для моделей случайного леса.\n",
    "\n",
    "</div>"
   ]
  },
  {
   "cell_type": "markdown",
   "metadata": {},
   "source": [
    "## Тестирование модели"
   ]
  },
  {
   "cell_type": "markdown",
   "metadata": {},
   "source": [
    "Наилучший результат получился у модели случайного леса после применения взвешивания классов. Проверим ее на тестовой выборке:"
   ]
  },
  {
   "cell_type": "code",
   "execution_count": 34,
   "metadata": {},
   "outputs": [
    {
     "name": "stdout",
     "output_type": "stream",
     "text": [
      "F1-мера наилучшей модели случайного леса на тестовой выборке: 0.6077812828601472\n"
     ]
    }
   ],
   "source": [
    "best_random_forest_model = RandomForestClassifier(class_weight='balanced', max_depth=7, n_estimators=30,\n",
    "                       random_state=123)\n",
    "# обучим модель на тренировочной выборке\n",
    "best_random_forest_model.fit(features_train, target_train)\n",
    "\n",
    "predicted_test = best_random_forest_model.predict(features_test)\n",
    "print(\"F1-мера наилучшей модели случайного леса на тестовой выборке:\", f1_score(target_test, predicted_test))"
   ]
  },
  {
   "cell_type": "code",
   "execution_count": 35,
   "metadata": {},
   "outputs": [
    {
     "name": "stdout",
     "output_type": "stream",
     "text": [
      "AUC-ROC наилучшей модели: 0.8466310182874087\n"
     ]
    }
   ],
   "source": [
    "# вычислим AUC-ROC для лучшей модели\n",
    "probabilities_test = best_random_forest_model.predict_proba(features_test)\n",
    "probabilities_one_test = probabilities_test[:, 1]\n",
    "auc_roc = roc_auc_score(target_test, probabilities_one_test)\n",
    "print(\"AUC-ROC наилучшей модели:\", auc_roc)"
   ]
  },
  {
   "cell_type": "markdown",
   "metadata": {},
   "source": [
    "Вычислим также F1-меру для случайной модели и сравним с нашим результатом:"
   ]
  },
  {
   "cell_type": "code",
   "execution_count": 36,
   "metadata": {},
   "outputs": [
    {
     "name": "stdout",
     "output_type": "stream",
     "text": [
      "F1-мера константной модели 0.3491539413949649\n"
     ]
    }
   ],
   "source": [
    "dummy_model = DummyClassifier(strategy='constant', constant=1)\n",
    "dummy_model.fit(features_train, target_train)\n",
    "print('F1-мера константной модели', f1_score(dummy_model.predict(features_test), target_test))"
   ]
  },
  {
   "cell_type": "markdown",
   "metadata": {},
   "source": [
    "<div style=\"border:solid green 2px; padding: 20px\">\n",
    "    \n",
    "Удалось достичь требуемой в задаче F1-меры для модели случайного леса после применения взвешивания классов. Значение F1- меры для нее составляет 0.61, что значительно больше F1-меры константной модели - 0.35.\n",
    "    \n",
    "AUC-ROC у найденной модели - 0.85, что значительно выше, чем у случайной модели.\n",
    "\n",
    "</div>"
   ]
  },
  {
   "cell_type": "markdown",
   "metadata": {},
   "source": [
    "## Общие выводы"
   ]
  },
  {
   "cell_type": "markdown",
   "metadata": {},
   "source": [
    "<div style=\"border:solid green 2px; padding: 20px\">\n",
    "    \n",
    "* В каждой строке данные о поведении клиента банка. В целом по общей гистаграмме кажется, что данные заполнены адекватно.\n",
    "* По матрице корреляции наибольшее влияние на факт ухода имеет возраст клиента с коэффициентом корреляции 0.29, что является слабой зависимостью. Сильных зависимостей признаков от целевого признака нет.\n",
    "* Столбцы `RowNumber`, `CustomerId`, `Surname` исключены из исследования, так как они не дают никакой полезной информации для построения модели, предсказывающей отток клиентов.\n",
    "* Пропуски в столбце `Tenure` заменены на медианное значение, пропусков в остальных столбцах нет.\n",
    "* Категориальные признаки в столбцах `Geography` и `Gender` закодированы техникой прямого кодирования.\n",
    "* Выборка несбалансирована по целевому признаку, соотношение классов вычислили ранее, оно составляет 4:1. До применения методов борьбы с дисбалансом  F1-мера всех моделей не соответствовала требованиям поставленной задачи. \n",
    "* Были исследованы следующие методы борьбы с дисбалансом: взвешивание классов, увеличение выборки, уменьшение выборки. Все эти методы вызвали увеличение F1-меры у всех моделей.\n",
    "* Наилучший результат F1-меры был достигнут после применения взвешивания классов. **После взвешивания классов самый лучший результат дала модель случайного леса с F1-мерой наилучшей модели случайного леса на валидационной выборке: 0.62 с количеством деревьев - 30, максимальной глубиной дерева - 7.** AUC-ROC наилучшей модели: 0.85, что значительно выше, чем у случайной модели (0.5).\n",
    "* Методы увеличения и уменьшения выборки так же дало улучение у F1-меры до 0.60 для моделей случайного леса.\n",
    "* Также удалось достичь требуемой F1-меры на тестовой выборке для наилучшей найденной модели случайного леса после применения взвешивания классов. **Значение F1-меры для нее на тестовой выборке составляет 0.61, что значительно больше F1-меры константной модели - 0.35.** AUC-ROC у найденной модели - 0.85, что значительно выше, чем у случайной модели.\n",
    "    \n",
    "</div>"
   ]
  },
  {
   "cell_type": "code",
   "execution_count": null,
   "metadata": {},
   "outputs": [],
   "source": []
  }
 ],
 "metadata": {
  "ExecuteTimeLog": [
   {
    "duration": 2985,
    "start_time": "2023-05-20T10:28:09.245Z"
   },
   {
    "duration": 104,
    "start_time": "2023-05-20T10:29:45.517Z"
   },
   {
    "duration": 43,
    "start_time": "2023-05-20T10:30:05.400Z"
   },
   {
    "duration": 25,
    "start_time": "2023-05-20T10:32:13.908Z"
   },
   {
    "duration": 6,
    "start_time": "2023-05-20T12:24:41.252Z"
   },
   {
    "duration": 1317,
    "start_time": "2023-05-20T12:25:05.153Z"
   },
   {
    "duration": 152,
    "start_time": "2023-05-20T12:25:06.472Z"
   },
   {
    "duration": 21,
    "start_time": "2023-05-20T12:25:06.626Z"
   },
   {
    "duration": 18,
    "start_time": "2023-05-20T12:25:06.649Z"
   },
   {
    "duration": 1461,
    "start_time": "2023-05-20T12:25:06.669Z"
   },
   {
    "duration": 8,
    "start_time": "2023-05-20T12:28:44.017Z"
   },
   {
    "duration": 8,
    "start_time": "2023-05-20T12:34:23.420Z"
   },
   {
    "duration": 6,
    "start_time": "2023-05-20T12:35:42.399Z"
   },
   {
    "duration": 5,
    "start_time": "2023-05-20T12:35:49.789Z"
   },
   {
    "duration": 6,
    "start_time": "2023-05-20T12:36:15.379Z"
   },
   {
    "duration": 11,
    "start_time": "2023-05-20T12:40:36.569Z"
   },
   {
    "duration": 4,
    "start_time": "2023-05-20T12:45:10.877Z"
   },
   {
    "duration": 6,
    "start_time": "2023-05-20T12:48:50.701Z"
   },
   {
    "duration": 2,
    "start_time": "2023-05-20T13:36:13.488Z"
   },
   {
    "duration": 110,
    "start_time": "2023-05-20T14:14:04.266Z"
   },
   {
    "duration": 10,
    "start_time": "2023-05-20T14:14:17.874Z"
   },
   {
    "duration": 12,
    "start_time": "2023-05-20T14:14:25.294Z"
   },
   {
    "duration": 4,
    "start_time": "2023-05-20T14:15:12.354Z"
   },
   {
    "duration": 1215,
    "start_time": "2023-05-20T14:15:57.746Z"
   },
   {
    "duration": 37,
    "start_time": "2023-05-20T14:15:58.963Z"
   },
   {
    "duration": 19,
    "start_time": "2023-05-20T14:15:59.002Z"
   },
   {
    "duration": 11,
    "start_time": "2023-05-20T14:15:59.023Z"
   },
   {
    "duration": 1416,
    "start_time": "2023-05-20T14:15:59.037Z"
   },
   {
    "duration": 8,
    "start_time": "2023-05-20T14:16:00.454Z"
   },
   {
    "duration": 32,
    "start_time": "2023-05-20T14:16:00.463Z"
   },
   {
    "duration": 33,
    "start_time": "2023-05-20T14:16:00.496Z"
   },
   {
    "duration": 26,
    "start_time": "2023-05-20T14:16:00.531Z"
   },
   {
    "duration": 35,
    "start_time": "2023-05-20T14:16:00.559Z"
   },
   {
    "duration": 36,
    "start_time": "2023-05-20T14:16:00.596Z"
   },
   {
    "duration": 57,
    "start_time": "2023-05-21T02:08:52.251Z"
   },
   {
    "duration": 1355,
    "start_time": "2023-05-21T02:09:10.132Z"
   },
   {
    "duration": 76,
    "start_time": "2023-05-21T02:09:11.489Z"
   },
   {
    "duration": 19,
    "start_time": "2023-05-21T02:09:11.567Z"
   },
   {
    "duration": 12,
    "start_time": "2023-05-21T02:09:11.588Z"
   },
   {
    "duration": 1428,
    "start_time": "2023-05-21T02:09:11.602Z"
   },
   {
    "duration": 8,
    "start_time": "2023-05-21T02:09:13.032Z"
   },
   {
    "duration": 9,
    "start_time": "2023-05-21T02:09:13.041Z"
   },
   {
    "duration": 13,
    "start_time": "2023-05-21T02:09:13.051Z"
   },
   {
    "duration": 4,
    "start_time": "2023-05-21T02:09:13.066Z"
   },
   {
    "duration": 26,
    "start_time": "2023-05-21T02:09:13.072Z"
   },
   {
    "duration": 19,
    "start_time": "2023-05-21T02:09:13.099Z"
   },
   {
    "duration": 17,
    "start_time": "2023-05-21T02:09:13.120Z"
   },
   {
    "duration": 2,
    "start_time": "2023-05-21T02:10:19.440Z"
   },
   {
    "duration": 14,
    "start_time": "2023-05-21T02:10:30.989Z"
   },
   {
    "duration": 15,
    "start_time": "2023-05-21T02:10:48.434Z"
   },
   {
    "duration": 105,
    "start_time": "2023-05-21T02:19:56.433Z"
   },
   {
    "duration": 96,
    "start_time": "2023-05-21T02:20:23.216Z"
   },
   {
    "duration": 1465,
    "start_time": "2023-05-21T05:39:19.474Z"
   },
   {
    "duration": 165,
    "start_time": "2023-05-21T05:39:20.941Z"
   },
   {
    "duration": 22,
    "start_time": "2023-05-21T05:39:21.108Z"
   },
   {
    "duration": 13,
    "start_time": "2023-05-21T05:39:21.131Z"
   },
   {
    "duration": 1618,
    "start_time": "2023-05-21T05:39:21.146Z"
   },
   {
    "duration": 8,
    "start_time": "2023-05-21T05:39:22.766Z"
   },
   {
    "duration": 9,
    "start_time": "2023-05-21T05:39:22.776Z"
   },
   {
    "duration": 13,
    "start_time": "2023-05-21T05:39:22.786Z"
   },
   {
    "duration": 29,
    "start_time": "2023-05-21T05:39:22.800Z"
   },
   {
    "duration": 8,
    "start_time": "2023-05-21T05:39:22.830Z"
   },
   {
    "duration": 8,
    "start_time": "2023-05-21T05:39:22.840Z"
   },
   {
    "duration": 16,
    "start_time": "2023-05-21T05:39:22.849Z"
   },
   {
    "duration": 169,
    "start_time": "2023-05-21T05:39:22.867Z"
   },
   {
    "duration": 205,
    "start_time": "2023-05-21T05:40:21.759Z"
   },
   {
    "duration": 121,
    "start_time": "2023-05-21T05:41:41.024Z"
   },
   {
    "duration": 1377,
    "start_time": "2023-05-21T05:42:47.749Z"
   },
   {
    "duration": 41,
    "start_time": "2023-05-21T05:42:49.128Z"
   },
   {
    "duration": 21,
    "start_time": "2023-05-21T05:42:49.170Z"
   },
   {
    "duration": 12,
    "start_time": "2023-05-21T05:42:49.192Z"
   },
   {
    "duration": 1622,
    "start_time": "2023-05-21T05:42:49.206Z"
   },
   {
    "duration": 10,
    "start_time": "2023-05-21T05:42:50.830Z"
   },
   {
    "duration": 8,
    "start_time": "2023-05-21T05:42:50.842Z"
   },
   {
    "duration": 14,
    "start_time": "2023-05-21T05:42:50.852Z"
   },
   {
    "duration": 6,
    "start_time": "2023-05-21T05:42:50.868Z"
   },
   {
    "duration": 8,
    "start_time": "2023-05-21T05:42:50.875Z"
   },
   {
    "duration": 45,
    "start_time": "2023-05-21T05:42:50.884Z"
   },
   {
    "duration": 15,
    "start_time": "2023-05-21T05:42:50.930Z"
   },
   {
    "duration": 134,
    "start_time": "2023-05-21T05:42:50.948Z"
   },
   {
    "duration": 2487,
    "start_time": "2023-05-21T16:24:41.760Z"
   },
   {
    "duration": 109,
    "start_time": "2023-05-21T16:24:44.249Z"
   },
   {
    "duration": 39,
    "start_time": "2023-05-21T16:24:44.360Z"
   },
   {
    "duration": 37,
    "start_time": "2023-05-21T16:24:44.401Z"
   },
   {
    "duration": 2208,
    "start_time": "2023-05-21T16:24:44.442Z"
   },
   {
    "duration": 39,
    "start_time": "2023-05-21T16:24:46.654Z"
   },
   {
    "duration": 11,
    "start_time": "2023-05-21T16:24:46.704Z"
   },
   {
    "duration": 35,
    "start_time": "2023-05-21T16:24:46.718Z"
   },
   {
    "duration": 33,
    "start_time": "2023-05-21T16:24:46.756Z"
   },
   {
    "duration": 32,
    "start_time": "2023-05-21T16:24:46.796Z"
   },
   {
    "duration": 33,
    "start_time": "2023-05-21T16:24:46.830Z"
   },
   {
    "duration": 54,
    "start_time": "2023-05-21T16:24:46.866Z"
   },
   {
    "duration": 195,
    "start_time": "2023-05-21T16:24:46.922Z"
   },
   {
    "duration": 146,
    "start_time": "2023-05-21T16:24:47.121Z"
   },
   {
    "duration": 9,
    "start_time": "2023-05-21T16:25:26.941Z"
   },
   {
    "duration": 12,
    "start_time": "2023-05-21T16:28:45.057Z"
   },
   {
    "duration": 33,
    "start_time": "2023-05-21T16:45:22.363Z"
   },
   {
    "duration": 1839,
    "start_time": "2023-05-21T16:45:42.322Z"
   },
   {
    "duration": 84,
    "start_time": "2023-05-21T16:45:44.164Z"
   },
   {
    "duration": 58,
    "start_time": "2023-05-21T16:45:44.251Z"
   },
   {
    "duration": 68,
    "start_time": "2023-05-21T16:45:44.312Z"
   },
   {
    "duration": 2468,
    "start_time": "2023-05-21T16:45:44.383Z"
   },
   {
    "duration": 24,
    "start_time": "2023-05-21T16:45:46.854Z"
   },
   {
    "duration": 65,
    "start_time": "2023-05-21T16:45:46.880Z"
   },
   {
    "duration": 88,
    "start_time": "2023-05-21T16:45:46.947Z"
   },
   {
    "duration": 12,
    "start_time": "2023-05-21T16:45:47.038Z"
   },
   {
    "duration": 13,
    "start_time": "2023-05-21T16:45:47.054Z"
   },
   {
    "duration": 52,
    "start_time": "2023-05-21T16:45:47.070Z"
   },
   {
    "duration": 20,
    "start_time": "2023-05-21T16:45:47.124Z"
   },
   {
    "duration": 207,
    "start_time": "2023-05-21T16:45:47.146Z"
   },
   {
    "duration": 20,
    "start_time": "2023-05-21T16:45:47.355Z"
   },
   {
    "duration": 46,
    "start_time": "2023-05-21T16:45:47.379Z"
   },
   {
    "duration": 346,
    "start_time": "2023-05-21T16:50:24.853Z"
   },
   {
    "duration": 4,
    "start_time": "2023-05-21T16:56:51.864Z"
   },
   {
    "duration": 1943,
    "start_time": "2023-05-23T10:34:20.824Z"
   },
   {
    "duration": 96,
    "start_time": "2023-05-23T10:34:22.769Z"
   },
   {
    "duration": 24,
    "start_time": "2023-05-23T10:34:22.867Z"
   },
   {
    "duration": 22,
    "start_time": "2023-05-23T10:34:22.893Z"
   },
   {
    "duration": 2133,
    "start_time": "2023-05-23T10:34:22.919Z"
   },
   {
    "duration": 14,
    "start_time": "2023-05-23T10:34:25.055Z"
   },
   {
    "duration": 89,
    "start_time": "2023-05-23T10:34:25.072Z"
   },
   {
    "duration": 36,
    "start_time": "2023-05-23T10:34:25.163Z"
   },
   {
    "duration": 27,
    "start_time": "2023-05-23T10:34:25.201Z"
   },
   {
    "duration": 57,
    "start_time": "2023-05-23T10:34:25.230Z"
   },
   {
    "duration": 20,
    "start_time": "2023-05-23T10:34:25.290Z"
   },
   {
    "duration": 75,
    "start_time": "2023-05-23T10:34:25.312Z"
   },
   {
    "duration": 142,
    "start_time": "2023-05-23T10:34:25.389Z"
   },
   {
    "duration": 7,
    "start_time": "2023-05-23T10:34:25.543Z"
   },
   {
    "duration": 18,
    "start_time": "2023-05-23T10:34:25.553Z"
   },
   {
    "duration": 513,
    "start_time": "2023-05-23T10:34:25.573Z"
   },
   {
    "duration": 369,
    "start_time": "2023-05-23T10:34:48.226Z"
   },
   {
    "duration": 341,
    "start_time": "2023-05-23T10:43:52.716Z"
   },
   {
    "duration": 12904,
    "start_time": "2023-05-23T10:55:52.703Z"
   },
   {
    "duration": 12050,
    "start_time": "2023-05-23T10:56:38.156Z"
   },
   {
    "duration": 12267,
    "start_time": "2023-05-23T10:57:37.919Z"
   },
   {
    "duration": 329,
    "start_time": "2023-05-23T10:58:05.317Z"
   },
   {
    "duration": 12611,
    "start_time": "2023-05-23T10:58:07.079Z"
   },
   {
    "duration": 12,
    "start_time": "2023-05-23T11:04:35.793Z"
   },
   {
    "duration": 8,
    "start_time": "2023-05-23T11:05:02.820Z"
   },
   {
    "duration": 13,
    "start_time": "2023-05-23T11:05:09.383Z"
   },
   {
    "duration": 4,
    "start_time": "2023-05-23T11:05:38.496Z"
   },
   {
    "duration": 2989,
    "start_time": "2023-05-23T11:05:44.151Z"
   },
   {
    "duration": 372,
    "start_time": "2023-05-23T17:46:00.807Z"
   },
   {
    "duration": 14057,
    "start_time": "2023-05-23T17:47:57.423Z"
   },
   {
    "duration": 1677,
    "start_time": "2023-05-23T17:51:49.277Z"
   },
   {
    "duration": 16217,
    "start_time": "2023-05-23T17:56:01.784Z"
   },
   {
    "duration": 13884,
    "start_time": "2023-05-23T17:57:12.478Z"
   },
   {
    "duration": 353,
    "start_time": "2023-05-23T18:24:39.559Z"
   },
   {
    "duration": 12057,
    "start_time": "2023-05-23T18:25:27.085Z"
   },
   {
    "duration": 2104,
    "start_time": "2023-05-23T18:26:55.527Z"
   },
   {
    "duration": 379,
    "start_time": "2023-05-23T18:36:54.754Z"
   },
   {
    "duration": 12128,
    "start_time": "2023-05-23T18:37:57.015Z"
   },
   {
    "duration": 13396,
    "start_time": "2023-05-23T18:39:10.399Z"
   },
   {
    "duration": 13293,
    "start_time": "2023-05-23T18:39:28.910Z"
   },
   {
    "duration": 12307,
    "start_time": "2023-05-23T18:40:17.138Z"
   },
   {
    "duration": 11530,
    "start_time": "2023-05-23T18:48:45.587Z"
   },
   {
    "duration": 12535,
    "start_time": "2023-05-23T18:49:02.763Z"
   },
   {
    "duration": 1669,
    "start_time": "2023-05-23T18:50:51.357Z"
   },
   {
    "duration": 27,
    "start_time": "2023-05-23T19:03:06.438Z"
   },
   {
    "duration": 4,
    "start_time": "2023-05-23T19:03:35.605Z"
   },
   {
    "duration": 17,
    "start_time": "2023-05-23T19:03:41.988Z"
   },
   {
    "duration": 18,
    "start_time": "2023-05-23T19:04:03.277Z"
   },
   {
    "duration": 429,
    "start_time": "2023-05-23T19:05:50.394Z"
   },
   {
    "duration": 16474,
    "start_time": "2023-05-23T19:06:21.492Z"
   },
   {
    "duration": 1189,
    "start_time": "2023-05-23T19:07:16.437Z"
   },
   {
    "duration": 18,
    "start_time": "2023-05-23T19:11:18.265Z"
   },
   {
    "duration": 18,
    "start_time": "2023-05-23T19:14:10.911Z"
   },
   {
    "duration": 13,
    "start_time": "2023-05-23T19:15:12.008Z"
   },
   {
    "duration": 188,
    "start_time": "2023-05-23T19:15:52.273Z"
   },
   {
    "duration": 7617,
    "start_time": "2023-05-23T19:16:09.241Z"
   },
   {
    "duration": 1953,
    "start_time": "2023-05-23T19:16:36.673Z"
   },
   {
    "duration": 11234,
    "start_time": "2023-05-23T19:19:48.811Z"
   },
   {
    "duration": 11602,
    "start_time": "2023-05-23T19:20:15.627Z"
   },
   {
    "duration": 12269,
    "start_time": "2023-05-23T19:21:49.267Z"
   },
   {
    "duration": 15,
    "start_time": "2023-05-23T19:22:45.473Z"
   },
   {
    "duration": 264,
    "start_time": "2023-05-23T19:23:40.677Z"
   },
   {
    "duration": 15045,
    "start_time": "2023-05-24T13:21:31.248Z"
   },
   {
    "duration": 1797,
    "start_time": "2023-05-24T13:23:47.404Z"
   },
   {
    "duration": 57,
    "start_time": "2023-05-24T13:23:49.203Z"
   },
   {
    "duration": 54,
    "start_time": "2023-05-24T13:23:49.262Z"
   },
   {
    "duration": 66,
    "start_time": "2023-05-24T13:23:49.318Z"
   },
   {
    "duration": 1992,
    "start_time": "2023-05-24T13:23:49.386Z"
   },
   {
    "duration": 77488,
    "start_time": "2023-05-24T13:23:51.383Z"
   },
   {
    "duration": 10,
    "start_time": "2023-05-24T13:25:08.877Z"
   },
   {
    "duration": 32,
    "start_time": "2023-05-24T13:25:08.889Z"
   },
   {
    "duration": 56,
    "start_time": "2023-05-24T13:25:08.923Z"
   },
   {
    "duration": 38,
    "start_time": "2023-05-24T13:25:08.982Z"
   },
   {
    "duration": 23,
    "start_time": "2023-05-24T13:25:09.022Z"
   },
   {
    "duration": 54,
    "start_time": "2023-05-24T13:25:09.050Z"
   },
   {
    "duration": 36,
    "start_time": "2023-05-24T13:25:09.106Z"
   },
   {
    "duration": 228,
    "start_time": "2023-05-24T13:25:09.144Z"
   },
   {
    "duration": 6,
    "start_time": "2023-05-24T13:25:09.376Z"
   },
   {
    "duration": 30,
    "start_time": "2023-05-24T13:25:09.396Z"
   },
   {
    "duration": 520,
    "start_time": "2023-05-24T13:25:09.433Z"
   },
   {
    "duration": 15490,
    "start_time": "2023-05-24T13:25:09.955Z"
   },
   {
    "duration": 1883,
    "start_time": "2023-05-24T13:25:25.447Z"
   },
   {
    "duration": 608,
    "start_time": "2023-05-24T13:25:27.336Z"
   },
   {
    "duration": 15370,
    "start_time": "2023-05-24T13:25:27.946Z"
   },
   {
    "duration": 2384,
    "start_time": "2023-05-24T13:25:43.318Z"
   },
   {
    "duration": 99,
    "start_time": "2023-05-24T13:25:45.731Z"
   },
   {
    "duration": 564,
    "start_time": "2023-05-24T13:25:45.849Z"
   },
   {
    "duration": 20591,
    "start_time": "2023-05-24T13:25:46.415Z"
   },
   {
    "duration": 3288,
    "start_time": "2023-05-24T13:26:07.008Z"
   },
   {
    "duration": 41,
    "start_time": "2023-05-24T13:26:10.299Z"
   },
   {
    "duration": 362,
    "start_time": "2023-05-24T13:26:10.344Z"
   },
   {
    "duration": 9559,
    "start_time": "2023-05-24T13:26:10.708Z"
   },
   {
    "duration": 2604,
    "start_time": "2023-05-24T13:26:20.272Z"
   },
   {
    "duration": 430,
    "start_time": "2023-05-24T13:26:22.940Z"
   },
   {
    "duration": 4,
    "start_time": "2023-05-24T13:30:31.813Z"
   },
   {
    "duration": 146,
    "start_time": "2023-05-24T13:35:49.300Z"
   },
   {
    "duration": 21,
    "start_time": "2023-05-24T13:36:29.184Z"
   },
   {
    "duration": 5566,
    "start_time": "2023-05-24T13:37:20.652Z"
   },
   {
    "duration": 15,
    "start_time": "2023-05-24T13:46:26.569Z"
   },
   {
    "duration": 626,
    "start_time": "2023-05-24T13:46:49.576Z"
   },
   {
    "duration": 946,
    "start_time": "2023-05-24T13:47:37.599Z"
   },
   {
    "duration": 971,
    "start_time": "2023-05-24T13:47:44.185Z"
   },
   {
    "duration": 926,
    "start_time": "2023-05-24T13:49:02.681Z"
   },
   {
    "duration": 993,
    "start_time": "2023-05-24T13:50:31.254Z"
   },
   {
    "duration": 1246,
    "start_time": "2023-05-24T13:50:46.511Z"
   },
   {
    "duration": 1000,
    "start_time": "2023-05-24T13:52:22.322Z"
   },
   {
    "duration": 966,
    "start_time": "2023-05-24T13:52:41.488Z"
   },
   {
    "duration": 1460,
    "start_time": "2023-05-24T20:04:42.197Z"
   },
   {
    "duration": 43,
    "start_time": "2023-05-24T20:04:43.659Z"
   },
   {
    "duration": 38,
    "start_time": "2023-05-24T20:04:43.703Z"
   },
   {
    "duration": 18,
    "start_time": "2023-05-24T20:04:43.743Z"
   },
   {
    "duration": 1968,
    "start_time": "2023-05-24T20:04:43.764Z"
   },
   {
    "duration": 26,
    "start_time": "2023-05-24T20:04:45.734Z"
   },
   {
    "duration": 309,
    "start_time": "2023-05-24T20:04:45.762Z"
   },
   {
    "duration": 0,
    "start_time": "2023-05-24T20:04:46.073Z"
   },
   {
    "duration": 0,
    "start_time": "2023-05-24T20:04:46.074Z"
   },
   {
    "duration": 0,
    "start_time": "2023-05-24T20:04:46.075Z"
   },
   {
    "duration": 0,
    "start_time": "2023-05-24T20:04:46.076Z"
   },
   {
    "duration": 0,
    "start_time": "2023-05-24T20:04:46.077Z"
   },
   {
    "duration": 0,
    "start_time": "2023-05-24T20:04:46.078Z"
   },
   {
    "duration": 0,
    "start_time": "2023-05-24T20:04:46.080Z"
   },
   {
    "duration": 0,
    "start_time": "2023-05-24T20:04:46.081Z"
   },
   {
    "duration": 0,
    "start_time": "2023-05-24T20:04:46.082Z"
   },
   {
    "duration": 0,
    "start_time": "2023-05-24T20:04:46.083Z"
   },
   {
    "duration": 0,
    "start_time": "2023-05-24T20:04:46.084Z"
   },
   {
    "duration": 0,
    "start_time": "2023-05-24T20:04:46.085Z"
   },
   {
    "duration": 0,
    "start_time": "2023-05-24T20:04:46.086Z"
   },
   {
    "duration": 0,
    "start_time": "2023-05-24T20:04:46.087Z"
   },
   {
    "duration": 0,
    "start_time": "2023-05-24T20:04:46.088Z"
   },
   {
    "duration": 0,
    "start_time": "2023-05-24T20:04:46.090Z"
   },
   {
    "duration": 0,
    "start_time": "2023-05-24T20:04:46.091Z"
   },
   {
    "duration": 0,
    "start_time": "2023-05-24T20:04:46.092Z"
   },
   {
    "duration": 0,
    "start_time": "2023-05-24T20:04:46.093Z"
   },
   {
    "duration": 0,
    "start_time": "2023-05-24T20:04:46.094Z"
   },
   {
    "duration": 0,
    "start_time": "2023-05-24T20:04:46.094Z"
   },
   {
    "duration": 0,
    "start_time": "2023-05-24T20:04:46.095Z"
   },
   {
    "duration": 0,
    "start_time": "2023-05-24T20:04:46.095Z"
   },
   {
    "duration": 0,
    "start_time": "2023-05-24T20:04:46.096Z"
   },
   {
    "duration": 0,
    "start_time": "2023-05-24T20:04:46.124Z"
   },
   {
    "duration": 0,
    "start_time": "2023-05-24T20:04:46.125Z"
   },
   {
    "duration": 0,
    "start_time": "2023-05-24T20:04:46.126Z"
   },
   {
    "duration": 1418,
    "start_time": "2023-05-24T20:08:17.960Z"
   },
   {
    "duration": 39,
    "start_time": "2023-05-24T20:08:19.381Z"
   },
   {
    "duration": 37,
    "start_time": "2023-05-24T20:08:19.422Z"
   },
   {
    "duration": 27,
    "start_time": "2023-05-24T20:08:19.461Z"
   },
   {
    "duration": 1756,
    "start_time": "2023-05-24T20:08:19.489Z"
   },
   {
    "duration": 31,
    "start_time": "2023-05-24T20:08:21.249Z"
   },
   {
    "duration": 272,
    "start_time": "2023-05-24T20:08:21.281Z"
   },
   {
    "duration": 0,
    "start_time": "2023-05-24T20:08:21.556Z"
   },
   {
    "duration": 0,
    "start_time": "2023-05-24T20:08:21.557Z"
   },
   {
    "duration": 0,
    "start_time": "2023-05-24T20:08:21.559Z"
   },
   {
    "duration": 0,
    "start_time": "2023-05-24T20:08:21.560Z"
   },
   {
    "duration": 0,
    "start_time": "2023-05-24T20:08:21.561Z"
   },
   {
    "duration": 0,
    "start_time": "2023-05-24T20:08:21.562Z"
   },
   {
    "duration": 0,
    "start_time": "2023-05-24T20:08:21.563Z"
   },
   {
    "duration": 0,
    "start_time": "2023-05-24T20:08:21.564Z"
   },
   {
    "duration": 0,
    "start_time": "2023-05-24T20:08:21.565Z"
   },
   {
    "duration": 0,
    "start_time": "2023-05-24T20:08:21.566Z"
   },
   {
    "duration": 0,
    "start_time": "2023-05-24T20:08:21.567Z"
   },
   {
    "duration": 1,
    "start_time": "2023-05-24T20:08:21.568Z"
   },
   {
    "duration": 0,
    "start_time": "2023-05-24T20:08:21.570Z"
   },
   {
    "duration": 1,
    "start_time": "2023-05-24T20:08:21.570Z"
   },
   {
    "duration": 0,
    "start_time": "2023-05-24T20:08:21.571Z"
   },
   {
    "duration": 0,
    "start_time": "2023-05-24T20:08:21.573Z"
   },
   {
    "duration": 0,
    "start_time": "2023-05-24T20:08:21.574Z"
   },
   {
    "duration": 0,
    "start_time": "2023-05-24T20:08:21.575Z"
   },
   {
    "duration": 0,
    "start_time": "2023-05-24T20:08:21.576Z"
   },
   {
    "duration": 0,
    "start_time": "2023-05-24T20:08:21.577Z"
   },
   {
    "duration": 0,
    "start_time": "2023-05-24T20:08:21.578Z"
   },
   {
    "duration": 0,
    "start_time": "2023-05-24T20:08:21.579Z"
   },
   {
    "duration": 0,
    "start_time": "2023-05-24T20:08:21.624Z"
   },
   {
    "duration": 0,
    "start_time": "2023-05-24T20:08:21.625Z"
   },
   {
    "duration": 0,
    "start_time": "2023-05-24T20:08:21.626Z"
   },
   {
    "duration": 0,
    "start_time": "2023-05-24T20:08:21.627Z"
   },
   {
    "duration": 0,
    "start_time": "2023-05-24T20:08:21.629Z"
   },
   {
    "duration": 77,
    "start_time": "2023-05-24T20:11:43.051Z"
   },
   {
    "duration": 1818,
    "start_time": "2023-05-24T20:11:48.601Z"
   },
   {
    "duration": 56,
    "start_time": "2023-05-24T20:11:50.421Z"
   },
   {
    "duration": 22,
    "start_time": "2023-05-24T20:11:50.478Z"
   },
   {
    "duration": 19,
    "start_time": "2023-05-24T20:11:50.502Z"
   },
   {
    "duration": 1842,
    "start_time": "2023-05-24T20:11:50.522Z"
   },
   {
    "duration": 16,
    "start_time": "2023-05-24T20:11:52.366Z"
   },
   {
    "duration": 879,
    "start_time": "2023-05-24T20:11:52.384Z"
   },
   {
    "duration": 160,
    "start_time": "2023-05-24T20:11:53.265Z"
   },
   {
    "duration": 0,
    "start_time": "2023-05-24T20:11:53.430Z"
   },
   {
    "duration": 0,
    "start_time": "2023-05-24T20:11:53.432Z"
   },
   {
    "duration": 0,
    "start_time": "2023-05-24T20:11:53.434Z"
   },
   {
    "duration": 0,
    "start_time": "2023-05-24T20:11:53.438Z"
   },
   {
    "duration": 0,
    "start_time": "2023-05-24T20:11:53.440Z"
   },
   {
    "duration": 0,
    "start_time": "2023-05-24T20:11:53.441Z"
   },
   {
    "duration": 0,
    "start_time": "2023-05-24T20:11:53.442Z"
   },
   {
    "duration": 0,
    "start_time": "2023-05-24T20:11:53.443Z"
   },
   {
    "duration": 0,
    "start_time": "2023-05-24T20:11:53.444Z"
   },
   {
    "duration": 0,
    "start_time": "2023-05-24T20:11:53.451Z"
   },
   {
    "duration": 0,
    "start_time": "2023-05-24T20:11:53.453Z"
   },
   {
    "duration": 0,
    "start_time": "2023-05-24T20:11:53.454Z"
   },
   {
    "duration": 0,
    "start_time": "2023-05-24T20:11:53.455Z"
   },
   {
    "duration": 0,
    "start_time": "2023-05-24T20:11:53.456Z"
   },
   {
    "duration": 0,
    "start_time": "2023-05-24T20:11:53.460Z"
   },
   {
    "duration": 0,
    "start_time": "2023-05-24T20:11:53.460Z"
   },
   {
    "duration": 0,
    "start_time": "2023-05-24T20:11:53.461Z"
   },
   {
    "duration": 0,
    "start_time": "2023-05-24T20:11:53.462Z"
   },
   {
    "duration": 0,
    "start_time": "2023-05-24T20:11:53.468Z"
   },
   {
    "duration": 0,
    "start_time": "2023-05-24T20:11:53.469Z"
   },
   {
    "duration": 0,
    "start_time": "2023-05-24T20:11:53.470Z"
   },
   {
    "duration": 0,
    "start_time": "2023-05-24T20:11:53.471Z"
   },
   {
    "duration": 0,
    "start_time": "2023-05-24T20:11:53.472Z"
   },
   {
    "duration": 0,
    "start_time": "2023-05-24T20:11:53.473Z"
   },
   {
    "duration": 0,
    "start_time": "2023-05-24T20:11:53.474Z"
   },
   {
    "duration": 0,
    "start_time": "2023-05-24T20:11:53.475Z"
   },
   {
    "duration": 1678,
    "start_time": "2023-05-24T20:12:34.003Z"
   },
   {
    "duration": 40,
    "start_time": "2023-05-24T20:12:35.683Z"
   },
   {
    "duration": 30,
    "start_time": "2023-05-24T20:12:35.729Z"
   },
   {
    "duration": 17,
    "start_time": "2023-05-24T20:12:35.761Z"
   },
   {
    "duration": 1628,
    "start_time": "2023-05-24T20:12:35.779Z"
   },
   {
    "duration": 38,
    "start_time": "2023-05-24T20:12:37.409Z"
   },
   {
    "duration": 831,
    "start_time": "2023-05-24T20:12:37.455Z"
   },
   {
    "duration": 8,
    "start_time": "2023-05-24T20:12:38.288Z"
   },
   {
    "duration": 60,
    "start_time": "2023-05-24T20:12:38.297Z"
   },
   {
    "duration": 29,
    "start_time": "2023-05-24T20:12:38.360Z"
   },
   {
    "duration": 38,
    "start_time": "2023-05-24T20:12:38.390Z"
   },
   {
    "duration": 55,
    "start_time": "2023-05-24T20:12:38.433Z"
   },
   {
    "duration": 19,
    "start_time": "2023-05-24T20:12:38.490Z"
   },
   {
    "duration": 56,
    "start_time": "2023-05-24T20:12:38.511Z"
   },
   {
    "duration": 124,
    "start_time": "2023-05-24T20:12:38.568Z"
   },
   {
    "duration": 6,
    "start_time": "2023-05-24T20:12:38.694Z"
   },
   {
    "duration": 58,
    "start_time": "2023-05-24T20:12:38.702Z"
   },
   {
    "duration": 381,
    "start_time": "2023-05-24T20:12:38.762Z"
   },
   {
    "duration": 12317,
    "start_time": "2023-05-24T20:12:39.151Z"
   },
   {
    "duration": 2059,
    "start_time": "2023-05-24T20:12:51.469Z"
   },
   {
    "duration": 447,
    "start_time": "2023-05-24T20:12:53.530Z"
   },
   {
    "duration": 1876,
    "start_time": "2023-05-24T20:17:32.865Z"
   },
   {
    "duration": 65,
    "start_time": "2023-05-24T20:17:34.743Z"
   },
   {
    "duration": 53,
    "start_time": "2023-05-24T20:17:34.810Z"
   },
   {
    "duration": 36,
    "start_time": "2023-05-24T20:17:34.870Z"
   },
   {
    "duration": 2096,
    "start_time": "2023-05-24T20:17:34.908Z"
   },
   {
    "duration": 28,
    "start_time": "2023-05-24T20:17:37.005Z"
   },
   {
    "duration": 987,
    "start_time": "2023-05-24T20:17:37.035Z"
   },
   {
    "duration": 20,
    "start_time": "2023-05-24T20:17:38.025Z"
   },
   {
    "duration": 31,
    "start_time": "2023-05-24T20:17:38.048Z"
   },
   {
    "duration": 20,
    "start_time": "2023-05-24T20:17:38.083Z"
   },
   {
    "duration": 9,
    "start_time": "2023-05-24T20:17:38.105Z"
   },
   {
    "duration": 63,
    "start_time": "2023-05-24T20:17:38.116Z"
   },
   {
    "duration": 15,
    "start_time": "2023-05-24T20:17:38.181Z"
   },
   {
    "duration": 15,
    "start_time": "2023-05-24T20:17:38.198Z"
   },
   {
    "duration": 163,
    "start_time": "2023-05-24T20:17:38.215Z"
   },
   {
    "duration": 6,
    "start_time": "2023-05-24T20:17:38.380Z"
   },
   {
    "duration": 11,
    "start_time": "2023-05-24T20:17:38.389Z"
   },
   {
    "duration": 410,
    "start_time": "2023-05-24T20:17:38.402Z"
   },
   {
    "duration": 13649,
    "start_time": "2023-05-24T20:17:38.815Z"
   },
   {
    "duration": 2092,
    "start_time": "2023-05-24T20:17:52.466Z"
   },
   {
    "duration": 630,
    "start_time": "2023-05-24T20:17:54.565Z"
   },
   {
    "duration": 14084,
    "start_time": "2023-05-24T20:17:55.198Z"
   },
   {
    "duration": 1572,
    "start_time": "2023-05-24T20:18:09.284Z"
   },
   {
    "duration": 101,
    "start_time": "2023-05-24T20:18:10.864Z"
   },
   {
    "duration": 497,
    "start_time": "2023-05-24T20:18:10.975Z"
   },
   {
    "duration": 18412,
    "start_time": "2023-05-24T20:18:11.477Z"
   },
   {
    "duration": 2662,
    "start_time": "2023-05-24T20:18:29.891Z"
   },
   {
    "duration": 92,
    "start_time": "2023-05-24T20:18:32.570Z"
   },
   {
    "duration": 221,
    "start_time": "2023-05-24T20:18:32.669Z"
   },
   {
    "duration": 8754,
    "start_time": "2023-05-24T20:18:32.893Z"
   },
   {
    "duration": 1719,
    "start_time": "2023-05-24T20:18:41.652Z"
   },
   {
    "duration": 281,
    "start_time": "2023-05-24T20:18:43.427Z"
   },
   {
    "duration": 0,
    "start_time": "2023-05-24T20:18:43.710Z"
   },
   {
    "duration": 289,
    "start_time": "2023-05-24T20:19:02.192Z"
   },
   {
    "duration": 129,
    "start_time": "2023-05-24T20:20:13.363Z"
   },
   {
    "duration": 304,
    "start_time": "2023-05-24T20:20:22.455Z"
   },
   {
    "duration": 108,
    "start_time": "2023-05-24T20:22:03.215Z"
   },
   {
    "duration": 27,
    "start_time": "2023-05-24T20:22:12.067Z"
   },
   {
    "duration": 26,
    "start_time": "2023-05-24T20:22:33.584Z"
   },
   {
    "duration": 1499,
    "start_time": "2023-05-24T20:22:45.108Z"
   },
   {
    "duration": 55,
    "start_time": "2023-05-24T20:22:46.608Z"
   },
   {
    "duration": 19,
    "start_time": "2023-05-24T20:22:46.665Z"
   },
   {
    "duration": 90,
    "start_time": "2023-05-24T20:22:46.686Z"
   },
   {
    "duration": 1703,
    "start_time": "2023-05-24T20:22:46.777Z"
   },
   {
    "duration": 16,
    "start_time": "2023-05-24T20:22:48.482Z"
   },
   {
    "duration": 906,
    "start_time": "2023-05-24T20:22:48.499Z"
   },
   {
    "duration": 8,
    "start_time": "2023-05-24T20:22:49.406Z"
   },
   {
    "duration": 43,
    "start_time": "2023-05-24T20:22:49.426Z"
   },
   {
    "duration": 18,
    "start_time": "2023-05-24T20:22:49.472Z"
   },
   {
    "duration": 6,
    "start_time": "2023-05-24T20:22:49.492Z"
   },
   {
    "duration": 9,
    "start_time": "2023-05-24T20:22:49.500Z"
   },
   {
    "duration": 47,
    "start_time": "2023-05-24T20:22:49.510Z"
   },
   {
    "duration": 19,
    "start_time": "2023-05-24T20:22:49.558Z"
   },
   {
    "duration": 120,
    "start_time": "2023-05-24T20:22:49.578Z"
   },
   {
    "duration": 5,
    "start_time": "2023-05-24T20:22:49.700Z"
   },
   {
    "duration": 29,
    "start_time": "2023-05-24T20:22:49.706Z"
   },
   {
    "duration": 374,
    "start_time": "2023-05-24T20:22:49.736Z"
   },
   {
    "duration": 12755,
    "start_time": "2023-05-24T20:22:50.112Z"
   },
   {
    "duration": 1804,
    "start_time": "2023-05-24T20:23:02.869Z"
   },
   {
    "duration": 514,
    "start_time": "2023-05-24T20:23:04.675Z"
   },
   {
    "duration": 12790,
    "start_time": "2023-05-24T20:23:05.191Z"
   },
   {
    "duration": 1656,
    "start_time": "2023-05-24T20:23:17.983Z"
   },
   {
    "duration": 100,
    "start_time": "2023-05-24T20:23:19.643Z"
   },
   {
    "duration": 452,
    "start_time": "2023-05-24T20:23:19.754Z"
   },
   {
    "duration": 17170,
    "start_time": "2023-05-24T20:23:20.208Z"
   },
   {
    "duration": 1881,
    "start_time": "2023-05-24T20:23:37.379Z"
   },
   {
    "duration": 109,
    "start_time": "2023-05-24T20:23:39.331Z"
   },
   {
    "duration": 199,
    "start_time": "2023-05-24T20:23:39.441Z"
   },
   {
    "duration": 8025,
    "start_time": "2023-05-24T20:23:39.645Z"
   },
   {
    "duration": 1857,
    "start_time": "2023-05-24T20:23:47.672Z"
   },
   {
    "duration": 362,
    "start_time": "2023-05-24T20:23:49.532Z"
   },
   {
    "duration": 65,
    "start_time": "2023-05-24T20:23:49.897Z"
   },
   {
    "duration": 3,
    "start_time": "2023-05-24T20:23:49.965Z"
   },
   {
    "duration": 2687,
    "start_time": "2023-05-24T22:26:22.140Z"
   },
   {
    "duration": 81,
    "start_time": "2023-05-24T22:26:24.829Z"
   },
   {
    "duration": 21,
    "start_time": "2023-05-24T22:26:24.911Z"
   },
   {
    "duration": 67,
    "start_time": "2023-05-24T22:26:24.934Z"
   },
   {
    "duration": 2935,
    "start_time": "2023-05-24T22:26:25.003Z"
   },
   {
    "duration": 69,
    "start_time": "2023-05-24T22:26:27.939Z"
   },
   {
    "duration": 1454,
    "start_time": "2023-05-24T22:26:28.010Z"
   },
   {
    "duration": 8,
    "start_time": "2023-05-24T22:26:29.495Z"
   },
   {
    "duration": 6,
    "start_time": "2023-05-24T22:26:29.504Z"
   },
   {
    "duration": 13,
    "start_time": "2023-05-24T22:26:29.513Z"
   },
   {
    "duration": 68,
    "start_time": "2023-05-24T22:26:29.528Z"
   },
   {
    "duration": 6,
    "start_time": "2023-05-24T22:26:29.597Z"
   },
   {
    "duration": 16,
    "start_time": "2023-05-24T22:26:29.604Z"
   },
   {
    "duration": 14,
    "start_time": "2023-05-24T22:26:29.622Z"
   },
   {
    "duration": 266,
    "start_time": "2023-05-24T22:26:29.637Z"
   },
   {
    "duration": 5,
    "start_time": "2023-05-24T22:26:29.905Z"
   },
   {
    "duration": 10,
    "start_time": "2023-05-24T22:26:29.911Z"
   },
   {
    "duration": 616,
    "start_time": "2023-05-24T22:26:29.924Z"
   },
   {
    "duration": 22684,
    "start_time": "2023-05-24T22:26:30.542Z"
   },
   {
    "duration": 1168,
    "start_time": "2023-05-24T22:26:53.228Z"
   },
   {
    "duration": 731,
    "start_time": "2023-05-24T22:26:54.399Z"
   },
   {
    "duration": 22075,
    "start_time": "2023-05-24T22:26:55.132Z"
   },
   {
    "duration": 1193,
    "start_time": "2023-05-24T22:27:17.208Z"
   },
   {
    "duration": 97,
    "start_time": "2023-05-24T22:27:18.403Z"
   },
   {
    "duration": 700,
    "start_time": "2023-05-24T22:27:18.502Z"
   },
   {
    "duration": 28913,
    "start_time": "2023-05-24T22:27:19.203Z"
   },
   {
    "duration": 1584,
    "start_time": "2023-05-24T22:27:48.117Z"
   },
   {
    "duration": 98,
    "start_time": "2023-05-24T22:27:49.704Z"
   },
   {
    "duration": 395,
    "start_time": "2023-05-24T22:27:49.804Z"
   },
   {
    "duration": 14025,
    "start_time": "2023-05-24T22:27:50.200Z"
   },
   {
    "duration": 968,
    "start_time": "2023-05-24T22:28:04.227Z"
   },
   {
    "duration": 521,
    "start_time": "2023-05-24T22:28:05.198Z"
   },
   {
    "duration": 80,
    "start_time": "2023-05-24T22:28:05.720Z"
   },
   {
    "duration": 2,
    "start_time": "2023-05-24T22:28:05.802Z"
   },
   {
    "duration": 62,
    "start_time": "2023-05-26T18:48:44.730Z"
   },
   {
    "duration": 1523,
    "start_time": "2023-05-26T18:48:58.992Z"
   },
   {
    "duration": 164,
    "start_time": "2023-05-26T18:49:00.517Z"
   },
   {
    "duration": 22,
    "start_time": "2023-05-26T18:49:00.683Z"
   },
   {
    "duration": 18,
    "start_time": "2023-05-26T18:49:00.708Z"
   },
   {
    "duration": 1679,
    "start_time": "2023-05-26T18:49:00.727Z"
   },
   {
    "duration": 18,
    "start_time": "2023-05-26T18:49:02.408Z"
   },
   {
    "duration": 901,
    "start_time": "2023-05-26T18:49:02.427Z"
   },
   {
    "duration": 8,
    "start_time": "2023-05-26T18:49:03.329Z"
   },
   {
    "duration": 6,
    "start_time": "2023-05-26T18:49:03.338Z"
   },
   {
    "duration": 11,
    "start_time": "2023-05-26T18:49:03.347Z"
   },
   {
    "duration": 6,
    "start_time": "2023-05-26T18:49:03.359Z"
   },
   {
    "duration": 10,
    "start_time": "2023-05-26T18:49:03.366Z"
   },
   {
    "duration": 7,
    "start_time": "2023-05-26T18:49:03.377Z"
   },
   {
    "duration": 24,
    "start_time": "2023-05-26T18:49:03.385Z"
   },
   {
    "duration": 142,
    "start_time": "2023-05-26T18:49:03.410Z"
   },
   {
    "duration": 5,
    "start_time": "2023-05-26T18:49:03.553Z"
   },
   {
    "duration": 10,
    "start_time": "2023-05-26T18:49:03.560Z"
   },
   {
    "duration": 315,
    "start_time": "2023-05-26T18:49:03.572Z"
   },
   {
    "duration": 11388,
    "start_time": "2023-05-26T18:49:03.889Z"
   },
   {
    "duration": 685,
    "start_time": "2023-05-26T18:49:15.279Z"
   },
   {
    "duration": 505,
    "start_time": "2023-05-26T18:49:15.967Z"
   },
   {
    "duration": 11576,
    "start_time": "2023-05-26T18:49:16.474Z"
   },
   {
    "duration": 923,
    "start_time": "2023-05-26T18:49:28.052Z"
   },
   {
    "duration": 101,
    "start_time": "2023-05-26T18:49:29.049Z"
   },
   {
    "duration": 390,
    "start_time": "2023-05-26T18:49:29.152Z"
   },
   {
    "duration": 15179,
    "start_time": "2023-05-26T18:49:29.544Z"
   },
   {
    "duration": 1427,
    "start_time": "2023-05-26T18:49:44.724Z"
   },
   {
    "duration": 99,
    "start_time": "2023-05-26T18:49:46.156Z"
   },
   {
    "duration": 171,
    "start_time": "2023-05-26T18:49:46.257Z"
   },
   {
    "duration": 7190,
    "start_time": "2023-05-26T18:49:46.430Z"
   },
   {
    "duration": 937,
    "start_time": "2023-05-26T18:49:53.622Z"
   },
   {
    "duration": 429,
    "start_time": "2023-05-26T18:49:54.561Z"
   },
   {
    "duration": 25,
    "start_time": "2023-05-26T18:49:54.992Z"
   },
   {
    "duration": 3,
    "start_time": "2023-05-26T18:49:55.018Z"
   },
   {
    "duration": 4,
    "start_time": "2023-05-26T19:27:02.684Z"
   },
   {
    "duration": 61,
    "start_time": "2023-05-26T19:28:14.739Z"
   },
   {
    "duration": 48,
    "start_time": "2023-05-26T19:45:15.080Z"
   },
   {
    "duration": 107,
    "start_time": "2023-05-26T19:45:23.631Z"
   },
   {
    "duration": 12,
    "start_time": "2023-05-26T19:45:33.795Z"
   },
   {
    "duration": 6779,
    "start_time": "2023-05-26T19:46:54.796Z"
   },
   {
    "duration": 18,
    "start_time": "2023-05-26T19:47:27.585Z"
   },
   {
    "duration": 17,
    "start_time": "2023-05-26T20:00:06.809Z"
   },
   {
    "duration": 13,
    "start_time": "2023-05-26T20:00:37.490Z"
   },
   {
    "duration": 2032,
    "start_time": "2023-05-26T20:00:59.947Z"
   },
   {
    "duration": 1161,
    "start_time": "2023-05-26T20:01:01.981Z"
   },
   {
    "duration": 39,
    "start_time": "2023-05-26T20:01:03.144Z"
   },
   {
    "duration": 21,
    "start_time": "2023-05-26T20:01:03.185Z"
   },
   {
    "duration": 12,
    "start_time": "2023-05-26T20:01:03.207Z"
   },
   {
    "duration": 1674,
    "start_time": "2023-05-26T20:01:03.221Z"
   },
   {
    "duration": 17,
    "start_time": "2023-05-26T20:01:04.897Z"
   },
   {
    "duration": 873,
    "start_time": "2023-05-26T20:01:04.915Z"
   },
   {
    "duration": 8,
    "start_time": "2023-05-26T20:01:05.789Z"
   },
   {
    "duration": 7,
    "start_time": "2023-05-26T20:01:05.799Z"
   },
   {
    "duration": 30,
    "start_time": "2023-05-26T20:01:05.808Z"
   },
   {
    "duration": 14,
    "start_time": "2023-05-26T20:01:05.839Z"
   },
   {
    "duration": 14,
    "start_time": "2023-05-26T20:01:05.855Z"
   },
   {
    "duration": 5,
    "start_time": "2023-05-26T20:01:05.871Z"
   },
   {
    "duration": 15,
    "start_time": "2023-05-26T20:01:05.878Z"
   },
   {
    "duration": 25,
    "start_time": "2023-05-26T20:01:05.894Z"
   },
   {
    "duration": 150,
    "start_time": "2023-05-26T20:01:05.920Z"
   },
   {
    "duration": 0,
    "start_time": "2023-05-26T20:01:06.072Z"
   },
   {
    "duration": 0,
    "start_time": "2023-05-26T20:01:06.073Z"
   },
   {
    "duration": 0,
    "start_time": "2023-05-26T20:01:06.074Z"
   },
   {
    "duration": 0,
    "start_time": "2023-05-26T20:01:06.075Z"
   },
   {
    "duration": 0,
    "start_time": "2023-05-26T20:01:06.076Z"
   },
   {
    "duration": 1,
    "start_time": "2023-05-26T20:01:06.076Z"
   },
   {
    "duration": 0,
    "start_time": "2023-05-26T20:01:06.077Z"
   },
   {
    "duration": 0,
    "start_time": "2023-05-26T20:01:06.078Z"
   },
   {
    "duration": 0,
    "start_time": "2023-05-26T20:01:06.079Z"
   },
   {
    "duration": 0,
    "start_time": "2023-05-26T20:01:06.080Z"
   },
   {
    "duration": 0,
    "start_time": "2023-05-26T20:01:06.081Z"
   },
   {
    "duration": 0,
    "start_time": "2023-05-26T20:01:06.082Z"
   },
   {
    "duration": 0,
    "start_time": "2023-05-26T20:01:06.083Z"
   },
   {
    "duration": 0,
    "start_time": "2023-05-26T20:01:06.084Z"
   },
   {
    "duration": 0,
    "start_time": "2023-05-26T20:01:06.085Z"
   },
   {
    "duration": 0,
    "start_time": "2023-05-26T20:01:06.086Z"
   },
   {
    "duration": 0,
    "start_time": "2023-05-26T20:01:06.087Z"
   },
   {
    "duration": 0,
    "start_time": "2023-05-26T20:01:06.088Z"
   },
   {
    "duration": 0,
    "start_time": "2023-05-26T20:01:06.089Z"
   },
   {
    "duration": 22,
    "start_time": "2023-05-26T20:03:31.318Z"
   },
   {
    "duration": 5468,
    "start_time": "2023-05-26T20:04:47.346Z"
   },
   {
    "duration": 32,
    "start_time": "2023-05-26T20:05:15.594Z"
   },
   {
    "duration": 50,
    "start_time": "2023-05-27T16:52:52.512Z"
   },
   {
    "duration": 5982,
    "start_time": "2023-05-27T16:53:01.054Z"
   },
   {
    "duration": 1418,
    "start_time": "2023-05-27T16:53:07.038Z"
   },
   {
    "duration": 166,
    "start_time": "2023-05-27T16:53:08.458Z"
   },
   {
    "duration": 21,
    "start_time": "2023-05-27T16:53:08.626Z"
   },
   {
    "duration": 12,
    "start_time": "2023-05-27T16:53:08.649Z"
   },
   {
    "duration": 1583,
    "start_time": "2023-05-27T16:53:08.663Z"
   },
   {
    "duration": 18,
    "start_time": "2023-05-27T16:53:10.248Z"
   },
   {
    "duration": 881,
    "start_time": "2023-05-27T16:53:10.267Z"
   },
   {
    "duration": 8,
    "start_time": "2023-05-27T16:53:11.149Z"
   },
   {
    "duration": 6,
    "start_time": "2023-05-27T16:53:11.159Z"
   },
   {
    "duration": 11,
    "start_time": "2023-05-27T16:53:11.166Z"
   },
   {
    "duration": 6,
    "start_time": "2023-05-27T16:53:11.178Z"
   },
   {
    "duration": 5,
    "start_time": "2023-05-27T16:53:11.186Z"
   },
   {
    "duration": 11,
    "start_time": "2023-05-27T16:53:11.193Z"
   },
   {
    "duration": 45,
    "start_time": "2023-05-27T16:53:11.206Z"
   },
   {
    "duration": 10,
    "start_time": "2023-05-27T16:53:11.253Z"
   },
   {
    "duration": 22,
    "start_time": "2023-05-27T16:53:11.265Z"
   },
   {
    "duration": 3,
    "start_time": "2023-05-27T16:53:11.289Z"
   },
   {
    "duration": 138,
    "start_time": "2023-05-27T16:53:11.294Z"
   },
   {
    "duration": 137,
    "start_time": "2023-05-27T16:53:11.434Z"
   },
   {
    "duration": 0,
    "start_time": "2023-05-27T16:53:11.573Z"
   },
   {
    "duration": 0,
    "start_time": "2023-05-27T16:53:11.575Z"
   },
   {
    "duration": 0,
    "start_time": "2023-05-27T16:53:11.576Z"
   },
   {
    "duration": 0,
    "start_time": "2023-05-27T16:53:11.577Z"
   },
   {
    "duration": 0,
    "start_time": "2023-05-27T16:53:11.578Z"
   },
   {
    "duration": 0,
    "start_time": "2023-05-27T16:53:11.579Z"
   },
   {
    "duration": 0,
    "start_time": "2023-05-27T16:53:11.580Z"
   },
   {
    "duration": 0,
    "start_time": "2023-05-27T16:53:11.582Z"
   },
   {
    "duration": 0,
    "start_time": "2023-05-27T16:53:11.583Z"
   },
   {
    "duration": 0,
    "start_time": "2023-05-27T16:53:11.584Z"
   },
   {
    "duration": 0,
    "start_time": "2023-05-27T16:53:11.585Z"
   },
   {
    "duration": 0,
    "start_time": "2023-05-27T16:53:11.586Z"
   },
   {
    "duration": 0,
    "start_time": "2023-05-27T16:53:11.587Z"
   },
   {
    "duration": 0,
    "start_time": "2023-05-27T16:53:11.588Z"
   },
   {
    "duration": 0,
    "start_time": "2023-05-27T16:53:11.589Z"
   },
   {
    "duration": 0,
    "start_time": "2023-05-27T16:53:11.590Z"
   },
   {
    "duration": 5816,
    "start_time": "2023-05-27T16:54:31.722Z"
   },
   {
    "duration": 27,
    "start_time": "2023-05-27T16:54:44.182Z"
   },
   {
    "duration": 1920,
    "start_time": "2023-05-27T16:54:57.798Z"
   },
   {
    "duration": 1242,
    "start_time": "2023-05-27T16:54:59.721Z"
   },
   {
    "duration": 40,
    "start_time": "2023-05-27T16:55:00.965Z"
   },
   {
    "duration": 49,
    "start_time": "2023-05-27T16:55:01.007Z"
   },
   {
    "duration": 38,
    "start_time": "2023-05-27T16:55:01.058Z"
   },
   {
    "duration": 1700,
    "start_time": "2023-05-27T16:55:01.098Z"
   },
   {
    "duration": 19,
    "start_time": "2023-05-27T16:55:02.800Z"
   },
   {
    "duration": 887,
    "start_time": "2023-05-27T16:55:02.821Z"
   },
   {
    "duration": 7,
    "start_time": "2023-05-27T16:55:03.710Z"
   },
   {
    "duration": 8,
    "start_time": "2023-05-27T16:55:03.719Z"
   },
   {
    "duration": 14,
    "start_time": "2023-05-27T16:55:03.728Z"
   },
   {
    "duration": 7,
    "start_time": "2023-05-27T16:55:03.744Z"
   },
   {
    "duration": 5,
    "start_time": "2023-05-27T16:55:03.753Z"
   },
   {
    "duration": 6,
    "start_time": "2023-05-27T16:55:03.761Z"
   },
   {
    "duration": 11,
    "start_time": "2023-05-27T16:55:03.768Z"
   },
   {
    "duration": 11,
    "start_time": "2023-05-27T16:55:03.781Z"
   },
   {
    "duration": 20,
    "start_time": "2023-05-27T16:55:03.793Z"
   },
   {
    "duration": 3,
    "start_time": "2023-05-27T16:55:03.814Z"
   },
   {
    "duration": 145,
    "start_time": "2023-05-27T16:55:03.818Z"
   },
   {
    "duration": 160,
    "start_time": "2023-05-27T16:55:03.965Z"
   },
   {
    "duration": 0,
    "start_time": "2023-05-27T16:55:04.127Z"
   },
   {
    "duration": 0,
    "start_time": "2023-05-27T16:55:04.129Z"
   },
   {
    "duration": 0,
    "start_time": "2023-05-27T16:55:04.131Z"
   },
   {
    "duration": 0,
    "start_time": "2023-05-27T16:55:04.132Z"
   },
   {
    "duration": 0,
    "start_time": "2023-05-27T16:55:04.150Z"
   },
   {
    "duration": 0,
    "start_time": "2023-05-27T16:55:04.152Z"
   },
   {
    "duration": 0,
    "start_time": "2023-05-27T16:55:04.154Z"
   },
   {
    "duration": 0,
    "start_time": "2023-05-27T16:55:04.155Z"
   },
   {
    "duration": 0,
    "start_time": "2023-05-27T16:55:04.157Z"
   },
   {
    "duration": 0,
    "start_time": "2023-05-27T16:55:04.159Z"
   },
   {
    "duration": 0,
    "start_time": "2023-05-27T16:55:04.160Z"
   },
   {
    "duration": 0,
    "start_time": "2023-05-27T16:55:04.161Z"
   },
   {
    "duration": 0,
    "start_time": "2023-05-27T16:55:04.163Z"
   },
   {
    "duration": 0,
    "start_time": "2023-05-27T16:55:04.165Z"
   },
   {
    "duration": 0,
    "start_time": "2023-05-27T16:55:04.167Z"
   },
   {
    "duration": 0,
    "start_time": "2023-05-27T16:55:04.168Z"
   },
   {
    "duration": 10,
    "start_time": "2023-05-27T16:56:01.583Z"
   },
   {
    "duration": 19,
    "start_time": "2023-05-27T16:56:10.590Z"
   },
   {
    "duration": 12,
    "start_time": "2023-05-27T19:07:08.772Z"
   },
   {
    "duration": 1993,
    "start_time": "2023-05-27T19:10:13.455Z"
   },
   {
    "duration": 1192,
    "start_time": "2023-05-27T19:10:15.451Z"
   },
   {
    "duration": 38,
    "start_time": "2023-05-27T19:10:16.645Z"
   },
   {
    "duration": 21,
    "start_time": "2023-05-27T19:10:16.686Z"
   },
   {
    "duration": 13,
    "start_time": "2023-05-27T19:10:16.708Z"
   },
   {
    "duration": 1567,
    "start_time": "2023-05-27T19:10:16.723Z"
   },
   {
    "duration": 20,
    "start_time": "2023-05-27T19:10:18.292Z"
   },
   {
    "duration": 851,
    "start_time": "2023-05-27T19:10:18.313Z"
   },
   {
    "duration": 8,
    "start_time": "2023-05-27T19:10:19.166Z"
   },
   {
    "duration": 13,
    "start_time": "2023-05-27T19:10:19.176Z"
   },
   {
    "duration": 14,
    "start_time": "2023-05-27T19:10:19.191Z"
   },
   {
    "duration": 6,
    "start_time": "2023-05-27T19:10:19.206Z"
   },
   {
    "duration": 5,
    "start_time": "2023-05-27T19:10:19.214Z"
   },
   {
    "duration": 5,
    "start_time": "2023-05-27T19:10:19.221Z"
   },
   {
    "duration": 5,
    "start_time": "2023-05-27T19:10:19.250Z"
   },
   {
    "duration": 9,
    "start_time": "2023-05-27T19:10:19.257Z"
   },
   {
    "duration": 26,
    "start_time": "2023-05-27T19:10:19.268Z"
   },
   {
    "duration": 13,
    "start_time": "2023-05-27T19:10:19.295Z"
   },
   {
    "duration": 159,
    "start_time": "2023-05-27T19:10:19.309Z"
   },
   {
    "duration": 309,
    "start_time": "2023-05-27T19:10:19.470Z"
   },
   {
    "duration": 11220,
    "start_time": "2023-05-27T19:10:19.781Z"
   },
   {
    "duration": 761,
    "start_time": "2023-05-27T19:10:31.003Z"
   },
   {
    "duration": 484,
    "start_time": "2023-05-27T19:10:31.766Z"
   },
   {
    "duration": 11235,
    "start_time": "2023-05-27T19:10:32.252Z"
   },
   {
    "duration": 791,
    "start_time": "2023-05-27T19:10:43.488Z"
   },
   {
    "duration": 105,
    "start_time": "2023-05-27T19:10:44.349Z"
   },
   {
    "duration": 388,
    "start_time": "2023-05-27T19:10:44.457Z"
   },
   {
    "duration": 14804,
    "start_time": "2023-05-27T19:10:44.852Z"
   },
   {
    "duration": 1093,
    "start_time": "2023-05-27T19:10:59.658Z"
   },
   {
    "duration": 102,
    "start_time": "2023-05-27T19:11:00.753Z"
   },
   {
    "duration": 179,
    "start_time": "2023-05-27T19:11:00.857Z"
   },
   {
    "duration": 7262,
    "start_time": "2023-05-27T19:11:01.038Z"
   },
   {
    "duration": 649,
    "start_time": "2023-05-27T19:11:08.302Z"
   },
   {
    "duration": 337,
    "start_time": "2023-05-27T19:11:08.953Z"
   },
   {
    "duration": 26,
    "start_time": "2023-05-27T19:11:09.291Z"
   },
   {
    "duration": 3,
    "start_time": "2023-05-27T19:11:09.319Z"
   },
   {
    "duration": 4865,
    "start_time": "2023-05-27T19:25:45.622Z"
   },
   {
    "duration": 39,
    "start_time": "2023-05-27T19:26:38.069Z"
   },
   {
    "duration": 141,
    "start_time": "2023-05-27T19:30:22.486Z"
   },
   {
    "duration": 23,
    "start_time": "2023-05-27T19:30:30.591Z"
   },
   {
    "duration": 19,
    "start_time": "2023-05-27T19:32:27.607Z"
   },
   {
    "duration": 445,
    "start_time": "2023-05-27T19:57:36.016Z"
   },
   {
    "duration": 16155,
    "start_time": "2023-05-27T19:57:40.445Z"
   },
   {
    "duration": 951,
    "start_time": "2023-05-27T19:58:07.701Z"
   },
   {
    "duration": 4,
    "start_time": "2023-05-27T20:01:23.652Z"
   },
   {
    "duration": 18,
    "start_time": "2023-05-27T20:02:30.412Z"
   },
   {
    "duration": 12,
    "start_time": "2023-05-27T20:04:45.021Z"
   },
   {
    "duration": 13,
    "start_time": "2023-05-27T20:05:46.006Z"
   },
   {
    "duration": 173,
    "start_time": "2023-05-27T20:06:08.385Z"
   },
   {
    "duration": 7182,
    "start_time": "2023-05-27T20:06:12.343Z"
   },
   {
    "duration": 652,
    "start_time": "2023-05-27T20:06:27.716Z"
   },
   {
    "duration": 12,
    "start_time": "2023-05-27T20:07:54.025Z"
   },
   {
    "duration": 157,
    "start_time": "2023-05-27T20:07:57.110Z"
   },
   {
    "duration": 7319,
    "start_time": "2023-05-27T20:07:59.327Z"
   },
   {
    "duration": 136,
    "start_time": "2023-05-27T20:17:53.492Z"
   },
   {
    "duration": 18,
    "start_time": "2023-05-27T20:18:00.188Z"
   },
   {
    "duration": 4,
    "start_time": "2023-05-27T20:22:54.647Z"
   },
   {
    "duration": 6,
    "start_time": "2023-05-27T20:24:43.203Z"
   },
   {
    "duration": 3817,
    "start_time": "2023-05-27T20:33:35.625Z"
   },
   {
    "duration": 1218,
    "start_time": "2023-05-27T20:33:39.444Z"
   },
   {
    "duration": 41,
    "start_time": "2023-05-27T20:33:40.664Z"
   },
   {
    "duration": 23,
    "start_time": "2023-05-27T20:33:40.707Z"
   },
   {
    "duration": 15,
    "start_time": "2023-05-27T20:33:40.731Z"
   },
   {
    "duration": 1541,
    "start_time": "2023-05-27T20:33:40.748Z"
   },
   {
    "duration": 17,
    "start_time": "2023-05-27T20:33:42.290Z"
   },
   {
    "duration": 850,
    "start_time": "2023-05-27T20:33:42.309Z"
   },
   {
    "duration": 7,
    "start_time": "2023-05-27T20:33:43.161Z"
   },
   {
    "duration": 5,
    "start_time": "2023-05-27T20:33:43.171Z"
   },
   {
    "duration": 9,
    "start_time": "2023-05-27T20:33:43.178Z"
   },
   {
    "duration": 5,
    "start_time": "2023-05-27T20:33:43.188Z"
   },
   {
    "duration": 5,
    "start_time": "2023-05-27T20:33:43.194Z"
   },
   {
    "duration": 5,
    "start_time": "2023-05-27T20:33:43.200Z"
   },
   {
    "duration": 8,
    "start_time": "2023-05-27T20:33:43.206Z"
   },
   {
    "duration": 34,
    "start_time": "2023-05-27T20:33:43.216Z"
   },
   {
    "duration": 25,
    "start_time": "2023-05-27T20:33:43.252Z"
   },
   {
    "duration": 11,
    "start_time": "2023-05-27T20:33:43.279Z"
   },
   {
    "duration": 127,
    "start_time": "2023-05-27T20:33:43.292Z"
   },
   {
    "duration": 297,
    "start_time": "2023-05-27T20:33:43.421Z"
   },
   {
    "duration": 11067,
    "start_time": "2023-05-27T20:33:43.720Z"
   },
   {
    "duration": 1286,
    "start_time": "2023-05-27T20:33:54.789Z"
   },
   {
    "duration": 470,
    "start_time": "2023-05-27T20:33:56.077Z"
   },
   {
    "duration": 11462,
    "start_time": "2023-05-27T20:33:56.551Z"
   },
   {
    "duration": 1240,
    "start_time": "2023-05-27T20:34:08.015Z"
   },
   {
    "duration": 197,
    "start_time": "2023-05-27T20:34:09.257Z"
   },
   {
    "duration": 533,
    "start_time": "2023-05-27T20:34:09.455Z"
   },
   {
    "duration": 16435,
    "start_time": "2023-05-27T20:34:09.991Z"
   },
   {
    "duration": 950,
    "start_time": "2023-05-27T20:34:26.428Z"
   },
   {
    "duration": 172,
    "start_time": "2023-05-27T20:34:27.379Z"
   },
   {
    "duration": 168,
    "start_time": "2023-05-27T20:34:27.553Z"
   },
   {
    "duration": 7149,
    "start_time": "2023-05-27T20:34:27.722Z"
   },
   {
    "duration": 686,
    "start_time": "2023-05-27T20:34:34.873Z"
   },
   {
    "duration": 235,
    "start_time": "2023-05-27T20:34:35.651Z"
   },
   {
    "duration": 19,
    "start_time": "2023-05-27T20:34:35.887Z"
   },
   {
    "duration": 6,
    "start_time": "2023-05-27T20:34:35.907Z"
   },
   {
    "duration": 14,
    "start_time": "2023-05-27T20:34:35.914Z"
   },
   {
    "duration": 3818,
    "start_time": "2023-05-27T20:38:15.897Z"
   },
   {
    "duration": 1253,
    "start_time": "2023-05-27T20:38:19.718Z"
   },
   {
    "duration": 39,
    "start_time": "2023-05-27T20:38:20.973Z"
   },
   {
    "duration": 21,
    "start_time": "2023-05-27T20:38:21.014Z"
   },
   {
    "duration": 15,
    "start_time": "2023-05-27T20:38:21.036Z"
   },
   {
    "duration": 1561,
    "start_time": "2023-05-27T20:38:21.052Z"
   },
   {
    "duration": 19,
    "start_time": "2023-05-27T20:38:22.615Z"
   },
   {
    "duration": 836,
    "start_time": "2023-05-27T20:38:22.636Z"
   },
   {
    "duration": 8,
    "start_time": "2023-05-27T20:38:23.473Z"
   },
   {
    "duration": 8,
    "start_time": "2023-05-27T20:38:23.483Z"
   },
   {
    "duration": 11,
    "start_time": "2023-05-27T20:38:23.492Z"
   },
   {
    "duration": 6,
    "start_time": "2023-05-27T20:38:23.504Z"
   },
   {
    "duration": 6,
    "start_time": "2023-05-27T20:38:23.512Z"
   },
   {
    "duration": 15,
    "start_time": "2023-05-27T20:38:23.520Z"
   },
   {
    "duration": 15,
    "start_time": "2023-05-27T20:38:23.536Z"
   },
   {
    "duration": 9,
    "start_time": "2023-05-27T20:38:23.552Z"
   },
   {
    "duration": 50,
    "start_time": "2023-05-27T20:38:23.563Z"
   },
   {
    "duration": 12,
    "start_time": "2023-05-27T20:38:23.615Z"
   },
   {
    "duration": 123,
    "start_time": "2023-05-27T20:38:23.629Z"
   },
   {
    "duration": 323,
    "start_time": "2023-05-27T20:38:23.754Z"
   },
   {
    "duration": 11054,
    "start_time": "2023-05-27T20:38:24.079Z"
   },
   {
    "duration": 1018,
    "start_time": "2023-05-27T20:38:35.134Z"
   },
   {
    "duration": 420,
    "start_time": "2023-05-27T20:38:36.153Z"
   },
   {
    "duration": 11048,
    "start_time": "2023-05-27T20:38:36.576Z"
   },
   {
    "duration": 743,
    "start_time": "2023-05-27T20:38:47.627Z"
   },
   {
    "duration": 108,
    "start_time": "2023-05-27T20:38:48.451Z"
   },
   {
    "duration": 462,
    "start_time": "2023-05-27T20:38:48.561Z"
   },
   {
    "duration": 16685,
    "start_time": "2023-05-27T20:38:49.027Z"
   },
   {
    "duration": 965,
    "start_time": "2023-05-27T20:39:05.714Z"
   },
   {
    "duration": 102,
    "start_time": "2023-05-27T20:39:06.749Z"
   },
   {
    "duration": 169,
    "start_time": "2023-05-27T20:39:06.853Z"
   },
   {
    "duration": 7093,
    "start_time": "2023-05-27T20:39:07.024Z"
   },
   {
    "duration": 530,
    "start_time": "2023-05-27T20:39:14.119Z"
   },
   {
    "duration": 226,
    "start_time": "2023-05-27T20:39:14.652Z"
   },
   {
    "duration": 18,
    "start_time": "2023-05-27T20:39:14.880Z"
   },
   {
    "duration": 6,
    "start_time": "2023-05-27T20:39:14.899Z"
   },
   {
    "duration": 4,
    "start_time": "2023-05-27T20:39:14.906Z"
   }
  ],
  "kernelspec": {
   "display_name": "Python 3 (ipykernel)",
   "language": "python",
   "name": "python3"
  },
  "language_info": {
   "codemirror_mode": {
    "name": "ipython",
    "version": 3
   },
   "file_extension": ".py",
   "mimetype": "text/x-python",
   "name": "python",
   "nbconvert_exporter": "python",
   "pygments_lexer": "ipython3",
   "version": "3.9.13"
  },
  "toc": {
   "base_numbering": 1,
   "nav_menu": {},
   "number_sections": true,
   "sideBar": true,
   "skip_h1_title": true,
   "title_cell": "Содержание",
   "title_sidebar": "Contents",
   "toc_cell": true,
   "toc_position": {
    "height": "calc(100% - 180px)",
    "left": "10px",
    "top": "150px",
    "width": "165px"
   },
   "toc_section_display": true,
   "toc_window_display": false
  }
 },
 "nbformat": 4,
 "nbformat_minor": 2
}
