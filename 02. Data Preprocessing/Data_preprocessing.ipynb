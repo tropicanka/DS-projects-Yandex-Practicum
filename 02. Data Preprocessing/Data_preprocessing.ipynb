{
 "cells": [
  {
   "cell_type": "markdown",
   "id": "a6a8dc70",
   "metadata": {
    "deletable": false,
    "editable": false,
    "id": "c81daeeb"
   },
   "source": [
    "# Исследование надежности заемщиков\n"
   ]
  },
  {
   "cell_type": "markdown",
   "id": "95e83962",
   "metadata": {
    "deletable": false,
    "editable": false,
    "id": "827c20bf"
   },
   "source": [
    "Во второй части проекта вы выполните шаги 3 и 4. Их вручную проверит ревьюер.\n",
    "Чтобы вам не пришлось писать код заново для шагов 1 и 2, мы добавили авторские решения в ячейки с кодом. \n",
    "\n"
   ]
  },
  {
   "cell_type": "markdown",
   "id": "333835a9",
   "metadata": {},
   "source": [
    "## Цель проекта"
   ]
  },
  {
   "cell_type": "markdown",
   "id": "b4884b1b",
   "metadata": {},
   "source": [
    "<div style=\"border:solid green 2px; padding: 20px\">\n",
    "Требуется исследовать, какие условия влияют на способность потенциального заёмщика вернуть кредит банку. Результаты этого исследования будут учтены при построении модели кредитного скоринга.\n",
    "</div>"
   ]
  },
  {
   "cell_type": "markdown",
   "id": "ce687a86",
   "metadata": {
    "deletable": false,
    "editable": false,
    "id": "744d7639"
   },
   "source": [
    "## Откройте таблицу и изучите общую информацию о данных"
   ]
  },
  {
   "cell_type": "markdown",
   "id": "845634bb",
   "metadata": {
    "deletable": false,
    "editable": false,
    "id": "e7a14c31"
   },
   "source": [
    "**Задание 1. Импортируйте библиотеку pandas. Считайте данные из csv-файла в датафрейм и сохраните в переменную `data`. Путь к файлу:**\n",
    "\n",
    "`/datasets/data.csv`"
   ]
  },
  {
   "cell_type": "code",
   "execution_count": 1,
   "id": "d28ea014",
   "metadata": {
    "deletable": false,
    "id": "7bcf75c9"
   },
   "outputs": [],
   "source": [
    "import pandas as pd\n",
    "\n",
    "data = pd.read_csv('/datasets/data.csv')"
   ]
  },
  {
   "cell_type": "markdown",
   "id": "40f86a19",
   "metadata": {
    "deletable": false,
    "editable": false,
    "id": "b8038fe3"
   },
   "source": [
    "**Задание 2. Выведите первые 20 строчек датафрейма `data` на экран.**"
   ]
  },
  {
   "cell_type": "code",
   "execution_count": 2,
   "id": "8419e2a6",
   "metadata": {
    "deletable": false,
    "id": "2a7cab99",
    "outputId": "1a8f3ef2-d323-4ec2-ddf7-89670b5944c4"
   },
   "outputs": [
    {
     "data": {
      "text/html": [
       "<div>\n",
       "<style scoped>\n",
       "    .dataframe tbody tr th:only-of-type {\n",
       "        vertical-align: middle;\n",
       "    }\n",
       "\n",
       "    .dataframe tbody tr th {\n",
       "        vertical-align: top;\n",
       "    }\n",
       "\n",
       "    .dataframe thead th {\n",
       "        text-align: right;\n",
       "    }\n",
       "</style>\n",
       "<table border=\"1\" class=\"dataframe\">\n",
       "  <thead>\n",
       "    <tr style=\"text-align: right;\">\n",
       "      <th></th>\n",
       "      <th>children</th>\n",
       "      <th>days_employed</th>\n",
       "      <th>dob_years</th>\n",
       "      <th>education</th>\n",
       "      <th>education_id</th>\n",
       "      <th>family_status</th>\n",
       "      <th>family_status_id</th>\n",
       "      <th>gender</th>\n",
       "      <th>income_type</th>\n",
       "      <th>debt</th>\n",
       "      <th>total_income</th>\n",
       "      <th>purpose</th>\n",
       "    </tr>\n",
       "  </thead>\n",
       "  <tbody>\n",
       "    <tr>\n",
       "      <th>0</th>\n",
       "      <td>1</td>\n",
       "      <td>-8437.673028</td>\n",
       "      <td>42</td>\n",
       "      <td>высшее</td>\n",
       "      <td>0</td>\n",
       "      <td>женат / замужем</td>\n",
       "      <td>0</td>\n",
       "      <td>F</td>\n",
       "      <td>сотрудник</td>\n",
       "      <td>0</td>\n",
       "      <td>253875.639453</td>\n",
       "      <td>покупка жилья</td>\n",
       "    </tr>\n",
       "    <tr>\n",
       "      <th>1</th>\n",
       "      <td>1</td>\n",
       "      <td>-4024.803754</td>\n",
       "      <td>36</td>\n",
       "      <td>среднее</td>\n",
       "      <td>1</td>\n",
       "      <td>женат / замужем</td>\n",
       "      <td>0</td>\n",
       "      <td>F</td>\n",
       "      <td>сотрудник</td>\n",
       "      <td>0</td>\n",
       "      <td>112080.014102</td>\n",
       "      <td>приобретение автомобиля</td>\n",
       "    </tr>\n",
       "    <tr>\n",
       "      <th>2</th>\n",
       "      <td>0</td>\n",
       "      <td>-5623.422610</td>\n",
       "      <td>33</td>\n",
       "      <td>Среднее</td>\n",
       "      <td>1</td>\n",
       "      <td>женат / замужем</td>\n",
       "      <td>0</td>\n",
       "      <td>M</td>\n",
       "      <td>сотрудник</td>\n",
       "      <td>0</td>\n",
       "      <td>145885.952297</td>\n",
       "      <td>покупка жилья</td>\n",
       "    </tr>\n",
       "    <tr>\n",
       "      <th>3</th>\n",
       "      <td>3</td>\n",
       "      <td>-4124.747207</td>\n",
       "      <td>32</td>\n",
       "      <td>среднее</td>\n",
       "      <td>1</td>\n",
       "      <td>женат / замужем</td>\n",
       "      <td>0</td>\n",
       "      <td>M</td>\n",
       "      <td>сотрудник</td>\n",
       "      <td>0</td>\n",
       "      <td>267628.550329</td>\n",
       "      <td>дополнительное образование</td>\n",
       "    </tr>\n",
       "    <tr>\n",
       "      <th>4</th>\n",
       "      <td>0</td>\n",
       "      <td>340266.072047</td>\n",
       "      <td>53</td>\n",
       "      <td>среднее</td>\n",
       "      <td>1</td>\n",
       "      <td>гражданский брак</td>\n",
       "      <td>1</td>\n",
       "      <td>F</td>\n",
       "      <td>пенсионер</td>\n",
       "      <td>0</td>\n",
       "      <td>158616.077870</td>\n",
       "      <td>сыграть свадьбу</td>\n",
       "    </tr>\n",
       "    <tr>\n",
       "      <th>5</th>\n",
       "      <td>0</td>\n",
       "      <td>-926.185831</td>\n",
       "      <td>27</td>\n",
       "      <td>высшее</td>\n",
       "      <td>0</td>\n",
       "      <td>гражданский брак</td>\n",
       "      <td>1</td>\n",
       "      <td>M</td>\n",
       "      <td>компаньон</td>\n",
       "      <td>0</td>\n",
       "      <td>255763.565419</td>\n",
       "      <td>покупка жилья</td>\n",
       "    </tr>\n",
       "    <tr>\n",
       "      <th>6</th>\n",
       "      <td>0</td>\n",
       "      <td>-2879.202052</td>\n",
       "      <td>43</td>\n",
       "      <td>высшее</td>\n",
       "      <td>0</td>\n",
       "      <td>женат / замужем</td>\n",
       "      <td>0</td>\n",
       "      <td>F</td>\n",
       "      <td>компаньон</td>\n",
       "      <td>0</td>\n",
       "      <td>240525.971920</td>\n",
       "      <td>операции с жильем</td>\n",
       "    </tr>\n",
       "    <tr>\n",
       "      <th>7</th>\n",
       "      <td>0</td>\n",
       "      <td>-152.779569</td>\n",
       "      <td>50</td>\n",
       "      <td>СРЕДНЕЕ</td>\n",
       "      <td>1</td>\n",
       "      <td>женат / замужем</td>\n",
       "      <td>0</td>\n",
       "      <td>M</td>\n",
       "      <td>сотрудник</td>\n",
       "      <td>0</td>\n",
       "      <td>135823.934197</td>\n",
       "      <td>образование</td>\n",
       "    </tr>\n",
       "    <tr>\n",
       "      <th>8</th>\n",
       "      <td>2</td>\n",
       "      <td>-6929.865299</td>\n",
       "      <td>35</td>\n",
       "      <td>ВЫСШЕЕ</td>\n",
       "      <td>0</td>\n",
       "      <td>гражданский брак</td>\n",
       "      <td>1</td>\n",
       "      <td>F</td>\n",
       "      <td>сотрудник</td>\n",
       "      <td>0</td>\n",
       "      <td>95856.832424</td>\n",
       "      <td>на проведение свадьбы</td>\n",
       "    </tr>\n",
       "    <tr>\n",
       "      <th>9</th>\n",
       "      <td>0</td>\n",
       "      <td>-2188.756445</td>\n",
       "      <td>41</td>\n",
       "      <td>среднее</td>\n",
       "      <td>1</td>\n",
       "      <td>женат / замужем</td>\n",
       "      <td>0</td>\n",
       "      <td>M</td>\n",
       "      <td>сотрудник</td>\n",
       "      <td>0</td>\n",
       "      <td>144425.938277</td>\n",
       "      <td>покупка жилья для семьи</td>\n",
       "    </tr>\n",
       "    <tr>\n",
       "      <th>10</th>\n",
       "      <td>2</td>\n",
       "      <td>-4171.483647</td>\n",
       "      <td>36</td>\n",
       "      <td>высшее</td>\n",
       "      <td>0</td>\n",
       "      <td>женат / замужем</td>\n",
       "      <td>0</td>\n",
       "      <td>M</td>\n",
       "      <td>компаньон</td>\n",
       "      <td>0</td>\n",
       "      <td>113943.491460</td>\n",
       "      <td>покупка недвижимости</td>\n",
       "    </tr>\n",
       "    <tr>\n",
       "      <th>11</th>\n",
       "      <td>0</td>\n",
       "      <td>-792.701887</td>\n",
       "      <td>40</td>\n",
       "      <td>среднее</td>\n",
       "      <td>1</td>\n",
       "      <td>женат / замужем</td>\n",
       "      <td>0</td>\n",
       "      <td>F</td>\n",
       "      <td>сотрудник</td>\n",
       "      <td>0</td>\n",
       "      <td>77069.234271</td>\n",
       "      <td>покупка коммерческой недвижимости</td>\n",
       "    </tr>\n",
       "    <tr>\n",
       "      <th>12</th>\n",
       "      <td>0</td>\n",
       "      <td>NaN</td>\n",
       "      <td>65</td>\n",
       "      <td>среднее</td>\n",
       "      <td>1</td>\n",
       "      <td>гражданский брак</td>\n",
       "      <td>1</td>\n",
       "      <td>M</td>\n",
       "      <td>пенсионер</td>\n",
       "      <td>0</td>\n",
       "      <td>NaN</td>\n",
       "      <td>сыграть свадьбу</td>\n",
       "    </tr>\n",
       "    <tr>\n",
       "      <th>13</th>\n",
       "      <td>0</td>\n",
       "      <td>-1846.641941</td>\n",
       "      <td>54</td>\n",
       "      <td>неоконченное высшее</td>\n",
       "      <td>2</td>\n",
       "      <td>женат / замужем</td>\n",
       "      <td>0</td>\n",
       "      <td>F</td>\n",
       "      <td>сотрудник</td>\n",
       "      <td>0</td>\n",
       "      <td>130458.228857</td>\n",
       "      <td>приобретение автомобиля</td>\n",
       "    </tr>\n",
       "    <tr>\n",
       "      <th>14</th>\n",
       "      <td>0</td>\n",
       "      <td>-1844.956182</td>\n",
       "      <td>56</td>\n",
       "      <td>высшее</td>\n",
       "      <td>0</td>\n",
       "      <td>гражданский брак</td>\n",
       "      <td>1</td>\n",
       "      <td>F</td>\n",
       "      <td>компаньон</td>\n",
       "      <td>1</td>\n",
       "      <td>165127.911772</td>\n",
       "      <td>покупка жилой недвижимости</td>\n",
       "    </tr>\n",
       "    <tr>\n",
       "      <th>15</th>\n",
       "      <td>1</td>\n",
       "      <td>-972.364419</td>\n",
       "      <td>26</td>\n",
       "      <td>среднее</td>\n",
       "      <td>1</td>\n",
       "      <td>женат / замужем</td>\n",
       "      <td>0</td>\n",
       "      <td>F</td>\n",
       "      <td>сотрудник</td>\n",
       "      <td>0</td>\n",
       "      <td>116820.904450</td>\n",
       "      <td>строительство собственной недвижимости</td>\n",
       "    </tr>\n",
       "    <tr>\n",
       "      <th>16</th>\n",
       "      <td>0</td>\n",
       "      <td>-1719.934226</td>\n",
       "      <td>35</td>\n",
       "      <td>среднее</td>\n",
       "      <td>1</td>\n",
       "      <td>женат / замужем</td>\n",
       "      <td>0</td>\n",
       "      <td>F</td>\n",
       "      <td>сотрудник</td>\n",
       "      <td>0</td>\n",
       "      <td>289202.704229</td>\n",
       "      <td>недвижимость</td>\n",
       "    </tr>\n",
       "    <tr>\n",
       "      <th>17</th>\n",
       "      <td>0</td>\n",
       "      <td>-2369.999720</td>\n",
       "      <td>33</td>\n",
       "      <td>высшее</td>\n",
       "      <td>0</td>\n",
       "      <td>гражданский брак</td>\n",
       "      <td>1</td>\n",
       "      <td>M</td>\n",
       "      <td>сотрудник</td>\n",
       "      <td>0</td>\n",
       "      <td>90410.586745</td>\n",
       "      <td>строительство недвижимости</td>\n",
       "    </tr>\n",
       "    <tr>\n",
       "      <th>18</th>\n",
       "      <td>0</td>\n",
       "      <td>400281.136913</td>\n",
       "      <td>53</td>\n",
       "      <td>среднее</td>\n",
       "      <td>1</td>\n",
       "      <td>вдовец / вдова</td>\n",
       "      <td>2</td>\n",
       "      <td>F</td>\n",
       "      <td>пенсионер</td>\n",
       "      <td>0</td>\n",
       "      <td>56823.777243</td>\n",
       "      <td>на покупку подержанного автомобиля</td>\n",
       "    </tr>\n",
       "    <tr>\n",
       "      <th>19</th>\n",
       "      <td>0</td>\n",
       "      <td>-10038.818549</td>\n",
       "      <td>48</td>\n",
       "      <td>СРЕДНЕЕ</td>\n",
       "      <td>1</td>\n",
       "      <td>в разводе</td>\n",
       "      <td>3</td>\n",
       "      <td>F</td>\n",
       "      <td>сотрудник</td>\n",
       "      <td>0</td>\n",
       "      <td>242831.107982</td>\n",
       "      <td>на покупку своего автомобиля</td>\n",
       "    </tr>\n",
       "  </tbody>\n",
       "</table>\n",
       "</div>"
      ],
      "text/plain": [
       "    children  days_employed  dob_years            education  education_id  \\\n",
       "0          1   -8437.673028         42               высшее             0   \n",
       "1          1   -4024.803754         36              среднее             1   \n",
       "2          0   -5623.422610         33              Среднее             1   \n",
       "3          3   -4124.747207         32              среднее             1   \n",
       "4          0  340266.072047         53              среднее             1   \n",
       "5          0    -926.185831         27               высшее             0   \n",
       "6          0   -2879.202052         43               высшее             0   \n",
       "7          0    -152.779569         50              СРЕДНЕЕ             1   \n",
       "8          2   -6929.865299         35               ВЫСШЕЕ             0   \n",
       "9          0   -2188.756445         41              среднее             1   \n",
       "10         2   -4171.483647         36               высшее             0   \n",
       "11         0    -792.701887         40              среднее             1   \n",
       "12         0            NaN         65              среднее             1   \n",
       "13         0   -1846.641941         54  неоконченное высшее             2   \n",
       "14         0   -1844.956182         56               высшее             0   \n",
       "15         1    -972.364419         26              среднее             1   \n",
       "16         0   -1719.934226         35              среднее             1   \n",
       "17         0   -2369.999720         33               высшее             0   \n",
       "18         0  400281.136913         53              среднее             1   \n",
       "19         0  -10038.818549         48              СРЕДНЕЕ             1   \n",
       "\n",
       "       family_status  family_status_id gender income_type  debt  \\\n",
       "0    женат / замужем                 0      F   сотрудник     0   \n",
       "1    женат / замужем                 0      F   сотрудник     0   \n",
       "2    женат / замужем                 0      M   сотрудник     0   \n",
       "3    женат / замужем                 0      M   сотрудник     0   \n",
       "4   гражданский брак                 1      F   пенсионер     0   \n",
       "5   гражданский брак                 1      M   компаньон     0   \n",
       "6    женат / замужем                 0      F   компаньон     0   \n",
       "7    женат / замужем                 0      M   сотрудник     0   \n",
       "8   гражданский брак                 1      F   сотрудник     0   \n",
       "9    женат / замужем                 0      M   сотрудник     0   \n",
       "10   женат / замужем                 0      M   компаньон     0   \n",
       "11   женат / замужем                 0      F   сотрудник     0   \n",
       "12  гражданский брак                 1      M   пенсионер     0   \n",
       "13   женат / замужем                 0      F   сотрудник     0   \n",
       "14  гражданский брак                 1      F   компаньон     1   \n",
       "15   женат / замужем                 0      F   сотрудник     0   \n",
       "16   женат / замужем                 0      F   сотрудник     0   \n",
       "17  гражданский брак                 1      M   сотрудник     0   \n",
       "18    вдовец / вдова                 2      F   пенсионер     0   \n",
       "19         в разводе                 3      F   сотрудник     0   \n",
       "\n",
       "     total_income                                 purpose  \n",
       "0   253875.639453                           покупка жилья  \n",
       "1   112080.014102                 приобретение автомобиля  \n",
       "2   145885.952297                           покупка жилья  \n",
       "3   267628.550329              дополнительное образование  \n",
       "4   158616.077870                         сыграть свадьбу  \n",
       "5   255763.565419                           покупка жилья  \n",
       "6   240525.971920                       операции с жильем  \n",
       "7   135823.934197                             образование  \n",
       "8    95856.832424                   на проведение свадьбы  \n",
       "9   144425.938277                 покупка жилья для семьи  \n",
       "10  113943.491460                    покупка недвижимости  \n",
       "11   77069.234271       покупка коммерческой недвижимости  \n",
       "12            NaN                         сыграть свадьбу  \n",
       "13  130458.228857                 приобретение автомобиля  \n",
       "14  165127.911772              покупка жилой недвижимости  \n",
       "15  116820.904450  строительство собственной недвижимости  \n",
       "16  289202.704229                            недвижимость  \n",
       "17   90410.586745              строительство недвижимости  \n",
       "18   56823.777243      на покупку подержанного автомобиля  \n",
       "19  242831.107982            на покупку своего автомобиля  "
      ]
     },
     "execution_count": 2,
     "metadata": {},
     "output_type": "execute_result"
    }
   ],
   "source": [
    "data.head(20)"
   ]
  },
  {
   "cell_type": "markdown",
   "id": "d52abf53",
   "metadata": {
    "deletable": false,
    "editable": false,
    "id": "1c12e233"
   },
   "source": [
    "**Задание 3. Выведите основную информацию о датафрейме с помощью метода `info()`.**"
   ]
  },
  {
   "cell_type": "code",
   "execution_count": 3,
   "id": "7ae0bcf4",
   "metadata": {
    "deletable": false,
    "id": "2b757bca",
    "outputId": "15376089-8dad-46c9-b520-c05248d43158"
   },
   "outputs": [
    {
     "name": "stdout",
     "output_type": "stream",
     "text": [
      "<class 'pandas.core.frame.DataFrame'>\n",
      "RangeIndex: 21525 entries, 0 to 21524\n",
      "Data columns (total 12 columns):\n",
      " #   Column            Non-Null Count  Dtype  \n",
      "---  ------            --------------  -----  \n",
      " 0   children          21525 non-null  int64  \n",
      " 1   days_employed     19351 non-null  float64\n",
      " 2   dob_years         21525 non-null  int64  \n",
      " 3   education         21525 non-null  object \n",
      " 4   education_id      21525 non-null  int64  \n",
      " 5   family_status     21525 non-null  object \n",
      " 6   family_status_id  21525 non-null  int64  \n",
      " 7   gender            21525 non-null  object \n",
      " 8   income_type       21525 non-null  object \n",
      " 9   debt              21525 non-null  int64  \n",
      " 10  total_income      19351 non-null  float64\n",
      " 11  purpose           21525 non-null  object \n",
      "dtypes: float64(2), int64(5), object(5)\n",
      "memory usage: 2.0+ MB\n"
     ]
    }
   ],
   "source": [
    "data.info()"
   ]
  },
  {
   "cell_type": "markdown",
   "id": "508e6f07",
   "metadata": {
    "deletable": false,
    "editable": false,
    "id": "333ec665"
   },
   "source": [
    "## Предобработка данных"
   ]
  },
  {
   "cell_type": "markdown",
   "id": "9dbd9ab3",
   "metadata": {
    "deletable": false,
    "editable": false,
    "id": "02d92d53"
   },
   "source": [
    "### Удаление пропусков"
   ]
  },
  {
   "cell_type": "markdown",
   "id": "677e2fe2",
   "metadata": {
    "deletable": false,
    "editable": false,
    "id": "cd84967c"
   },
   "source": [
    "**Задание 4. Выведите количество пропущенных значений для каждого столбца. Используйте комбинацию двух методов.**"
   ]
  },
  {
   "cell_type": "code",
   "execution_count": 4,
   "id": "e484815f",
   "metadata": {
    "deletable": false,
    "id": "7f9b2309",
    "outputId": "81f4d817-781c-465c-ed15-91ce4446810d"
   },
   "outputs": [
    {
     "data": {
      "text/plain": [
       "children               0\n",
       "days_employed       2174\n",
       "dob_years              0\n",
       "education              0\n",
       "education_id           0\n",
       "family_status          0\n",
       "family_status_id       0\n",
       "gender                 0\n",
       "income_type            0\n",
       "debt                   0\n",
       "total_income        2174\n",
       "purpose                0\n",
       "dtype: int64"
      ]
     },
     "execution_count": 4,
     "metadata": {},
     "output_type": "execute_result"
    }
   ],
   "source": [
    "data.isna().sum()"
   ]
  },
  {
   "cell_type": "markdown",
   "id": "a6c37613",
   "metadata": {
    "deletable": false,
    "editable": false,
    "id": "db86e27b"
   },
   "source": [
    "**Задание 5. В двух столбцах есть пропущенные значения. Один из них — `days_employed`. Пропуски в этом столбце вы обработаете на следующем этапе. Другой столбец с пропущенными значениями — `total_income` — хранит данные о доходах. На сумму дохода сильнее всего влияет тип занятости, поэтому заполнить пропуски в этом столбце нужно медианным значением по каждому типу из столбца `income_type`. Например, у человека с типом занятости `сотрудник` пропуск в столбце `total_income` должен быть заполнен медианным доходом среди всех записей с тем же типом.**"
   ]
  },
  {
   "cell_type": "code",
   "execution_count": 5,
   "id": "22e7b3e5",
   "metadata": {
    "deletable": false,
    "id": "42006a93"
   },
   "outputs": [],
   "source": [
    "for t in data['income_type'].unique():\n",
    "    data.loc[(data['income_type'] == t) & (data['total_income'].isna()), 'total_income'] = \\\n",
    "    data.loc[(data['income_type'] == t), 'total_income'].median()"
   ]
  },
  {
   "cell_type": "markdown",
   "id": "85879fef",
   "metadata": {
    "deletable": false,
    "editable": false,
    "id": "89da5ece"
   },
   "source": [
    "### Обработка аномальных значений"
   ]
  },
  {
   "cell_type": "markdown",
   "id": "ce84001a",
   "metadata": {
    "deletable": false,
    "editable": false,
    "id": "57964554"
   },
   "source": [
    "**Задание 6. В данных могут встречаться артефакты (аномалии) — значения, которые не отражают действительность и появились по какой-то ошибке. таким артефактом будет отрицательное количество дней трудового стажа в столбце `days_employed`. Для реальных данных это нормально. Обработайте значения в этом столбце: замените все отрицательные значения положительными с помощью метода `abs()`.**"
   ]
  },
  {
   "cell_type": "code",
   "execution_count": 6,
   "id": "65bb48de",
   "metadata": {
    "deletable": false,
    "id": "f6f055bf"
   },
   "outputs": [],
   "source": [
    "data['days_employed'] = data['days_employed'].abs()"
   ]
  },
  {
   "cell_type": "markdown",
   "id": "4cfa8b76",
   "metadata": {
    "deletable": false,
    "editable": false,
    "id": "6107dd2f"
   },
   "source": [
    "**Задание 7. Для каждого типа занятости выведите медианное значение трудового стажа `days_employed` в днях.**"
   ]
  },
  {
   "cell_type": "code",
   "execution_count": 7,
   "id": "2f6e706b",
   "metadata": {
    "deletable": false,
    "id": "85a5faf6",
    "outputId": "801ef80e-522b-4668-f34e-565af7432bcf"
   },
   "outputs": [
    {
     "data": {
      "text/plain": [
       "income_type\n",
       "безработный        366413.652744\n",
       "в декрете            3296.759962\n",
       "госслужащий          2689.368353\n",
       "компаньон            1547.382223\n",
       "пенсионер          365213.306266\n",
       "предприниматель       520.848083\n",
       "сотрудник            1574.202821\n",
       "студент               578.751554\n",
       "Name: days_employed, dtype: float64"
      ]
     },
     "execution_count": 7,
     "metadata": {},
     "output_type": "execute_result"
    }
   ],
   "source": [
    "data.groupby('income_type')['days_employed'].agg('median')"
   ]
  },
  {
   "cell_type": "markdown",
   "id": "c6676e50",
   "metadata": {
    "deletable": false,
    "editable": false,
    "id": "38d1a030"
   },
   "source": [
    "У двух типов (безработные и пенсионеры) получатся аномально большие значения. Исправить такие значения сложно, поэтому оставьте их как есть. Тем более этот столбец не понадобится вам для исследования."
   ]
  },
  {
   "cell_type": "markdown",
   "id": "e9f94d7b",
   "metadata": {
    "deletable": false,
    "editable": false,
    "id": "d8a9f147"
   },
   "source": [
    "**Задание 8. Выведите перечень уникальных значений столбца `children`.**"
   ]
  },
  {
   "cell_type": "code",
   "execution_count": 8,
   "id": "2f3d3d0a",
   "metadata": {
    "deletable": false,
    "id": "ef5056eb",
    "outputId": "6975b15c-7f95-4697-d16d-a0c79b657b03"
   },
   "outputs": [
    {
     "data": {
      "text/plain": [
       "array([ 1,  0,  3,  2, -1,  4, 20,  5], dtype=int64)"
      ]
     },
     "execution_count": 8,
     "metadata": {},
     "output_type": "execute_result"
    }
   ],
   "source": [
    "data['children'].unique()"
   ]
  },
  {
   "cell_type": "markdown",
   "id": "abc74943",
   "metadata": {
    "deletable": false,
    "editable": false,
    "id": "40b9ebf2"
   },
   "source": [
    "**Задание 9. В столбце `children` есть два аномальных значения. Удалите строки, в которых встречаются такие аномальные значения из датафрейма `data`.**"
   ]
  },
  {
   "cell_type": "code",
   "execution_count": 9,
   "id": "51a9dbdc",
   "metadata": {
    "deletable": false,
    "id": "3ff9801d"
   },
   "outputs": [],
   "source": [
    "data = data[(data['children'] != -1) & (data['children'] != 20)]"
   ]
  },
  {
   "cell_type": "markdown",
   "id": "22637805",
   "metadata": {
    "deletable": false,
    "editable": false,
    "id": "bbc4d0ce"
   },
   "source": [
    "**Задание 10. Ещё раз выведите перечень уникальных значений столбца `children`, чтобы убедиться, что артефакты удалены.**"
   ]
  },
  {
   "cell_type": "code",
   "execution_count": 10,
   "id": "b1726366",
   "metadata": {
    "deletable": false,
    "id": "ad4fa8b7",
    "outputId": "b2097101-d49d-44d9-901b-32a65c9463d1"
   },
   "outputs": [
    {
     "data": {
      "text/plain": [
       "array([1, 0, 3, 2, 4, 5], dtype=int64)"
      ]
     },
     "execution_count": 10,
     "metadata": {},
     "output_type": "execute_result"
    }
   ],
   "source": [
    "data['children'].unique()"
   ]
  },
  {
   "cell_type": "markdown",
   "id": "96d50482",
   "metadata": {
    "deletable": false,
    "editable": false,
    "id": "75440b63"
   },
   "source": [
    "### Удаление пропусков (продолжение)"
   ]
  },
  {
   "cell_type": "markdown",
   "id": "de40b288",
   "metadata": {
    "deletable": false,
    "editable": false,
    "id": "f4ea573f"
   },
   "source": [
    "**Задание 11. Заполните пропуски в столбце `days_employed` медианными значениями по каждого типа занятости `income_type`.**"
   ]
  },
  {
   "cell_type": "code",
   "execution_count": 11,
   "id": "e84f0b65",
   "metadata": {
    "deletable": false,
    "id": "af6b1a7e"
   },
   "outputs": [],
   "source": [
    "for t in data['income_type'].unique():\n",
    "    data.loc[(data['income_type'] == t) & (data['days_employed'].isna()), 'days_employed'] = \\\n",
    "    data.loc[(data['income_type'] == t), 'days_employed'].median()"
   ]
  },
  {
   "cell_type": "markdown",
   "id": "7e281c11",
   "metadata": {
    "deletable": false,
    "editable": false,
    "id": "2753f40d"
   },
   "source": [
    "**Задание 12. Убедитесь, что все пропуски заполнены. Проверьте себя и ещё раз выведите количество пропущенных значений для каждого столбца с помощью двух методов.**"
   ]
  },
  {
   "cell_type": "code",
   "execution_count": 12,
   "id": "c9136d13",
   "metadata": {
    "deletable": false,
    "id": "55f78bc2",
    "outputId": "8da1e4e1-358e-4e87-98c9-f261bce0a7b2"
   },
   "outputs": [
    {
     "data": {
      "text/plain": [
       "children            0\n",
       "days_employed       0\n",
       "dob_years           0\n",
       "education           0\n",
       "education_id        0\n",
       "family_status       0\n",
       "family_status_id    0\n",
       "gender              0\n",
       "income_type         0\n",
       "debt                0\n",
       "total_income        0\n",
       "purpose             0\n",
       "dtype: int64"
      ]
     },
     "execution_count": 12,
     "metadata": {},
     "output_type": "execute_result"
    }
   ],
   "source": [
    "data.isna().sum()"
   ]
  },
  {
   "cell_type": "markdown",
   "id": "665e01bf",
   "metadata": {
    "deletable": false,
    "editable": false,
    "id": "ddc81e43"
   },
   "source": [
    "### Изменение типов данных"
   ]
  },
  {
   "cell_type": "markdown",
   "id": "2b32650d",
   "metadata": {
    "deletable": false,
    "editable": false,
    "id": "42d19d24"
   },
   "source": [
    "**Задание 13. Замените вещественный тип данных в столбце `total_income` на целочисленный с помощью метода `astype()`.**"
   ]
  },
  {
   "cell_type": "code",
   "execution_count": 13,
   "id": "1d405cb1",
   "metadata": {
    "deletable": false,
    "id": "920b65ad"
   },
   "outputs": [],
   "source": [
    "data['total_income'] = data['total_income'].astype(int)"
   ]
  },
  {
   "cell_type": "markdown",
   "id": "9487110f",
   "metadata": {
    "deletable": false,
    "editable": false,
    "id": "80c420ba"
   },
   "source": [
    "### Обработка дубликатов"
   ]
  },
  {
   "cell_type": "markdown",
   "id": "a454cb87",
   "metadata": {
    "deletable": false,
    "editable": false
   },
   "source": [
    "**Задание 14. Обработайте неявные дубликаты в столбце `education`. В этом столбце есть одни и те же значения, но записанные по-разному: с использованием заглавных и строчных букв. Приведите их к нижнему регистру. Проверьте остальные столбцы.**"
   ]
  },
  {
   "cell_type": "code",
   "execution_count": 14,
   "id": "fa87bd8a",
   "metadata": {
    "deletable": false
   },
   "outputs": [],
   "source": [
    "data['education'] = data['education'].str.lower()"
   ]
  },
  {
   "cell_type": "markdown",
   "id": "2f204af4",
   "metadata": {
    "deletable": false,
    "editable": false,
    "id": "dc587695"
   },
   "source": [
    "**Задание 15. Выведите на экран количество строк-дубликатов в данных. Если такие строки присутствуют, удалите их.**"
   ]
  },
  {
   "cell_type": "code",
   "execution_count": 15,
   "id": "98910dc6",
   "metadata": {
    "deletable": false,
    "id": "3ee445e4",
    "outputId": "9684deba-1934-42d1-99e1-cda61740f822"
   },
   "outputs": [
    {
     "data": {
      "text/plain": [
       "71"
      ]
     },
     "execution_count": 15,
     "metadata": {},
     "output_type": "execute_result"
    }
   ],
   "source": [
    "data.duplicated().sum()"
   ]
  },
  {
   "cell_type": "code",
   "execution_count": 16,
   "id": "8298e3df",
   "metadata": {
    "deletable": false,
    "id": "8575fe05"
   },
   "outputs": [],
   "source": [
    "data = data.drop_duplicates()"
   ]
  },
  {
   "cell_type": "markdown",
   "id": "d7f676e4",
   "metadata": {
    "deletable": false,
    "editable": false,
    "id": "9904cf55"
   },
   "source": [
    "### Категоризация данных"
   ]
  },
  {
   "cell_type": "markdown",
   "id": "9d949904",
   "metadata": {
    "deletable": false,
    "editable": false,
    "id": "72fcc8a2"
   },
   "source": [
    "**Задание 16. На основании диапазонов, указанных ниже, создайте в датафрейме `data` столбец `total_income_category` с категориями:**\n",
    "\n",
    "- 0–30000 — `'E'`;\n",
    "- 30001–50000 — `'D'`;\n",
    "- 50001–200000 — `'C'`;\n",
    "- 200001–1000000 — `'B'`;\n",
    "- 1000001 и выше — `'A'`.\n",
    "\n",
    "\n",
    "**Например, кредитополучателю с доходом 25000 нужно назначить категорию `'E'`, а клиенту, получающему 235000, — `'B'`. Используйте собственную функцию с именем `categorize_income()` и метод `apply()`.**"
   ]
  },
  {
   "cell_type": "code",
   "execution_count": 17,
   "id": "16b3f491",
   "metadata": {
    "deletable": false,
    "id": "e1771346"
   },
   "outputs": [],
   "source": [
    "def categorize_income(income):\n",
    "    try:\n",
    "        if 0 <= income <= 30000:\n",
    "            return 'E'\n",
    "        elif 30001 <= income <= 50000:\n",
    "            return 'D'\n",
    "        elif 50001 <= income <= 200000:\n",
    "            return 'C'\n",
    "        elif 200001 <= income <= 1000000:\n",
    "            return 'B'\n",
    "        elif income >= 1000001:\n",
    "            return 'A'\n",
    "    except:\n",
    "        pass"
   ]
  },
  {
   "cell_type": "code",
   "execution_count": 18,
   "id": "63bf79a0",
   "metadata": {
    "deletable": false,
    "id": "d5f3586d"
   },
   "outputs": [],
   "source": [
    "data['total_income_category'] = data['total_income'].apply(categorize_income)"
   ]
  },
  {
   "cell_type": "markdown",
   "id": "7ffb6874",
   "metadata": {
    "deletable": false,
    "editable": false,
    "id": "dde49b5c"
   },
   "source": [
    "**Задание 17. Выведите на экран перечень уникальных целей взятия кредита из столбца `purpose`.**"
   ]
  },
  {
   "cell_type": "code",
   "execution_count": 19,
   "id": "61c4cf15",
   "metadata": {
    "deletable": false,
    "id": "f67ce9b3",
    "outputId": "673c12d9-7d7e-4ae0-9812-c622c89dd244"
   },
   "outputs": [
    {
     "data": {
      "text/plain": [
       "array(['покупка жилья', 'приобретение автомобиля',\n",
       "       'дополнительное образование', 'сыграть свадьбу',\n",
       "       'операции с жильем', 'образование', 'на проведение свадьбы',\n",
       "       'покупка жилья для семьи', 'покупка недвижимости',\n",
       "       'покупка коммерческой недвижимости', 'покупка жилой недвижимости',\n",
       "       'строительство собственной недвижимости', 'недвижимость',\n",
       "       'строительство недвижимости', 'на покупку подержанного автомобиля',\n",
       "       'на покупку своего автомобиля',\n",
       "       'операции с коммерческой недвижимостью',\n",
       "       'строительство жилой недвижимости', 'жилье',\n",
       "       'операции со своей недвижимостью', 'автомобили',\n",
       "       'заняться образованием', 'сделка с подержанным автомобилем',\n",
       "       'получение образования', 'автомобиль', 'свадьба',\n",
       "       'получение дополнительного образования', 'покупка своего жилья',\n",
       "       'операции с недвижимостью', 'получение высшего образования',\n",
       "       'свой автомобиль', 'сделка с автомобилем',\n",
       "       'профильное образование', 'высшее образование',\n",
       "       'покупка жилья для сдачи', 'на покупку автомобиля', 'ремонт жилью',\n",
       "       'заняться высшим образованием'], dtype=object)"
      ]
     },
     "execution_count": 19,
     "metadata": {},
     "output_type": "execute_result"
    }
   ],
   "source": [
    "data['purpose'].unique()"
   ]
  },
  {
   "cell_type": "markdown",
   "id": "05525a72",
   "metadata": {
    "deletable": false,
    "editable": false,
    "id": "85d0aef0"
   },
   "source": [
    "**Задание 18. Создайте функцию, которая на основании данных из столбца `purpose` сформирует новый столбец `purpose_category`, в который войдут следующие категории:**\n",
    "\n",
    "- `'операции с автомобилем'`,\n",
    "- `'операции с недвижимостью'`,\n",
    "- `'проведение свадьбы'`,\n",
    "- `'получение образования'`.\n",
    "\n",
    "**Например, если в столбце `purpose` находится подстрока `'на покупку автомобиля'`, то в столбце `purpose_category` должна появиться строка `'операции с автомобилем'`.**\n",
    "\n",
    "**Используйте собственную функцию с именем `categorize_purpose()` и метод `apply()`. Изучите данные в столбце `purpose` и определите, какие подстроки помогут вам правильно определить категорию.**"
   ]
  },
  {
   "cell_type": "code",
   "execution_count": 20,
   "id": "e9df5a88",
   "metadata": {
    "deletable": false,
    "id": "e149fab4"
   },
   "outputs": [],
   "source": [
    "def categorize_purpose(row):\n",
    "    try:\n",
    "        if 'автом' in row:\n",
    "            return 'операции с автомобилем'\n",
    "        elif 'жил' in row or 'недвиж' in row:\n",
    "            return 'операции с недвижимостью'\n",
    "        elif 'свад' in row:\n",
    "            return 'проведение свадьбы'\n",
    "        elif 'образов' in row:\n",
    "            return 'получение образования'\n",
    "    except:\n",
    "        return 'нет категории'"
   ]
  },
  {
   "cell_type": "code",
   "execution_count": 21,
   "id": "e39729c7",
   "metadata": {
    "deletable": false,
    "id": "bf36e69b"
   },
   "outputs": [],
   "source": [
    "data['purpose_category'] = data['purpose'].apply(categorize_purpose)"
   ]
  },
  {
   "cell_type": "markdown",
   "id": "7e0dd3f8",
   "metadata": {
    "deletable": false,
    "editable": false,
    "id": "09b242bf"
   },
   "source": [
    "### Шаг 3. Исследуйте данные и ответьте на вопросы"
   ]
  },
  {
   "cell_type": "markdown",
   "id": "71cc8819",
   "metadata": {
    "deletable": false,
    "editable": false,
    "id": "c5d66278"
   },
   "source": [
    "#### 3.1 Есть ли зависимость между количеством детей и возвратом кредита в срок?"
   ]
  },
  {
   "cell_type": "code",
   "execution_count": 22,
   "id": "57f62415",
   "metadata": {
    "deletable": false,
    "id": "2cacfc4a"
   },
   "outputs": [
    {
     "data": {
      "text/html": [
       "<div>\n",
       "<style scoped>\n",
       "    .dataframe tbody tr th:only-of-type {\n",
       "        vertical-align: middle;\n",
       "    }\n",
       "\n",
       "    .dataframe tbody tr th {\n",
       "        vertical-align: top;\n",
       "    }\n",
       "\n",
       "    .dataframe thead th {\n",
       "        text-align: right;\n",
       "    }\n",
       "</style>\n",
       "<table border=\"1\" class=\"dataframe\">\n",
       "  <thead>\n",
       "    <tr style=\"text-align: right;\">\n",
       "      <th></th>\n",
       "      <th>children</th>\n",
       "      <th>count</th>\n",
       "      <th>mean</th>\n",
       "      <th>sum</th>\n",
       "    </tr>\n",
       "  </thead>\n",
       "  <tbody>\n",
       "    <tr>\n",
       "      <th>0</th>\n",
       "      <td>0</td>\n",
       "      <td>14091.0</td>\n",
       "      <td>0.075438</td>\n",
       "      <td>1063.0</td>\n",
       "    </tr>\n",
       "    <tr>\n",
       "      <th>1</th>\n",
       "      <td>1</td>\n",
       "      <td>4808.0</td>\n",
       "      <td>0.092346</td>\n",
       "      <td>444.0</td>\n",
       "    </tr>\n",
       "    <tr>\n",
       "      <th>2</th>\n",
       "      <td>2</td>\n",
       "      <td>2052.0</td>\n",
       "      <td>0.094542</td>\n",
       "      <td>194.0</td>\n",
       "    </tr>\n",
       "    <tr>\n",
       "      <th>3</th>\n",
       "      <td>3</td>\n",
       "      <td>330.0</td>\n",
       "      <td>0.081818</td>\n",
       "      <td>27.0</td>\n",
       "    </tr>\n",
       "    <tr>\n",
       "      <th>4</th>\n",
       "      <td>4</td>\n",
       "      <td>41.0</td>\n",
       "      <td>0.097561</td>\n",
       "      <td>4.0</td>\n",
       "    </tr>\n",
       "    <tr>\n",
       "      <th>5</th>\n",
       "      <td>5</td>\n",
       "      <td>9.0</td>\n",
       "      <td>0.000000</td>\n",
       "      <td>0.0</td>\n",
       "    </tr>\n",
       "  </tbody>\n",
       "</table>\n",
       "</div>"
      ],
      "text/plain": [
       "   children    count      mean     sum\n",
       "0         0  14091.0  0.075438  1063.0\n",
       "1         1   4808.0  0.092346   444.0\n",
       "2         2   2052.0  0.094542   194.0\n",
       "3         3    330.0  0.081818    27.0\n",
       "4         4     41.0  0.097561     4.0\n",
       "5         5      9.0  0.000000     0.0"
      ]
     },
     "execution_count": 22,
     "metadata": {},
     "output_type": "execute_result"
    }
   ],
   "source": [
    "# построим сводную таблицу, которая по числу детей будет вычислять число должников, общее число заемщиков\n",
    "# и среднее арифметическое доли должников\n",
    "debt_by_children_dependency = data.pivot_table(index=['children'], values='debt', aggfunc={'sum', 'count', 'mean'})\\\n",
    ".reset_index()\n",
    "debt_by_children_dependency"
   ]
  },
  {
   "cell_type": "markdown",
   "id": "f7be1b61",
   "metadata": {
    "deletable": false,
    "id": "3a6b99ec"
   },
   "source": [
    "**Вывод:** \n",
    "Заемщики, которые не имеют детей, чаще всего отдают кредит, доля должников здесь составляет 7,5%, хуже обстоит дело с должниками, кто имеет одного или двух детей, здесь доля невозврата составляет соответственно 9,2% и 9,4%. Остальные категории заемщиков уже некорректно сравнивать, так как в них очень маленькая выборка\n",
    "\n",
    "Мы предполагаем, что это связано с тем, что у заемщиков с детьми больше непредсказуемых расходов, которые они не смогут проигнорировать."
   ]
  },
  {
   "cell_type": "markdown",
   "id": "6bfb41e6",
   "metadata": {
    "deletable": false,
    "editable": false,
    "id": "97be82ca"
   },
   "source": [
    "#### 3.2 Есть ли зависимость между семейным положением и возвратом кредита в срок?"
   ]
  },
  {
   "cell_type": "code",
   "execution_count": 23,
   "id": "17bce221",
   "metadata": {
    "deletable": false,
    "id": "dc3f7ee8"
   },
   "outputs": [
    {
     "data": {
      "text/html": [
       "<div>\n",
       "<style scoped>\n",
       "    .dataframe tbody tr th:only-of-type {\n",
       "        vertical-align: middle;\n",
       "    }\n",
       "\n",
       "    .dataframe tbody tr th {\n",
       "        vertical-align: top;\n",
       "    }\n",
       "\n",
       "    .dataframe thead th {\n",
       "        text-align: right;\n",
       "    }\n",
       "</style>\n",
       "<table border=\"1\" class=\"dataframe\">\n",
       "  <thead>\n",
       "    <tr style=\"text-align: right;\">\n",
       "      <th></th>\n",
       "      <th>sum</th>\n",
       "      <th>count</th>\n",
       "      <th>mean</th>\n",
       "    </tr>\n",
       "    <tr>\n",
       "      <th>family_status</th>\n",
       "      <th></th>\n",
       "      <th></th>\n",
       "      <th></th>\n",
       "    </tr>\n",
       "  </thead>\n",
       "  <tbody>\n",
       "    <tr>\n",
       "      <th>вдовец / вдова</th>\n",
       "      <td>63</td>\n",
       "      <td>951</td>\n",
       "      <td>0.066246</td>\n",
       "    </tr>\n",
       "    <tr>\n",
       "      <th>в разводе</th>\n",
       "      <td>84</td>\n",
       "      <td>1189</td>\n",
       "      <td>0.070648</td>\n",
       "    </tr>\n",
       "    <tr>\n",
       "      <th>женат / замужем</th>\n",
       "      <td>927</td>\n",
       "      <td>12261</td>\n",
       "      <td>0.075606</td>\n",
       "    </tr>\n",
       "    <tr>\n",
       "      <th>гражданский брак</th>\n",
       "      <td>385</td>\n",
       "      <td>4134</td>\n",
       "      <td>0.093130</td>\n",
       "    </tr>\n",
       "    <tr>\n",
       "      <th>Не женат / не замужем</th>\n",
       "      <td>273</td>\n",
       "      <td>2796</td>\n",
       "      <td>0.097639</td>\n",
       "    </tr>\n",
       "  </tbody>\n",
       "</table>\n",
       "</div>"
      ],
      "text/plain": [
       "                       sum  count      mean\n",
       "family_status                              \n",
       "вдовец / вдова          63    951  0.066246\n",
       "в разводе               84   1189  0.070648\n",
       "женат / замужем        927  12261  0.075606\n",
       "гражданский брак       385   4134  0.093130\n",
       "Не женат / не замужем  273   2796  0.097639"
      ]
     },
     "execution_count": 23,
     "metadata": {},
     "output_type": "execute_result"
    }
   ],
   "source": [
    "# сгруппируем заемщиков по категории дохода и вычислим для них число должников, общее число заемщиков\n",
    "# и среднее арифметическое доли должников\n",
    "dept_by_family_status_dependency = data.groupby('family_status')['debt'].agg(['sum', 'count', 'mean'])\\\n",
    ".sort_values(by='mean')\n",
    "\n",
    "dept_by_family_status_dependency"
   ]
  },
  {
   "cell_type": "markdown",
   "id": "1d83cd06",
   "metadata": {
    "deletable": false,
    "id": "1cef7837"
   },
   "source": [
    "**Вывод:** Чаще всего кредит в срок выплачивают замужние/женатые заемщики, доля должников среди них сосставляет 7,6%, хуже выплачивают заемщики в гражданском браке и заемщики, не состоящие в браке, с долей должников 9,3% и 9,8% соответственно. Вдовцов и заемщиков в разводе некорректно сравнивать, так как среди них маленькая выборка.\n",
    "\n",
    "Мы предполагаем, что в браке люди чаще страхуют друг друга в случае падения дохода одного из партнеров, поэтому они чаще выплачивают кредит в срок."
   ]
  },
  {
   "cell_type": "markdown",
   "id": "b6bb5882",
   "metadata": {
    "deletable": false,
    "editable": false,
    "id": "1e8b2fca"
   },
   "source": [
    "#### 3.3 Есть ли зависимость между уровнем дохода и возвратом кредита в срок?"
   ]
  },
  {
   "cell_type": "code",
   "execution_count": 24,
   "id": "9e294bb8",
   "metadata": {
    "deletable": false,
    "id": "cd7e3720"
   },
   "outputs": [
    {
     "data": {
      "text/html": [
       "<div>\n",
       "<style scoped>\n",
       "    .dataframe tbody tr th:only-of-type {\n",
       "        vertical-align: middle;\n",
       "    }\n",
       "\n",
       "    .dataframe tbody tr th {\n",
       "        vertical-align: top;\n",
       "    }\n",
       "\n",
       "    .dataframe thead th {\n",
       "        text-align: right;\n",
       "    }\n",
       "</style>\n",
       "<table border=\"1\" class=\"dataframe\">\n",
       "  <thead>\n",
       "    <tr style=\"text-align: right;\">\n",
       "      <th></th>\n",
       "      <th>sum</th>\n",
       "      <th>count</th>\n",
       "      <th>mean</th>\n",
       "    </tr>\n",
       "    <tr>\n",
       "      <th>total_income_category</th>\n",
       "      <th></th>\n",
       "      <th></th>\n",
       "      <th></th>\n",
       "    </tr>\n",
       "  </thead>\n",
       "  <tbody>\n",
       "    <tr>\n",
       "      <th>D</th>\n",
       "      <td>21</td>\n",
       "      <td>349</td>\n",
       "      <td>0.060172</td>\n",
       "    </tr>\n",
       "    <tr>\n",
       "      <th>B</th>\n",
       "      <td>354</td>\n",
       "      <td>5014</td>\n",
       "      <td>0.070602</td>\n",
       "    </tr>\n",
       "    <tr>\n",
       "      <th>A</th>\n",
       "      <td>2</td>\n",
       "      <td>25</td>\n",
       "      <td>0.080000</td>\n",
       "    </tr>\n",
       "    <tr>\n",
       "      <th>C</th>\n",
       "      <td>1353</td>\n",
       "      <td>15921</td>\n",
       "      <td>0.084982</td>\n",
       "    </tr>\n",
       "    <tr>\n",
       "      <th>E</th>\n",
       "      <td>2</td>\n",
       "      <td>22</td>\n",
       "      <td>0.090909</td>\n",
       "    </tr>\n",
       "  </tbody>\n",
       "</table>\n",
       "</div>"
      ],
      "text/plain": [
       "                        sum  count      mean\n",
       "total_income_category                       \n",
       "D                        21    349  0.060172\n",
       "B                       354   5014  0.070602\n",
       "A                         2     25  0.080000\n",
       "C                      1353  15921  0.084982\n",
       "E                         2     22  0.090909"
      ]
     },
     "execution_count": 24,
     "metadata": {},
     "output_type": "execute_result"
    }
   ],
   "source": [
    "# сгруппируем заемщиков по семейному положению и вычислим для них число должников, общее число заемщиков\n",
    "# и среднее арифметическое доли должников\n",
    "dept_by_income_category_dependency = data.groupby('total_income_category')['debt'].agg(['sum', 'count', 'mean'])\\\n",
    ".sort_values(by='mean')\n",
    "\n",
    "dept_by_income_category_dependency"
   ]
  },
  {
   "cell_type": "markdown",
   "id": "a55a61be",
   "metadata": {
    "deletable": false,
    "id": "e8593def"
   },
   "source": [
    "**Вывод:** Чаще всего кредит в срок выплачивают заещики категории B с доходами от 200000 до 1000000, число должников среди них 7%, а заемщики категории C c доходами от 50000 до 200000 реже, среди них число должников 8,5%.\n",
    "\n",
    "\n",
    "Число заемщиков с доходами больше 1000000 (категория А), меньше 30000 (категория Е) и от 30000 до 50000 (катерия D) в выборке слишком мало, поэтому результаты для этих категорий не показательны."
   ]
  },
  {
   "cell_type": "markdown",
   "id": "34c055f1",
   "metadata": {
    "deletable": false,
    "editable": false,
    "id": "99ecbd1f"
   },
   "source": [
    "#### 3.4 Как разные цели кредита влияют на его возврат в срок?"
   ]
  },
  {
   "cell_type": "code",
   "execution_count": 25,
   "id": "fbe50f86",
   "metadata": {
    "deletable": false,
    "id": "2b687290"
   },
   "outputs": [
    {
     "data": {
      "text/html": [
       "<div>\n",
       "<style scoped>\n",
       "    .dataframe tbody tr th:only-of-type {\n",
       "        vertical-align: middle;\n",
       "    }\n",
       "\n",
       "    .dataframe tbody tr th {\n",
       "        vertical-align: top;\n",
       "    }\n",
       "\n",
       "    .dataframe thead th {\n",
       "        text-align: right;\n",
       "    }\n",
       "</style>\n",
       "<table border=\"1\" class=\"dataframe\">\n",
       "  <thead>\n",
       "    <tr style=\"text-align: right;\">\n",
       "      <th></th>\n",
       "      <th>sum</th>\n",
       "      <th>count</th>\n",
       "      <th>mean</th>\n",
       "    </tr>\n",
       "    <tr>\n",
       "      <th>purpose_category</th>\n",
       "      <th></th>\n",
       "      <th></th>\n",
       "      <th></th>\n",
       "    </tr>\n",
       "  </thead>\n",
       "  <tbody>\n",
       "    <tr>\n",
       "      <th>операции с недвижимостью</th>\n",
       "      <td>780</td>\n",
       "      <td>10751</td>\n",
       "      <td>0.072551</td>\n",
       "    </tr>\n",
       "    <tr>\n",
       "      <th>проведение свадьбы</th>\n",
       "      <td>183</td>\n",
       "      <td>2313</td>\n",
       "      <td>0.079118</td>\n",
       "    </tr>\n",
       "    <tr>\n",
       "      <th>получение образования</th>\n",
       "      <td>369</td>\n",
       "      <td>3988</td>\n",
       "      <td>0.092528</td>\n",
       "    </tr>\n",
       "    <tr>\n",
       "      <th>операции с автомобилем</th>\n",
       "      <td>400</td>\n",
       "      <td>4279</td>\n",
       "      <td>0.093480</td>\n",
       "    </tr>\n",
       "  </tbody>\n",
       "</table>\n",
       "</div>"
      ],
      "text/plain": [
       "                          sum  count      mean\n",
       "purpose_category                              \n",
       "операции с недвижимостью  780  10751  0.072551\n",
       "проведение свадьбы        183   2313  0.079118\n",
       "получение образования     369   3988  0.092528\n",
       "операции с автомобилем    400   4279  0.093480"
      ]
     },
     "execution_count": 25,
     "metadata": {},
     "output_type": "execute_result"
    }
   ],
   "source": [
    "# сгруппируем заемщиков по цели кредита и вычислим для них число должников, общее число заемщиков\n",
    "# и среднее арифметическое доли должников\n",
    "dept_by_purpose_category_dependency = data.groupby('purpose_category')['debt'].agg(['sum', 'count', 'mean'])\\\n",
    ".sort_values(by='mean')\n",
    "\n",
    "dept_by_purpose_category_dependency"
   ]
  },
  {
   "cell_type": "markdown",
   "id": "94331da6",
   "metadata": {
    "deletable": false,
    "id": "b4bb2ce6"
   },
   "source": [
    "**Вывод:** Чаще всего заемщики выплачивают кредит в срок, если они брали его для операций с недвижимостью (7,2% должников), затем на проведение свадьбы (7,9% должников).Реже всего выплачивают, если брали кредит для получения образования (9,2% должников) и для операций с автомобилем (9,3% должников).\n",
    "\n",
    "Мы предполагаем, что самые надежные заемщики среди тех, кто берет ипотеку, потому что во-первых, ипотеку можно взять только с внесением первоначального взноса, соответственно заемщики, которые плохо оценили силы по возврате кредита и не могут даже на него накопить, автоматически отсеиваются, и во-вторых, часто заемщики берут ипотеку на единственное жилье и если лишиться него, то все равно придется платить за съемное жилье, при этом плата не очень отличаться от ипотечного платежа. Поэтому люди ответственнее относятся к выплате ипотеки, так как жилье - витальная потребность."
   ]
  },
  {
   "cell_type": "markdown",
   "id": "34752b8d",
   "metadata": {
    "deletable": false,
    "editable": false,
    "id": "09c3ac4c"
   },
   "source": [
    "#### 3.5 Приведите возможные причины появления пропусков в исходных данных."
   ]
  },
  {
   "cell_type": "markdown",
   "id": "d6008b65",
   "metadata": {
    "deletable": false,
    "id": "9da2ceda"
   },
   "source": [
    "**Ответ:** Пропуски были в столбцах days_employed - количество дней, когда заемщик был трудоустроен, и total_income - величина его дохода. Информацию для них сложно сказать без получения соответствующих справок в бухгалтерии или ПФР. Поэтому если заемщик заполняет анкету в банке и не может сразу сказать точное значение, он возможно оставляет там пропуски, чтобы дополнить эту информаци позднее после получения справок.\n",
    "\n",
    "Также возможно заемщик может понимать, что его доход вряд ли может позволить взять ему кредит, поэтому он может подать заявку на кредит с высокой процентной ставкой, где не обязательно указывать уровень дохода."
   ]
  },
  {
   "cell_type": "markdown",
   "id": "2bdad07f",
   "metadata": {
    "deletable": false,
    "editable": false,
    "id": "7b0487d6"
   },
   "source": [
    "#### 3.6 Объясните, почему заполнить пропуски медианным значением — лучшее решение для количественных переменных."
   ]
  },
  {
   "cell_type": "markdown",
   "id": "2f6a6925",
   "metadata": {
    "deletable": false,
    "id": "7ecf2b8e"
   },
   "source": [
    "**Ответ:** В данных количественных переменных иногда возникают краевые значения, сильно отличающиеся от основных значений. Эти выбросы могут сильно смещать среднее арифметическое от среднего арифметического значений без этих выбросов. Поэтому если брать медиану, то тогда точнее можно попасть в среднее значение."
   ]
  },
  {
   "cell_type": "markdown",
   "id": "3edb9d42",
   "metadata": {
    "deletable": false,
    "editable": false,
    "id": "6db5255a"
   },
   "source": [
    "### Шаг 4: общий вывод."
   ]
  },
  {
   "cell_type": "markdown",
   "id": "06f21f49",
   "metadata": {},
   "source": [
    "<div style=\"border:solid green 2px; padding: 20px\">\n",
    "В результате проведенного исследования хотим сообщить, что на возврат кредита в срок влияют следующие условия: количество детей, семейное положение, уровень дохода, цель кредита. Поэтому их следует учитывать при построении модели кредитного скоринга — системы, которая оценивает способность потенциального заёмщика вернуть кредит банку.\n",
    "</div>  "
   ]
  },
  {
   "cell_type": "markdown",
   "id": "5a1991b7",
   "metadata": {
    "deletable": false,
    "id": "bad65432"
   },
   "source": [
    "<div style=\"border:solid green 2px; padding: 20px\">\n",
    "\n",
    "- По **количеству детей** заемщики, которые не имеют детей, чаще всего отдают кредит, доля должников здесь составляет 7,5%, хуже обстоит дело с должниками, кто имеет одного или двух детей, здесь доля невозврата составляет соответственно 9,2% и 9,4%.  Предположительно это связано с тем, что у заемщиков с детьми больше непредсказуемых расходов, которые они не смогут проигнорировать.\n",
    "\n",
    "- По **семейному положению** чаще всего кредит в срок выплачивают замужние/женатые заемщики, доля должников среди них сосставляет 7,6%, хуже выплачивают заемщики в гражданском браке и заемщики, не состоящие в браке, с долей должников 9,3% и 9,8% соответственно. Предположительно в браке люди чаще страхуют друг друга в случае падения дохода одного из партнеров, поэтому они чаще выплачивают кредит в срок.\n",
    "\n",
    "- По **уровню дохода** чаще кредит в срок выплачиваюзаещики категории B с более высокими доходами от 200000 до 1000000, число должников среди них 7%, в то время как у заемщиков категории C c более низкими доходами от 50000 до 200000 число должников 8,5%.\n",
    "\n",
    "- По **цели кредита** чаще всего заемщики выплачивают кредит в срок, если они брали его для операций с недвижимостью (7,2% должников), затем на проведение свадьбы (7,9% должников).Реже всего выплачивают, если брали кредит для получения образования (9,2% должников) и для операций с автомобилем (9,3% должников). Предположительно часто заемщики берут ипотеку на единственное жилье, при его лишении все равно придется платить за съемное жилье, при этом плата не очень отличаться от ипотечного платежа, поэтому люди ответственнее относятся к выплате ипотеки. К тому же ипотеку можно взять только с внесением первоначального взноса, поэтому заемщики, которые не могут даже на него накопить, автоматически отсеиваются.\n",
    "    \n",
    "</div>  "
   ]
  },
  {
   "cell_type": "code",
   "execution_count": null,
   "id": "cd5dce30",
   "metadata": {},
   "outputs": [],
   "source": []
  }
 ],
 "metadata": {
  "ExecuteTimeLog": [
   {
    "duration": 47,
    "start_time": "2023-03-11T10:08:41.096Z"
   },
   {
    "duration": 563,
    "start_time": "2023-03-11T10:09:32.619Z"
   },
   {
    "duration": 24,
    "start_time": "2023-03-11T10:09:33.184Z"
   },
   {
    "duration": 23,
    "start_time": "2023-03-11T10:09:33.210Z"
   },
   {
    "duration": 14,
    "start_time": "2023-03-11T10:09:33.235Z"
   },
   {
    "duration": 34,
    "start_time": "2023-03-11T10:09:33.252Z"
   },
   {
    "duration": 3,
    "start_time": "2023-03-11T10:09:33.288Z"
   },
   {
    "duration": 29,
    "start_time": "2023-03-11T10:09:33.293Z"
   },
   {
    "duration": 8,
    "start_time": "2023-03-11T10:09:33.324Z"
   },
   {
    "duration": 16,
    "start_time": "2023-03-11T10:09:33.334Z"
   },
   {
    "duration": 12,
    "start_time": "2023-03-11T10:09:33.352Z"
   },
   {
    "duration": 39,
    "start_time": "2023-03-11T10:09:33.366Z"
   },
   {
    "duration": 22,
    "start_time": "2023-03-11T10:09:33.407Z"
   },
   {
    "duration": 5,
    "start_time": "2023-03-11T10:09:33.431Z"
   },
   {
    "duration": 17,
    "start_time": "2023-03-11T10:09:33.441Z"
   },
   {
    "duration": 19,
    "start_time": "2023-03-11T10:09:33.460Z"
   },
   {
    "duration": 45,
    "start_time": "2023-03-11T10:09:33.481Z"
   },
   {
    "duration": 5,
    "start_time": "2023-03-11T10:09:33.529Z"
   },
   {
    "duration": 15,
    "start_time": "2023-03-11T10:09:33.537Z"
   },
   {
    "duration": 6,
    "start_time": "2023-03-11T10:09:33.554Z"
   },
   {
    "duration": 4,
    "start_time": "2023-03-11T10:09:33.561Z"
   },
   {
    "duration": 14,
    "start_time": "2023-03-11T10:09:33.567Z"
   },
   {
    "duration": 67,
    "start_time": "2023-03-11T10:09:33.582Z"
   },
   {
    "duration": 16,
    "start_time": "2023-03-11T10:09:56.513Z"
   },
   {
    "duration": 16,
    "start_time": "2023-03-11T10:10:21.379Z"
   },
   {
    "duration": 27,
    "start_time": "2023-03-11T10:10:45.101Z"
   },
   {
    "duration": 16,
    "start_time": "2023-03-11T10:33:32.000Z"
   },
   {
    "duration": 14,
    "start_time": "2023-03-11T10:33:49.037Z"
   },
   {
    "duration": 13,
    "start_time": "2023-03-11T10:36:13.189Z"
   },
   {
    "duration": 163,
    "start_time": "2023-03-11T10:36:22.439Z"
   },
   {
    "duration": 142,
    "start_time": "2023-03-11T10:36:27.777Z"
   },
   {
    "duration": 15,
    "start_time": "2023-03-11T10:36:34.119Z"
   },
   {
    "duration": 18,
    "start_time": "2023-03-11T10:36:46.053Z"
   },
   {
    "duration": 38,
    "start_time": "2023-03-11T10:43:18.025Z"
   },
   {
    "duration": 20,
    "start_time": "2023-03-11T10:44:17.712Z"
   },
   {
    "duration": 17,
    "start_time": "2023-03-11T10:57:47.713Z"
   },
   {
    "duration": 476,
    "start_time": "2023-03-11T11:41:58.792Z"
   },
   {
    "duration": 23,
    "start_time": "2023-03-11T11:41:59.270Z"
   },
   {
    "duration": 28,
    "start_time": "2023-03-11T11:41:59.294Z"
   },
   {
    "duration": 12,
    "start_time": "2023-03-11T11:41:59.332Z"
   },
   {
    "duration": 34,
    "start_time": "2023-03-11T11:41:59.346Z"
   },
   {
    "duration": 3,
    "start_time": "2023-03-11T11:41:59.382Z"
   },
   {
    "duration": 9,
    "start_time": "2023-03-11T11:41:59.388Z"
   },
   {
    "duration": 25,
    "start_time": "2023-03-11T11:41:59.399Z"
   },
   {
    "duration": 9,
    "start_time": "2023-03-11T11:41:59.426Z"
   },
   {
    "duration": 4,
    "start_time": "2023-03-11T11:41:59.439Z"
   },
   {
    "duration": 34,
    "start_time": "2023-03-11T11:41:59.445Z"
   },
   {
    "duration": 44,
    "start_time": "2023-03-11T11:41:59.481Z"
   },
   {
    "duration": 7,
    "start_time": "2023-03-11T11:41:59.526Z"
   },
   {
    "duration": 14,
    "start_time": "2023-03-11T11:41:59.535Z"
   },
   {
    "duration": 21,
    "start_time": "2023-03-11T11:41:59.551Z"
   },
   {
    "duration": 19,
    "start_time": "2023-03-11T11:41:59.574Z"
   },
   {
    "duration": 26,
    "start_time": "2023-03-11T11:41:59.595Z"
   },
   {
    "duration": 15,
    "start_time": "2023-03-11T11:41:59.623Z"
   },
   {
    "duration": 6,
    "start_time": "2023-03-11T11:41:59.640Z"
   },
   {
    "duration": 5,
    "start_time": "2023-03-11T11:41:59.648Z"
   },
   {
    "duration": 12,
    "start_time": "2023-03-11T11:41:59.655Z"
   },
   {
    "duration": 57,
    "start_time": "2023-03-11T11:41:59.669Z"
   },
   {
    "duration": 14,
    "start_time": "2023-03-11T11:41:59.728Z"
   },
   {
    "duration": 13,
    "start_time": "2023-03-11T11:41:59.743Z"
   },
   {
    "duration": 13,
    "start_time": "2023-03-11T11:41:59.758Z"
   },
   {
    "duration": 472,
    "start_time": "2023-03-11T11:46:32.827Z"
   },
   {
    "duration": 24,
    "start_time": "2023-03-11T11:46:33.301Z"
   },
   {
    "duration": 17,
    "start_time": "2023-03-11T11:46:33.327Z"
   },
   {
    "duration": 11,
    "start_time": "2023-03-11T11:46:33.347Z"
   },
   {
    "duration": 42,
    "start_time": "2023-03-11T11:46:33.360Z"
   },
   {
    "duration": 3,
    "start_time": "2023-03-11T11:46:33.421Z"
   },
   {
    "duration": 9,
    "start_time": "2023-03-11T11:46:33.426Z"
   },
   {
    "duration": 4,
    "start_time": "2023-03-11T11:46:33.437Z"
   },
   {
    "duration": 8,
    "start_time": "2023-03-11T11:46:33.442Z"
   },
   {
    "duration": 8,
    "start_time": "2023-03-11T11:46:33.452Z"
   },
   {
    "duration": 59,
    "start_time": "2023-03-11T11:46:33.462Z"
   },
   {
    "duration": 9,
    "start_time": "2023-03-11T11:46:33.523Z"
   },
   {
    "duration": 3,
    "start_time": "2023-03-11T11:46:33.534Z"
   },
   {
    "duration": 11,
    "start_time": "2023-03-11T11:46:33.538Z"
   },
   {
    "duration": 22,
    "start_time": "2023-03-11T11:46:33.551Z"
   },
   {
    "duration": 47,
    "start_time": "2023-03-11T11:46:33.574Z"
   },
   {
    "duration": 3,
    "start_time": "2023-03-11T11:46:33.623Z"
   },
   {
    "duration": 12,
    "start_time": "2023-03-11T11:46:33.628Z"
   },
   {
    "duration": 6,
    "start_time": "2023-03-11T11:46:33.641Z"
   },
   {
    "duration": 4,
    "start_time": "2023-03-11T11:46:33.648Z"
   },
   {
    "duration": 12,
    "start_time": "2023-03-11T11:46:33.653Z"
   },
   {
    "duration": 55,
    "start_time": "2023-03-11T11:46:33.667Z"
   },
   {
    "duration": 13,
    "start_time": "2023-03-11T11:46:33.724Z"
   },
   {
    "duration": 12,
    "start_time": "2023-03-11T11:46:33.739Z"
   },
   {
    "duration": 13,
    "start_time": "2023-03-11T11:46:33.753Z"
   },
   {
    "duration": 56,
    "start_time": "2023-03-11T14:01:27.309Z"
   },
   {
    "duration": 744,
    "start_time": "2023-03-11T14:01:36.500Z"
   },
   {
    "duration": 24,
    "start_time": "2023-03-11T14:01:37.246Z"
   },
   {
    "duration": 17,
    "start_time": "2023-03-11T14:01:37.272Z"
   },
   {
    "duration": 16,
    "start_time": "2023-03-11T14:01:37.292Z"
   },
   {
    "duration": 61,
    "start_time": "2023-03-11T14:01:37.310Z"
   },
   {
    "duration": 4,
    "start_time": "2023-03-11T14:01:37.373Z"
   },
   {
    "duration": 13,
    "start_time": "2023-03-11T14:01:37.379Z"
   },
   {
    "duration": 5,
    "start_time": "2023-03-11T14:01:37.394Z"
   },
   {
    "duration": 25,
    "start_time": "2023-03-11T14:01:37.401Z"
   },
   {
    "duration": 15,
    "start_time": "2023-03-11T14:01:37.429Z"
   },
   {
    "duration": 45,
    "start_time": "2023-03-11T14:01:37.445Z"
   },
   {
    "duration": 11,
    "start_time": "2023-03-11T14:01:37.492Z"
   },
   {
    "duration": 4,
    "start_time": "2023-03-11T14:01:37.506Z"
   },
   {
    "duration": 22,
    "start_time": "2023-03-11T14:01:37.512Z"
   },
   {
    "duration": 23,
    "start_time": "2023-03-11T14:01:37.558Z"
   },
   {
    "duration": 27,
    "start_time": "2023-03-11T14:01:37.583Z"
   },
   {
    "duration": 4,
    "start_time": "2023-03-11T14:01:37.612Z"
   },
   {
    "duration": 42,
    "start_time": "2023-03-11T14:01:37.618Z"
   },
   {
    "duration": 9,
    "start_time": "2023-03-11T14:01:37.662Z"
   },
   {
    "duration": 6,
    "start_time": "2023-03-11T14:01:37.673Z"
   },
   {
    "duration": 22,
    "start_time": "2023-03-11T14:01:37.680Z"
   },
   {
    "duration": 36,
    "start_time": "2023-03-11T14:01:41.211Z"
   },
   {
    "duration": 51,
    "start_time": "2023-03-11T14:03:23.718Z"
   },
   {
    "duration": 33,
    "start_time": "2023-03-11T14:03:54.069Z"
   },
   {
    "duration": 23,
    "start_time": "2023-03-11T14:04:32.441Z"
   },
   {
    "duration": 35,
    "start_time": "2023-03-11T14:04:49.686Z"
   },
   {
    "duration": 23,
    "start_time": "2023-03-11T14:05:00.324Z"
   },
   {
    "duration": 30,
    "start_time": "2023-03-11T14:08:04.984Z"
   },
   {
    "duration": 26,
    "start_time": "2023-03-11T14:08:13.996Z"
   },
   {
    "duration": 24,
    "start_time": "2023-03-11T14:08:32.903Z"
   },
   {
    "duration": 23,
    "start_time": "2023-03-11T14:09:10.966Z"
   },
   {
    "duration": 30,
    "start_time": "2023-03-11T14:20:18.718Z"
   },
   {
    "duration": 94,
    "start_time": "2023-03-11T14:20:30.420Z"
   },
   {
    "duration": 33,
    "start_time": "2023-03-11T14:20:36.356Z"
   },
   {
    "duration": 572,
    "start_time": "2023-03-11T19:03:10.945Z"
   },
   {
    "duration": 22,
    "start_time": "2023-03-11T19:03:11.520Z"
   },
   {
    "duration": 19,
    "start_time": "2023-03-11T19:03:11.544Z"
   },
   {
    "duration": 10,
    "start_time": "2023-03-11T19:03:11.565Z"
   },
   {
    "duration": 33,
    "start_time": "2023-03-11T19:03:11.577Z"
   },
   {
    "duration": 5,
    "start_time": "2023-03-11T19:03:11.611Z"
   },
   {
    "duration": 10,
    "start_time": "2023-03-11T19:03:11.617Z"
   },
   {
    "duration": 4,
    "start_time": "2023-03-11T19:03:11.654Z"
   },
   {
    "duration": 11,
    "start_time": "2023-03-11T19:03:11.660Z"
   },
   {
    "duration": 5,
    "start_time": "2023-03-11T19:03:11.674Z"
   },
   {
    "duration": 31,
    "start_time": "2023-03-11T19:03:11.680Z"
   },
   {
    "duration": 10,
    "start_time": "2023-03-11T19:03:11.712Z"
   },
   {
    "duration": 33,
    "start_time": "2023-03-11T19:03:11.723Z"
   },
   {
    "duration": 17,
    "start_time": "2023-03-11T19:03:11.758Z"
   },
   {
    "duration": 21,
    "start_time": "2023-03-11T19:03:11.777Z"
   },
   {
    "duration": 17,
    "start_time": "2023-03-11T19:03:11.799Z"
   },
   {
    "duration": 4,
    "start_time": "2023-03-11T19:03:11.818Z"
   },
   {
    "duration": 41,
    "start_time": "2023-03-11T19:03:11.823Z"
   },
   {
    "duration": 6,
    "start_time": "2023-03-11T19:03:11.866Z"
   },
   {
    "duration": 3,
    "start_time": "2023-03-11T19:03:11.874Z"
   },
   {
    "duration": 11,
    "start_time": "2023-03-11T19:03:11.879Z"
   },
   {
    "duration": 25,
    "start_time": "2023-03-11T19:03:11.892Z"
   },
   {
    "duration": 37,
    "start_time": "2023-03-11T19:03:11.918Z"
   },
   {
    "duration": 18,
    "start_time": "2023-03-11T19:03:11.958Z"
   },
   {
    "duration": 12,
    "start_time": "2023-03-11T19:03:11.978Z"
   },
   {
    "duration": 534,
    "start_time": "2023-03-11T19:04:32.129Z"
   },
   {
    "duration": 26,
    "start_time": "2023-03-11T19:04:32.665Z"
   },
   {
    "duration": 20,
    "start_time": "2023-03-11T19:04:32.693Z"
   },
   {
    "duration": 27,
    "start_time": "2023-03-11T19:04:32.716Z"
   },
   {
    "duration": 52,
    "start_time": "2023-03-11T19:04:32.745Z"
   },
   {
    "duration": 4,
    "start_time": "2023-03-11T19:04:32.800Z"
   },
   {
    "duration": 10,
    "start_time": "2023-03-11T19:04:32.806Z"
   },
   {
    "duration": 5,
    "start_time": "2023-03-11T19:04:32.818Z"
   },
   {
    "duration": 7,
    "start_time": "2023-03-11T19:04:32.824Z"
   },
   {
    "duration": 23,
    "start_time": "2023-03-11T19:04:32.834Z"
   },
   {
    "duration": 43,
    "start_time": "2023-03-11T19:04:32.859Z"
   },
   {
    "duration": 16,
    "start_time": "2023-03-11T19:04:32.904Z"
   },
   {
    "duration": 11,
    "start_time": "2023-03-11T19:04:32.922Z"
   },
   {
    "duration": 33,
    "start_time": "2023-03-11T19:04:32.935Z"
   },
   {
    "duration": 24,
    "start_time": "2023-03-11T19:04:32.970Z"
   },
   {
    "duration": 20,
    "start_time": "2023-03-11T19:04:32.996Z"
   },
   {
    "duration": 3,
    "start_time": "2023-03-11T19:04:33.018Z"
   },
   {
    "duration": 48,
    "start_time": "2023-03-11T19:04:33.023Z"
   },
   {
    "duration": 14,
    "start_time": "2023-03-11T19:04:33.072Z"
   },
   {
    "duration": 5,
    "start_time": "2023-03-11T19:04:33.087Z"
   },
   {
    "duration": 21,
    "start_time": "2023-03-11T19:04:33.093Z"
   },
   {
    "duration": 39,
    "start_time": "2023-03-11T19:04:33.116Z"
   },
   {
    "duration": 19,
    "start_time": "2023-03-11T19:04:33.156Z"
   },
   {
    "duration": 15,
    "start_time": "2023-03-11T19:04:33.177Z"
   },
   {
    "duration": 16,
    "start_time": "2023-03-11T19:04:33.193Z"
   },
   {
    "duration": 688,
    "start_time": "2023-03-12T13:12:04.575Z"
   },
   {
    "duration": 24,
    "start_time": "2023-03-12T13:12:05.265Z"
   },
   {
    "duration": 19,
    "start_time": "2023-03-12T13:12:05.291Z"
   },
   {
    "duration": 8,
    "start_time": "2023-03-12T13:12:05.311Z"
   },
   {
    "duration": 34,
    "start_time": "2023-03-12T13:12:05.321Z"
   },
   {
    "duration": 3,
    "start_time": "2023-03-12T13:12:05.357Z"
   },
   {
    "duration": 20,
    "start_time": "2023-03-12T13:12:05.361Z"
   },
   {
    "duration": 15,
    "start_time": "2023-03-12T13:12:05.383Z"
   },
   {
    "duration": 19,
    "start_time": "2023-03-12T13:12:05.399Z"
   },
   {
    "duration": 19,
    "start_time": "2023-03-12T13:12:05.420Z"
   },
   {
    "duration": 33,
    "start_time": "2023-03-12T13:12:05.440Z"
   },
   {
    "duration": 9,
    "start_time": "2023-03-12T13:12:05.475Z"
   },
   {
    "duration": 22,
    "start_time": "2023-03-12T13:12:05.486Z"
   },
   {
    "duration": 34,
    "start_time": "2023-03-12T13:12:05.510Z"
   },
   {
    "duration": 24,
    "start_time": "2023-03-12T13:12:05.546Z"
   },
   {
    "duration": 16,
    "start_time": "2023-03-12T13:12:05.571Z"
   },
   {
    "duration": 17,
    "start_time": "2023-03-12T13:12:05.589Z"
   },
   {
    "duration": 25,
    "start_time": "2023-03-12T13:12:05.608Z"
   },
   {
    "duration": 30,
    "start_time": "2023-03-12T13:12:05.634Z"
   },
   {
    "duration": 37,
    "start_time": "2023-03-12T13:12:05.666Z"
   },
   {
    "duration": 24,
    "start_time": "2023-03-12T13:12:05.705Z"
   },
   {
    "duration": 31,
    "start_time": "2023-03-12T13:12:05.730Z"
   },
   {
    "duration": 12,
    "start_time": "2023-03-12T13:12:05.763Z"
   },
   {
    "duration": 37,
    "start_time": "2023-03-12T13:12:05.776Z"
   },
   {
    "duration": 25,
    "start_time": "2023-03-12T13:12:05.815Z"
   },
   {
    "duration": 29,
    "start_time": "2023-03-12T13:12:05.841Z"
   },
   {
    "duration": 14,
    "start_time": "2023-03-12T13:16:02.055Z"
   },
   {
    "duration": 20,
    "start_time": "2023-03-12T13:16:12.754Z"
   },
   {
    "duration": 17,
    "start_time": "2023-03-12T13:16:44.619Z"
   },
   {
    "duration": 46,
    "start_time": "2023-04-15T12:04:44.441Z"
   },
   {
    "duration": 42,
    "start_time": "2023-04-15T12:04:54.109Z"
   },
   {
    "duration": 515,
    "start_time": "2023-04-15T12:22:43.074Z"
   },
   {
    "duration": 23,
    "start_time": "2023-04-15T12:22:43.591Z"
   },
   {
    "duration": 15,
    "start_time": "2023-04-15T12:22:43.616Z"
   },
   {
    "duration": 13,
    "start_time": "2023-04-15T12:22:43.633Z"
   },
   {
    "duration": 69,
    "start_time": "2023-04-15T12:22:43.649Z"
   },
   {
    "duration": 3,
    "start_time": "2023-04-15T12:22:43.720Z"
   },
   {
    "duration": 12,
    "start_time": "2023-04-15T12:22:43.725Z"
   },
   {
    "duration": 4,
    "start_time": "2023-04-15T12:22:43.738Z"
   },
   {
    "duration": 8,
    "start_time": "2023-04-15T12:22:43.744Z"
   },
   {
    "duration": 17,
    "start_time": "2023-04-15T12:22:43.753Z"
   },
   {
    "duration": 53,
    "start_time": "2023-04-15T12:22:43.772Z"
   },
   {
    "duration": 11,
    "start_time": "2023-04-15T12:22:43.827Z"
   },
   {
    "duration": 5,
    "start_time": "2023-04-15T12:22:43.839Z"
   },
   {
    "duration": 15,
    "start_time": "2023-04-15T12:22:43.846Z"
   },
   {
    "duration": 33,
    "start_time": "2023-04-15T12:22:43.862Z"
   },
   {
    "duration": 17,
    "start_time": "2023-04-15T12:22:43.897Z"
   },
   {
    "duration": 5,
    "start_time": "2023-04-15T12:22:43.915Z"
   },
   {
    "duration": 23,
    "start_time": "2023-04-15T12:22:43.921Z"
   },
   {
    "duration": 5,
    "start_time": "2023-04-15T12:22:43.946Z"
   },
   {
    "duration": 3,
    "start_time": "2023-04-15T12:22:43.953Z"
   },
   {
    "duration": 36,
    "start_time": "2023-04-15T12:22:43.958Z"
   },
   {
    "duration": 38,
    "start_time": "2023-04-15T12:22:43.997Z"
   },
   {
    "duration": 24,
    "start_time": "2023-04-15T12:22:44.037Z"
   },
   {
    "duration": 31,
    "start_time": "2023-04-15T12:22:44.063Z"
   },
   {
    "duration": 18,
    "start_time": "2023-04-15T12:22:44.096Z"
   }
  ],
  "colab": {
   "name": "dpp_template_part2.ipynb",
   "provenance": []
  },
  "kernelspec": {
   "display_name": "Python 3 (ipykernel)",
   "language": "python",
   "name": "python3"
  },
  "language_info": {
   "codemirror_mode": {
    "name": "ipython",
    "version": 3
   },
   "file_extension": ".py",
   "mimetype": "text/x-python",
   "name": "python",
   "nbconvert_exporter": "python",
   "pygments_lexer": "ipython3",
   "version": "3.9.13"
  },
  "toc": {
   "base_numbering": 1,
   "nav_menu": {},
   "number_sections": true,
   "sideBar": true,
   "skip_h1_title": true,
   "title_cell": "Table of Contents",
   "title_sidebar": "Contents",
   "toc_cell": false,
   "toc_position": {},
   "toc_section_display": true,
   "toc_window_display": true
  }
 },
 "nbformat": 4,
 "nbformat_minor": 5
}
