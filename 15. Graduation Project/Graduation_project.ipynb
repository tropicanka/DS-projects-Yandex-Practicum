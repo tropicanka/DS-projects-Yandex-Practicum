{
 "cells": [
  {
   "cell_type": "markdown",
   "metadata": {
    "id": "OpA6g0_I6mKA"
   },
   "source": [
    "# Прогнозирование оттока клиента оператора связи"
   ]
  },
  {
   "cell_type": "markdown",
   "metadata": {
    "id": "moCo5BxO6mKB"
   },
   "source": [
    "Оператор связи «Ниединогоразрыва.ком» хочет научиться прогнозировать отток клиентов. Предстоит разработать прототип модели, которая подскажет с кем из клиентов следует поработать над удержанием, чтобы они не ушли от заказчика. Если выяснится, что пользователь планирует уйти, ему будут предложены промокоды и специальные условия. Команда оператора собрала персональные данные о некоторых клиентах, информацию об их тарифах и договорах."
   ]
  },
  {
   "cell_type": "markdown",
   "metadata": {
    "id": "S39oD6Lp6mKB"
   },
   "source": [
    "**Описание услуг**\n",
    "\n",
    "Оператор предоставляет два основных типа услуг:\n",
    "1.\tСтационарную телефонную связь. Возможно подключение телефонного аппарата к нескольким линиям одновременно.\n",
    "2.\tИнтернет. Подключение может быть двух типов: через телефонную линию (DSL, от англ. digital subscriber line, «цифровая абонентская линия») или оптоволоконный кабель (Fiber optic).\n",
    "\n",
    "Также доступны такие услуги:\n",
    "* Интернет-безопасность: антивирус (DeviceProtection) и блокировка небезопасных сайтов (OnlineSecurity);\n",
    "* Выделенная линия технической поддержки (TechSupport);\n",
    "* Облачное хранилище файлов для резервного копирования данных (OnlineBackup);\n",
    "* Стриминговое телевидение (StreamingTV) и каталог фильмов (StreamingMovies).\n",
    "\n",
    "За услуги клиенты могут платить каждый месяц или заключить договор на 1–2 года. Доступны различные способы расчёта и возможность получения электронного чека."
   ]
  },
  {
   "cell_type": "markdown",
   "metadata": {
    "id": "gxJCNfdZ6mKC"
   },
   "source": [
    "**Описание данных**\n",
    "\n",
    "Данные состоят из файлов, полученных из разных источников:\n",
    "* contract_new.csv — информация о договоре;\n",
    "* personal_new.csv — персональные данные клиента;\n",
    "* internet_new.csv — информация об интернет-услугах;\n",
    "* phone_new.csv — информация об услугах телефонии.\n",
    "\n",
    "Во всех файлах столбец `customerID` содержит код клиента.\n",
    "Информация о договорах актуальна на 1 февраля 2020.\n",
    "\n",
    "**Целевой признак**: факт ухода клиента, этот признак можно получить из признака EndDate датасета с договорами."
   ]
  },
  {
   "cell_type": "markdown",
   "metadata": {
    "id": "yY7vyX0T6mKD"
   },
   "source": [
    "**Критерии оценки модели**: ROC-AUC должен быть не менее 0.85."
   ]
  },
  {
   "cell_type": "markdown",
   "metadata": {
    "id": "Ebio5rIW6mKD"
   },
   "source": [
    "## Обзор данных"
   ]
  },
  {
   "cell_type": "markdown",
   "metadata": {
    "id": "OhJN2mlf6mKE"
   },
   "source": [
    "Импортируем нужные библиотеки, считаем данные из датасетов и напишем функцию, отвечающую за их первичный анализ."
   ]
  },
  {
   "cell_type": "code",
   "execution_count": 1,
   "metadata": {
    "colab": {
     "base_uri": "https://localhost:8080/",
     "height": 17
    },
    "id": "TjH4VMjM6mKE",
    "outputId": "c4570080-399d-47d1-f891-582b3300a08d"
   },
   "outputs": [
    {
     "data": {
      "text/html": [
       "<style>.container { width:90% !important; }</style>"
      ],
      "text/plain": [
       "<IPython.core.display.HTML object>"
      ]
     },
     "metadata": {},
     "output_type": "display_data"
    }
   ],
   "source": [
    "# перейдем в широкоформатный режим\n",
    "from IPython.core.display import display, HTML\n",
    "display(HTML(\"<style>.container { width:90% !important; }</style>\"))"
   ]
  },
  {
   "cell_type": "code",
   "execution_count": 2,
   "metadata": {
    "colab": {
     "base_uri": "https://localhost:8080/"
    },
    "id": "ZSzYyNrQ6mKH",
    "outputId": "1a4566f3-934e-492c-87a6-27588e0ba9b9"
   },
   "outputs": [
    {
     "name": "stdout",
     "output_type": "stream",
     "text": [
      "\u001b[2K     \u001b[90m━━━━━━━━━━━━━━━━━━━━━━━━━━━━━━━━━━━━━━━━\u001b[0m \u001b[32m98.7/98.7 MB\u001b[0m \u001b[31m6.8 MB/s\u001b[0m eta \u001b[36m0:00:00\u001b[0m\n",
      "\u001b[?25h"
     ]
    }
   ],
   "source": [
    "# установим необходимые библиотеки\n",
    "!pip install -q catboost"
   ]
  },
  {
   "cell_type": "code",
   "execution_count": 3,
   "metadata": {
    "id": "3Ua4bCdC6mKI"
   },
   "outputs": [],
   "source": [
    "# импортируем необходимые библиотеки\n",
    "import pandas as pd\n",
    "import matplotlib.pyplot as plt\n",
    "import seaborn as sns\n",
    "import numpy as np\n",
    "\n",
    "from datetime import datetime\n",
    "\n",
    "from sklearn.compose import ColumnTransformer\n",
    "from sklearn.metrics import roc_auc_score, confusion_matrix\n",
    "from sklearn.model_selection import train_test_split, GridSearchCV\n",
    "from sklearn.pipeline import Pipeline\n",
    "from sklearn.preprocessing import OneHotEncoder, OrdinalEncoder, StandardScaler\n",
    "from sklearn.ensemble import RandomForestClassifier\n",
    "from sklearn.linear_model import LogisticRegression\n",
    "from sklearn.dummy import DummyClassifier\n",
    "\n",
    "from numpy.random import RandomState\n",
    "from lightgbm import LGBMClassifier\n",
    "from catboost import CatBoostClassifier"
   ]
  },
  {
   "cell_type": "code",
   "execution_count": 4,
   "metadata": {
    "id": "iqWiH7ip6mKI"
   },
   "outputs": [],
   "source": [
    "# начальное состояние генератора случайных чисел\n",
    "RANDOM_STATE = 250923"
   ]
  },
  {
   "cell_type": "code",
   "execution_count": 5,
   "metadata": {
    "id": "rB0YFLY66mKI"
   },
   "outputs": [],
   "source": [
    "# считаем датафреймы\n",
    "data_contract = pd.read_csv('/datasets/contract_new.csv')\n",
    "data_personal = pd.read_csv('/datasets/personal_new.csv')\n",
    "data_internet = pd.read_csv('/datasets/internet_new.csv')\n",
    "data_phone = pd.read_csv('/datasets/phone_new.csv')"
   ]
  },
  {
   "cell_type": "code",
   "execution_count": 6,
   "metadata": {
    "id": "XLp-9IBq6mKJ"
   },
   "outputs": [],
   "source": [
    "# напишем функцию, выполняющую первичный анализ данных\n",
    "def overview_data(data):\n",
    "    # выведем первые 20 строк\n",
    "    display(data.head(20))\n",
    "    # выведем информацию о датафрейме\n",
    "    data.info()\n",
    "\n",
    "    # выведем описание данных\n",
    "    display(data.describe())\n",
    "\n",
    "    # построим общую гистограмму для всех числовых признаков таблицы, если они есть\n",
    "    if len(data.dtypes[data.dtypes != 'object']) > 0:\n",
    "        data.hist(figsize=(15, 15), bins=20);\n",
    "        plt.show()\n",
    "\n",
    "    # выберем категориальные признаки\n",
    "    categorical_columns = data.select_dtypes(include=['object'])\n",
    "\n",
    "    # выведем уникальные значения для категориальных признаков\n",
    "    for column in categorical_columns:\n",
    "        print(f'Распределение значений в столбце {column}:')\n",
    "        print(data[column].value_counts())\n",
    "        print('\\n')\n",
    "\n",
    "    # посчитаем количество явных дубликатов\n",
    "    print('Количество явных дубликатов в таблице:', data.duplicated().sum())"
   ]
  },
  {
   "cell_type": "code",
   "execution_count": 7,
   "metadata": {
    "colab": {
     "base_uri": "https://localhost:8080/",
     "height": 1000
    },
    "id": "agxxmIlJ6mKJ",
    "outputId": "c7e48911-89b6-46b1-81d8-3b786546900e"
   },
   "outputs": [
    {
     "data": {
      "text/html": [
       "\n",
       "  <div id=\"df-6b3eff0d-0898-41b2-b6af-f51e8fed5e97\" class=\"colab-df-container\">\n",
       "    <div>\n",
       "<style scoped>\n",
       "    .dataframe tbody tr th:only-of-type {\n",
       "        vertical-align: middle;\n",
       "    }\n",
       "\n",
       "    .dataframe tbody tr th {\n",
       "        vertical-align: top;\n",
       "    }\n",
       "\n",
       "    .dataframe thead th {\n",
       "        text-align: right;\n",
       "    }\n",
       "</style>\n",
       "<table border=\"1\" class=\"dataframe\">\n",
       "  <thead>\n",
       "    <tr style=\"text-align: right;\">\n",
       "      <th></th>\n",
       "      <th>customerID</th>\n",
       "      <th>BeginDate</th>\n",
       "      <th>EndDate</th>\n",
       "      <th>Type</th>\n",
       "      <th>PaperlessBilling</th>\n",
       "      <th>PaymentMethod</th>\n",
       "      <th>MonthlyCharges</th>\n",
       "      <th>TotalCharges</th>\n",
       "    </tr>\n",
       "  </thead>\n",
       "  <tbody>\n",
       "    <tr>\n",
       "      <th>0</th>\n",
       "      <td>7590-VHVEG</td>\n",
       "      <td>2020-01-01</td>\n",
       "      <td>No</td>\n",
       "      <td>Month-to-month</td>\n",
       "      <td>Yes</td>\n",
       "      <td>Electronic check</td>\n",
       "      <td>29.85</td>\n",
       "      <td>31.04</td>\n",
       "    </tr>\n",
       "    <tr>\n",
       "      <th>1</th>\n",
       "      <td>5575-GNVDE</td>\n",
       "      <td>2017-04-01</td>\n",
       "      <td>No</td>\n",
       "      <td>One year</td>\n",
       "      <td>No</td>\n",
       "      <td>Mailed check</td>\n",
       "      <td>56.95</td>\n",
       "      <td>2071.84</td>\n",
       "    </tr>\n",
       "    <tr>\n",
       "      <th>2</th>\n",
       "      <td>3668-QPYBK</td>\n",
       "      <td>2019-10-01</td>\n",
       "      <td>No</td>\n",
       "      <td>Month-to-month</td>\n",
       "      <td>Yes</td>\n",
       "      <td>Mailed check</td>\n",
       "      <td>53.85</td>\n",
       "      <td>226.17</td>\n",
       "    </tr>\n",
       "    <tr>\n",
       "      <th>3</th>\n",
       "      <td>7795-CFOCW</td>\n",
       "      <td>2016-05-01</td>\n",
       "      <td>No</td>\n",
       "      <td>One year</td>\n",
       "      <td>No</td>\n",
       "      <td>Bank transfer (automatic)</td>\n",
       "      <td>42.30</td>\n",
       "      <td>1960.6</td>\n",
       "    </tr>\n",
       "    <tr>\n",
       "      <th>4</th>\n",
       "      <td>9237-HQITU</td>\n",
       "      <td>2019-09-01</td>\n",
       "      <td>No</td>\n",
       "      <td>Month-to-month</td>\n",
       "      <td>Yes</td>\n",
       "      <td>Electronic check</td>\n",
       "      <td>70.70</td>\n",
       "      <td>353.5</td>\n",
       "    </tr>\n",
       "    <tr>\n",
       "      <th>5</th>\n",
       "      <td>9305-CDSKC</td>\n",
       "      <td>2019-03-01</td>\n",
       "      <td>No</td>\n",
       "      <td>Month-to-month</td>\n",
       "      <td>Yes</td>\n",
       "      <td>Electronic check</td>\n",
       "      <td>99.65</td>\n",
       "      <td>1150.96</td>\n",
       "    </tr>\n",
       "    <tr>\n",
       "      <th>6</th>\n",
       "      <td>1452-KIOVK</td>\n",
       "      <td>2018-04-01</td>\n",
       "      <td>No</td>\n",
       "      <td>Month-to-month</td>\n",
       "      <td>Yes</td>\n",
       "      <td>Credit card (automatic)</td>\n",
       "      <td>89.10</td>\n",
       "      <td>2058.21</td>\n",
       "    </tr>\n",
       "    <tr>\n",
       "      <th>7</th>\n",
       "      <td>6713-OKOMC</td>\n",
       "      <td>2019-04-01</td>\n",
       "      <td>No</td>\n",
       "      <td>Month-to-month</td>\n",
       "      <td>No</td>\n",
       "      <td>Mailed check</td>\n",
       "      <td>29.75</td>\n",
       "      <td>300.48</td>\n",
       "    </tr>\n",
       "    <tr>\n",
       "      <th>8</th>\n",
       "      <td>7892-POOKP</td>\n",
       "      <td>2017-07-01</td>\n",
       "      <td>No</td>\n",
       "      <td>Month-to-month</td>\n",
       "      <td>Yes</td>\n",
       "      <td>Electronic check</td>\n",
       "      <td>104.80</td>\n",
       "      <td>3573.68</td>\n",
       "    </tr>\n",
       "    <tr>\n",
       "      <th>9</th>\n",
       "      <td>6388-TABGU</td>\n",
       "      <td>2014-12-01</td>\n",
       "      <td>2017-05-01</td>\n",
       "      <td>One year</td>\n",
       "      <td>No</td>\n",
       "      <td>Bank transfer (automatic)</td>\n",
       "      <td>56.15</td>\n",
       "      <td>1628.35</td>\n",
       "    </tr>\n",
       "    <tr>\n",
       "      <th>10</th>\n",
       "      <td>9763-GRSKD</td>\n",
       "      <td>2019-01-01</td>\n",
       "      <td>No</td>\n",
       "      <td>Month-to-month</td>\n",
       "      <td>Yes</td>\n",
       "      <td>Mailed check</td>\n",
       "      <td>49.95</td>\n",
       "      <td>649.35</td>\n",
       "    </tr>\n",
       "    <tr>\n",
       "      <th>11</th>\n",
       "      <td>7469-LKBCI</td>\n",
       "      <td>2018-10-01</td>\n",
       "      <td>No</td>\n",
       "      <td>Two year</td>\n",
       "      <td>No</td>\n",
       "      <td>Credit card (automatic)</td>\n",
       "      <td>18.95</td>\n",
       "      <td>312.3</td>\n",
       "    </tr>\n",
       "    <tr>\n",
       "      <th>12</th>\n",
       "      <td>8091-TTVAX</td>\n",
       "      <td>2015-04-01</td>\n",
       "      <td>No</td>\n",
       "      <td>One year</td>\n",
       "      <td>No</td>\n",
       "      <td>Credit card (automatic)</td>\n",
       "      <td>100.35</td>\n",
       "      <td>6111.31</td>\n",
       "    </tr>\n",
       "    <tr>\n",
       "      <th>13</th>\n",
       "      <td>0280-XJGEX</td>\n",
       "      <td>2015-09-01</td>\n",
       "      <td>No</td>\n",
       "      <td>Month-to-month</td>\n",
       "      <td>Yes</td>\n",
       "      <td>Bank transfer (automatic)</td>\n",
       "      <td>103.70</td>\n",
       "      <td>5496.1</td>\n",
       "    </tr>\n",
       "    <tr>\n",
       "      <th>14</th>\n",
       "      <td>5129-JLPIS</td>\n",
       "      <td>2018-01-01</td>\n",
       "      <td>No</td>\n",
       "      <td>Month-to-month</td>\n",
       "      <td>Yes</td>\n",
       "      <td>Electronic check</td>\n",
       "      <td>105.50</td>\n",
       "      <td>2637.5</td>\n",
       "    </tr>\n",
       "    <tr>\n",
       "      <th>15</th>\n",
       "      <td>3655-SNQYZ</td>\n",
       "      <td>2014-05-01</td>\n",
       "      <td>2016-03-01</td>\n",
       "      <td>Two year</td>\n",
       "      <td>No</td>\n",
       "      <td>Credit card (automatic)</td>\n",
       "      <td>113.25</td>\n",
       "      <td>2491.5</td>\n",
       "    </tr>\n",
       "    <tr>\n",
       "      <th>16</th>\n",
       "      <td>8191-XWSZG</td>\n",
       "      <td>2015-10-01</td>\n",
       "      <td>No</td>\n",
       "      <td>One year</td>\n",
       "      <td>No</td>\n",
       "      <td>Mailed check</td>\n",
       "      <td>20.65</td>\n",
       "      <td>1106.01</td>\n",
       "    </tr>\n",
       "    <tr>\n",
       "      <th>17</th>\n",
       "      <td>9959-WOFKT</td>\n",
       "      <td>2014-03-01</td>\n",
       "      <td>No</td>\n",
       "      <td>Two year</td>\n",
       "      <td>No</td>\n",
       "      <td>Bank transfer (automatic)</td>\n",
       "      <td>106.70</td>\n",
       "      <td>8257.51</td>\n",
       "    </tr>\n",
       "    <tr>\n",
       "      <th>18</th>\n",
       "      <td>4190-MFLUW</td>\n",
       "      <td>2019-01-01</td>\n",
       "      <td>No</td>\n",
       "      <td>Month-to-month</td>\n",
       "      <td>No</td>\n",
       "      <td>Credit card (automatic)</td>\n",
       "      <td>55.20</td>\n",
       "      <td>789.36</td>\n",
       "    </tr>\n",
       "    <tr>\n",
       "      <th>19</th>\n",
       "      <td>4183-MYFRB</td>\n",
       "      <td>2018-05-01</td>\n",
       "      <td>No</td>\n",
       "      <td>Month-to-month</td>\n",
       "      <td>Yes</td>\n",
       "      <td>Electronic check</td>\n",
       "      <td>90.05</td>\n",
       "      <td>1891.05</td>\n",
       "    </tr>\n",
       "  </tbody>\n",
       "</table>\n",
       "</div>\n",
       "    <div class=\"colab-df-buttons\">\n",
       "\n",
       "  <div class=\"colab-df-container\">\n",
       "    <button class=\"colab-df-convert\" onclick=\"convertToInteractive('df-6b3eff0d-0898-41b2-b6af-f51e8fed5e97')\"\n",
       "            title=\"Convert this dataframe to an interactive table.\"\n",
       "            style=\"display:none;\">\n",
       "\n",
       "  <svg xmlns=\"http://www.w3.org/2000/svg\" height=\"24px\" viewBox=\"0 -960 960 960\">\n",
       "    <path d=\"M120-120v-720h720v720H120Zm60-500h600v-160H180v160Zm220 220h160v-160H400v160Zm0 220h160v-160H400v160ZM180-400h160v-160H180v160Zm440 0h160v-160H620v160ZM180-180h160v-160H180v160Zm440 0h160v-160H620v160Z\"/>\n",
       "  </svg>\n",
       "    </button>\n",
       "\n",
       "  <style>\n",
       "    .colab-df-container {\n",
       "      display:flex;\n",
       "      gap: 12px;\n",
       "    }\n",
       "\n",
       "    .colab-df-convert {\n",
       "      background-color: #E8F0FE;\n",
       "      border: none;\n",
       "      border-radius: 50%;\n",
       "      cursor: pointer;\n",
       "      display: none;\n",
       "      fill: #1967D2;\n",
       "      height: 32px;\n",
       "      padding: 0 0 0 0;\n",
       "      width: 32px;\n",
       "    }\n",
       "\n",
       "    .colab-df-convert:hover {\n",
       "      background-color: #E2EBFA;\n",
       "      box-shadow: 0px 1px 2px rgba(60, 64, 67, 0.3), 0px 1px 3px 1px rgba(60, 64, 67, 0.15);\n",
       "      fill: #174EA6;\n",
       "    }\n",
       "\n",
       "    .colab-df-buttons div {\n",
       "      margin-bottom: 4px;\n",
       "    }\n",
       "\n",
       "    [theme=dark] .colab-df-convert {\n",
       "      background-color: #3B4455;\n",
       "      fill: #D2E3FC;\n",
       "    }\n",
       "\n",
       "    [theme=dark] .colab-df-convert:hover {\n",
       "      background-color: #434B5C;\n",
       "      box-shadow: 0px 1px 3px 1px rgba(0, 0, 0, 0.15);\n",
       "      filter: drop-shadow(0px 1px 2px rgba(0, 0, 0, 0.3));\n",
       "      fill: #FFFFFF;\n",
       "    }\n",
       "  </style>\n",
       "\n",
       "    <script>\n",
       "      const buttonEl =\n",
       "        document.querySelector('#df-6b3eff0d-0898-41b2-b6af-f51e8fed5e97 button.colab-df-convert');\n",
       "      buttonEl.style.display =\n",
       "        google.colab.kernel.accessAllowed ? 'block' : 'none';\n",
       "\n",
       "      async function convertToInteractive(key) {\n",
       "        const element = document.querySelector('#df-6b3eff0d-0898-41b2-b6af-f51e8fed5e97');\n",
       "        const dataTable =\n",
       "          await google.colab.kernel.invokeFunction('convertToInteractive',\n",
       "                                                    [key], {});\n",
       "        if (!dataTable) return;\n",
       "\n",
       "        const docLinkHtml = 'Like what you see? Visit the ' +\n",
       "          '<a target=\"_blank\" href=https://colab.research.google.com/notebooks/data_table.ipynb>data table notebook</a>'\n",
       "          + ' to learn more about interactive tables.';\n",
       "        element.innerHTML = '';\n",
       "        dataTable['output_type'] = 'display_data';\n",
       "        await google.colab.output.renderOutput(dataTable, element);\n",
       "        const docLink = document.createElement('div');\n",
       "        docLink.innerHTML = docLinkHtml;\n",
       "        element.appendChild(docLink);\n",
       "      }\n",
       "    </script>\n",
       "  </div>\n",
       "\n",
       "\n",
       "<div id=\"df-63d146c0-c1dd-4a6a-be48-71b82a181733\">\n",
       "  <button class=\"colab-df-quickchart\" onclick=\"quickchart('df-63d146c0-c1dd-4a6a-be48-71b82a181733')\"\n",
       "            title=\"Suggest charts.\"\n",
       "            style=\"display:none;\">\n",
       "\n",
       "<svg xmlns=\"http://www.w3.org/2000/svg\" height=\"24px\"viewBox=\"0 0 24 24\"\n",
       "     width=\"24px\">\n",
       "    <g>\n",
       "        <path d=\"M19 3H5c-1.1 0-2 .9-2 2v14c0 1.1.9 2 2 2h14c1.1 0 2-.9 2-2V5c0-1.1-.9-2-2-2zM9 17H7v-7h2v7zm4 0h-2V7h2v10zm4 0h-2v-4h2v4z\"/>\n",
       "    </g>\n",
       "</svg>\n",
       "  </button>\n",
       "\n",
       "<style>\n",
       "  .colab-df-quickchart {\n",
       "      --bg-color: #E8F0FE;\n",
       "      --fill-color: #1967D2;\n",
       "      --hover-bg-color: #E2EBFA;\n",
       "      --hover-fill-color: #174EA6;\n",
       "      --disabled-fill-color: #AAA;\n",
       "      --disabled-bg-color: #DDD;\n",
       "  }\n",
       "\n",
       "  [theme=dark] .colab-df-quickchart {\n",
       "      --bg-color: #3B4455;\n",
       "      --fill-color: #D2E3FC;\n",
       "      --hover-bg-color: #434B5C;\n",
       "      --hover-fill-color: #FFFFFF;\n",
       "      --disabled-bg-color: #3B4455;\n",
       "      --disabled-fill-color: #666;\n",
       "  }\n",
       "\n",
       "  .colab-df-quickchart {\n",
       "    background-color: var(--bg-color);\n",
       "    border: none;\n",
       "    border-radius: 50%;\n",
       "    cursor: pointer;\n",
       "    display: none;\n",
       "    fill: var(--fill-color);\n",
       "    height: 32px;\n",
       "    padding: 0;\n",
       "    width: 32px;\n",
       "  }\n",
       "\n",
       "  .colab-df-quickchart:hover {\n",
       "    background-color: var(--hover-bg-color);\n",
       "    box-shadow: 0 1px 2px rgba(60, 64, 67, 0.3), 0 1px 3px 1px rgba(60, 64, 67, 0.15);\n",
       "    fill: var(--button-hover-fill-color);\n",
       "  }\n",
       "\n",
       "  .colab-df-quickchart-complete:disabled,\n",
       "  .colab-df-quickchart-complete:disabled:hover {\n",
       "    background-color: var(--disabled-bg-color);\n",
       "    fill: var(--disabled-fill-color);\n",
       "    box-shadow: none;\n",
       "  }\n",
       "\n",
       "  .colab-df-spinner {\n",
       "    border: 2px solid var(--fill-color);\n",
       "    border-color: transparent;\n",
       "    border-bottom-color: var(--fill-color);\n",
       "    animation:\n",
       "      spin 1s steps(1) infinite;\n",
       "  }\n",
       "\n",
       "  @keyframes spin {\n",
       "    0% {\n",
       "      border-color: transparent;\n",
       "      border-bottom-color: var(--fill-color);\n",
       "      border-left-color: var(--fill-color);\n",
       "    }\n",
       "    20% {\n",
       "      border-color: transparent;\n",
       "      border-left-color: var(--fill-color);\n",
       "      border-top-color: var(--fill-color);\n",
       "    }\n",
       "    30% {\n",
       "      border-color: transparent;\n",
       "      border-left-color: var(--fill-color);\n",
       "      border-top-color: var(--fill-color);\n",
       "      border-right-color: var(--fill-color);\n",
       "    }\n",
       "    40% {\n",
       "      border-color: transparent;\n",
       "      border-right-color: var(--fill-color);\n",
       "      border-top-color: var(--fill-color);\n",
       "    }\n",
       "    60% {\n",
       "      border-color: transparent;\n",
       "      border-right-color: var(--fill-color);\n",
       "    }\n",
       "    80% {\n",
       "      border-color: transparent;\n",
       "      border-right-color: var(--fill-color);\n",
       "      border-bottom-color: var(--fill-color);\n",
       "    }\n",
       "    90% {\n",
       "      border-color: transparent;\n",
       "      border-bottom-color: var(--fill-color);\n",
       "    }\n",
       "  }\n",
       "</style>\n",
       "\n",
       "  <script>\n",
       "    async function quickchart(key) {\n",
       "      const quickchartButtonEl =\n",
       "        document.querySelector('#' + key + ' button');\n",
       "      quickchartButtonEl.disabled = true;  // To prevent multiple clicks.\n",
       "      quickchartButtonEl.classList.add('colab-df-spinner');\n",
       "      try {\n",
       "        const charts = await google.colab.kernel.invokeFunction(\n",
       "            'suggestCharts', [key], {});\n",
       "      } catch (error) {\n",
       "        console.error('Error during call to suggestCharts:', error);\n",
       "      }\n",
       "      quickchartButtonEl.classList.remove('colab-df-spinner');\n",
       "      quickchartButtonEl.classList.add('colab-df-quickchart-complete');\n",
       "    }\n",
       "    (() => {\n",
       "      let quickchartButtonEl =\n",
       "        document.querySelector('#df-63d146c0-c1dd-4a6a-be48-71b82a181733 button');\n",
       "      quickchartButtonEl.style.display =\n",
       "        google.colab.kernel.accessAllowed ? 'block' : 'none';\n",
       "    })();\n",
       "  </script>\n",
       "</div>\n",
       "    </div>\n",
       "  </div>\n"
      ],
      "text/plain": [
       "    customerID   BeginDate     EndDate            Type PaperlessBilling  \\\n",
       "0   7590-VHVEG  2020-01-01          No  Month-to-month              Yes   \n",
       "1   5575-GNVDE  2017-04-01          No        One year               No   \n",
       "2   3668-QPYBK  2019-10-01          No  Month-to-month              Yes   \n",
       "3   7795-CFOCW  2016-05-01          No        One year               No   \n",
       "4   9237-HQITU  2019-09-01          No  Month-to-month              Yes   \n",
       "5   9305-CDSKC  2019-03-01          No  Month-to-month              Yes   \n",
       "6   1452-KIOVK  2018-04-01          No  Month-to-month              Yes   \n",
       "7   6713-OKOMC  2019-04-01          No  Month-to-month               No   \n",
       "8   7892-POOKP  2017-07-01          No  Month-to-month              Yes   \n",
       "9   6388-TABGU  2014-12-01  2017-05-01        One year               No   \n",
       "10  9763-GRSKD  2019-01-01          No  Month-to-month              Yes   \n",
       "11  7469-LKBCI  2018-10-01          No        Two year               No   \n",
       "12  8091-TTVAX  2015-04-01          No        One year               No   \n",
       "13  0280-XJGEX  2015-09-01          No  Month-to-month              Yes   \n",
       "14  5129-JLPIS  2018-01-01          No  Month-to-month              Yes   \n",
       "15  3655-SNQYZ  2014-05-01  2016-03-01        Two year               No   \n",
       "16  8191-XWSZG  2015-10-01          No        One year               No   \n",
       "17  9959-WOFKT  2014-03-01          No        Two year               No   \n",
       "18  4190-MFLUW  2019-01-01          No  Month-to-month               No   \n",
       "19  4183-MYFRB  2018-05-01          No  Month-to-month              Yes   \n",
       "\n",
       "                PaymentMethod  MonthlyCharges TotalCharges  \n",
       "0            Electronic check           29.85        31.04  \n",
       "1                Mailed check           56.95      2071.84  \n",
       "2                Mailed check           53.85       226.17  \n",
       "3   Bank transfer (automatic)           42.30       1960.6  \n",
       "4            Electronic check           70.70        353.5  \n",
       "5            Electronic check           99.65      1150.96  \n",
       "6     Credit card (automatic)           89.10      2058.21  \n",
       "7                Mailed check           29.75       300.48  \n",
       "8            Electronic check          104.80      3573.68  \n",
       "9   Bank transfer (automatic)           56.15      1628.35  \n",
       "10               Mailed check           49.95       649.35  \n",
       "11    Credit card (automatic)           18.95        312.3  \n",
       "12    Credit card (automatic)          100.35      6111.31  \n",
       "13  Bank transfer (automatic)          103.70       5496.1  \n",
       "14           Electronic check          105.50       2637.5  \n",
       "15    Credit card (automatic)          113.25       2491.5  \n",
       "16               Mailed check           20.65      1106.01  \n",
       "17  Bank transfer (automatic)          106.70      8257.51  \n",
       "18    Credit card (automatic)           55.20       789.36  \n",
       "19           Electronic check           90.05      1891.05  "
      ]
     },
     "metadata": {},
     "output_type": "display_data"
    },
    {
     "name": "stdout",
     "output_type": "stream",
     "text": [
      "<class 'pandas.core.frame.DataFrame'>\n",
      "RangeIndex: 7043 entries, 0 to 7042\n",
      "Data columns (total 8 columns):\n",
      " #   Column            Non-Null Count  Dtype  \n",
      "---  ------            --------------  -----  \n",
      " 0   customerID        7043 non-null   object \n",
      " 1   BeginDate         7043 non-null   object \n",
      " 2   EndDate           7043 non-null   object \n",
      " 3   Type              7043 non-null   object \n",
      " 4   PaperlessBilling  7043 non-null   object \n",
      " 5   PaymentMethod     7043 non-null   object \n",
      " 6   MonthlyCharges    7043 non-null   float64\n",
      " 7   TotalCharges      7043 non-null   object \n",
      "dtypes: float64(1), object(7)\n",
      "memory usage: 440.3+ KB\n"
     ]
    },
    {
     "data": {
      "text/html": [
       "\n",
       "  <div id=\"df-973fec48-d958-47e7-8f5f-337a8a3b91eb\" class=\"colab-df-container\">\n",
       "    <div>\n",
       "<style scoped>\n",
       "    .dataframe tbody tr th:only-of-type {\n",
       "        vertical-align: middle;\n",
       "    }\n",
       "\n",
       "    .dataframe tbody tr th {\n",
       "        vertical-align: top;\n",
       "    }\n",
       "\n",
       "    .dataframe thead th {\n",
       "        text-align: right;\n",
       "    }\n",
       "</style>\n",
       "<table border=\"1\" class=\"dataframe\">\n",
       "  <thead>\n",
       "    <tr style=\"text-align: right;\">\n",
       "      <th></th>\n",
       "      <th>MonthlyCharges</th>\n",
       "    </tr>\n",
       "  </thead>\n",
       "  <tbody>\n",
       "    <tr>\n",
       "      <th>count</th>\n",
       "      <td>7043.000000</td>\n",
       "    </tr>\n",
       "    <tr>\n",
       "      <th>mean</th>\n",
       "      <td>64.761692</td>\n",
       "    </tr>\n",
       "    <tr>\n",
       "      <th>std</th>\n",
       "      <td>30.090047</td>\n",
       "    </tr>\n",
       "    <tr>\n",
       "      <th>min</th>\n",
       "      <td>18.250000</td>\n",
       "    </tr>\n",
       "    <tr>\n",
       "      <th>25%</th>\n",
       "      <td>35.500000</td>\n",
       "    </tr>\n",
       "    <tr>\n",
       "      <th>50%</th>\n",
       "      <td>70.350000</td>\n",
       "    </tr>\n",
       "    <tr>\n",
       "      <th>75%</th>\n",
       "      <td>89.850000</td>\n",
       "    </tr>\n",
       "    <tr>\n",
       "      <th>max</th>\n",
       "      <td>118.750000</td>\n",
       "    </tr>\n",
       "  </tbody>\n",
       "</table>\n",
       "</div>\n",
       "    <div class=\"colab-df-buttons\">\n",
       "\n",
       "  <div class=\"colab-df-container\">\n",
       "    <button class=\"colab-df-convert\" onclick=\"convertToInteractive('df-973fec48-d958-47e7-8f5f-337a8a3b91eb')\"\n",
       "            title=\"Convert this dataframe to an interactive table.\"\n",
       "            style=\"display:none;\">\n",
       "\n",
       "  <svg xmlns=\"http://www.w3.org/2000/svg\" height=\"24px\" viewBox=\"0 -960 960 960\">\n",
       "    <path d=\"M120-120v-720h720v720H120Zm60-500h600v-160H180v160Zm220 220h160v-160H400v160Zm0 220h160v-160H400v160ZM180-400h160v-160H180v160Zm440 0h160v-160H620v160ZM180-180h160v-160H180v160Zm440 0h160v-160H620v160Z\"/>\n",
       "  </svg>\n",
       "    </button>\n",
       "\n",
       "  <style>\n",
       "    .colab-df-container {\n",
       "      display:flex;\n",
       "      gap: 12px;\n",
       "    }\n",
       "\n",
       "    .colab-df-convert {\n",
       "      background-color: #E8F0FE;\n",
       "      border: none;\n",
       "      border-radius: 50%;\n",
       "      cursor: pointer;\n",
       "      display: none;\n",
       "      fill: #1967D2;\n",
       "      height: 32px;\n",
       "      padding: 0 0 0 0;\n",
       "      width: 32px;\n",
       "    }\n",
       "\n",
       "    .colab-df-convert:hover {\n",
       "      background-color: #E2EBFA;\n",
       "      box-shadow: 0px 1px 2px rgba(60, 64, 67, 0.3), 0px 1px 3px 1px rgba(60, 64, 67, 0.15);\n",
       "      fill: #174EA6;\n",
       "    }\n",
       "\n",
       "    .colab-df-buttons div {\n",
       "      margin-bottom: 4px;\n",
       "    }\n",
       "\n",
       "    [theme=dark] .colab-df-convert {\n",
       "      background-color: #3B4455;\n",
       "      fill: #D2E3FC;\n",
       "    }\n",
       "\n",
       "    [theme=dark] .colab-df-convert:hover {\n",
       "      background-color: #434B5C;\n",
       "      box-shadow: 0px 1px 3px 1px rgba(0, 0, 0, 0.15);\n",
       "      filter: drop-shadow(0px 1px 2px rgba(0, 0, 0, 0.3));\n",
       "      fill: #FFFFFF;\n",
       "    }\n",
       "  </style>\n",
       "\n",
       "    <script>\n",
       "      const buttonEl =\n",
       "        document.querySelector('#df-973fec48-d958-47e7-8f5f-337a8a3b91eb button.colab-df-convert');\n",
       "      buttonEl.style.display =\n",
       "        google.colab.kernel.accessAllowed ? 'block' : 'none';\n",
       "\n",
       "      async function convertToInteractive(key) {\n",
       "        const element = document.querySelector('#df-973fec48-d958-47e7-8f5f-337a8a3b91eb');\n",
       "        const dataTable =\n",
       "          await google.colab.kernel.invokeFunction('convertToInteractive',\n",
       "                                                    [key], {});\n",
       "        if (!dataTable) return;\n",
       "\n",
       "        const docLinkHtml = 'Like what you see? Visit the ' +\n",
       "          '<a target=\"_blank\" href=https://colab.research.google.com/notebooks/data_table.ipynb>data table notebook</a>'\n",
       "          + ' to learn more about interactive tables.';\n",
       "        element.innerHTML = '';\n",
       "        dataTable['output_type'] = 'display_data';\n",
       "        await google.colab.output.renderOutput(dataTable, element);\n",
       "        const docLink = document.createElement('div');\n",
       "        docLink.innerHTML = docLinkHtml;\n",
       "        element.appendChild(docLink);\n",
       "      }\n",
       "    </script>\n",
       "  </div>\n",
       "\n",
       "\n",
       "<div id=\"df-d8a7bb44-a44e-4598-b47d-c110614e9de3\">\n",
       "  <button class=\"colab-df-quickchart\" onclick=\"quickchart('df-d8a7bb44-a44e-4598-b47d-c110614e9de3')\"\n",
       "            title=\"Suggest charts.\"\n",
       "            style=\"display:none;\">\n",
       "\n",
       "<svg xmlns=\"http://www.w3.org/2000/svg\" height=\"24px\"viewBox=\"0 0 24 24\"\n",
       "     width=\"24px\">\n",
       "    <g>\n",
       "        <path d=\"M19 3H5c-1.1 0-2 .9-2 2v14c0 1.1.9 2 2 2h14c1.1 0 2-.9 2-2V5c0-1.1-.9-2-2-2zM9 17H7v-7h2v7zm4 0h-2V7h2v10zm4 0h-2v-4h2v4z\"/>\n",
       "    </g>\n",
       "</svg>\n",
       "  </button>\n",
       "\n",
       "<style>\n",
       "  .colab-df-quickchart {\n",
       "      --bg-color: #E8F0FE;\n",
       "      --fill-color: #1967D2;\n",
       "      --hover-bg-color: #E2EBFA;\n",
       "      --hover-fill-color: #174EA6;\n",
       "      --disabled-fill-color: #AAA;\n",
       "      --disabled-bg-color: #DDD;\n",
       "  }\n",
       "\n",
       "  [theme=dark] .colab-df-quickchart {\n",
       "      --bg-color: #3B4455;\n",
       "      --fill-color: #D2E3FC;\n",
       "      --hover-bg-color: #434B5C;\n",
       "      --hover-fill-color: #FFFFFF;\n",
       "      --disabled-bg-color: #3B4455;\n",
       "      --disabled-fill-color: #666;\n",
       "  }\n",
       "\n",
       "  .colab-df-quickchart {\n",
       "    background-color: var(--bg-color);\n",
       "    border: none;\n",
       "    border-radius: 50%;\n",
       "    cursor: pointer;\n",
       "    display: none;\n",
       "    fill: var(--fill-color);\n",
       "    height: 32px;\n",
       "    padding: 0;\n",
       "    width: 32px;\n",
       "  }\n",
       "\n",
       "  .colab-df-quickchart:hover {\n",
       "    background-color: var(--hover-bg-color);\n",
       "    box-shadow: 0 1px 2px rgba(60, 64, 67, 0.3), 0 1px 3px 1px rgba(60, 64, 67, 0.15);\n",
       "    fill: var(--button-hover-fill-color);\n",
       "  }\n",
       "\n",
       "  .colab-df-quickchart-complete:disabled,\n",
       "  .colab-df-quickchart-complete:disabled:hover {\n",
       "    background-color: var(--disabled-bg-color);\n",
       "    fill: var(--disabled-fill-color);\n",
       "    box-shadow: none;\n",
       "  }\n",
       "\n",
       "  .colab-df-spinner {\n",
       "    border: 2px solid var(--fill-color);\n",
       "    border-color: transparent;\n",
       "    border-bottom-color: var(--fill-color);\n",
       "    animation:\n",
       "      spin 1s steps(1) infinite;\n",
       "  }\n",
       "\n",
       "  @keyframes spin {\n",
       "    0% {\n",
       "      border-color: transparent;\n",
       "      border-bottom-color: var(--fill-color);\n",
       "      border-left-color: var(--fill-color);\n",
       "    }\n",
       "    20% {\n",
       "      border-color: transparent;\n",
       "      border-left-color: var(--fill-color);\n",
       "      border-top-color: var(--fill-color);\n",
       "    }\n",
       "    30% {\n",
       "      border-color: transparent;\n",
       "      border-left-color: var(--fill-color);\n",
       "      border-top-color: var(--fill-color);\n",
       "      border-right-color: var(--fill-color);\n",
       "    }\n",
       "    40% {\n",
       "      border-color: transparent;\n",
       "      border-right-color: var(--fill-color);\n",
       "      border-top-color: var(--fill-color);\n",
       "    }\n",
       "    60% {\n",
       "      border-color: transparent;\n",
       "      border-right-color: var(--fill-color);\n",
       "    }\n",
       "    80% {\n",
       "      border-color: transparent;\n",
       "      border-right-color: var(--fill-color);\n",
       "      border-bottom-color: var(--fill-color);\n",
       "    }\n",
       "    90% {\n",
       "      border-color: transparent;\n",
       "      border-bottom-color: var(--fill-color);\n",
       "    }\n",
       "  }\n",
       "</style>\n",
       "\n",
       "  <script>\n",
       "    async function quickchart(key) {\n",
       "      const quickchartButtonEl =\n",
       "        document.querySelector('#' + key + ' button');\n",
       "      quickchartButtonEl.disabled = true;  // To prevent multiple clicks.\n",
       "      quickchartButtonEl.classList.add('colab-df-spinner');\n",
       "      try {\n",
       "        const charts = await google.colab.kernel.invokeFunction(\n",
       "            'suggestCharts', [key], {});\n",
       "      } catch (error) {\n",
       "        console.error('Error during call to suggestCharts:', error);\n",
       "      }\n",
       "      quickchartButtonEl.classList.remove('colab-df-spinner');\n",
       "      quickchartButtonEl.classList.add('colab-df-quickchart-complete');\n",
       "    }\n",
       "    (() => {\n",
       "      let quickchartButtonEl =\n",
       "        document.querySelector('#df-d8a7bb44-a44e-4598-b47d-c110614e9de3 button');\n",
       "      quickchartButtonEl.style.display =\n",
       "        google.colab.kernel.accessAllowed ? 'block' : 'none';\n",
       "    })();\n",
       "  </script>\n",
       "</div>\n",
       "    </div>\n",
       "  </div>\n"
      ],
      "text/plain": [
       "       MonthlyCharges\n",
       "count     7043.000000\n",
       "mean        64.761692\n",
       "std         30.090047\n",
       "min         18.250000\n",
       "25%         35.500000\n",
       "50%         70.350000\n",
       "75%         89.850000\n",
       "max        118.750000"
      ]
     },
     "metadata": {},
     "output_type": "display_data"
    },
    {
     "data": {
      "image/png": "[encoded data removed]",
      "text/plain": [
       "<Figure size 1500x1500 with 1 Axes>"
      ]
     },
     "metadata": {},
     "output_type": "display_data"
    },
    {
     "name": "stdout",
     "output_type": "stream",
     "text": [
      "Распределение значений в столбце customerID:\n",
      "7590-VHVEG    1\n",
      "3791-LGQCY    1\n",
      "6008-NAIXK    1\n",
      "5956-YHHRX    1\n",
      "5365-LLFYV    1\n",
      "             ..\n",
      "9796-MVYXX    1\n",
      "2637-FKFSY    1\n",
      "1552-AAGRX    1\n",
      "4304-TSPVK    1\n",
      "3186-AJIEK    1\n",
      "Name: customerID, Length: 7043, dtype: int64\n",
      "\n",
      "\n",
      "Распределение значений в столбце BeginDate:\n",
      "2014-02-01    366\n",
      "2019-10-01    237\n",
      "2019-11-01    237\n",
      "2019-09-01    237\n",
      "2020-01-01    233\n",
      "             ... \n",
      "2020-02-01     11\n",
      "2014-01-01      7\n",
      "2013-10-01      3\n",
      "2013-12-01      3\n",
      "2013-11-01      2\n",
      "Name: BeginDate, Length: 77, dtype: int64\n",
      "\n",
      "\n",
      "Распределение значений в столбце EndDate:\n",
      "No            5942\n",
      "2020-01-01      39\n",
      "2019-12-01      38\n",
      "2018-11-01      35\n",
      "2019-09-01      32\n",
      "              ... \n",
      "2014-09-01       2\n",
      "2014-12-01       2\n",
      "2014-06-01       1\n",
      "2014-10-01       1\n",
      "2014-11-01       1\n",
      "Name: EndDate, Length: 67, dtype: int64\n",
      "\n",
      "\n",
      "Распределение значений в столбце Type:\n",
      "Month-to-month    3875\n",
      "Two year          1695\n",
      "One year          1473\n",
      "Name: Type, dtype: int64\n",
      "\n",
      "\n",
      "Распределение значений в столбце PaperlessBilling:\n",
      "Yes    4171\n",
      "No     2872\n",
      "Name: PaperlessBilling, dtype: int64\n",
      "\n",
      "\n",
      "Распределение значений в столбце PaymentMethod:\n",
      "Electronic check             2365\n",
      "Mailed check                 1612\n",
      "Bank transfer (automatic)    1544\n",
      "Credit card (automatic)      1522\n",
      "Name: PaymentMethod, dtype: int64\n",
      "\n",
      "\n",
      "Распределение значений в столбце TotalCharges:\n",
      "           11\n",
      "20.45       6\n",
      "101.0       5\n",
      "21.53       4\n",
      "40.1        4\n",
      "           ..\n",
      "4357.5      1\n",
      "3509.55     1\n",
      "2530.8      1\n",
      "2599.1      1\n",
      "7251.82     1\n",
      "Name: TotalCharges, Length: 6658, dtype: int64\n",
      "\n",
      "\n",
      "Количество явных дубликатов в таблице: 0\n"
     ]
    }
   ],
   "source": [
    "# выполним первичный анализ данных о договорах\n",
    "overview_data(data_contract)"
   ]
  },
  {
   "cell_type": "markdown",
   "metadata": {
    "id": "VZIgvvPw6mKK"
   },
   "source": [
    "По данным о договорах заметим следующее:\n",
    "* в датасете 7043 записи, значения `customerID` уникальны,\n",
    "* пропусков нет,\n",
    "* явных дубликатов нет,\n",
    "* есть только один числовой признак `MonthlyCharges`, но `TotalCharges` по значениям в нем тоже является числовым, нужно будет изменить его тип,\n",
    "* в числовом признаке `MonthlyCharges` выбросов нет\n",
    "* типы призаков `BeginDate` и `EndDate` должны бы быть типа дата, но далее лучше создадим на основе этих двух признаков два новых признака - факт ухода клиента от опреатора связи и количество дней, которые он являлся клиентов оператора."
   ]
  },
  {
   "cell_type": "code",
   "execution_count": 8,
   "metadata": {
    "colab": {
     "base_uri": "https://localhost:8080/",
     "height": 1000
    },
    "id": "M2jm7sqk6mKK",
    "outputId": "3513b99c-afdd-4bf6-d0ae-b6a118a9cb70"
   },
   "outputs": [
    {
     "data": {
      "text/html": [
       "\n",
       "  <div id=\"df-70b80674-af60-491c-93a8-c7473292d3c3\" class=\"colab-df-container\">\n",
       "    <div>\n",
       "<style scoped>\n",
       "    .dataframe tbody tr th:only-of-type {\n",
       "        vertical-align: middle;\n",
       "    }\n",
       "\n",
       "    .dataframe tbody tr th {\n",
       "        vertical-align: top;\n",
       "    }\n",
       "\n",
       "    .dataframe thead th {\n",
       "        text-align: right;\n",
       "    }\n",
       "</style>\n",
       "<table border=\"1\" class=\"dataframe\">\n",
       "  <thead>\n",
       "    <tr style=\"text-align: right;\">\n",
       "      <th></th>\n",
       "      <th>customerID</th>\n",
       "      <th>gender</th>\n",
       "      <th>SeniorCitizen</th>\n",
       "      <th>Partner</th>\n",
       "      <th>Dependents</th>\n",
       "    </tr>\n",
       "  </thead>\n",
       "  <tbody>\n",
       "    <tr>\n",
       "      <th>0</th>\n",
       "      <td>7590-VHVEG</td>\n",
       "      <td>Female</td>\n",
       "      <td>0</td>\n",
       "      <td>Yes</td>\n",
       "      <td>No</td>\n",
       "    </tr>\n",
       "    <tr>\n",
       "      <th>1</th>\n",
       "      <td>5575-GNVDE</td>\n",
       "      <td>Male</td>\n",
       "      <td>0</td>\n",
       "      <td>No</td>\n",
       "      <td>No</td>\n",
       "    </tr>\n",
       "    <tr>\n",
       "      <th>2</th>\n",
       "      <td>3668-QPYBK</td>\n",
       "      <td>Male</td>\n",
       "      <td>0</td>\n",
       "      <td>No</td>\n",
       "      <td>No</td>\n",
       "    </tr>\n",
       "    <tr>\n",
       "      <th>3</th>\n",
       "      <td>7795-CFOCW</td>\n",
       "      <td>Male</td>\n",
       "      <td>0</td>\n",
       "      <td>No</td>\n",
       "      <td>No</td>\n",
       "    </tr>\n",
       "    <tr>\n",
       "      <th>4</th>\n",
       "      <td>9237-HQITU</td>\n",
       "      <td>Female</td>\n",
       "      <td>0</td>\n",
       "      <td>No</td>\n",
       "      <td>No</td>\n",
       "    </tr>\n",
       "    <tr>\n",
       "      <th>5</th>\n",
       "      <td>9305-CDSKC</td>\n",
       "      <td>Female</td>\n",
       "      <td>0</td>\n",
       "      <td>No</td>\n",
       "      <td>No</td>\n",
       "    </tr>\n",
       "    <tr>\n",
       "      <th>6</th>\n",
       "      <td>1452-KIOVK</td>\n",
       "      <td>Male</td>\n",
       "      <td>0</td>\n",
       "      <td>No</td>\n",
       "      <td>Yes</td>\n",
       "    </tr>\n",
       "    <tr>\n",
       "      <th>7</th>\n",
       "      <td>6713-OKOMC</td>\n",
       "      <td>Female</td>\n",
       "      <td>0</td>\n",
       "      <td>No</td>\n",
       "      <td>No</td>\n",
       "    </tr>\n",
       "    <tr>\n",
       "      <th>8</th>\n",
       "      <td>7892-POOKP</td>\n",
       "      <td>Female</td>\n",
       "      <td>0</td>\n",
       "      <td>Yes</td>\n",
       "      <td>No</td>\n",
       "    </tr>\n",
       "    <tr>\n",
       "      <th>9</th>\n",
       "      <td>6388-TABGU</td>\n",
       "      <td>Male</td>\n",
       "      <td>0</td>\n",
       "      <td>No</td>\n",
       "      <td>Yes</td>\n",
       "    </tr>\n",
       "    <tr>\n",
       "      <th>10</th>\n",
       "      <td>9763-GRSKD</td>\n",
       "      <td>Male</td>\n",
       "      <td>0</td>\n",
       "      <td>Yes</td>\n",
       "      <td>Yes</td>\n",
       "    </tr>\n",
       "    <tr>\n",
       "      <th>11</th>\n",
       "      <td>7469-LKBCI</td>\n",
       "      <td>Male</td>\n",
       "      <td>0</td>\n",
       "      <td>No</td>\n",
       "      <td>No</td>\n",
       "    </tr>\n",
       "    <tr>\n",
       "      <th>12</th>\n",
       "      <td>8091-TTVAX</td>\n",
       "      <td>Male</td>\n",
       "      <td>0</td>\n",
       "      <td>Yes</td>\n",
       "      <td>No</td>\n",
       "    </tr>\n",
       "    <tr>\n",
       "      <th>13</th>\n",
       "      <td>0280-XJGEX</td>\n",
       "      <td>Male</td>\n",
       "      <td>0</td>\n",
       "      <td>No</td>\n",
       "      <td>No</td>\n",
       "    </tr>\n",
       "    <tr>\n",
       "      <th>14</th>\n",
       "      <td>5129-JLPIS</td>\n",
       "      <td>Male</td>\n",
       "      <td>0</td>\n",
       "      <td>No</td>\n",
       "      <td>No</td>\n",
       "    </tr>\n",
       "    <tr>\n",
       "      <th>15</th>\n",
       "      <td>3655-SNQYZ</td>\n",
       "      <td>Female</td>\n",
       "      <td>0</td>\n",
       "      <td>Yes</td>\n",
       "      <td>Yes</td>\n",
       "    </tr>\n",
       "    <tr>\n",
       "      <th>16</th>\n",
       "      <td>8191-XWSZG</td>\n",
       "      <td>Female</td>\n",
       "      <td>0</td>\n",
       "      <td>No</td>\n",
       "      <td>No</td>\n",
       "    </tr>\n",
       "    <tr>\n",
       "      <th>17</th>\n",
       "      <td>9959-WOFKT</td>\n",
       "      <td>Male</td>\n",
       "      <td>0</td>\n",
       "      <td>No</td>\n",
       "      <td>Yes</td>\n",
       "    </tr>\n",
       "    <tr>\n",
       "      <th>18</th>\n",
       "      <td>4190-MFLUW</td>\n",
       "      <td>Female</td>\n",
       "      <td>0</td>\n",
       "      <td>Yes</td>\n",
       "      <td>Yes</td>\n",
       "    </tr>\n",
       "    <tr>\n",
       "      <th>19</th>\n",
       "      <td>4183-MYFRB</td>\n",
       "      <td>Female</td>\n",
       "      <td>0</td>\n",
       "      <td>No</td>\n",
       "      <td>No</td>\n",
       "    </tr>\n",
       "  </tbody>\n",
       "</table>\n",
       "</div>\n",
       "    <div class=\"colab-df-buttons\">\n",
       "\n",
       "  <div class=\"colab-df-container\">\n",
       "    <button class=\"colab-df-convert\" onclick=\"convertToInteractive('df-70b80674-af60-491c-93a8-c7473292d3c3')\"\n",
       "            title=\"Convert this dataframe to an interactive table.\"\n",
       "            style=\"display:none;\">\n",
       "\n",
       "  <svg xmlns=\"http://www.w3.org/2000/svg\" height=\"24px\" viewBox=\"0 -960 960 960\">\n",
       "    <path d=\"M120-120v-720h720v720H120Zm60-500h600v-160H180v160Zm220 220h160v-160H400v160Zm0 220h160v-160H400v160ZM180-400h160v-160H180v160Zm440 0h160v-160H620v160ZM180-180h160v-160H180v160Zm440 0h160v-160H620v160Z\"/>\n",
       "  </svg>\n",
       "    </button>\n",
       "\n",
       "  <style>\n",
       "    .colab-df-container {\n",
       "      display:flex;\n",
       "      gap: 12px;\n",
       "    }\n",
       "\n",
       "    .colab-df-convert {\n",
       "      background-color: #E8F0FE;\n",
       "      border: none;\n",
       "      border-radius: 50%;\n",
       "      cursor: pointer;\n",
       "      display: none;\n",
       "      fill: #1967D2;\n",
       "      height: 32px;\n",
       "      padding: 0 0 0 0;\n",
       "      width: 32px;\n",
       "    }\n",
       "\n",
       "    .colab-df-convert:hover {\n",
       "      background-color: #E2EBFA;\n",
       "      box-shadow: 0px 1px 2px rgba(60, 64, 67, 0.3), 0px 1px 3px 1px rgba(60, 64, 67, 0.15);\n",
       "      fill: #174EA6;\n",
       "    }\n",
       "\n",
       "    .colab-df-buttons div {\n",
       "      margin-bottom: 4px;\n",
       "    }\n",
       "\n",
       "    [theme=dark] .colab-df-convert {\n",
       "      background-color: #3B4455;\n",
       "      fill: #D2E3FC;\n",
       "    }\n",
       "\n",
       "    [theme=dark] .colab-df-convert:hover {\n",
       "      background-color: #434B5C;\n",
       "      box-shadow: 0px 1px 3px 1px rgba(0, 0, 0, 0.15);\n",
       "      filter: drop-shadow(0px 1px 2px rgba(0, 0, 0, 0.3));\n",
       "      fill: #FFFFFF;\n",
       "    }\n",
       "  </style>\n",
       "\n",
       "    <script>\n",
       "      const buttonEl =\n",
       "        document.querySelector('#df-70b80674-af60-491c-93a8-c7473292d3c3 button.colab-df-convert');\n",
       "      buttonEl.style.display =\n",
       "        google.colab.kernel.accessAllowed ? 'block' : 'none';\n",
       "\n",
       "      async function convertToInteractive(key) {\n",
       "        const element = document.querySelector('#df-70b80674-af60-491c-93a8-c7473292d3c3');\n",
       "        const dataTable =\n",
       "          await google.colab.kernel.invokeFunction('convertToInteractive',\n",
       "                                                    [key], {});\n",
       "        if (!dataTable) return;\n",
       "\n",
       "        const docLinkHtml = 'Like what you see? Visit the ' +\n",
       "          '<a target=\"_blank\" href=https://colab.research.google.com/notebooks/data_table.ipynb>data table notebook</a>'\n",
       "          + ' to learn more about interactive tables.';\n",
       "        element.innerHTML = '';\n",
       "        dataTable['output_type'] = 'display_data';\n",
       "        await google.colab.output.renderOutput(dataTable, element);\n",
       "        const docLink = document.createElement('div');\n",
       "        docLink.innerHTML = docLinkHtml;\n",
       "        element.appendChild(docLink);\n",
       "      }\n",
       "    </script>\n",
       "  </div>\n",
       "\n",
       "\n",
       "<div id=\"df-5d728be8-6b30-4ec1-b9f6-72e95257be16\">\n",
       "  <button class=\"colab-df-quickchart\" onclick=\"quickchart('df-5d728be8-6b30-4ec1-b9f6-72e95257be16')\"\n",
       "            title=\"Suggest charts.\"\n",
       "            style=\"display:none;\">\n",
       "\n",
       "<svg xmlns=\"http://www.w3.org/2000/svg\" height=\"24px\"viewBox=\"0 0 24 24\"\n",
       "     width=\"24px\">\n",
       "    <g>\n",
       "        <path d=\"M19 3H5c-1.1 0-2 .9-2 2v14c0 1.1.9 2 2 2h14c1.1 0 2-.9 2-2V5c0-1.1-.9-2-2-2zM9 17H7v-7h2v7zm4 0h-2V7h2v10zm4 0h-2v-4h2v4z\"/>\n",
       "    </g>\n",
       "</svg>\n",
       "  </button>\n",
       "\n",
       "<style>\n",
       "  .colab-df-quickchart {\n",
       "      --bg-color: #E8F0FE;\n",
       "      --fill-color: #1967D2;\n",
       "      --hover-bg-color: #E2EBFA;\n",
       "      --hover-fill-color: #174EA6;\n",
       "      --disabled-fill-color: #AAA;\n",
       "      --disabled-bg-color: #DDD;\n",
       "  }\n",
       "\n",
       "  [theme=dark] .colab-df-quickchart {\n",
       "      --bg-color: #3B4455;\n",
       "      --fill-color: #D2E3FC;\n",
       "      --hover-bg-color: #434B5C;\n",
       "      --hover-fill-color: #FFFFFF;\n",
       "      --disabled-bg-color: #3B4455;\n",
       "      --disabled-fill-color: #666;\n",
       "  }\n",
       "\n",
       "  .colab-df-quickchart {\n",
       "    background-color: var(--bg-color);\n",
       "    border: none;\n",
       "    border-radius: 50%;\n",
       "    cursor: pointer;\n",
       "    display: none;\n",
       "    fill: var(--fill-color);\n",
       "    height: 32px;\n",
       "    padding: 0;\n",
       "    width: 32px;\n",
       "  }\n",
       "\n",
       "  .colab-df-quickchart:hover {\n",
       "    background-color: var(--hover-bg-color);\n",
       "    box-shadow: 0 1px 2px rgba(60, 64, 67, 0.3), 0 1px 3px 1px rgba(60, 64, 67, 0.15);\n",
       "    fill: var(--button-hover-fill-color);\n",
       "  }\n",
       "\n",
       "  .colab-df-quickchart-complete:disabled,\n",
       "  .colab-df-quickchart-complete:disabled:hover {\n",
       "    background-color: var(--disabled-bg-color);\n",
       "    fill: var(--disabled-fill-color);\n",
       "    box-shadow: none;\n",
       "  }\n",
       "\n",
       "  .colab-df-spinner {\n",
       "    border: 2px solid var(--fill-color);\n",
       "    border-color: transparent;\n",
       "    border-bottom-color: var(--fill-color);\n",
       "    animation:\n",
       "      spin 1s steps(1) infinite;\n",
       "  }\n",
       "\n",
       "  @keyframes spin {\n",
       "    0% {\n",
       "      border-color: transparent;\n",
       "      border-bottom-color: var(--fill-color);\n",
       "      border-left-color: var(--fill-color);\n",
       "    }\n",
       "    20% {\n",
       "      border-color: transparent;\n",
       "      border-left-color: var(--fill-color);\n",
       "      border-top-color: var(--fill-color);\n",
       "    }\n",
       "    30% {\n",
       "      border-color: transparent;\n",
       "      border-left-color: var(--fill-color);\n",
       "      border-top-color: var(--fill-color);\n",
       "      border-right-color: var(--fill-color);\n",
       "    }\n",
       "    40% {\n",
       "      border-color: transparent;\n",
       "      border-right-color: var(--fill-color);\n",
       "      border-top-color: var(--fill-color);\n",
       "    }\n",
       "    60% {\n",
       "      border-color: transparent;\n",
       "      border-right-color: var(--fill-color);\n",
       "    }\n",
       "    80% {\n",
       "      border-color: transparent;\n",
       "      border-right-color: var(--fill-color);\n",
       "      border-bottom-color: var(--fill-color);\n",
       "    }\n",
       "    90% {\n",
       "      border-color: transparent;\n",
       "      border-bottom-color: var(--fill-color);\n",
       "    }\n",
       "  }\n",
       "</style>\n",
       "\n",
       "  <script>\n",
       "    async function quickchart(key) {\n",
       "      const quickchartButtonEl =\n",
       "        document.querySelector('#' + key + ' button');\n",
       "      quickchartButtonEl.disabled = true;  // To prevent multiple clicks.\n",
       "      quickchartButtonEl.classList.add('colab-df-spinner');\n",
       "      try {\n",
       "        const charts = await google.colab.kernel.invokeFunction(\n",
       "            'suggestCharts', [key], {});\n",
       "      } catch (error) {\n",
       "        console.error('Error during call to suggestCharts:', error);\n",
       "      }\n",
       "      quickchartButtonEl.classList.remove('colab-df-spinner');\n",
       "      quickchartButtonEl.classList.add('colab-df-quickchart-complete');\n",
       "    }\n",
       "    (() => {\n",
       "      let quickchartButtonEl =\n",
       "        document.querySelector('#df-5d728be8-6b30-4ec1-b9f6-72e95257be16 button');\n",
       "      quickchartButtonEl.style.display =\n",
       "        google.colab.kernel.accessAllowed ? 'block' : 'none';\n",
       "    })();\n",
       "  </script>\n",
       "</div>\n",
       "    </div>\n",
       "  </div>\n"
      ],
      "text/plain": [
       "    customerID  gender  SeniorCitizen Partner Dependents\n",
       "0   7590-VHVEG  Female              0     Yes         No\n",
       "1   5575-GNVDE    Male              0      No         No\n",
       "2   3668-QPYBK    Male              0      No         No\n",
       "3   7795-CFOCW    Male              0      No         No\n",
       "4   9237-HQITU  Female              0      No         No\n",
       "5   9305-CDSKC  Female              0      No         No\n",
       "6   1452-KIOVK    Male              0      No        Yes\n",
       "7   6713-OKOMC  Female              0      No         No\n",
       "8   7892-POOKP  Female              0     Yes         No\n",
       "9   6388-TABGU    Male              0      No        Yes\n",
       "10  9763-GRSKD    Male              0     Yes        Yes\n",
       "11  7469-LKBCI    Male              0      No         No\n",
       "12  8091-TTVAX    Male              0     Yes         No\n",
       "13  0280-XJGEX    Male              0      No         No\n",
       "14  5129-JLPIS    Male              0      No         No\n",
       "15  3655-SNQYZ  Female              0     Yes        Yes\n",
       "16  8191-XWSZG  Female              0      No         No\n",
       "17  9959-WOFKT    Male              0      No        Yes\n",
       "18  4190-MFLUW  Female              0     Yes        Yes\n",
       "19  4183-MYFRB  Female              0      No         No"
      ]
     },
     "metadata": {},
     "output_type": "display_data"
    },
    {
     "name": "stdout",
     "output_type": "stream",
     "text": [
      "<class 'pandas.core.frame.DataFrame'>\n",
      "RangeIndex: 7043 entries, 0 to 7042\n",
      "Data columns (total 5 columns):\n",
      " #   Column         Non-Null Count  Dtype \n",
      "---  ------         --------------  ----- \n",
      " 0   customerID     7043 non-null   object\n",
      " 1   gender         7043 non-null   object\n",
      " 2   SeniorCitizen  7043 non-null   int64 \n",
      " 3   Partner        7043 non-null   object\n",
      " 4   Dependents     7043 non-null   object\n",
      "dtypes: int64(1), object(4)\n",
      "memory usage: 275.2+ KB\n"
     ]
    },
    {
     "data": {
      "text/html": [
       "\n",
       "  <div id=\"df-5a3f3ab9-b98c-48a6-8f1a-271b81b690f9\" class=\"colab-df-container\">\n",
       "    <div>\n",
       "<style scoped>\n",
       "    .dataframe tbody tr th:only-of-type {\n",
       "        vertical-align: middle;\n",
       "    }\n",
       "\n",
       "    .dataframe tbody tr th {\n",
       "        vertical-align: top;\n",
       "    }\n",
       "\n",
       "    .dataframe thead th {\n",
       "        text-align: right;\n",
       "    }\n",
       "</style>\n",
       "<table border=\"1\" class=\"dataframe\">\n",
       "  <thead>\n",
       "    <tr style=\"text-align: right;\">\n",
       "      <th></th>\n",
       "      <th>SeniorCitizen</th>\n",
       "    </tr>\n",
       "  </thead>\n",
       "  <tbody>\n",
       "    <tr>\n",
       "      <th>count</th>\n",
       "      <td>7043.000000</td>\n",
       "    </tr>\n",
       "    <tr>\n",
       "      <th>mean</th>\n",
       "      <td>0.162147</td>\n",
       "    </tr>\n",
       "    <tr>\n",
       "      <th>std</th>\n",
       "      <td>0.368612</td>\n",
       "    </tr>\n",
       "    <tr>\n",
       "      <th>min</th>\n",
       "      <td>0.000000</td>\n",
       "    </tr>\n",
       "    <tr>\n",
       "      <th>25%</th>\n",
       "      <td>0.000000</td>\n",
       "    </tr>\n",
       "    <tr>\n",
       "      <th>50%</th>\n",
       "      <td>0.000000</td>\n",
       "    </tr>\n",
       "    <tr>\n",
       "      <th>75%</th>\n",
       "      <td>0.000000</td>\n",
       "    </tr>\n",
       "    <tr>\n",
       "      <th>max</th>\n",
       "      <td>1.000000</td>\n",
       "    </tr>\n",
       "  </tbody>\n",
       "</table>\n",
       "</div>\n",
       "    <div class=\"colab-df-buttons\">\n",
       "\n",
       "  <div class=\"colab-df-container\">\n",
       "    <button class=\"colab-df-convert\" onclick=\"convertToInteractive('df-5a3f3ab9-b98c-48a6-8f1a-271b81b690f9')\"\n",
       "            title=\"Convert this dataframe to an interactive table.\"\n",
       "            style=\"display:none;\">\n",
       "\n",
       "  <svg xmlns=\"http://www.w3.org/2000/svg\" height=\"24px\" viewBox=\"0 -960 960 960\">\n",
       "    <path d=\"M120-120v-720h720v720H120Zm60-500h600v-160H180v160Zm220 220h160v-160H400v160Zm0 220h160v-160H400v160ZM180-400h160v-160H180v160Zm440 0h160v-160H620v160ZM180-180h160v-160H180v160Zm440 0h160v-160H620v160Z\"/>\n",
       "  </svg>\n",
       "    </button>\n",
       "\n",
       "  <style>\n",
       "    .colab-df-container {\n",
       "      display:flex;\n",
       "      gap: 12px;\n",
       "    }\n",
       "\n",
       "    .colab-df-convert {\n",
       "      background-color: #E8F0FE;\n",
       "      border: none;\n",
       "      border-radius: 50%;\n",
       "      cursor: pointer;\n",
       "      display: none;\n",
       "      fill: #1967D2;\n",
       "      height: 32px;\n",
       "      padding: 0 0 0 0;\n",
       "      width: 32px;\n",
       "    }\n",
       "\n",
       "    .colab-df-convert:hover {\n",
       "      background-color: #E2EBFA;\n",
       "      box-shadow: 0px 1px 2px rgba(60, 64, 67, 0.3), 0px 1px 3px 1px rgba(60, 64, 67, 0.15);\n",
       "      fill: #174EA6;\n",
       "    }\n",
       "\n",
       "    .colab-df-buttons div {\n",
       "      margin-bottom: 4px;\n",
       "    }\n",
       "\n",
       "    [theme=dark] .colab-df-convert {\n",
       "      background-color: #3B4455;\n",
       "      fill: #D2E3FC;\n",
       "    }\n",
       "\n",
       "    [theme=dark] .colab-df-convert:hover {\n",
       "      background-color: #434B5C;\n",
       "      box-shadow: 0px 1px 3px 1px rgba(0, 0, 0, 0.15);\n",
       "      filter: drop-shadow(0px 1px 2px rgba(0, 0, 0, 0.3));\n",
       "      fill: #FFFFFF;\n",
       "    }\n",
       "  </style>\n",
       "\n",
       "    <script>\n",
       "      const buttonEl =\n",
       "        document.querySelector('#df-5a3f3ab9-b98c-48a6-8f1a-271b81b690f9 button.colab-df-convert');\n",
       "      buttonEl.style.display =\n",
       "        google.colab.kernel.accessAllowed ? 'block' : 'none';\n",
       "\n",
       "      async function convertToInteractive(key) {\n",
       "        const element = document.querySelector('#df-5a3f3ab9-b98c-48a6-8f1a-271b81b690f9');\n",
       "        const dataTable =\n",
       "          await google.colab.kernel.invokeFunction('convertToInteractive',\n",
       "                                                    [key], {});\n",
       "        if (!dataTable) return;\n",
       "\n",
       "        const docLinkHtml = 'Like what you see? Visit the ' +\n",
       "          '<a target=\"_blank\" href=https://colab.research.google.com/notebooks/data_table.ipynb>data table notebook</a>'\n",
       "          + ' to learn more about interactive tables.';\n",
       "        element.innerHTML = '';\n",
       "        dataTable['output_type'] = 'display_data';\n",
       "        await google.colab.output.renderOutput(dataTable, element);\n",
       "        const docLink = document.createElement('div');\n",
       "        docLink.innerHTML = docLinkHtml;\n",
       "        element.appendChild(docLink);\n",
       "      }\n",
       "    </script>\n",
       "  </div>\n",
       "\n",
       "\n",
       "<div id=\"df-5de2f531-803c-4609-a25c-0e08638b39ca\">\n",
       "  <button class=\"colab-df-quickchart\" onclick=\"quickchart('df-5de2f531-803c-4609-a25c-0e08638b39ca')\"\n",
       "            title=\"Suggest charts.\"\n",
       "            style=\"display:none;\">\n",
       "\n",
       "<svg xmlns=\"http://www.w3.org/2000/svg\" height=\"24px\"viewBox=\"0 0 24 24\"\n",
       "     width=\"24px\">\n",
       "    <g>\n",
       "        <path d=\"M19 3H5c-1.1 0-2 .9-2 2v14c0 1.1.9 2 2 2h14c1.1 0 2-.9 2-2V5c0-1.1-.9-2-2-2zM9 17H7v-7h2v7zm4 0h-2V7h2v10zm4 0h-2v-4h2v4z\"/>\n",
       "    </g>\n",
       "</svg>\n",
       "  </button>\n",
       "\n",
       "<style>\n",
       "  .colab-df-quickchart {\n",
       "      --bg-color: #E8F0FE;\n",
       "      --fill-color: #1967D2;\n",
       "      --hover-bg-color: #E2EBFA;\n",
       "      --hover-fill-color: #174EA6;\n",
       "      --disabled-fill-color: #AAA;\n",
       "      --disabled-bg-color: #DDD;\n",
       "  }\n",
       "\n",
       "  [theme=dark] .colab-df-quickchart {\n",
       "      --bg-color: #3B4455;\n",
       "      --fill-color: #D2E3FC;\n",
       "      --hover-bg-color: #434B5C;\n",
       "      --hover-fill-color: #FFFFFF;\n",
       "      --disabled-bg-color: #3B4455;\n",
       "      --disabled-fill-color: #666;\n",
       "  }\n",
       "\n",
       "  .colab-df-quickchart {\n",
       "    background-color: var(--bg-color);\n",
       "    border: none;\n",
       "    border-radius: 50%;\n",
       "    cursor: pointer;\n",
       "    display: none;\n",
       "    fill: var(--fill-color);\n",
       "    height: 32px;\n",
       "    padding: 0;\n",
       "    width: 32px;\n",
       "  }\n",
       "\n",
       "  .colab-df-quickchart:hover {\n",
       "    background-color: var(--hover-bg-color);\n",
       "    box-shadow: 0 1px 2px rgba(60, 64, 67, 0.3), 0 1px 3px 1px rgba(60, 64, 67, 0.15);\n",
       "    fill: var(--button-hover-fill-color);\n",
       "  }\n",
       "\n",
       "  .colab-df-quickchart-complete:disabled,\n",
       "  .colab-df-quickchart-complete:disabled:hover {\n",
       "    background-color: var(--disabled-bg-color);\n",
       "    fill: var(--disabled-fill-color);\n",
       "    box-shadow: none;\n",
       "  }\n",
       "\n",
       "  .colab-df-spinner {\n",
       "    border: 2px solid var(--fill-color);\n",
       "    border-color: transparent;\n",
       "    border-bottom-color: var(--fill-color);\n",
       "    animation:\n",
       "      spin 1s steps(1) infinite;\n",
       "  }\n",
       "\n",
       "  @keyframes spin {\n",
       "    0% {\n",
       "      border-color: transparent;\n",
       "      border-bottom-color: var(--fill-color);\n",
       "      border-left-color: var(--fill-color);\n",
       "    }\n",
       "    20% {\n",
       "      border-color: transparent;\n",
       "      border-left-color: var(--fill-color);\n",
       "      border-top-color: var(--fill-color);\n",
       "    }\n",
       "    30% {\n",
       "      border-color: transparent;\n",
       "      border-left-color: var(--fill-color);\n",
       "      border-top-color: var(--fill-color);\n",
       "      border-right-color: var(--fill-color);\n",
       "    }\n",
       "    40% {\n",
       "      border-color: transparent;\n",
       "      border-right-color: var(--fill-color);\n",
       "      border-top-color: var(--fill-color);\n",
       "    }\n",
       "    60% {\n",
       "      border-color: transparent;\n",
       "      border-right-color: var(--fill-color);\n",
       "    }\n",
       "    80% {\n",
       "      border-color: transparent;\n",
       "      border-right-color: var(--fill-color);\n",
       "      border-bottom-color: var(--fill-color);\n",
       "    }\n",
       "    90% {\n",
       "      border-color: transparent;\n",
       "      border-bottom-color: var(--fill-color);\n",
       "    }\n",
       "  }\n",
       "</style>\n",
       "\n",
       "  <script>\n",
       "    async function quickchart(key) {\n",
       "      const quickchartButtonEl =\n",
       "        document.querySelector('#' + key + ' button');\n",
       "      quickchartButtonEl.disabled = true;  // To prevent multiple clicks.\n",
       "      quickchartButtonEl.classList.add('colab-df-spinner');\n",
       "      try {\n",
       "        const charts = await google.colab.kernel.invokeFunction(\n",
       "            'suggestCharts', [key], {});\n",
       "      } catch (error) {\n",
       "        console.error('Error during call to suggestCharts:', error);\n",
       "      }\n",
       "      quickchartButtonEl.classList.remove('colab-df-spinner');\n",
       "      quickchartButtonEl.classList.add('colab-df-quickchart-complete');\n",
       "    }\n",
       "    (() => {\n",
       "      let quickchartButtonEl =\n",
       "        document.querySelector('#df-5de2f531-803c-4609-a25c-0e08638b39ca button');\n",
       "      quickchartButtonEl.style.display =\n",
       "        google.colab.kernel.accessAllowed ? 'block' : 'none';\n",
       "    })();\n",
       "  </script>\n",
       "</div>\n",
       "    </div>\n",
       "  </div>\n"
      ],
      "text/plain": [
       "       SeniorCitizen\n",
       "count    7043.000000\n",
       "mean        0.162147\n",
       "std         0.368612\n",
       "min         0.000000\n",
       "25%         0.000000\n",
       "50%         0.000000\n",
       "75%         0.000000\n",
       "max         1.000000"
      ]
     },
     "metadata": {},
     "output_type": "display_data"
    },
    {
     "data": {
      "image/png": "[encoded data removed]",
      "text/plain": [
       "<Figure size 1500x1500 with 1 Axes>"
      ]
     },
     "metadata": {},
     "output_type": "display_data"
    },
    {
     "name": "stdout",
     "output_type": "stream",
     "text": [
      "Распределение значений в столбце customerID:\n",
      "7590-VHVEG    1\n",
      "3791-LGQCY    1\n",
      "6008-NAIXK    1\n",
      "5956-YHHRX    1\n",
      "5365-LLFYV    1\n",
      "             ..\n",
      "9796-MVYXX    1\n",
      "2637-FKFSY    1\n",
      "1552-AAGRX    1\n",
      "4304-TSPVK    1\n",
      "3186-AJIEK    1\n",
      "Name: customerID, Length: 7043, dtype: int64\n",
      "\n",
      "\n",
      "Распределение значений в столбце gender:\n",
      "Male      3555\n",
      "Female    3488\n",
      "Name: gender, dtype: int64\n",
      "\n",
      "\n",
      "Распределение значений в столбце Partner:\n",
      "No     3641\n",
      "Yes    3402\n",
      "Name: Partner, dtype: int64\n",
      "\n",
      "\n",
      "Распределение значений в столбце Dependents:\n",
      "No     4933\n",
      "Yes    2110\n",
      "Name: Dependents, dtype: int64\n",
      "\n",
      "\n",
      "Количество явных дубликатов в таблице: 0\n"
     ]
    }
   ],
   "source": [
    "# выполним первичный анализ персональных данных клиентов\n",
    "overview_data(data_personal)"
   ]
  },
  {
   "cell_type": "markdown",
   "metadata": {
    "id": "dkn-p9sA6mKL"
   },
   "source": [
    "По персональным данным клиентов заметим следующее:\n",
    "* в датасете 7043 записи, значения `customerID` уникальны,\n",
    "* пропусков нет,\n",
    "* явных дубликатов нет,\n",
    "* все признаки категориальные, несмотря на то, что тип признака `SeniorCitizen` числовой. По сути он все равно является категориальным, поэтому чтобы модели более корректно его обрабатывали, далее преобразуем его к строковому типу со значениям Yes, No."
   ]
  },
  {
   "cell_type": "code",
   "execution_count": 9,
   "metadata": {
    "colab": {
     "base_uri": "https://localhost:8080/",
     "height": 1000
    },
    "id": "6fVmqsKZ6mKL",
    "outputId": "e3cfab27-594f-4b23-c3c1-1333795cb8ef",
    "scrolled": false
   },
   "outputs": [
    {
     "data": {
      "text/html": [
       "\n",
       "  <div id=\"df-6a951261-a4fe-463e-9a01-d87d0edcc787\" class=\"colab-df-container\">\n",
       "    <div>\n",
       "<style scoped>\n",
       "    .dataframe tbody tr th:only-of-type {\n",
       "        vertical-align: middle;\n",
       "    }\n",
       "\n",
       "    .dataframe tbody tr th {\n",
       "        vertical-align: top;\n",
       "    }\n",
       "\n",
       "    .dataframe thead th {\n",
       "        text-align: right;\n",
       "    }\n",
       "</style>\n",
       "<table border=\"1\" class=\"dataframe\">\n",
       "  <thead>\n",
       "    <tr style=\"text-align: right;\">\n",
       "      <th></th>\n",
       "      <th>customerID</th>\n",
       "      <th>InternetService</th>\n",
       "      <th>OnlineSecurity</th>\n",
       "      <th>OnlineBackup</th>\n",
       "      <th>DeviceProtection</th>\n",
       "      <th>TechSupport</th>\n",
       "      <th>StreamingTV</th>\n",
       "      <th>StreamingMovies</th>\n",
       "    </tr>\n",
       "  </thead>\n",
       "  <tbody>\n",
       "    <tr>\n",
       "      <th>0</th>\n",
       "      <td>7590-VHVEG</td>\n",
       "      <td>DSL</td>\n",
       "      <td>No</td>\n",
       "      <td>Yes</td>\n",
       "      <td>No</td>\n",
       "      <td>No</td>\n",
       "      <td>No</td>\n",
       "      <td>No</td>\n",
       "    </tr>\n",
       "    <tr>\n",
       "      <th>1</th>\n",
       "      <td>5575-GNVDE</td>\n",
       "      <td>DSL</td>\n",
       "      <td>Yes</td>\n",
       "      <td>No</td>\n",
       "      <td>Yes</td>\n",
       "      <td>No</td>\n",
       "      <td>No</td>\n",
       "      <td>No</td>\n",
       "    </tr>\n",
       "    <tr>\n",
       "      <th>2</th>\n",
       "      <td>3668-QPYBK</td>\n",
       "      <td>DSL</td>\n",
       "      <td>Yes</td>\n",
       "      <td>Yes</td>\n",
       "      <td>No</td>\n",
       "      <td>No</td>\n",
       "      <td>No</td>\n",
       "      <td>No</td>\n",
       "    </tr>\n",
       "    <tr>\n",
       "      <th>3</th>\n",
       "      <td>7795-CFOCW</td>\n",
       "      <td>DSL</td>\n",
       "      <td>Yes</td>\n",
       "      <td>No</td>\n",
       "      <td>Yes</td>\n",
       "      <td>Yes</td>\n",
       "      <td>No</td>\n",
       "      <td>No</td>\n",
       "    </tr>\n",
       "    <tr>\n",
       "      <th>4</th>\n",
       "      <td>9237-HQITU</td>\n",
       "      <td>Fiber optic</td>\n",
       "      <td>No</td>\n",
       "      <td>No</td>\n",
       "      <td>No</td>\n",
       "      <td>No</td>\n",
       "      <td>No</td>\n",
       "      <td>No</td>\n",
       "    </tr>\n",
       "    <tr>\n",
       "      <th>5</th>\n",
       "      <td>9305-CDSKC</td>\n",
       "      <td>Fiber optic</td>\n",
       "      <td>No</td>\n",
       "      <td>No</td>\n",
       "      <td>Yes</td>\n",
       "      <td>No</td>\n",
       "      <td>Yes</td>\n",
       "      <td>Yes</td>\n",
       "    </tr>\n",
       "    <tr>\n",
       "      <th>6</th>\n",
       "      <td>1452-KIOVK</td>\n",
       "      <td>Fiber optic</td>\n",
       "      <td>No</td>\n",
       "      <td>Yes</td>\n",
       "      <td>No</td>\n",
       "      <td>No</td>\n",
       "      <td>Yes</td>\n",
       "      <td>No</td>\n",
       "    </tr>\n",
       "    <tr>\n",
       "      <th>7</th>\n",
       "      <td>6713-OKOMC</td>\n",
       "      <td>DSL</td>\n",
       "      <td>Yes</td>\n",
       "      <td>No</td>\n",
       "      <td>No</td>\n",
       "      <td>No</td>\n",
       "      <td>No</td>\n",
       "      <td>No</td>\n",
       "    </tr>\n",
       "    <tr>\n",
       "      <th>8</th>\n",
       "      <td>7892-POOKP</td>\n",
       "      <td>Fiber optic</td>\n",
       "      <td>No</td>\n",
       "      <td>No</td>\n",
       "      <td>Yes</td>\n",
       "      <td>Yes</td>\n",
       "      <td>Yes</td>\n",
       "      <td>Yes</td>\n",
       "    </tr>\n",
       "    <tr>\n",
       "      <th>9</th>\n",
       "      <td>6388-TABGU</td>\n",
       "      <td>DSL</td>\n",
       "      <td>Yes</td>\n",
       "      <td>Yes</td>\n",
       "      <td>No</td>\n",
       "      <td>No</td>\n",
       "      <td>No</td>\n",
       "      <td>No</td>\n",
       "    </tr>\n",
       "    <tr>\n",
       "      <th>10</th>\n",
       "      <td>9763-GRSKD</td>\n",
       "      <td>DSL</td>\n",
       "      <td>Yes</td>\n",
       "      <td>No</td>\n",
       "      <td>No</td>\n",
       "      <td>No</td>\n",
       "      <td>No</td>\n",
       "      <td>No</td>\n",
       "    </tr>\n",
       "    <tr>\n",
       "      <th>11</th>\n",
       "      <td>8091-TTVAX</td>\n",
       "      <td>Fiber optic</td>\n",
       "      <td>No</td>\n",
       "      <td>No</td>\n",
       "      <td>Yes</td>\n",
       "      <td>No</td>\n",
       "      <td>Yes</td>\n",
       "      <td>Yes</td>\n",
       "    </tr>\n",
       "    <tr>\n",
       "      <th>12</th>\n",
       "      <td>0280-XJGEX</td>\n",
       "      <td>Fiber optic</td>\n",
       "      <td>No</td>\n",
       "      <td>Yes</td>\n",
       "      <td>Yes</td>\n",
       "      <td>No</td>\n",
       "      <td>Yes</td>\n",
       "      <td>Yes</td>\n",
       "    </tr>\n",
       "    <tr>\n",
       "      <th>13</th>\n",
       "      <td>5129-JLPIS</td>\n",
       "      <td>Fiber optic</td>\n",
       "      <td>Yes</td>\n",
       "      <td>No</td>\n",
       "      <td>Yes</td>\n",
       "      <td>Yes</td>\n",
       "      <td>Yes</td>\n",
       "      <td>Yes</td>\n",
       "    </tr>\n",
       "    <tr>\n",
       "      <th>14</th>\n",
       "      <td>3655-SNQYZ</td>\n",
       "      <td>Fiber optic</td>\n",
       "      <td>Yes</td>\n",
       "      <td>Yes</td>\n",
       "      <td>Yes</td>\n",
       "      <td>Yes</td>\n",
       "      <td>Yes</td>\n",
       "      <td>Yes</td>\n",
       "    </tr>\n",
       "    <tr>\n",
       "      <th>15</th>\n",
       "      <td>9959-WOFKT</td>\n",
       "      <td>Fiber optic</td>\n",
       "      <td>Yes</td>\n",
       "      <td>No</td>\n",
       "      <td>Yes</td>\n",
       "      <td>No</td>\n",
       "      <td>Yes</td>\n",
       "      <td>Yes</td>\n",
       "    </tr>\n",
       "    <tr>\n",
       "      <th>16</th>\n",
       "      <td>4190-MFLUW</td>\n",
       "      <td>DSL</td>\n",
       "      <td>No</td>\n",
       "      <td>No</td>\n",
       "      <td>Yes</td>\n",
       "      <td>Yes</td>\n",
       "      <td>No</td>\n",
       "      <td>No</td>\n",
       "    </tr>\n",
       "    <tr>\n",
       "      <th>17</th>\n",
       "      <td>4183-MYFRB</td>\n",
       "      <td>Fiber optic</td>\n",
       "      <td>No</td>\n",
       "      <td>Yes</td>\n",
       "      <td>Yes</td>\n",
       "      <td>No</td>\n",
       "      <td>No</td>\n",
       "      <td>Yes</td>\n",
       "    </tr>\n",
       "    <tr>\n",
       "      <th>18</th>\n",
       "      <td>8779-QRDMV</td>\n",
       "      <td>DSL</td>\n",
       "      <td>No</td>\n",
       "      <td>No</td>\n",
       "      <td>Yes</td>\n",
       "      <td>No</td>\n",
       "      <td>No</td>\n",
       "      <td>Yes</td>\n",
       "    </tr>\n",
       "    <tr>\n",
       "      <th>19</th>\n",
       "      <td>3638-WEABW</td>\n",
       "      <td>DSL</td>\n",
       "      <td>No</td>\n",
       "      <td>Yes</td>\n",
       "      <td>No</td>\n",
       "      <td>Yes</td>\n",
       "      <td>No</td>\n",
       "      <td>No</td>\n",
       "    </tr>\n",
       "  </tbody>\n",
       "</table>\n",
       "</div>\n",
       "    <div class=\"colab-df-buttons\">\n",
       "\n",
       "  <div class=\"colab-df-container\">\n",
       "    <button class=\"colab-df-convert\" onclick=\"convertToInteractive('df-6a951261-a4fe-463e-9a01-d87d0edcc787')\"\n",
       "            title=\"Convert this dataframe to an interactive table.\"\n",
       "            style=\"display:none;\">\n",
       "\n",
       "  <svg xmlns=\"http://www.w3.org/2000/svg\" height=\"24px\" viewBox=\"0 -960 960 960\">\n",
       "    <path d=\"M120-120v-720h720v720H120Zm60-500h600v-160H180v160Zm220 220h160v-160H400v160Zm0 220h160v-160H400v160ZM180-400h160v-160H180v160Zm440 0h160v-160H620v160ZM180-180h160v-160H180v160Zm440 0h160v-160H620v160Z\"/>\n",
       "  </svg>\n",
       "    </button>\n",
       "\n",
       "  <style>\n",
       "    .colab-df-container {\n",
       "      display:flex;\n",
       "      gap: 12px;\n",
       "    }\n",
       "\n",
       "    .colab-df-convert {\n",
       "      background-color: #E8F0FE;\n",
       "      border: none;\n",
       "      border-radius: 50%;\n",
       "      cursor: pointer;\n",
       "      display: none;\n",
       "      fill: #1967D2;\n",
       "      height: 32px;\n",
       "      padding: 0 0 0 0;\n",
       "      width: 32px;\n",
       "    }\n",
       "\n",
       "    .colab-df-convert:hover {\n",
       "      background-color: #E2EBFA;\n",
       "      box-shadow: 0px 1px 2px rgba(60, 64, 67, 0.3), 0px 1px 3px 1px rgba(60, 64, 67, 0.15);\n",
       "      fill: #174EA6;\n",
       "    }\n",
       "\n",
       "    .colab-df-buttons div {\n",
       "      margin-bottom: 4px;\n",
       "    }\n",
       "\n",
       "    [theme=dark] .colab-df-convert {\n",
       "      background-color: #3B4455;\n",
       "      fill: #D2E3FC;\n",
       "    }\n",
       "\n",
       "    [theme=dark] .colab-df-convert:hover {\n",
       "      background-color: #434B5C;\n",
       "      box-shadow: 0px 1px 3px 1px rgba(0, 0, 0, 0.15);\n",
       "      filter: drop-shadow(0px 1px 2px rgba(0, 0, 0, 0.3));\n",
       "      fill: #FFFFFF;\n",
       "    }\n",
       "  </style>\n",
       "\n",
       "    <script>\n",
       "      const buttonEl =\n",
       "        document.querySelector('#df-6a951261-a4fe-463e-9a01-d87d0edcc787 button.colab-df-convert');\n",
       "      buttonEl.style.display =\n",
       "        google.colab.kernel.accessAllowed ? 'block' : 'none';\n",
       "\n",
       "      async function convertToInteractive(key) {\n",
       "        const element = document.querySelector('#df-6a951261-a4fe-463e-9a01-d87d0edcc787');\n",
       "        const dataTable =\n",
       "          await google.colab.kernel.invokeFunction('convertToInteractive',\n",
       "                                                    [key], {});\n",
       "        if (!dataTable) return;\n",
       "\n",
       "        const docLinkHtml = 'Like what you see? Visit the ' +\n",
       "          '<a target=\"_blank\" href=https://colab.research.google.com/notebooks/data_table.ipynb>data table notebook</a>'\n",
       "          + ' to learn more about interactive tables.';\n",
       "        element.innerHTML = '';\n",
       "        dataTable['output_type'] = 'display_data';\n",
       "        await google.colab.output.renderOutput(dataTable, element);\n",
       "        const docLink = document.createElement('div');\n",
       "        docLink.innerHTML = docLinkHtml;\n",
       "        element.appendChild(docLink);\n",
       "      }\n",
       "    </script>\n",
       "  </div>\n",
       "\n",
       "\n",
       "<div id=\"df-c59e3948-d95c-4674-bb18-c530c287c636\">\n",
       "  <button class=\"colab-df-quickchart\" onclick=\"quickchart('df-c59e3948-d95c-4674-bb18-c530c287c636')\"\n",
       "            title=\"Suggest charts.\"\n",
       "            style=\"display:none;\">\n",
       "\n",
       "<svg xmlns=\"http://www.w3.org/2000/svg\" height=\"24px\"viewBox=\"0 0 24 24\"\n",
       "     width=\"24px\">\n",
       "    <g>\n",
       "        <path d=\"M19 3H5c-1.1 0-2 .9-2 2v14c0 1.1.9 2 2 2h14c1.1 0 2-.9 2-2V5c0-1.1-.9-2-2-2zM9 17H7v-7h2v7zm4 0h-2V7h2v10zm4 0h-2v-4h2v4z\"/>\n",
       "    </g>\n",
       "</svg>\n",
       "  </button>\n",
       "\n",
       "<style>\n",
       "  .colab-df-quickchart {\n",
       "      --bg-color: #E8F0FE;\n",
       "      --fill-color: #1967D2;\n",
       "      --hover-bg-color: #E2EBFA;\n",
       "      --hover-fill-color: #174EA6;\n",
       "      --disabled-fill-color: #AAA;\n",
       "      --disabled-bg-color: #DDD;\n",
       "  }\n",
       "\n",
       "  [theme=dark] .colab-df-quickchart {\n",
       "      --bg-color: #3B4455;\n",
       "      --fill-color: #D2E3FC;\n",
       "      --hover-bg-color: #434B5C;\n",
       "      --hover-fill-color: #FFFFFF;\n",
       "      --disabled-bg-color: #3B4455;\n",
       "      --disabled-fill-color: #666;\n",
       "  }\n",
       "\n",
       "  .colab-df-quickchart {\n",
       "    background-color: var(--bg-color);\n",
       "    border: none;\n",
       "    border-radius: 50%;\n",
       "    cursor: pointer;\n",
       "    display: none;\n",
       "    fill: var(--fill-color);\n",
       "    height: 32px;\n",
       "    padding: 0;\n",
       "    width: 32px;\n",
       "  }\n",
       "\n",
       "  .colab-df-quickchart:hover {\n",
       "    background-color: var(--hover-bg-color);\n",
       "    box-shadow: 0 1px 2px rgba(60, 64, 67, 0.3), 0 1px 3px 1px rgba(60, 64, 67, 0.15);\n",
       "    fill: var(--button-hover-fill-color);\n",
       "  }\n",
       "\n",
       "  .colab-df-quickchart-complete:disabled,\n",
       "  .colab-df-quickchart-complete:disabled:hover {\n",
       "    background-color: var(--disabled-bg-color);\n",
       "    fill: var(--disabled-fill-color);\n",
       "    box-shadow: none;\n",
       "  }\n",
       "\n",
       "  .colab-df-spinner {\n",
       "    border: 2px solid var(--fill-color);\n",
       "    border-color: transparent;\n",
       "    border-bottom-color: var(--fill-color);\n",
       "    animation:\n",
       "      spin 1s steps(1) infinite;\n",
       "  }\n",
       "\n",
       "  @keyframes spin {\n",
       "    0% {\n",
       "      border-color: transparent;\n",
       "      border-bottom-color: var(--fill-color);\n",
       "      border-left-color: var(--fill-color);\n",
       "    }\n",
       "    20% {\n",
       "      border-color: transparent;\n",
       "      border-left-color: var(--fill-color);\n",
       "      border-top-color: var(--fill-color);\n",
       "    }\n",
       "    30% {\n",
       "      border-color: transparent;\n",
       "      border-left-color: var(--fill-color);\n",
       "      border-top-color: var(--fill-color);\n",
       "      border-right-color: var(--fill-color);\n",
       "    }\n",
       "    40% {\n",
       "      border-color: transparent;\n",
       "      border-right-color: var(--fill-color);\n",
       "      border-top-color: var(--fill-color);\n",
       "    }\n",
       "    60% {\n",
       "      border-color: transparent;\n",
       "      border-right-color: var(--fill-color);\n",
       "    }\n",
       "    80% {\n",
       "      border-color: transparent;\n",
       "      border-right-color: var(--fill-color);\n",
       "      border-bottom-color: var(--fill-color);\n",
       "    }\n",
       "    90% {\n",
       "      border-color: transparent;\n",
       "      border-bottom-color: var(--fill-color);\n",
       "    }\n",
       "  }\n",
       "</style>\n",
       "\n",
       "  <script>\n",
       "    async function quickchart(key) {\n",
       "      const quickchartButtonEl =\n",
       "        document.querySelector('#' + key + ' button');\n",
       "      quickchartButtonEl.disabled = true;  // To prevent multiple clicks.\n",
       "      quickchartButtonEl.classList.add('colab-df-spinner');\n",
       "      try {\n",
       "        const charts = await google.colab.kernel.invokeFunction(\n",
       "            'suggestCharts', [key], {});\n",
       "      } catch (error) {\n",
       "        console.error('Error during call to suggestCharts:', error);\n",
       "      }\n",
       "      quickchartButtonEl.classList.remove('colab-df-spinner');\n",
       "      quickchartButtonEl.classList.add('colab-df-quickchart-complete');\n",
       "    }\n",
       "    (() => {\n",
       "      let quickchartButtonEl =\n",
       "        document.querySelector('#df-c59e3948-d95c-4674-bb18-c530c287c636 button');\n",
       "      quickchartButtonEl.style.display =\n",
       "        google.colab.kernel.accessAllowed ? 'block' : 'none';\n",
       "    })();\n",
       "  </script>\n",
       "</div>\n",
       "    </div>\n",
       "  </div>\n"
      ],
      "text/plain": [
       "    customerID InternetService OnlineSecurity OnlineBackup DeviceProtection  \\\n",
       "0   7590-VHVEG             DSL             No          Yes               No   \n",
       "1   5575-GNVDE             DSL            Yes           No              Yes   \n",
       "2   3668-QPYBK             DSL            Yes          Yes               No   \n",
       "3   7795-CFOCW             DSL            Yes           No              Yes   \n",
       "4   9237-HQITU     Fiber optic             No           No               No   \n",
       "5   9305-CDSKC     Fiber optic             No           No              Yes   \n",
       "6   1452-KIOVK     Fiber optic             No          Yes               No   \n",
       "7   6713-OKOMC             DSL            Yes           No               No   \n",
       "8   7892-POOKP     Fiber optic             No           No              Yes   \n",
       "9   6388-TABGU             DSL            Yes          Yes               No   \n",
       "10  9763-GRSKD             DSL            Yes           No               No   \n",
       "11  8091-TTVAX     Fiber optic             No           No              Yes   \n",
       "12  0280-XJGEX     Fiber optic             No          Yes              Yes   \n",
       "13  5129-JLPIS     Fiber optic            Yes           No              Yes   \n",
       "14  3655-SNQYZ     Fiber optic            Yes          Yes              Yes   \n",
       "15  9959-WOFKT     Fiber optic            Yes           No              Yes   \n",
       "16  4190-MFLUW             DSL             No           No              Yes   \n",
       "17  4183-MYFRB     Fiber optic             No          Yes              Yes   \n",
       "18  8779-QRDMV             DSL             No           No              Yes   \n",
       "19  3638-WEABW             DSL             No          Yes               No   \n",
       "\n",
       "   TechSupport StreamingTV StreamingMovies  \n",
       "0           No          No              No  \n",
       "1           No          No              No  \n",
       "2           No          No              No  \n",
       "3          Yes          No              No  \n",
       "4           No          No              No  \n",
       "5           No         Yes             Yes  \n",
       "6           No         Yes              No  \n",
       "7           No          No              No  \n",
       "8          Yes         Yes             Yes  \n",
       "9           No          No              No  \n",
       "10          No          No              No  \n",
       "11          No         Yes             Yes  \n",
       "12          No         Yes             Yes  \n",
       "13         Yes         Yes             Yes  \n",
       "14         Yes         Yes             Yes  \n",
       "15          No         Yes             Yes  \n",
       "16         Yes          No              No  \n",
       "17          No          No             Yes  \n",
       "18          No          No             Yes  \n",
       "19         Yes          No              No  "
      ]
     },
     "metadata": {},
     "output_type": "display_data"
    },
    {
     "name": "stdout",
     "output_type": "stream",
     "text": [
      "<class 'pandas.core.frame.DataFrame'>\n",
      "RangeIndex: 5517 entries, 0 to 5516\n",
      "Data columns (total 8 columns):\n",
      " #   Column            Non-Null Count  Dtype \n",
      "---  ------            --------------  ----- \n",
      " 0   customerID        5517 non-null   object\n",
      " 1   InternetService   5517 non-null   object\n",
      " 2   OnlineSecurity    5517 non-null   object\n",
      " 3   OnlineBackup      5517 non-null   object\n",
      " 4   DeviceProtection  5517 non-null   object\n",
      " 5   TechSupport       5517 non-null   object\n",
      " 6   StreamingTV       5517 non-null   object\n",
      " 7   StreamingMovies   5517 non-null   object\n",
      "dtypes: object(8)\n",
      "memory usage: 344.9+ KB\n"
     ]
    },
    {
     "data": {
      "text/html": [
       "\n",
       "  <div id=\"df-6d25e014-1b0a-49fb-921f-c9ac78eb3ad7\" class=\"colab-df-container\">\n",
       "    <div>\n",
       "<style scoped>\n",
       "    .dataframe tbody tr th:only-of-type {\n",
       "        vertical-align: middle;\n",
       "    }\n",
       "\n",
       "    .dataframe tbody tr th {\n",
       "        vertical-align: top;\n",
       "    }\n",
       "\n",
       "    .dataframe thead th {\n",
       "        text-align: right;\n",
       "    }\n",
       "</style>\n",
       "<table border=\"1\" class=\"dataframe\">\n",
       "  <thead>\n",
       "    <tr style=\"text-align: right;\">\n",
       "      <th></th>\n",
       "      <th>customerID</th>\n",
       "      <th>InternetService</th>\n",
       "      <th>OnlineSecurity</th>\n",
       "      <th>OnlineBackup</th>\n",
       "      <th>DeviceProtection</th>\n",
       "      <th>TechSupport</th>\n",
       "      <th>StreamingTV</th>\n",
       "      <th>StreamingMovies</th>\n",
       "    </tr>\n",
       "  </thead>\n",
       "  <tbody>\n",
       "    <tr>\n",
       "      <th>count</th>\n",
       "      <td>5517</td>\n",
       "      <td>5517</td>\n",
       "      <td>5517</td>\n",
       "      <td>5517</td>\n",
       "      <td>5517</td>\n",
       "      <td>5517</td>\n",
       "      <td>5517</td>\n",
       "      <td>5517</td>\n",
       "    </tr>\n",
       "    <tr>\n",
       "      <th>unique</th>\n",
       "      <td>5517</td>\n",
       "      <td>2</td>\n",
       "      <td>2</td>\n",
       "      <td>2</td>\n",
       "      <td>2</td>\n",
       "      <td>2</td>\n",
       "      <td>2</td>\n",
       "      <td>2</td>\n",
       "    </tr>\n",
       "    <tr>\n",
       "      <th>top</th>\n",
       "      <td>7590-VHVEG</td>\n",
       "      <td>Fiber optic</td>\n",
       "      <td>No</td>\n",
       "      <td>No</td>\n",
       "      <td>No</td>\n",
       "      <td>No</td>\n",
       "      <td>No</td>\n",
       "      <td>No</td>\n",
       "    </tr>\n",
       "    <tr>\n",
       "      <th>freq</th>\n",
       "      <td>1</td>\n",
       "      <td>3096</td>\n",
       "      <td>3498</td>\n",
       "      <td>3088</td>\n",
       "      <td>3095</td>\n",
       "      <td>3473</td>\n",
       "      <td>2810</td>\n",
       "      <td>2785</td>\n",
       "    </tr>\n",
       "  </tbody>\n",
       "</table>\n",
       "</div>\n",
       "    <div class=\"colab-df-buttons\">\n",
       "\n",
       "  <div class=\"colab-df-container\">\n",
       "    <button class=\"colab-df-convert\" onclick=\"convertToInteractive('df-6d25e014-1b0a-49fb-921f-c9ac78eb3ad7')\"\n",
       "            title=\"Convert this dataframe to an interactive table.\"\n",
       "            style=\"display:none;\">\n",
       "\n",
       "  <svg xmlns=\"http://www.w3.org/2000/svg\" height=\"24px\" viewBox=\"0 -960 960 960\">\n",
       "    <path d=\"M120-120v-720h720v720H120Zm60-500h600v-160H180v160Zm220 220h160v-160H400v160Zm0 220h160v-160H400v160ZM180-400h160v-160H180v160Zm440 0h160v-160H620v160ZM180-180h160v-160H180v160Zm440 0h160v-160H620v160Z\"/>\n",
       "  </svg>\n",
       "    </button>\n",
       "\n",
       "  <style>\n",
       "    .colab-df-container {\n",
       "      display:flex;\n",
       "      gap: 12px;\n",
       "    }\n",
       "\n",
       "    .colab-df-convert {\n",
       "      background-color: #E8F0FE;\n",
       "      border: none;\n",
       "      border-radius: 50%;\n",
       "      cursor: pointer;\n",
       "      display: none;\n",
       "      fill: #1967D2;\n",
       "      height: 32px;\n",
       "      padding: 0 0 0 0;\n",
       "      width: 32px;\n",
       "    }\n",
       "\n",
       "    .colab-df-convert:hover {\n",
       "      background-color: #E2EBFA;\n",
       "      box-shadow: 0px 1px 2px rgba(60, 64, 67, 0.3), 0px 1px 3px 1px rgba(60, 64, 67, 0.15);\n",
       "      fill: #174EA6;\n",
       "    }\n",
       "\n",
       "    .colab-df-buttons div {\n",
       "      margin-bottom: 4px;\n",
       "    }\n",
       "\n",
       "    [theme=dark] .colab-df-convert {\n",
       "      background-color: #3B4455;\n",
       "      fill: #D2E3FC;\n",
       "    }\n",
       "\n",
       "    [theme=dark] .colab-df-convert:hover {\n",
       "      background-color: #434B5C;\n",
       "      box-shadow: 0px 1px 3px 1px rgba(0, 0, 0, 0.15);\n",
       "      filter: drop-shadow(0px 1px 2px rgba(0, 0, 0, 0.3));\n",
       "      fill: #FFFFFF;\n",
       "    }\n",
       "  </style>\n",
       "\n",
       "    <script>\n",
       "      const buttonEl =\n",
       "        document.querySelector('#df-6d25e014-1b0a-49fb-921f-c9ac78eb3ad7 button.colab-df-convert');\n",
       "      buttonEl.style.display =\n",
       "        google.colab.kernel.accessAllowed ? 'block' : 'none';\n",
       "\n",
       "      async function convertToInteractive(key) {\n",
       "        const element = document.querySelector('#df-6d25e014-1b0a-49fb-921f-c9ac78eb3ad7');\n",
       "        const dataTable =\n",
       "          await google.colab.kernel.invokeFunction('convertToInteractive',\n",
       "                                                    [key], {});\n",
       "        if (!dataTable) return;\n",
       "\n",
       "        const docLinkHtml = 'Like what you see? Visit the ' +\n",
       "          '<a target=\"_blank\" href=https://colab.research.google.com/notebooks/data_table.ipynb>data table notebook</a>'\n",
       "          + ' to learn more about interactive tables.';\n",
       "        element.innerHTML = '';\n",
       "        dataTable['output_type'] = 'display_data';\n",
       "        await google.colab.output.renderOutput(dataTable, element);\n",
       "        const docLink = document.createElement('div');\n",
       "        docLink.innerHTML = docLinkHtml;\n",
       "        element.appendChild(docLink);\n",
       "      }\n",
       "    </script>\n",
       "  </div>\n",
       "\n",
       "\n",
       "<div id=\"df-029cdda9-dcc6-4d09-b725-4f2d86553fd1\">\n",
       "  <button class=\"colab-df-quickchart\" onclick=\"quickchart('df-029cdda9-dcc6-4d09-b725-4f2d86553fd1')\"\n",
       "            title=\"Suggest charts.\"\n",
       "            style=\"display:none;\">\n",
       "\n",
       "<svg xmlns=\"http://www.w3.org/2000/svg\" height=\"24px\"viewBox=\"0 0 24 24\"\n",
       "     width=\"24px\">\n",
       "    <g>\n",
       "        <path d=\"M19 3H5c-1.1 0-2 .9-2 2v14c0 1.1.9 2 2 2h14c1.1 0 2-.9 2-2V5c0-1.1-.9-2-2-2zM9 17H7v-7h2v7zm4 0h-2V7h2v10zm4 0h-2v-4h2v4z\"/>\n",
       "    </g>\n",
       "</svg>\n",
       "  </button>\n",
       "\n",
       "<style>\n",
       "  .colab-df-quickchart {\n",
       "      --bg-color: #E8F0FE;\n",
       "      --fill-color: #1967D2;\n",
       "      --hover-bg-color: #E2EBFA;\n",
       "      --hover-fill-color: #174EA6;\n",
       "      --disabled-fill-color: #AAA;\n",
       "      --disabled-bg-color: #DDD;\n",
       "  }\n",
       "\n",
       "  [theme=dark] .colab-df-quickchart {\n",
       "      --bg-color: #3B4455;\n",
       "      --fill-color: #D2E3FC;\n",
       "      --hover-bg-color: #434B5C;\n",
       "      --hover-fill-color: #FFFFFF;\n",
       "      --disabled-bg-color: #3B4455;\n",
       "      --disabled-fill-color: #666;\n",
       "  }\n",
       "\n",
       "  .colab-df-quickchart {\n",
       "    background-color: var(--bg-color);\n",
       "    border: none;\n",
       "    border-radius: 50%;\n",
       "    cursor: pointer;\n",
       "    display: none;\n",
       "    fill: var(--fill-color);\n",
       "    height: 32px;\n",
       "    padding: 0;\n",
       "    width: 32px;\n",
       "  }\n",
       "\n",
       "  .colab-df-quickchart:hover {\n",
       "    background-color: var(--hover-bg-color);\n",
       "    box-shadow: 0 1px 2px rgba(60, 64, 67, 0.3), 0 1px 3px 1px rgba(60, 64, 67, 0.15);\n",
       "    fill: var(--button-hover-fill-color);\n",
       "  }\n",
       "\n",
       "  .colab-df-quickchart-complete:disabled,\n",
       "  .colab-df-quickchart-complete:disabled:hover {\n",
       "    background-color: var(--disabled-bg-color);\n",
       "    fill: var(--disabled-fill-color);\n",
       "    box-shadow: none;\n",
       "  }\n",
       "\n",
       "  .colab-df-spinner {\n",
       "    border: 2px solid var(--fill-color);\n",
       "    border-color: transparent;\n",
       "    border-bottom-color: var(--fill-color);\n",
       "    animation:\n",
       "      spin 1s steps(1) infinite;\n",
       "  }\n",
       "\n",
       "  @keyframes spin {\n",
       "    0% {\n",
       "      border-color: transparent;\n",
       "      border-bottom-color: var(--fill-color);\n",
       "      border-left-color: var(--fill-color);\n",
       "    }\n",
       "    20% {\n",
       "      border-color: transparent;\n",
       "      border-left-color: var(--fill-color);\n",
       "      border-top-color: var(--fill-color);\n",
       "    }\n",
       "    30% {\n",
       "      border-color: transparent;\n",
       "      border-left-color: var(--fill-color);\n",
       "      border-top-color: var(--fill-color);\n",
       "      border-right-color: var(--fill-color);\n",
       "    }\n",
       "    40% {\n",
       "      border-color: transparent;\n",
       "      border-right-color: var(--fill-color);\n",
       "      border-top-color: var(--fill-color);\n",
       "    }\n",
       "    60% {\n",
       "      border-color: transparent;\n",
       "      border-right-color: var(--fill-color);\n",
       "    }\n",
       "    80% {\n",
       "      border-color: transparent;\n",
       "      border-right-color: var(--fill-color);\n",
       "      border-bottom-color: var(--fill-color);\n",
       "    }\n",
       "    90% {\n",
       "      border-color: transparent;\n",
       "      border-bottom-color: var(--fill-color);\n",
       "    }\n",
       "  }\n",
       "</style>\n",
       "\n",
       "  <script>\n",
       "    async function quickchart(key) {\n",
       "      const quickchartButtonEl =\n",
       "        document.querySelector('#' + key + ' button');\n",
       "      quickchartButtonEl.disabled = true;  // To prevent multiple clicks.\n",
       "      quickchartButtonEl.classList.add('colab-df-spinner');\n",
       "      try {\n",
       "        const charts = await google.colab.kernel.invokeFunction(\n",
       "            'suggestCharts', [key], {});\n",
       "      } catch (error) {\n",
       "        console.error('Error during call to suggestCharts:', error);\n",
       "      }\n",
       "      quickchartButtonEl.classList.remove('colab-df-spinner');\n",
       "      quickchartButtonEl.classList.add('colab-df-quickchart-complete');\n",
       "    }\n",
       "    (() => {\n",
       "      let quickchartButtonEl =\n",
       "        document.querySelector('#df-029cdda9-dcc6-4d09-b725-4f2d86553fd1 button');\n",
       "      quickchartButtonEl.style.display =\n",
       "        google.colab.kernel.accessAllowed ? 'block' : 'none';\n",
       "    })();\n",
       "  </script>\n",
       "</div>\n",
       "    </div>\n",
       "  </div>\n"
      ],
      "text/plain": [
       "        customerID InternetService OnlineSecurity OnlineBackup  \\\n",
       "count         5517            5517           5517         5517   \n",
       "unique        5517               2              2            2   \n",
       "top     7590-VHVEG     Fiber optic             No           No   \n",
       "freq             1            3096           3498         3088   \n",
       "\n",
       "       DeviceProtection TechSupport StreamingTV StreamingMovies  \n",
       "count              5517        5517        5517            5517  \n",
       "unique                2           2           2               2  \n",
       "top                  No          No          No              No  \n",
       "freq               3095        3473        2810            2785  "
      ]
     },
     "metadata": {},
     "output_type": "display_data"
    },
    {
     "name": "stdout",
     "output_type": "stream",
     "text": [
      "Распределение значений в столбце customerID:\n",
      "7590-VHVEG    1\n",
      "5181-OABFK    1\n",
      "9356-AXGMP    1\n",
      "5176-OLSKT    1\n",
      "7508-DQAKK    1\n",
      "             ..\n",
      "1104-FEJAM    1\n",
      "2972-YDYUW    1\n",
      "4238-JSSWH    1\n",
      "0869-PAPRP    1\n",
      "3186-AJIEK    1\n",
      "Name: customerID, Length: 5517, dtype: int64\n",
      "\n",
      "\n",
      "Распределение значений в столбце InternetService:\n",
      "Fiber optic    3096\n",
      "DSL            2421\n",
      "Name: InternetService, dtype: int64\n",
      "\n",
      "\n",
      "Распределение значений в столбце OnlineSecurity:\n",
      "No     3498\n",
      "Yes    2019\n",
      "Name: OnlineSecurity, dtype: int64\n",
      "\n",
      "\n",
      "Распределение значений в столбце OnlineBackup:\n",
      "No     3088\n",
      "Yes    2429\n",
      "Name: OnlineBackup, dtype: int64\n",
      "\n",
      "\n",
      "Распределение значений в столбце DeviceProtection:\n",
      "No     3095\n",
      "Yes    2422\n",
      "Name: DeviceProtection, dtype: int64\n",
      "\n",
      "\n",
      "Распределение значений в столбце TechSupport:\n",
      "No     3473\n",
      "Yes    2044\n",
      "Name: TechSupport, dtype: int64\n",
      "\n",
      "\n",
      "Распределение значений в столбце StreamingTV:\n",
      "No     2810\n",
      "Yes    2707\n",
      "Name: StreamingTV, dtype: int64\n",
      "\n",
      "\n",
      "Распределение значений в столбце StreamingMovies:\n",
      "No     2785\n",
      "Yes    2732\n",
      "Name: StreamingMovies, dtype: int64\n",
      "\n",
      "\n",
      "Количество явных дубликатов в таблице: 0\n"
     ]
    }
   ],
   "source": [
    "# выполним первичный анализ данных об интернет-услугах\n",
    "overview_data(data_internet)"
   ]
  },
  {
   "cell_type": "markdown",
   "metadata": {
    "id": "5FztWUh26mKM"
   },
   "source": [
    "По данным об интернет-услугах заметим следующее:\n",
    "* в датасете 5517 записи, значения `customerID` уникальны,\n",
    "* пропусков нет,\n",
    "* явных дубликатов нет,\n",
    "* есть только категориальные признаки, причем во всех них всего 2 категории."
   ]
  },
  {
   "cell_type": "code",
   "execution_count": 10,
   "metadata": {
    "colab": {
     "base_uri": "https://localhost:8080/",
     "height": 1000
    },
    "id": "MJK0Nyrs6mKM",
    "outputId": "75639cc5-8c0c-4458-f8a8-546fb039e48f"
   },
   "outputs": [
    {
     "data": {
      "text/html": [
       "\n",
       "  <div id=\"df-0b21bc77-7d2e-442a-9009-ade2c10ef763\" class=\"colab-df-container\">\n",
       "    <div>\n",
       "<style scoped>\n",
       "    .dataframe tbody tr th:only-of-type {\n",
       "        vertical-align: middle;\n",
       "    }\n",
       "\n",
       "    .dataframe tbody tr th {\n",
       "        vertical-align: top;\n",
       "    }\n",
       "\n",
       "    .dataframe thead th {\n",
       "        text-align: right;\n",
       "    }\n",
       "</style>\n",
       "<table border=\"1\" class=\"dataframe\">\n",
       "  <thead>\n",
       "    <tr style=\"text-align: right;\">\n",
       "      <th></th>\n",
       "      <th>customerID</th>\n",
       "      <th>MultipleLines</th>\n",
       "    </tr>\n",
       "  </thead>\n",
       "  <tbody>\n",
       "    <tr>\n",
       "      <th>0</th>\n",
       "      <td>5575-GNVDE</td>\n",
       "      <td>No</td>\n",
       "    </tr>\n",
       "    <tr>\n",
       "      <th>1</th>\n",
       "      <td>3668-QPYBK</td>\n",
       "      <td>No</td>\n",
       "    </tr>\n",
       "    <tr>\n",
       "      <th>2</th>\n",
       "      <td>9237-HQITU</td>\n",
       "      <td>No</td>\n",
       "    </tr>\n",
       "    <tr>\n",
       "      <th>3</th>\n",
       "      <td>9305-CDSKC</td>\n",
       "      <td>Yes</td>\n",
       "    </tr>\n",
       "    <tr>\n",
       "      <th>4</th>\n",
       "      <td>1452-KIOVK</td>\n",
       "      <td>Yes</td>\n",
       "    </tr>\n",
       "    <tr>\n",
       "      <th>5</th>\n",
       "      <td>7892-POOKP</td>\n",
       "      <td>Yes</td>\n",
       "    </tr>\n",
       "    <tr>\n",
       "      <th>6</th>\n",
       "      <td>6388-TABGU</td>\n",
       "      <td>No</td>\n",
       "    </tr>\n",
       "    <tr>\n",
       "      <th>7</th>\n",
       "      <td>9763-GRSKD</td>\n",
       "      <td>No</td>\n",
       "    </tr>\n",
       "    <tr>\n",
       "      <th>8</th>\n",
       "      <td>7469-LKBCI</td>\n",
       "      <td>No</td>\n",
       "    </tr>\n",
       "    <tr>\n",
       "      <th>9</th>\n",
       "      <td>8091-TTVAX</td>\n",
       "      <td>Yes</td>\n",
       "    </tr>\n",
       "    <tr>\n",
       "      <th>10</th>\n",
       "      <td>0280-XJGEX</td>\n",
       "      <td>Yes</td>\n",
       "    </tr>\n",
       "    <tr>\n",
       "      <th>11</th>\n",
       "      <td>5129-JLPIS</td>\n",
       "      <td>No</td>\n",
       "    </tr>\n",
       "    <tr>\n",
       "      <th>12</th>\n",
       "      <td>3655-SNQYZ</td>\n",
       "      <td>Yes</td>\n",
       "    </tr>\n",
       "    <tr>\n",
       "      <th>13</th>\n",
       "      <td>8191-XWSZG</td>\n",
       "      <td>No</td>\n",
       "    </tr>\n",
       "    <tr>\n",
       "      <th>14</th>\n",
       "      <td>9959-WOFKT</td>\n",
       "      <td>Yes</td>\n",
       "    </tr>\n",
       "    <tr>\n",
       "      <th>15</th>\n",
       "      <td>4190-MFLUW</td>\n",
       "      <td>No</td>\n",
       "    </tr>\n",
       "    <tr>\n",
       "      <th>16</th>\n",
       "      <td>4183-MYFRB</td>\n",
       "      <td>No</td>\n",
       "    </tr>\n",
       "    <tr>\n",
       "      <th>17</th>\n",
       "      <td>1680-VDCWW</td>\n",
       "      <td>No</td>\n",
       "    </tr>\n",
       "    <tr>\n",
       "      <th>18</th>\n",
       "      <td>1066-JKSGK</td>\n",
       "      <td>No</td>\n",
       "    </tr>\n",
       "    <tr>\n",
       "      <th>19</th>\n",
       "      <td>3638-WEABW</td>\n",
       "      <td>Yes</td>\n",
       "    </tr>\n",
       "  </tbody>\n",
       "</table>\n",
       "</div>\n",
       "    <div class=\"colab-df-buttons\">\n",
       "\n",
       "  <div class=\"colab-df-container\">\n",
       "    <button class=\"colab-df-convert\" onclick=\"convertToInteractive('df-0b21bc77-7d2e-442a-9009-ade2c10ef763')\"\n",
       "            title=\"Convert this dataframe to an interactive table.\"\n",
       "            style=\"display:none;\">\n",
       "\n",
       "  <svg xmlns=\"http://www.w3.org/2000/svg\" height=\"24px\" viewBox=\"0 -960 960 960\">\n",
       "    <path d=\"M120-120v-720h720v720H120Zm60-500h600v-160H180v160Zm220 220h160v-160H400v160Zm0 220h160v-160H400v160ZM180-400h160v-160H180v160Zm440 0h160v-160H620v160ZM180-180h160v-160H180v160Zm440 0h160v-160H620v160Z\"/>\n",
       "  </svg>\n",
       "    </button>\n",
       "\n",
       "  <style>\n",
       "    .colab-df-container {\n",
       "      display:flex;\n",
       "      gap: 12px;\n",
       "    }\n",
       "\n",
       "    .colab-df-convert {\n",
       "      background-color: #E8F0FE;\n",
       "      border: none;\n",
       "      border-radius: 50%;\n",
       "      cursor: pointer;\n",
       "      display: none;\n",
       "      fill: #1967D2;\n",
       "      height: 32px;\n",
       "      padding: 0 0 0 0;\n",
       "      width: 32px;\n",
       "    }\n",
       "\n",
       "    .colab-df-convert:hover {\n",
       "      background-color: #E2EBFA;\n",
       "      box-shadow: 0px 1px 2px rgba(60, 64, 67, 0.3), 0px 1px 3px 1px rgba(60, 64, 67, 0.15);\n",
       "      fill: #174EA6;\n",
       "    }\n",
       "\n",
       "    .colab-df-buttons div {\n",
       "      margin-bottom: 4px;\n",
       "    }\n",
       "\n",
       "    [theme=dark] .colab-df-convert {\n",
       "      background-color: #3B4455;\n",
       "      fill: #D2E3FC;\n",
       "    }\n",
       "\n",
       "    [theme=dark] .colab-df-convert:hover {\n",
       "      background-color: #434B5C;\n",
       "      box-shadow: 0px 1px 3px 1px rgba(0, 0, 0, 0.15);\n",
       "      filter: drop-shadow(0px 1px 2px rgba(0, 0, 0, 0.3));\n",
       "      fill: #FFFFFF;\n",
       "    }\n",
       "  </style>\n",
       "\n",
       "    <script>\n",
       "      const buttonEl =\n",
       "        document.querySelector('#df-0b21bc77-7d2e-442a-9009-ade2c10ef763 button.colab-df-convert');\n",
       "      buttonEl.style.display =\n",
       "        google.colab.kernel.accessAllowed ? 'block' : 'none';\n",
       "\n",
       "      async function convertToInteractive(key) {\n",
       "        const element = document.querySelector('#df-0b21bc77-7d2e-442a-9009-ade2c10ef763');\n",
       "        const dataTable =\n",
       "          await google.colab.kernel.invokeFunction('convertToInteractive',\n",
       "                                                    [key], {});\n",
       "        if (!dataTable) return;\n",
       "\n",
       "        const docLinkHtml = 'Like what you see? Visit the ' +\n",
       "          '<a target=\"_blank\" href=https://colab.research.google.com/notebooks/data_table.ipynb>data table notebook</a>'\n",
       "          + ' to learn more about interactive tables.';\n",
       "        element.innerHTML = '';\n",
       "        dataTable['output_type'] = 'display_data';\n",
       "        await google.colab.output.renderOutput(dataTable, element);\n",
       "        const docLink = document.createElement('div');\n",
       "        docLink.innerHTML = docLinkHtml;\n",
       "        element.appendChild(docLink);\n",
       "      }\n",
       "    </script>\n",
       "  </div>\n",
       "\n",
       "\n",
       "<div id=\"df-d111dd46-8445-4e21-881c-d3f2a18a2d07\">\n",
       "  <button class=\"colab-df-quickchart\" onclick=\"quickchart('df-d111dd46-8445-4e21-881c-d3f2a18a2d07')\"\n",
       "            title=\"Suggest charts.\"\n",
       "            style=\"display:none;\">\n",
       "\n",
       "<svg xmlns=\"http://www.w3.org/2000/svg\" height=\"24px\"viewBox=\"0 0 24 24\"\n",
       "     width=\"24px\">\n",
       "    <g>\n",
       "        <path d=\"M19 3H5c-1.1 0-2 .9-2 2v14c0 1.1.9 2 2 2h14c1.1 0 2-.9 2-2V5c0-1.1-.9-2-2-2zM9 17H7v-7h2v7zm4 0h-2V7h2v10zm4 0h-2v-4h2v4z\"/>\n",
       "    </g>\n",
       "</svg>\n",
       "  </button>\n",
       "\n",
       "<style>\n",
       "  .colab-df-quickchart {\n",
       "      --bg-color: #E8F0FE;\n",
       "      --fill-color: #1967D2;\n",
       "      --hover-bg-color: #E2EBFA;\n",
       "      --hover-fill-color: #174EA6;\n",
       "      --disabled-fill-color: #AAA;\n",
       "      --disabled-bg-color: #DDD;\n",
       "  }\n",
       "\n",
       "  [theme=dark] .colab-df-quickchart {\n",
       "      --bg-color: #3B4455;\n",
       "      --fill-color: #D2E3FC;\n",
       "      --hover-bg-color: #434B5C;\n",
       "      --hover-fill-color: #FFFFFF;\n",
       "      --disabled-bg-color: #3B4455;\n",
       "      --disabled-fill-color: #666;\n",
       "  }\n",
       "\n",
       "  .colab-df-quickchart {\n",
       "    background-color: var(--bg-color);\n",
       "    border: none;\n",
       "    border-radius: 50%;\n",
       "    cursor: pointer;\n",
       "    display: none;\n",
       "    fill: var(--fill-color);\n",
       "    height: 32px;\n",
       "    padding: 0;\n",
       "    width: 32px;\n",
       "  }\n",
       "\n",
       "  .colab-df-quickchart:hover {\n",
       "    background-color: var(--hover-bg-color);\n",
       "    box-shadow: 0 1px 2px rgba(60, 64, 67, 0.3), 0 1px 3px 1px rgba(60, 64, 67, 0.15);\n",
       "    fill: var(--button-hover-fill-color);\n",
       "  }\n",
       "\n",
       "  .colab-df-quickchart-complete:disabled,\n",
       "  .colab-df-quickchart-complete:disabled:hover {\n",
       "    background-color: var(--disabled-bg-color);\n",
       "    fill: var(--disabled-fill-color);\n",
       "    box-shadow: none;\n",
       "  }\n",
       "\n",
       "  .colab-df-spinner {\n",
       "    border: 2px solid var(--fill-color);\n",
       "    border-color: transparent;\n",
       "    border-bottom-color: var(--fill-color);\n",
       "    animation:\n",
       "      spin 1s steps(1) infinite;\n",
       "  }\n",
       "\n",
       "  @keyframes spin {\n",
       "    0% {\n",
       "      border-color: transparent;\n",
       "      border-bottom-color: var(--fill-color);\n",
       "      border-left-color: var(--fill-color);\n",
       "    }\n",
       "    20% {\n",
       "      border-color: transparent;\n",
       "      border-left-color: var(--fill-color);\n",
       "      border-top-color: var(--fill-color);\n",
       "    }\n",
       "    30% {\n",
       "      border-color: transparent;\n",
       "      border-left-color: var(--fill-color);\n",
       "      border-top-color: var(--fill-color);\n",
       "      border-right-color: var(--fill-color);\n",
       "    }\n",
       "    40% {\n",
       "      border-color: transparent;\n",
       "      border-right-color: var(--fill-color);\n",
       "      border-top-color: var(--fill-color);\n",
       "    }\n",
       "    60% {\n",
       "      border-color: transparent;\n",
       "      border-right-color: var(--fill-color);\n",
       "    }\n",
       "    80% {\n",
       "      border-color: transparent;\n",
       "      border-right-color: var(--fill-color);\n",
       "      border-bottom-color: var(--fill-color);\n",
       "    }\n",
       "    90% {\n",
       "      border-color: transparent;\n",
       "      border-bottom-color: var(--fill-color);\n",
       "    }\n",
       "  }\n",
       "</style>\n",
       "\n",
       "  <script>\n",
       "    async function quickchart(key) {\n",
       "      const quickchartButtonEl =\n",
       "        document.querySelector('#' + key + ' button');\n",
       "      quickchartButtonEl.disabled = true;  // To prevent multiple clicks.\n",
       "      quickchartButtonEl.classList.add('colab-df-spinner');\n",
       "      try {\n",
       "        const charts = await google.colab.kernel.invokeFunction(\n",
       "            'suggestCharts', [key], {});\n",
       "      } catch (error) {\n",
       "        console.error('Error during call to suggestCharts:', error);\n",
       "      }\n",
       "      quickchartButtonEl.classList.remove('colab-df-spinner');\n",
       "      quickchartButtonEl.classList.add('colab-df-quickchart-complete');\n",
       "    }\n",
       "    (() => {\n",
       "      let quickchartButtonEl =\n",
       "        document.querySelector('#df-d111dd46-8445-4e21-881c-d3f2a18a2d07 button');\n",
       "      quickchartButtonEl.style.display =\n",
       "        google.colab.kernel.accessAllowed ? 'block' : 'none';\n",
       "    })();\n",
       "  </script>\n",
       "</div>\n",
       "    </div>\n",
       "  </div>\n"
      ],
      "text/plain": [
       "    customerID MultipleLines\n",
       "0   5575-GNVDE            No\n",
       "1   3668-QPYBK            No\n",
       "2   9237-HQITU            No\n",
       "3   9305-CDSKC           Yes\n",
       "4   1452-KIOVK           Yes\n",
       "5   7892-POOKP           Yes\n",
       "6   6388-TABGU            No\n",
       "7   9763-GRSKD            No\n",
       "8   7469-LKBCI            No\n",
       "9   8091-TTVAX           Yes\n",
       "10  0280-XJGEX           Yes\n",
       "11  5129-JLPIS            No\n",
       "12  3655-SNQYZ           Yes\n",
       "13  8191-XWSZG            No\n",
       "14  9959-WOFKT           Yes\n",
       "15  4190-MFLUW            No\n",
       "16  4183-MYFRB            No\n",
       "17  1680-VDCWW            No\n",
       "18  1066-JKSGK            No\n",
       "19  3638-WEABW           Yes"
      ]
     },
     "metadata": {},
     "output_type": "display_data"
    },
    {
     "name": "stdout",
     "output_type": "stream",
     "text": [
      "<class 'pandas.core.frame.DataFrame'>\n",
      "RangeIndex: 6361 entries, 0 to 6360\n",
      "Data columns (total 2 columns):\n",
      " #   Column         Non-Null Count  Dtype \n",
      "---  ------         --------------  ----- \n",
      " 0   customerID     6361 non-null   object\n",
      " 1   MultipleLines  6361 non-null   object\n",
      "dtypes: object(2)\n",
      "memory usage: 99.5+ KB\n"
     ]
    },
    {
     "data": {
      "text/html": [
       "\n",
       "  <div id=\"df-be4c32d4-a801-4bea-bbb0-e414616736e6\" class=\"colab-df-container\">\n",
       "    <div>\n",
       "<style scoped>\n",
       "    .dataframe tbody tr th:only-of-type {\n",
       "        vertical-align: middle;\n",
       "    }\n",
       "\n",
       "    .dataframe tbody tr th {\n",
       "        vertical-align: top;\n",
       "    }\n",
       "\n",
       "    .dataframe thead th {\n",
       "        text-align: right;\n",
       "    }\n",
       "</style>\n",
       "<table border=\"1\" class=\"dataframe\">\n",
       "  <thead>\n",
       "    <tr style=\"text-align: right;\">\n",
       "      <th></th>\n",
       "      <th>customerID</th>\n",
       "      <th>MultipleLines</th>\n",
       "    </tr>\n",
       "  </thead>\n",
       "  <tbody>\n",
       "    <tr>\n",
       "      <th>count</th>\n",
       "      <td>6361</td>\n",
       "      <td>6361</td>\n",
       "    </tr>\n",
       "    <tr>\n",
       "      <th>unique</th>\n",
       "      <td>6361</td>\n",
       "      <td>2</td>\n",
       "    </tr>\n",
       "    <tr>\n",
       "      <th>top</th>\n",
       "      <td>5575-GNVDE</td>\n",
       "      <td>No</td>\n",
       "    </tr>\n",
       "    <tr>\n",
       "      <th>freq</th>\n",
       "      <td>1</td>\n",
       "      <td>3390</td>\n",
       "    </tr>\n",
       "  </tbody>\n",
       "</table>\n",
       "</div>\n",
       "    <div class=\"colab-df-buttons\">\n",
       "\n",
       "  <div class=\"colab-df-container\">\n",
       "    <button class=\"colab-df-convert\" onclick=\"convertToInteractive('df-be4c32d4-a801-4bea-bbb0-e414616736e6')\"\n",
       "            title=\"Convert this dataframe to an interactive table.\"\n",
       "            style=\"display:none;\">\n",
       "\n",
       "  <svg xmlns=\"http://www.w3.org/2000/svg\" height=\"24px\" viewBox=\"0 -960 960 960\">\n",
       "    <path d=\"M120-120v-720h720v720H120Zm60-500h600v-160H180v160Zm220 220h160v-160H400v160Zm0 220h160v-160H400v160ZM180-400h160v-160H180v160Zm440 0h160v-160H620v160ZM180-180h160v-160H180v160Zm440 0h160v-160H620v160Z\"/>\n",
       "  </svg>\n",
       "    </button>\n",
       "\n",
       "  <style>\n",
       "    .colab-df-container {\n",
       "      display:flex;\n",
       "      gap: 12px;\n",
       "    }\n",
       "\n",
       "    .colab-df-convert {\n",
       "      background-color: #E8F0FE;\n",
       "      border: none;\n",
       "      border-radius: 50%;\n",
       "      cursor: pointer;\n",
       "      display: none;\n",
       "      fill: #1967D2;\n",
       "      height: 32px;\n",
       "      padding: 0 0 0 0;\n",
       "      width: 32px;\n",
       "    }\n",
       "\n",
       "    .colab-df-convert:hover {\n",
       "      background-color: #E2EBFA;\n",
       "      box-shadow: 0px 1px 2px rgba(60, 64, 67, 0.3), 0px 1px 3px 1px rgba(60, 64, 67, 0.15);\n",
       "      fill: #174EA6;\n",
       "    }\n",
       "\n",
       "    .colab-df-buttons div {\n",
       "      margin-bottom: 4px;\n",
       "    }\n",
       "\n",
       "    [theme=dark] .colab-df-convert {\n",
       "      background-color: #3B4455;\n",
       "      fill: #D2E3FC;\n",
       "    }\n",
       "\n",
       "    [theme=dark] .colab-df-convert:hover {\n",
       "      background-color: #434B5C;\n",
       "      box-shadow: 0px 1px 3px 1px rgba(0, 0, 0, 0.15);\n",
       "      filter: drop-shadow(0px 1px 2px rgba(0, 0, 0, 0.3));\n",
       "      fill: #FFFFFF;\n",
       "    }\n",
       "  </style>\n",
       "\n",
       "    <script>\n",
       "      const buttonEl =\n",
       "        document.querySelector('#df-be4c32d4-a801-4bea-bbb0-e414616736e6 button.colab-df-convert');\n",
       "      buttonEl.style.display =\n",
       "        google.colab.kernel.accessAllowed ? 'block' : 'none';\n",
       "\n",
       "      async function convertToInteractive(key) {\n",
       "        const element = document.querySelector('#df-be4c32d4-a801-4bea-bbb0-e414616736e6');\n",
       "        const dataTable =\n",
       "          await google.colab.kernel.invokeFunction('convertToInteractive',\n",
       "                                                    [key], {});\n",
       "        if (!dataTable) return;\n",
       "\n",
       "        const docLinkHtml = 'Like what you see? Visit the ' +\n",
       "          '<a target=\"_blank\" href=https://colab.research.google.com/notebooks/data_table.ipynb>data table notebook</a>'\n",
       "          + ' to learn more about interactive tables.';\n",
       "        element.innerHTML = '';\n",
       "        dataTable['output_type'] = 'display_data';\n",
       "        await google.colab.output.renderOutput(dataTable, element);\n",
       "        const docLink = document.createElement('div');\n",
       "        docLink.innerHTML = docLinkHtml;\n",
       "        element.appendChild(docLink);\n",
       "      }\n",
       "    </script>\n",
       "  </div>\n",
       "\n",
       "\n",
       "<div id=\"df-aa19e2d2-83fd-4094-b297-3d1e1e8d5fcc\">\n",
       "  <button class=\"colab-df-quickchart\" onclick=\"quickchart('df-aa19e2d2-83fd-4094-b297-3d1e1e8d5fcc')\"\n",
       "            title=\"Suggest charts.\"\n",
       "            style=\"display:none;\">\n",
       "\n",
       "<svg xmlns=\"http://www.w3.org/2000/svg\" height=\"24px\"viewBox=\"0 0 24 24\"\n",
       "     width=\"24px\">\n",
       "    <g>\n",
       "        <path d=\"M19 3H5c-1.1 0-2 .9-2 2v14c0 1.1.9 2 2 2h14c1.1 0 2-.9 2-2V5c0-1.1-.9-2-2-2zM9 17H7v-7h2v7zm4 0h-2V7h2v10zm4 0h-2v-4h2v4z\"/>\n",
       "    </g>\n",
       "</svg>\n",
       "  </button>\n",
       "\n",
       "<style>\n",
       "  .colab-df-quickchart {\n",
       "      --bg-color: #E8F0FE;\n",
       "      --fill-color: #1967D2;\n",
       "      --hover-bg-color: #E2EBFA;\n",
       "      --hover-fill-color: #174EA6;\n",
       "      --disabled-fill-color: #AAA;\n",
       "      --disabled-bg-color: #DDD;\n",
       "  }\n",
       "\n",
       "  [theme=dark] .colab-df-quickchart {\n",
       "      --bg-color: #3B4455;\n",
       "      --fill-color: #D2E3FC;\n",
       "      --hover-bg-color: #434B5C;\n",
       "      --hover-fill-color: #FFFFFF;\n",
       "      --disabled-bg-color: #3B4455;\n",
       "      --disabled-fill-color: #666;\n",
       "  }\n",
       "\n",
       "  .colab-df-quickchart {\n",
       "    background-color: var(--bg-color);\n",
       "    border: none;\n",
       "    border-radius: 50%;\n",
       "    cursor: pointer;\n",
       "    display: none;\n",
       "    fill: var(--fill-color);\n",
       "    height: 32px;\n",
       "    padding: 0;\n",
       "    width: 32px;\n",
       "  }\n",
       "\n",
       "  .colab-df-quickchart:hover {\n",
       "    background-color: var(--hover-bg-color);\n",
       "    box-shadow: 0 1px 2px rgba(60, 64, 67, 0.3), 0 1px 3px 1px rgba(60, 64, 67, 0.15);\n",
       "    fill: var(--button-hover-fill-color);\n",
       "  }\n",
       "\n",
       "  .colab-df-quickchart-complete:disabled,\n",
       "  .colab-df-quickchart-complete:disabled:hover {\n",
       "    background-color: var(--disabled-bg-color);\n",
       "    fill: var(--disabled-fill-color);\n",
       "    box-shadow: none;\n",
       "  }\n",
       "\n",
       "  .colab-df-spinner {\n",
       "    border: 2px solid var(--fill-color);\n",
       "    border-color: transparent;\n",
       "    border-bottom-color: var(--fill-color);\n",
       "    animation:\n",
       "      spin 1s steps(1) infinite;\n",
       "  }\n",
       "\n",
       "  @keyframes spin {\n",
       "    0% {\n",
       "      border-color: transparent;\n",
       "      border-bottom-color: var(--fill-color);\n",
       "      border-left-color: var(--fill-color);\n",
       "    }\n",
       "    20% {\n",
       "      border-color: transparent;\n",
       "      border-left-color: var(--fill-color);\n",
       "      border-top-color: var(--fill-color);\n",
       "    }\n",
       "    30% {\n",
       "      border-color: transparent;\n",
       "      border-left-color: var(--fill-color);\n",
       "      border-top-color: var(--fill-color);\n",
       "      border-right-color: var(--fill-color);\n",
       "    }\n",
       "    40% {\n",
       "      border-color: transparent;\n",
       "      border-right-color: var(--fill-color);\n",
       "      border-top-color: var(--fill-color);\n",
       "    }\n",
       "    60% {\n",
       "      border-color: transparent;\n",
       "      border-right-color: var(--fill-color);\n",
       "    }\n",
       "    80% {\n",
       "      border-color: transparent;\n",
       "      border-right-color: var(--fill-color);\n",
       "      border-bottom-color: var(--fill-color);\n",
       "    }\n",
       "    90% {\n",
       "      border-color: transparent;\n",
       "      border-bottom-color: var(--fill-color);\n",
       "    }\n",
       "  }\n",
       "</style>\n",
       "\n",
       "  <script>\n",
       "    async function quickchart(key) {\n",
       "      const quickchartButtonEl =\n",
       "        document.querySelector('#' + key + ' button');\n",
       "      quickchartButtonEl.disabled = true;  // To prevent multiple clicks.\n",
       "      quickchartButtonEl.classList.add('colab-df-spinner');\n",
       "      try {\n",
       "        const charts = await google.colab.kernel.invokeFunction(\n",
       "            'suggestCharts', [key], {});\n",
       "      } catch (error) {\n",
       "        console.error('Error during call to suggestCharts:', error);\n",
       "      }\n",
       "      quickchartButtonEl.classList.remove('colab-df-spinner');\n",
       "      quickchartButtonEl.classList.add('colab-df-quickchart-complete');\n",
       "    }\n",
       "    (() => {\n",
       "      let quickchartButtonEl =\n",
       "        document.querySelector('#df-aa19e2d2-83fd-4094-b297-3d1e1e8d5fcc button');\n",
       "      quickchartButtonEl.style.display =\n",
       "        google.colab.kernel.accessAllowed ? 'block' : 'none';\n",
       "    })();\n",
       "  </script>\n",
       "</div>\n",
       "    </div>\n",
       "  </div>\n"
      ],
      "text/plain": [
       "        customerID MultipleLines\n",
       "count         6361          6361\n",
       "unique        6361             2\n",
       "top     5575-GNVDE            No\n",
       "freq             1          3390"
      ]
     },
     "metadata": {},
     "output_type": "display_data"
    },
    {
     "name": "stdout",
     "output_type": "stream",
     "text": [
      "Распределение значений в столбце customerID:\n",
      "5575-GNVDE    1\n",
      "0980-FEXWF    1\n",
      "8082-GHXOP    1\n",
      "3393-FMZPV    1\n",
      "8701-DGLVH    1\n",
      "             ..\n",
      "8197-BFWVU    1\n",
      "9154-QDGTH    1\n",
      "8499-BRXTD    1\n",
      "8552-OBVRU    1\n",
      "3186-AJIEK    1\n",
      "Name: customerID, Length: 6361, dtype: int64\n",
      "\n",
      "\n",
      "Распределение значений в столбце MultipleLines:\n",
      "No     3390\n",
      "Yes    2971\n",
      "Name: MultipleLines, dtype: int64\n",
      "\n",
      "\n",
      "Количество явных дубликатов в таблице: 0\n"
     ]
    }
   ],
   "source": [
    "# выполним первичный анализ данных об услугах телефонии\n",
    "overview_data(data_phone)"
   ]
  },
  {
   "cell_type": "markdown",
   "metadata": {
    "id": "3pTExul46mKN"
   },
   "source": [
    "По данным об услугах телефонии заметим следующее:\n",
    "* в датасете 6361 записи, значения `customerID` уникальны,\n",
    "* пропусков нет,\n",
    "* явных дубликатов нет,\n",
    "* есть только один категориальный признак со значениями Yes, No."
   ]
  },
  {
   "cell_type": "markdown",
   "metadata": {
    "id": "Wzql7ycP6mKN"
   },
   "source": [
    "<div style=\"border:solid green 2px; padding: 20px\">\n",
    "\n",
    "Выводы обзора данных:\n",
    "* в каждом из датасетов значения `customerID` уникальны;\n",
    "* во всех датасетах пропусков, выбросов, явных дубликатов нет, то есть данные уже пришли обработанные;\n",
    "* далее для удобства моделирования датасеты нужно будет объединить по `customerID`;\n",
    "* признак `TotalCharges` по значениям в нем является числовым, нужно будет изменить его тип;\n",
    "* типы призаков `BeginDate` и `EndDate` должны бы быть типа дата, но далее лучше создадим на основе этих двух признаков два новых признака - факт ухода клиента от опреатора связи и количество дней, которые он являлся клиентов оператора;\n",
    "* тип признака `SeniorCitizen` числовой, но по сути он все равно является категориальным. Поэтому чтобы модели более корректно его обрабатывали, далее преобразуем его к строковому типу со значениям Yes, No.\n",
    "* у категориальных признаков небольшое число категорий.\n",
    "    \n",
    "</div>"
   ]
  },
  {
   "cell_type": "markdown",
   "metadata": {
    "id": "emisKiDH6mKO"
   },
   "source": [
    "## План дальнейшей работы"
   ]
  },
  {
   "cell_type": "markdown",
   "metadata": {
    "id": "ZkCkZ-FK6mKO"
   },
   "source": [
    "1. После выполненного обзора данных, объединим датасеты по `customerID`. Данных немного, поэтому объединять будем без потери данных. Так как количество записей в датасетах разное, появятся пропуски, далее нужно будет их обработать.\n",
    "2. Выполним предобработку этого датасета: исправим неудачные типы данных, выделим из данных новые более полезные признаки, удалим ненужные признаки, обработаем пропуски после объединения датасетов.\n",
    "3. Разделим данные на выборки, выполним кодирование и масштабирование данных. С pipeline я еще не работала, но в рамках этой работы попробую разобраться с ними и применить.\n",
    "4. Далее будем выполнять моделирование и искать наилучшие модели по метрике ROC-AUC. Хочу попровать следующие модели: линейная, случайного леса, LightGBM, CatBoost.\n",
    "5. Протестируем лучшую найденную модель и проверим ее на адекватность.\n",
    "6. Проведем исследование важности признаков лучшей модели."
   ]
  },
  {
   "cell_type": "markdown",
   "metadata": {
    "id": "1EV4lARt6mKP"
   },
   "source": [
    "## Предобработка данных"
   ]
  },
  {
   "cell_type": "markdown",
   "metadata": {
    "id": "tf4J0vNJ6mKQ"
   },
   "source": [
    "### Объединение датасетов"
   ]
  },
  {
   "cell_type": "markdown",
   "metadata": {
    "id": "KRtj74hS6mKQ"
   },
   "source": [
    "Для удобства объединим датасеты по `customerID`. Данных немного, поэтому объединять будем их без потери данных. Так как количество записей в датасетах разное, появятся пропуски, далее нужно будет их обработать."
   ]
  },
  {
   "cell_type": "code",
   "execution_count": 11,
   "metadata": {
    "colab": {
     "base_uri": "https://localhost:8080/"
    },
    "id": "35q4EvvW6mKQ",
    "outputId": "63ee69d0-006a-4b55-8e0a-ed1ad2b6b3a9"
   },
   "outputs": [
    {
     "name": "stdout",
     "output_type": "stream",
     "text": [
      "<class 'pandas.core.frame.DataFrame'>\n",
      "Int64Index: 7043 entries, 0 to 7042\n",
      "Data columns (total 20 columns):\n",
      " #   Column            Non-Null Count  Dtype  \n",
      "---  ------            --------------  -----  \n",
      " 0   customerID        7043 non-null   object \n",
      " 1   BeginDate         7043 non-null   object \n",
      " 2   EndDate           7043 non-null   object \n",
      " 3   Type              7043 non-null   object \n",
      " 4   PaperlessBilling  7043 non-null   object \n",
      " 5   PaymentMethod     7043 non-null   object \n",
      " 6   MonthlyCharges    7043 non-null   float64\n",
      " 7   TotalCharges      7043 non-null   object \n",
      " 8   gender            7043 non-null   object \n",
      " 9   SeniorCitizen     7043 non-null   int64  \n",
      " 10  Partner           7043 non-null   object \n",
      " 11  Dependents        7043 non-null   object \n",
      " 12  InternetService   5517 non-null   object \n",
      " 13  OnlineSecurity    5517 non-null   object \n",
      " 14  OnlineBackup      5517 non-null   object \n",
      " 15  DeviceProtection  5517 non-null   object \n",
      " 16  TechSupport       5517 non-null   object \n",
      " 17  StreamingTV       5517 non-null   object \n",
      " 18  StreamingMovies   5517 non-null   object \n",
      " 19  MultipleLines     6361 non-null   object \n",
      "dtypes: float64(1), int64(1), object(18)\n",
      "memory usage: 1.1+ MB\n"
     ]
    }
   ],
   "source": [
    "data = data_contract.merge(data_personal, on='customerID', how='outer')\n",
    "data = data.merge(data_internet, on='customerID', how='outer')\n",
    "data = data.merge(data_phone, on='customerID', how='outer')\n",
    "\n",
    "# проверим результат объединения\n",
    "data.info()"
   ]
  },
  {
   "cell_type": "markdown",
   "metadata": {
    "id": "R9XN6z8M6mKR"
   },
   "source": [
    "### Заполнение пропусков"
   ]
  },
  {
   "cell_type": "markdown",
   "metadata": {
    "id": "DmLhKu2u6mKR"
   },
   "source": [
    "Все столбцы с пропусками - категориальные, для незаполненных значений в них введем новую категорию 'undefined' и заполним пропуски этим значением:"
   ]
  },
  {
   "cell_type": "code",
   "execution_count": 12,
   "metadata": {
    "colab": {
     "base_uri": "https://localhost:8080/"
    },
    "id": "ehyRm3w86mKS",
    "outputId": "ea8de7e1-8f64-4502-936d-ae9c01372819"
   },
   "outputs": [
    {
     "data": {
      "text/plain": [
       "customerID          0\n",
       "BeginDate           0\n",
       "StreamingMovies     0\n",
       "StreamingTV         0\n",
       "TechSupport         0\n",
       "DeviceProtection    0\n",
       "OnlineBackup        0\n",
       "OnlineSecurity      0\n",
       "InternetService     0\n",
       "Dependents          0\n",
       "Partner             0\n",
       "SeniorCitizen       0\n",
       "gender              0\n",
       "TotalCharges        0\n",
       "MonthlyCharges      0\n",
       "PaymentMethod       0\n",
       "PaperlessBilling    0\n",
       "Type                0\n",
       "EndDate             0\n",
       "MultipleLines       0\n",
       "dtype: int64"
      ]
     },
     "execution_count": 12,
     "metadata": {},
     "output_type": "execute_result"
    }
   ],
   "source": [
    "for column in data.columns.values.tolist():\n",
    "    data[column] = data[column].fillna('undefined')\n",
    "\n",
    "#проверим, что пропуски в датасете заполнены\n",
    "data.isna().sum().sort_values(ascending=False)"
   ]
  },
  {
   "cell_type": "markdown",
   "metadata": {
    "id": "04HScp9A6mKT"
   },
   "source": [
    "### Переименование столбцов"
   ]
  },
  {
   "cell_type": "markdown",
   "metadata": {
    "id": "NS1Zh84p6mKT"
   },
   "source": [
    "Столбцы `customerID` и `gender` выбиваются из всех столбцов тем, что наинаются с маленькой буквы, переименуем их:"
   ]
  },
  {
   "cell_type": "code",
   "execution_count": 13,
   "metadata": {
    "colab": {
     "base_uri": "https://localhost:8080/"
    },
    "id": "okZL95gM6mKT",
    "outputId": "d0fcc285-c748-4af6-c906-ebd5c6b5b80d"
   },
   "outputs": [
    {
     "name": "stdout",
     "output_type": "stream",
     "text": [
      "['CustomerID', 'BeginDate', 'EndDate', 'Type', 'PaperlessBilling', 'PaymentMethod', 'MonthlyCharges', 'TotalCharges', 'Gender', 'SeniorCitizen', 'Partner', 'Dependents', 'InternetService', 'OnlineSecurity', 'OnlineBackup', 'DeviceProtection', 'TechSupport', 'StreamingTV', 'StreamingMovies', 'MultipleLines']\n"
     ]
    }
   ],
   "source": [
    "data = data.rename(columns={'customerID': 'CustomerID', 'gender': 'Gender'})\n",
    "\n",
    "# проверим результат переименования столбцов\n",
    "print(data.columns.values.tolist())"
   ]
  },
  {
   "cell_type": "markdown",
   "metadata": {
    "id": "U3PiPf8O6mKU"
   },
   "source": [
    "### Преобразование типов"
   ]
  },
  {
   "cell_type": "markdown",
   "metadata": {
    "id": "JYXe5-UE6mKV"
   },
   "source": [
    "Признак `TotalCharges` по значениям в нем является числовым, изменим его тип на float:"
   ]
  },
  {
   "cell_type": "code",
   "execution_count": 14,
   "metadata": {
    "colab": {
     "base_uri": "https://localhost:8080/"
    },
    "id": "7FSeVTVy6mKV",
    "outputId": "a149d4f1-a537-414b-e89b-b6371c9eb33c",
    "scrolled": true
   },
   "outputs": [
    {
     "data": {
      "text/plain": [
       "TotalCharges    float64\n",
       "dtype: object"
      ]
     },
     "execution_count": 14,
     "metadata": {},
     "output_type": "execute_result"
    }
   ],
   "source": [
    "data['TotalCharges'] = data['TotalCharges'].replace(' ', 0).astype('float')\n",
    "\n",
    "data[['TotalCharges']].dtypes"
   ]
  },
  {
   "cell_type": "markdown",
   "metadata": {
    "id": "2-I2SgkD6mKW"
   },
   "source": [
    "Тип признака `SeniorCitizen` числовой, но по сути он все равно является категориальным. Поэтому чтобы модели более корректно его обрабатывали, далее преобразуем его к строковому типу со значениям Yes, No."
   ]
  },
  {
   "cell_type": "code",
   "execution_count": 15,
   "metadata": {
    "colab": {
     "base_uri": "https://localhost:8080/"
    },
    "id": "zaodBhG76mKX",
    "outputId": "228e9f02-7558-4cb9-8005-57bddedec011"
   },
   "outputs": [
    {
     "data": {
      "text/plain": [
       "SeniorCitizen    object\n",
       "dtype: object"
      ]
     },
     "execution_count": 15,
     "metadata": {},
     "output_type": "execute_result"
    }
   ],
   "source": [
    "data['SeniorCitizen'] = data['SeniorCitizen'].replace(0, 'No').replace(1, 'Yes').astype('str')\n",
    "\n",
    "data[['SeniorCitizen']].dtypes"
   ]
  },
  {
   "cell_type": "markdown",
   "metadata": {
    "id": "SyadU-1U6mKX"
   },
   "source": [
    "### Выделение новых признаков"
   ]
  },
  {
   "cell_type": "markdown",
   "metadata": {
    "id": "9Ggxu4v46mKY"
   },
   "source": [
    "В датасете есть признаки `BeginDate`, `EndDate` - даты начала и окончания действия договора, но целевым признаком является факт ухода клиента от оператора связи. И также для предсказания интереснее не сама дата начала договора, а продолжительность периода действия договора, рассчитаем ее в днях. В задании было указано, что информация о договорах актуальна на 1 февраля 2020, поэтому если не указана дата окончания договора, будем использовать эту дату для вычисления продолжительности периода действия договора. Добавим эти новые признаки:"
   ]
  },
  {
   "cell_type": "code",
   "execution_count": 16,
   "metadata": {
    "id": "9FjJhljD6mKY"
   },
   "outputs": [],
   "source": [
    "# напишем функцию, вычисляющую факт ухода клиента, где 1 означает, что клиент ушел, а 0 - не ушел\n",
    "def is_customer_left(end_date):\n",
    "    if end_date == 'No':\n",
    "        return 0\n",
    "    else:\n",
    "        return 1"
   ]
  },
  {
   "cell_type": "code",
   "execution_count": 17,
   "metadata": {
    "colab": {
     "base_uri": "https://localhost:8080/",
     "height": 1000
    },
    "id": "Zc6NEGbM6mKY",
    "outputId": "d2f1f088-8b83-4a92-b7c9-35ef807214dd"
   },
   "outputs": [
    {
     "data": {
      "text/html": [
       "\n",
       "  <div id=\"df-44540762-6cb5-4e87-b3ca-09c4192adb1c\" class=\"colab-df-container\">\n",
       "    <div>\n",
       "<style scoped>\n",
       "    .dataframe tbody tr th:only-of-type {\n",
       "        vertical-align: middle;\n",
       "    }\n",
       "\n",
       "    .dataframe tbody tr th {\n",
       "        vertical-align: top;\n",
       "    }\n",
       "\n",
       "    .dataframe thead th {\n",
       "        text-align: right;\n",
       "    }\n",
       "</style>\n",
       "<table border=\"1\" class=\"dataframe\">\n",
       "  <thead>\n",
       "    <tr style=\"text-align: right;\">\n",
       "      <th></th>\n",
       "      <th>CustomerID</th>\n",
       "      <th>BeginDate</th>\n",
       "      <th>EndDate</th>\n",
       "      <th>Type</th>\n",
       "      <th>PaperlessBilling</th>\n",
       "      <th>PaymentMethod</th>\n",
       "      <th>MonthlyCharges</th>\n",
       "      <th>TotalCharges</th>\n",
       "      <th>Gender</th>\n",
       "      <th>SeniorCitizen</th>\n",
       "      <th>...</th>\n",
       "      <th>Dependents</th>\n",
       "      <th>InternetService</th>\n",
       "      <th>OnlineSecurity</th>\n",
       "      <th>OnlineBackup</th>\n",
       "      <th>DeviceProtection</th>\n",
       "      <th>TechSupport</th>\n",
       "      <th>StreamingTV</th>\n",
       "      <th>StreamingMovies</th>\n",
       "      <th>MultipleLines</th>\n",
       "      <th>CustomerLeft</th>\n",
       "    </tr>\n",
       "  </thead>\n",
       "  <tbody>\n",
       "    <tr>\n",
       "      <th>0</th>\n",
       "      <td>7590-VHVEG</td>\n",
       "      <td>2020-01-01</td>\n",
       "      <td>No</td>\n",
       "      <td>Month-to-month</td>\n",
       "      <td>Yes</td>\n",
       "      <td>Electronic check</td>\n",
       "      <td>29.85</td>\n",
       "      <td>31.04</td>\n",
       "      <td>Female</td>\n",
       "      <td>No</td>\n",
       "      <td>...</td>\n",
       "      <td>No</td>\n",
       "      <td>DSL</td>\n",
       "      <td>No</td>\n",
       "      <td>Yes</td>\n",
       "      <td>No</td>\n",
       "      <td>No</td>\n",
       "      <td>No</td>\n",
       "      <td>No</td>\n",
       "      <td>undefined</td>\n",
       "      <td>0</td>\n",
       "    </tr>\n",
       "    <tr>\n",
       "      <th>1</th>\n",
       "      <td>5575-GNVDE</td>\n",
       "      <td>2017-04-01</td>\n",
       "      <td>No</td>\n",
       "      <td>One year</td>\n",
       "      <td>No</td>\n",
       "      <td>Mailed check</td>\n",
       "      <td>56.95</td>\n",
       "      <td>2071.84</td>\n",
       "      <td>Male</td>\n",
       "      <td>No</td>\n",
       "      <td>...</td>\n",
       "      <td>No</td>\n",
       "      <td>DSL</td>\n",
       "      <td>Yes</td>\n",
       "      <td>No</td>\n",
       "      <td>Yes</td>\n",
       "      <td>No</td>\n",
       "      <td>No</td>\n",
       "      <td>No</td>\n",
       "      <td>No</td>\n",
       "      <td>0</td>\n",
       "    </tr>\n",
       "    <tr>\n",
       "      <th>2</th>\n",
       "      <td>3668-QPYBK</td>\n",
       "      <td>2019-10-01</td>\n",
       "      <td>No</td>\n",
       "      <td>Month-to-month</td>\n",
       "      <td>Yes</td>\n",
       "      <td>Mailed check</td>\n",
       "      <td>53.85</td>\n",
       "      <td>226.17</td>\n",
       "      <td>Male</td>\n",
       "      <td>No</td>\n",
       "      <td>...</td>\n",
       "      <td>No</td>\n",
       "      <td>DSL</td>\n",
       "      <td>Yes</td>\n",
       "      <td>Yes</td>\n",
       "      <td>No</td>\n",
       "      <td>No</td>\n",
       "      <td>No</td>\n",
       "      <td>No</td>\n",
       "      <td>No</td>\n",
       "      <td>0</td>\n",
       "    </tr>\n",
       "    <tr>\n",
       "      <th>3</th>\n",
       "      <td>7795-CFOCW</td>\n",
       "      <td>2016-05-01</td>\n",
       "      <td>No</td>\n",
       "      <td>One year</td>\n",
       "      <td>No</td>\n",
       "      <td>Bank transfer (automatic)</td>\n",
       "      <td>42.30</td>\n",
       "      <td>1960.60</td>\n",
       "      <td>Male</td>\n",
       "      <td>No</td>\n",
       "      <td>...</td>\n",
       "      <td>No</td>\n",
       "      <td>DSL</td>\n",
       "      <td>Yes</td>\n",
       "      <td>No</td>\n",
       "      <td>Yes</td>\n",
       "      <td>Yes</td>\n",
       "      <td>No</td>\n",
       "      <td>No</td>\n",
       "      <td>undefined</td>\n",
       "      <td>0</td>\n",
       "    </tr>\n",
       "    <tr>\n",
       "      <th>4</th>\n",
       "      <td>9237-HQITU</td>\n",
       "      <td>2019-09-01</td>\n",
       "      <td>No</td>\n",
       "      <td>Month-to-month</td>\n",
       "      <td>Yes</td>\n",
       "      <td>Electronic check</td>\n",
       "      <td>70.70</td>\n",
       "      <td>353.50</td>\n",
       "      <td>Female</td>\n",
       "      <td>No</td>\n",
       "      <td>...</td>\n",
       "      <td>No</td>\n",
       "      <td>Fiber optic</td>\n",
       "      <td>No</td>\n",
       "      <td>No</td>\n",
       "      <td>No</td>\n",
       "      <td>No</td>\n",
       "      <td>No</td>\n",
       "      <td>No</td>\n",
       "      <td>No</td>\n",
       "      <td>0</td>\n",
       "    </tr>\n",
       "    <tr>\n",
       "      <th>5</th>\n",
       "      <td>9305-CDSKC</td>\n",
       "      <td>2019-03-01</td>\n",
       "      <td>No</td>\n",
       "      <td>Month-to-month</td>\n",
       "      <td>Yes</td>\n",
       "      <td>Electronic check</td>\n",
       "      <td>99.65</td>\n",
       "      <td>1150.96</td>\n",
       "      <td>Female</td>\n",
       "      <td>No</td>\n",
       "      <td>...</td>\n",
       "      <td>No</td>\n",
       "      <td>Fiber optic</td>\n",
       "      <td>No</td>\n",
       "      <td>No</td>\n",
       "      <td>Yes</td>\n",
       "      <td>No</td>\n",
       "      <td>Yes</td>\n",
       "      <td>Yes</td>\n",
       "      <td>Yes</td>\n",
       "      <td>0</td>\n",
       "    </tr>\n",
       "    <tr>\n",
       "      <th>6</th>\n",
       "      <td>1452-KIOVK</td>\n",
       "      <td>2018-04-01</td>\n",
       "      <td>No</td>\n",
       "      <td>Month-to-month</td>\n",
       "      <td>Yes</td>\n",
       "      <td>Credit card (automatic)</td>\n",
       "      <td>89.10</td>\n",
       "      <td>2058.21</td>\n",
       "      <td>Male</td>\n",
       "      <td>No</td>\n",
       "      <td>...</td>\n",
       "      <td>Yes</td>\n",
       "      <td>Fiber optic</td>\n",
       "      <td>No</td>\n",
       "      <td>Yes</td>\n",
       "      <td>No</td>\n",
       "      <td>No</td>\n",
       "      <td>Yes</td>\n",
       "      <td>No</td>\n",
       "      <td>Yes</td>\n",
       "      <td>0</td>\n",
       "    </tr>\n",
       "    <tr>\n",
       "      <th>7</th>\n",
       "      <td>6713-OKOMC</td>\n",
       "      <td>2019-04-01</td>\n",
       "      <td>No</td>\n",
       "      <td>Month-to-month</td>\n",
       "      <td>No</td>\n",
       "      <td>Mailed check</td>\n",
       "      <td>29.75</td>\n",
       "      <td>300.48</td>\n",
       "      <td>Female</td>\n",
       "      <td>No</td>\n",
       "      <td>...</td>\n",
       "      <td>No</td>\n",
       "      <td>DSL</td>\n",
       "      <td>Yes</td>\n",
       "      <td>No</td>\n",
       "      <td>No</td>\n",
       "      <td>No</td>\n",
       "      <td>No</td>\n",
       "      <td>No</td>\n",
       "      <td>undefined</td>\n",
       "      <td>0</td>\n",
       "    </tr>\n",
       "    <tr>\n",
       "      <th>8</th>\n",
       "      <td>7892-POOKP</td>\n",
       "      <td>2017-07-01</td>\n",
       "      <td>No</td>\n",
       "      <td>Month-to-month</td>\n",
       "      <td>Yes</td>\n",
       "      <td>Electronic check</td>\n",
       "      <td>104.80</td>\n",
       "      <td>3573.68</td>\n",
       "      <td>Female</td>\n",
       "      <td>No</td>\n",
       "      <td>...</td>\n",
       "      <td>No</td>\n",
       "      <td>Fiber optic</td>\n",
       "      <td>No</td>\n",
       "      <td>No</td>\n",
       "      <td>Yes</td>\n",
       "      <td>Yes</td>\n",
       "      <td>Yes</td>\n",
       "      <td>Yes</td>\n",
       "      <td>Yes</td>\n",
       "      <td>0</td>\n",
       "    </tr>\n",
       "    <tr>\n",
       "      <th>9</th>\n",
       "      <td>6388-TABGU</td>\n",
       "      <td>2014-12-01</td>\n",
       "      <td>2017-05-01</td>\n",
       "      <td>One year</td>\n",
       "      <td>No</td>\n",
       "      <td>Bank transfer (automatic)</td>\n",
       "      <td>56.15</td>\n",
       "      <td>1628.35</td>\n",
       "      <td>Male</td>\n",
       "      <td>No</td>\n",
       "      <td>...</td>\n",
       "      <td>Yes</td>\n",
       "      <td>DSL</td>\n",
       "      <td>Yes</td>\n",
       "      <td>Yes</td>\n",
       "      <td>No</td>\n",
       "      <td>No</td>\n",
       "      <td>No</td>\n",
       "      <td>No</td>\n",
       "      <td>No</td>\n",
       "      <td>1</td>\n",
       "    </tr>\n",
       "    <tr>\n",
       "      <th>10</th>\n",
       "      <td>9763-GRSKD</td>\n",
       "      <td>2019-01-01</td>\n",
       "      <td>No</td>\n",
       "      <td>Month-to-month</td>\n",
       "      <td>Yes</td>\n",
       "      <td>Mailed check</td>\n",
       "      <td>49.95</td>\n",
       "      <td>649.35</td>\n",
       "      <td>Male</td>\n",
       "      <td>No</td>\n",
       "      <td>...</td>\n",
       "      <td>Yes</td>\n",
       "      <td>DSL</td>\n",
       "      <td>Yes</td>\n",
       "      <td>No</td>\n",
       "      <td>No</td>\n",
       "      <td>No</td>\n",
       "      <td>No</td>\n",
       "      <td>No</td>\n",
       "      <td>No</td>\n",
       "      <td>0</td>\n",
       "    </tr>\n",
       "    <tr>\n",
       "      <th>11</th>\n",
       "      <td>7469-LKBCI</td>\n",
       "      <td>2018-10-01</td>\n",
       "      <td>No</td>\n",
       "      <td>Two year</td>\n",
       "      <td>No</td>\n",
       "      <td>Credit card (automatic)</td>\n",
       "      <td>18.95</td>\n",
       "      <td>312.30</td>\n",
       "      <td>Male</td>\n",
       "      <td>No</td>\n",
       "      <td>...</td>\n",
       "      <td>No</td>\n",
       "      <td>undefined</td>\n",
       "      <td>undefined</td>\n",
       "      <td>undefined</td>\n",
       "      <td>undefined</td>\n",
       "      <td>undefined</td>\n",
       "      <td>undefined</td>\n",
       "      <td>undefined</td>\n",
       "      <td>No</td>\n",
       "      <td>0</td>\n",
       "    </tr>\n",
       "    <tr>\n",
       "      <th>12</th>\n",
       "      <td>8091-TTVAX</td>\n",
       "      <td>2015-04-01</td>\n",
       "      <td>No</td>\n",
       "      <td>One year</td>\n",
       "      <td>No</td>\n",
       "      <td>Credit card (automatic)</td>\n",
       "      <td>100.35</td>\n",
       "      <td>6111.31</td>\n",
       "      <td>Male</td>\n",
       "      <td>No</td>\n",
       "      <td>...</td>\n",
       "      <td>No</td>\n",
       "      <td>Fiber optic</td>\n",
       "      <td>No</td>\n",
       "      <td>No</td>\n",
       "      <td>Yes</td>\n",
       "      <td>No</td>\n",
       "      <td>Yes</td>\n",
       "      <td>Yes</td>\n",
       "      <td>Yes</td>\n",
       "      <td>0</td>\n",
       "    </tr>\n",
       "    <tr>\n",
       "      <th>13</th>\n",
       "      <td>0280-XJGEX</td>\n",
       "      <td>2015-09-01</td>\n",
       "      <td>No</td>\n",
       "      <td>Month-to-month</td>\n",
       "      <td>Yes</td>\n",
       "      <td>Bank transfer (automatic)</td>\n",
       "      <td>103.70</td>\n",
       "      <td>5496.10</td>\n",
       "      <td>Male</td>\n",
       "      <td>No</td>\n",
       "      <td>...</td>\n",
       "      <td>No</td>\n",
       "      <td>Fiber optic</td>\n",
       "      <td>No</td>\n",
       "      <td>Yes</td>\n",
       "      <td>Yes</td>\n",
       "      <td>No</td>\n",
       "      <td>Yes</td>\n",
       "      <td>Yes</td>\n",
       "      <td>Yes</td>\n",
       "      <td>0</td>\n",
       "    </tr>\n",
       "    <tr>\n",
       "      <th>14</th>\n",
       "      <td>5129-JLPIS</td>\n",
       "      <td>2018-01-01</td>\n",
       "      <td>No</td>\n",
       "      <td>Month-to-month</td>\n",
       "      <td>Yes</td>\n",
       "      <td>Electronic check</td>\n",
       "      <td>105.50</td>\n",
       "      <td>2637.50</td>\n",
       "      <td>Male</td>\n",
       "      <td>No</td>\n",
       "      <td>...</td>\n",
       "      <td>No</td>\n",
       "      <td>Fiber optic</td>\n",
       "      <td>Yes</td>\n",
       "      <td>No</td>\n",
       "      <td>Yes</td>\n",
       "      <td>Yes</td>\n",
       "      <td>Yes</td>\n",
       "      <td>Yes</td>\n",
       "      <td>No</td>\n",
       "      <td>0</td>\n",
       "    </tr>\n",
       "    <tr>\n",
       "      <th>15</th>\n",
       "      <td>3655-SNQYZ</td>\n",
       "      <td>2014-05-01</td>\n",
       "      <td>2016-03-01</td>\n",
       "      <td>Two year</td>\n",
       "      <td>No</td>\n",
       "      <td>Credit card (automatic)</td>\n",
       "      <td>113.25</td>\n",
       "      <td>2491.50</td>\n",
       "      <td>Female</td>\n",
       "      <td>No</td>\n",
       "      <td>...</td>\n",
       "      <td>Yes</td>\n",
       "      <td>Fiber optic</td>\n",
       "      <td>Yes</td>\n",
       "      <td>Yes</td>\n",
       "      <td>Yes</td>\n",
       "      <td>Yes</td>\n",
       "      <td>Yes</td>\n",
       "      <td>Yes</td>\n",
       "      <td>Yes</td>\n",
       "      <td>1</td>\n",
       "    </tr>\n",
       "    <tr>\n",
       "      <th>16</th>\n",
       "      <td>8191-XWSZG</td>\n",
       "      <td>2015-10-01</td>\n",
       "      <td>No</td>\n",
       "      <td>One year</td>\n",
       "      <td>No</td>\n",
       "      <td>Mailed check</td>\n",
       "      <td>20.65</td>\n",
       "      <td>1106.01</td>\n",
       "      <td>Female</td>\n",
       "      <td>No</td>\n",
       "      <td>...</td>\n",
       "      <td>No</td>\n",
       "      <td>undefined</td>\n",
       "      <td>undefined</td>\n",
       "      <td>undefined</td>\n",
       "      <td>undefined</td>\n",
       "      <td>undefined</td>\n",
       "      <td>undefined</td>\n",
       "      <td>undefined</td>\n",
       "      <td>No</td>\n",
       "      <td>0</td>\n",
       "    </tr>\n",
       "    <tr>\n",
       "      <th>17</th>\n",
       "      <td>9959-WOFKT</td>\n",
       "      <td>2014-03-01</td>\n",
       "      <td>No</td>\n",
       "      <td>Two year</td>\n",
       "      <td>No</td>\n",
       "      <td>Bank transfer (automatic)</td>\n",
       "      <td>106.70</td>\n",
       "      <td>8257.51</td>\n",
       "      <td>Male</td>\n",
       "      <td>No</td>\n",
       "      <td>...</td>\n",
       "      <td>Yes</td>\n",
       "      <td>Fiber optic</td>\n",
       "      <td>Yes</td>\n",
       "      <td>No</td>\n",
       "      <td>Yes</td>\n",
       "      <td>No</td>\n",
       "      <td>Yes</td>\n",
       "      <td>Yes</td>\n",
       "      <td>Yes</td>\n",
       "      <td>0</td>\n",
       "    </tr>\n",
       "    <tr>\n",
       "      <th>18</th>\n",
       "      <td>4190-MFLUW</td>\n",
       "      <td>2019-01-01</td>\n",
       "      <td>No</td>\n",
       "      <td>Month-to-month</td>\n",
       "      <td>No</td>\n",
       "      <td>Credit card (automatic)</td>\n",
       "      <td>55.20</td>\n",
       "      <td>789.36</td>\n",
       "      <td>Female</td>\n",
       "      <td>No</td>\n",
       "      <td>...</td>\n",
       "      <td>Yes</td>\n",
       "      <td>DSL</td>\n",
       "      <td>No</td>\n",
       "      <td>No</td>\n",
       "      <td>Yes</td>\n",
       "      <td>Yes</td>\n",
       "      <td>No</td>\n",
       "      <td>No</td>\n",
       "      <td>No</td>\n",
       "      <td>0</td>\n",
       "    </tr>\n",
       "    <tr>\n",
       "      <th>19</th>\n",
       "      <td>4183-MYFRB</td>\n",
       "      <td>2018-05-01</td>\n",
       "      <td>No</td>\n",
       "      <td>Month-to-month</td>\n",
       "      <td>Yes</td>\n",
       "      <td>Electronic check</td>\n",
       "      <td>90.05</td>\n",
       "      <td>1891.05</td>\n",
       "      <td>Female</td>\n",
       "      <td>No</td>\n",
       "      <td>...</td>\n",
       "      <td>No</td>\n",
       "      <td>Fiber optic</td>\n",
       "      <td>No</td>\n",
       "      <td>Yes</td>\n",
       "      <td>Yes</td>\n",
       "      <td>No</td>\n",
       "      <td>No</td>\n",
       "      <td>Yes</td>\n",
       "      <td>No</td>\n",
       "      <td>0</td>\n",
       "    </tr>\n",
       "  </tbody>\n",
       "</table>\n",
       "<p>20 rows × 21 columns</p>\n",
       "</div>\n",
       "    <div class=\"colab-df-buttons\">\n",
       "\n",
       "  <div class=\"colab-df-container\">\n",
       "    <button class=\"colab-df-convert\" onclick=\"convertToInteractive('df-44540762-6cb5-4e87-b3ca-09c4192adb1c')\"\n",
       "            title=\"Convert this dataframe to an interactive table.\"\n",
       "            style=\"display:none;\">\n",
       "\n",
       "  <svg xmlns=\"http://www.w3.org/2000/svg\" height=\"24px\" viewBox=\"0 -960 960 960\">\n",
       "    <path d=\"M120-120v-720h720v720H120Zm60-500h600v-160H180v160Zm220 220h160v-160H400v160Zm0 220h160v-160H400v160ZM180-400h160v-160H180v160Zm440 0h160v-160H620v160ZM180-180h160v-160H180v160Zm440 0h160v-160H620v160Z\"/>\n",
       "  </svg>\n",
       "    </button>\n",
       "\n",
       "  <style>\n",
       "    .colab-df-container {\n",
       "      display:flex;\n",
       "      gap: 12px;\n",
       "    }\n",
       "\n",
       "    .colab-df-convert {\n",
       "      background-color: #E8F0FE;\n",
       "      border: none;\n",
       "      border-radius: 50%;\n",
       "      cursor: pointer;\n",
       "      display: none;\n",
       "      fill: #1967D2;\n",
       "      height: 32px;\n",
       "      padding: 0 0 0 0;\n",
       "      width: 32px;\n",
       "    }\n",
       "\n",
       "    .colab-df-convert:hover {\n",
       "      background-color: #E2EBFA;\n",
       "      box-shadow: 0px 1px 2px rgba(60, 64, 67, 0.3), 0px 1px 3px 1px rgba(60, 64, 67, 0.15);\n",
       "      fill: #174EA6;\n",
       "    }\n",
       "\n",
       "    .colab-df-buttons div {\n",
       "      margin-bottom: 4px;\n",
       "    }\n",
       "\n",
       "    [theme=dark] .colab-df-convert {\n",
       "      background-color: #3B4455;\n",
       "      fill: #D2E3FC;\n",
       "    }\n",
       "\n",
       "    [theme=dark] .colab-df-convert:hover {\n",
       "      background-color: #434B5C;\n",
       "      box-shadow: 0px 1px 3px 1px rgba(0, 0, 0, 0.15);\n",
       "      filter: drop-shadow(0px 1px 2px rgba(0, 0, 0, 0.3));\n",
       "      fill: #FFFFFF;\n",
       "    }\n",
       "  </style>\n",
       "\n",
       "    <script>\n",
       "      const buttonEl =\n",
       "        document.querySelector('#df-44540762-6cb5-4e87-b3ca-09c4192adb1c button.colab-df-convert');\n",
       "      buttonEl.style.display =\n",
       "        google.colab.kernel.accessAllowed ? 'block' : 'none';\n",
       "\n",
       "      async function convertToInteractive(key) {\n",
       "        const element = document.querySelector('#df-44540762-6cb5-4e87-b3ca-09c4192adb1c');\n",
       "        const dataTable =\n",
       "          await google.colab.kernel.invokeFunction('convertToInteractive',\n",
       "                                                    [key], {});\n",
       "        if (!dataTable) return;\n",
       "\n",
       "        const docLinkHtml = 'Like what you see? Visit the ' +\n",
       "          '<a target=\"_blank\" href=https://colab.research.google.com/notebooks/data_table.ipynb>data table notebook</a>'\n",
       "          + ' to learn more about interactive tables.';\n",
       "        element.innerHTML = '';\n",
       "        dataTable['output_type'] = 'display_data';\n",
       "        await google.colab.output.renderOutput(dataTable, element);\n",
       "        const docLink = document.createElement('div');\n",
       "        docLink.innerHTML = docLinkHtml;\n",
       "        element.appendChild(docLink);\n",
       "      }\n",
       "    </script>\n",
       "  </div>\n",
       "\n",
       "\n",
       "<div id=\"df-6e5471a5-20d8-4af1-838e-2d6cf3b96529\">\n",
       "  <button class=\"colab-df-quickchart\" onclick=\"quickchart('df-6e5471a5-20d8-4af1-838e-2d6cf3b96529')\"\n",
       "            title=\"Suggest charts.\"\n",
       "            style=\"display:none;\">\n",
       "\n",
       "<svg xmlns=\"http://www.w3.org/2000/svg\" height=\"24px\"viewBox=\"0 0 24 24\"\n",
       "     width=\"24px\">\n",
       "    <g>\n",
       "        <path d=\"M19 3H5c-1.1 0-2 .9-2 2v14c0 1.1.9 2 2 2h14c1.1 0 2-.9 2-2V5c0-1.1-.9-2-2-2zM9 17H7v-7h2v7zm4 0h-2V7h2v10zm4 0h-2v-4h2v4z\"/>\n",
       "    </g>\n",
       "</svg>\n",
       "  </button>\n",
       "\n",
       "<style>\n",
       "  .colab-df-quickchart {\n",
       "      --bg-color: #E8F0FE;\n",
       "      --fill-color: #1967D2;\n",
       "      --hover-bg-color: #E2EBFA;\n",
       "      --hover-fill-color: #174EA6;\n",
       "      --disabled-fill-color: #AAA;\n",
       "      --disabled-bg-color: #DDD;\n",
       "  }\n",
       "\n",
       "  [theme=dark] .colab-df-quickchart {\n",
       "      --bg-color: #3B4455;\n",
       "      --fill-color: #D2E3FC;\n",
       "      --hover-bg-color: #434B5C;\n",
       "      --hover-fill-color: #FFFFFF;\n",
       "      --disabled-bg-color: #3B4455;\n",
       "      --disabled-fill-color: #666;\n",
       "  }\n",
       "\n",
       "  .colab-df-quickchart {\n",
       "    background-color: var(--bg-color);\n",
       "    border: none;\n",
       "    border-radius: 50%;\n",
       "    cursor: pointer;\n",
       "    display: none;\n",
       "    fill: var(--fill-color);\n",
       "    height: 32px;\n",
       "    padding: 0;\n",
       "    width: 32px;\n",
       "  }\n",
       "\n",
       "  .colab-df-quickchart:hover {\n",
       "    background-color: var(--hover-bg-color);\n",
       "    box-shadow: 0 1px 2px rgba(60, 64, 67, 0.3), 0 1px 3px 1px rgba(60, 64, 67, 0.15);\n",
       "    fill: var(--button-hover-fill-color);\n",
       "  }\n",
       "\n",
       "  .colab-df-quickchart-complete:disabled,\n",
       "  .colab-df-quickchart-complete:disabled:hover {\n",
       "    background-color: var(--disabled-bg-color);\n",
       "    fill: var(--disabled-fill-color);\n",
       "    box-shadow: none;\n",
       "  }\n",
       "\n",
       "  .colab-df-spinner {\n",
       "    border: 2px solid var(--fill-color);\n",
       "    border-color: transparent;\n",
       "    border-bottom-color: var(--fill-color);\n",
       "    animation:\n",
       "      spin 1s steps(1) infinite;\n",
       "  }\n",
       "\n",
       "  @keyframes spin {\n",
       "    0% {\n",
       "      border-color: transparent;\n",
       "      border-bottom-color: var(--fill-color);\n",
       "      border-left-color: var(--fill-color);\n",
       "    }\n",
       "    20% {\n",
       "      border-color: transparent;\n",
       "      border-left-color: var(--fill-color);\n",
       "      border-top-color: var(--fill-color);\n",
       "    }\n",
       "    30% {\n",
       "      border-color: transparent;\n",
       "      border-left-color: var(--fill-color);\n",
       "      border-top-color: var(--fill-color);\n",
       "      border-right-color: var(--fill-color);\n",
       "    }\n",
       "    40% {\n",
       "      border-color: transparent;\n",
       "      border-right-color: var(--fill-color);\n",
       "      border-top-color: var(--fill-color);\n",
       "    }\n",
       "    60% {\n",
       "      border-color: transparent;\n",
       "      border-right-color: var(--fill-color);\n",
       "    }\n",
       "    80% {\n",
       "      border-color: transparent;\n",
       "      border-right-color: var(--fill-color);\n",
       "      border-bottom-color: var(--fill-color);\n",
       "    }\n",
       "    90% {\n",
       "      border-color: transparent;\n",
       "      border-bottom-color: var(--fill-color);\n",
       "    }\n",
       "  }\n",
       "</style>\n",
       "\n",
       "  <script>\n",
       "    async function quickchart(key) {\n",
       "      const quickchartButtonEl =\n",
       "        document.querySelector('#' + key + ' button');\n",
       "      quickchartButtonEl.disabled = true;  // To prevent multiple clicks.\n",
       "      quickchartButtonEl.classList.add('colab-df-spinner');\n",
       "      try {\n",
       "        const charts = await google.colab.kernel.invokeFunction(\n",
       "            'suggestCharts', [key], {});\n",
       "      } catch (error) {\n",
       "        console.error('Error during call to suggestCharts:', error);\n",
       "      }\n",
       "      quickchartButtonEl.classList.remove('colab-df-spinner');\n",
       "      quickchartButtonEl.classList.add('colab-df-quickchart-complete');\n",
       "    }\n",
       "    (() => {\n",
       "      let quickchartButtonEl =\n",
       "        document.querySelector('#df-6e5471a5-20d8-4af1-838e-2d6cf3b96529 button');\n",
       "      quickchartButtonEl.style.display =\n",
       "        google.colab.kernel.accessAllowed ? 'block' : 'none';\n",
       "    })();\n",
       "  </script>\n",
       "</div>\n",
       "    </div>\n",
       "  </div>\n"
      ],
      "text/plain": [
       "    CustomerID   BeginDate     EndDate            Type PaperlessBilling  \\\n",
       "0   7590-VHVEG  2020-01-01          No  Month-to-month              Yes   \n",
       "1   5575-GNVDE  2017-04-01          No        One year               No   \n",
       "2   3668-QPYBK  2019-10-01          No  Month-to-month              Yes   \n",
       "3   7795-CFOCW  2016-05-01          No        One year               No   \n",
       "4   9237-HQITU  2019-09-01          No  Month-to-month              Yes   \n",
       "5   9305-CDSKC  2019-03-01          No  Month-to-month              Yes   \n",
       "6   1452-KIOVK  2018-04-01          No  Month-to-month              Yes   \n",
       "7   6713-OKOMC  2019-04-01          No  Month-to-month               No   \n",
       "8   7892-POOKP  2017-07-01          No  Month-to-month              Yes   \n",
       "9   6388-TABGU  2014-12-01  2017-05-01        One year               No   \n",
       "10  9763-GRSKD  2019-01-01          No  Month-to-month              Yes   \n",
       "11  7469-LKBCI  2018-10-01          No        Two year               No   \n",
       "12  8091-TTVAX  2015-04-01          No        One year               No   \n",
       "13  0280-XJGEX  2015-09-01          No  Month-to-month              Yes   \n",
       "14  5129-JLPIS  2018-01-01          No  Month-to-month              Yes   \n",
       "15  3655-SNQYZ  2014-05-01  2016-03-01        Two year               No   \n",
       "16  8191-XWSZG  2015-10-01          No        One year               No   \n",
       "17  9959-WOFKT  2014-03-01          No        Two year               No   \n",
       "18  4190-MFLUW  2019-01-01          No  Month-to-month               No   \n",
       "19  4183-MYFRB  2018-05-01          No  Month-to-month              Yes   \n",
       "\n",
       "                PaymentMethod  MonthlyCharges  TotalCharges  Gender  \\\n",
       "0            Electronic check           29.85         31.04  Female   \n",
       "1                Mailed check           56.95       2071.84    Male   \n",
       "2                Mailed check           53.85        226.17    Male   \n",
       "3   Bank transfer (automatic)           42.30       1960.60    Male   \n",
       "4            Electronic check           70.70        353.50  Female   \n",
       "5            Electronic check           99.65       1150.96  Female   \n",
       "6     Credit card (automatic)           89.10       2058.21    Male   \n",
       "7                Mailed check           29.75        300.48  Female   \n",
       "8            Electronic check          104.80       3573.68  Female   \n",
       "9   Bank transfer (automatic)           56.15       1628.35    Male   \n",
       "10               Mailed check           49.95        649.35    Male   \n",
       "11    Credit card (automatic)           18.95        312.30    Male   \n",
       "12    Credit card (automatic)          100.35       6111.31    Male   \n",
       "13  Bank transfer (automatic)          103.70       5496.10    Male   \n",
       "14           Electronic check          105.50       2637.50    Male   \n",
       "15    Credit card (automatic)          113.25       2491.50  Female   \n",
       "16               Mailed check           20.65       1106.01  Female   \n",
       "17  Bank transfer (automatic)          106.70       8257.51    Male   \n",
       "18    Credit card (automatic)           55.20        789.36  Female   \n",
       "19           Electronic check           90.05       1891.05  Female   \n",
       "\n",
       "   SeniorCitizen  ... Dependents InternetService OnlineSecurity OnlineBackup  \\\n",
       "0             No  ...         No             DSL             No          Yes   \n",
       "1             No  ...         No             DSL            Yes           No   \n",
       "2             No  ...         No             DSL            Yes          Yes   \n",
       "3             No  ...         No             DSL            Yes           No   \n",
       "4             No  ...         No     Fiber optic             No           No   \n",
       "5             No  ...         No     Fiber optic             No           No   \n",
       "6             No  ...        Yes     Fiber optic             No          Yes   \n",
       "7             No  ...         No             DSL            Yes           No   \n",
       "8             No  ...         No     Fiber optic             No           No   \n",
       "9             No  ...        Yes             DSL            Yes          Yes   \n",
       "10            No  ...        Yes             DSL            Yes           No   \n",
       "11            No  ...         No       undefined      undefined    undefined   \n",
       "12            No  ...         No     Fiber optic             No           No   \n",
       "13            No  ...         No     Fiber optic             No          Yes   \n",
       "14            No  ...         No     Fiber optic            Yes           No   \n",
       "15            No  ...        Yes     Fiber optic            Yes          Yes   \n",
       "16            No  ...         No       undefined      undefined    undefined   \n",
       "17            No  ...        Yes     Fiber optic            Yes           No   \n",
       "18            No  ...        Yes             DSL             No           No   \n",
       "19            No  ...         No     Fiber optic             No          Yes   \n",
       "\n",
       "   DeviceProtection TechSupport StreamingTV StreamingMovies MultipleLines  \\\n",
       "0                No          No          No              No     undefined   \n",
       "1               Yes          No          No              No            No   \n",
       "2                No          No          No              No            No   \n",
       "3               Yes         Yes          No              No     undefined   \n",
       "4                No          No          No              No            No   \n",
       "5               Yes          No         Yes             Yes           Yes   \n",
       "6                No          No         Yes              No           Yes   \n",
       "7                No          No          No              No     undefined   \n",
       "8               Yes         Yes         Yes             Yes           Yes   \n",
       "9                No          No          No              No            No   \n",
       "10               No          No          No              No            No   \n",
       "11        undefined   undefined   undefined       undefined            No   \n",
       "12              Yes          No         Yes             Yes           Yes   \n",
       "13              Yes          No         Yes             Yes           Yes   \n",
       "14              Yes         Yes         Yes             Yes            No   \n",
       "15              Yes         Yes         Yes             Yes           Yes   \n",
       "16        undefined   undefined   undefined       undefined            No   \n",
       "17              Yes          No         Yes             Yes           Yes   \n",
       "18              Yes         Yes          No              No            No   \n",
       "19              Yes          No          No             Yes            No   \n",
       "\n",
       "   CustomerLeft  \n",
       "0             0  \n",
       "1             0  \n",
       "2             0  \n",
       "3             0  \n",
       "4             0  \n",
       "5             0  \n",
       "6             0  \n",
       "7             0  \n",
       "8             0  \n",
       "9             1  \n",
       "10            0  \n",
       "11            0  \n",
       "12            0  \n",
       "13            0  \n",
       "14            0  \n",
       "15            1  \n",
       "16            0  \n",
       "17            0  \n",
       "18            0  \n",
       "19            0  \n",
       "\n",
       "[20 rows x 21 columns]"
      ]
     },
     "metadata": {},
     "output_type": "display_data"
    }
   ],
   "source": [
    "# добавим признак факта ухода клиента\n",
    "data['CustomerLeft'] = data['EndDate'].apply(is_customer_left)\n",
    "\n",
    "# проверим результат создания целевого признака\n",
    "display(data.head(20))"
   ]
  },
  {
   "cell_type": "code",
   "execution_count": 18,
   "metadata": {
    "id": "mVX-faHo6mKZ"
   },
   "outputs": [],
   "source": [
    "# напишем функцию, преобразующую строку к дате\n",
    "def convert_to_date(date):\n",
    "    return datetime.strptime(date, '%Y-%m-%d')\n",
    "\n",
    "# напишем функцию, вычисляющую продолжительность в днях периода действия договора\n",
    "def contract_duration(begin_date, end_date):\n",
    "    if end_date == 'No':\n",
    "        return (convert_to_date('2020-02-01') - convert_to_date(begin_date)).days\n",
    "    else:\n",
    "        return (convert_to_date(end_date) - convert_to_date(begin_date)).days"
   ]
  },
  {
   "cell_type": "code",
   "execution_count": 19,
   "metadata": {
    "colab": {
     "base_uri": "https://localhost:8080/",
     "height": 1000
    },
    "id": "cxZDvnHC6mKa",
    "outputId": "8608888d-ef9d-4377-8e59-b41bed57a44f"
   },
   "outputs": [
    {
     "data": {
      "text/html": [
       "\n",
       "  <div id=\"df-5c859f45-bb7f-4fee-aa87-1602a77d1b5c\" class=\"colab-df-container\">\n",
       "    <div>\n",
       "<style scoped>\n",
       "    .dataframe tbody tr th:only-of-type {\n",
       "        vertical-align: middle;\n",
       "    }\n",
       "\n",
       "    .dataframe tbody tr th {\n",
       "        vertical-align: top;\n",
       "    }\n",
       "\n",
       "    .dataframe thead th {\n",
       "        text-align: right;\n",
       "    }\n",
       "</style>\n",
       "<table border=\"1\" class=\"dataframe\">\n",
       "  <thead>\n",
       "    <tr style=\"text-align: right;\">\n",
       "      <th></th>\n",
       "      <th>CustomerID</th>\n",
       "      <th>BeginDate</th>\n",
       "      <th>EndDate</th>\n",
       "      <th>Type</th>\n",
       "      <th>PaperlessBilling</th>\n",
       "      <th>PaymentMethod</th>\n",
       "      <th>MonthlyCharges</th>\n",
       "      <th>TotalCharges</th>\n",
       "      <th>Gender</th>\n",
       "      <th>SeniorCitizen</th>\n",
       "      <th>...</th>\n",
       "      <th>InternetService</th>\n",
       "      <th>OnlineSecurity</th>\n",
       "      <th>OnlineBackup</th>\n",
       "      <th>DeviceProtection</th>\n",
       "      <th>TechSupport</th>\n",
       "      <th>StreamingTV</th>\n",
       "      <th>StreamingMovies</th>\n",
       "      <th>MultipleLines</th>\n",
       "      <th>CustomerLeft</th>\n",
       "      <th>ContractDuration</th>\n",
       "    </tr>\n",
       "  </thead>\n",
       "  <tbody>\n",
       "    <tr>\n",
       "      <th>0</th>\n",
       "      <td>7590-VHVEG</td>\n",
       "      <td>2020-01-01</td>\n",
       "      <td>No</td>\n",
       "      <td>Month-to-month</td>\n",
       "      <td>Yes</td>\n",
       "      <td>Electronic check</td>\n",
       "      <td>29.85</td>\n",
       "      <td>31.04</td>\n",
       "      <td>Female</td>\n",
       "      <td>No</td>\n",
       "      <td>...</td>\n",
       "      <td>DSL</td>\n",
       "      <td>No</td>\n",
       "      <td>Yes</td>\n",
       "      <td>No</td>\n",
       "      <td>No</td>\n",
       "      <td>No</td>\n",
       "      <td>No</td>\n",
       "      <td>undefined</td>\n",
       "      <td>0</td>\n",
       "      <td>31</td>\n",
       "    </tr>\n",
       "    <tr>\n",
       "      <th>1</th>\n",
       "      <td>5575-GNVDE</td>\n",
       "      <td>2017-04-01</td>\n",
       "      <td>No</td>\n",
       "      <td>One year</td>\n",
       "      <td>No</td>\n",
       "      <td>Mailed check</td>\n",
       "      <td>56.95</td>\n",
       "      <td>2071.84</td>\n",
       "      <td>Male</td>\n",
       "      <td>No</td>\n",
       "      <td>...</td>\n",
       "      <td>DSL</td>\n",
       "      <td>Yes</td>\n",
       "      <td>No</td>\n",
       "      <td>Yes</td>\n",
       "      <td>No</td>\n",
       "      <td>No</td>\n",
       "      <td>No</td>\n",
       "      <td>No</td>\n",
       "      <td>0</td>\n",
       "      <td>1036</td>\n",
       "    </tr>\n",
       "    <tr>\n",
       "      <th>2</th>\n",
       "      <td>3668-QPYBK</td>\n",
       "      <td>2019-10-01</td>\n",
       "      <td>No</td>\n",
       "      <td>Month-to-month</td>\n",
       "      <td>Yes</td>\n",
       "      <td>Mailed check</td>\n",
       "      <td>53.85</td>\n",
       "      <td>226.17</td>\n",
       "      <td>Male</td>\n",
       "      <td>No</td>\n",
       "      <td>...</td>\n",
       "      <td>DSL</td>\n",
       "      <td>Yes</td>\n",
       "      <td>Yes</td>\n",
       "      <td>No</td>\n",
       "      <td>No</td>\n",
       "      <td>No</td>\n",
       "      <td>No</td>\n",
       "      <td>No</td>\n",
       "      <td>0</td>\n",
       "      <td>123</td>\n",
       "    </tr>\n",
       "    <tr>\n",
       "      <th>3</th>\n",
       "      <td>7795-CFOCW</td>\n",
       "      <td>2016-05-01</td>\n",
       "      <td>No</td>\n",
       "      <td>One year</td>\n",
       "      <td>No</td>\n",
       "      <td>Bank transfer (automatic)</td>\n",
       "      <td>42.30</td>\n",
       "      <td>1960.60</td>\n",
       "      <td>Male</td>\n",
       "      <td>No</td>\n",
       "      <td>...</td>\n",
       "      <td>DSL</td>\n",
       "      <td>Yes</td>\n",
       "      <td>No</td>\n",
       "      <td>Yes</td>\n",
       "      <td>Yes</td>\n",
       "      <td>No</td>\n",
       "      <td>No</td>\n",
       "      <td>undefined</td>\n",
       "      <td>0</td>\n",
       "      <td>1371</td>\n",
       "    </tr>\n",
       "    <tr>\n",
       "      <th>4</th>\n",
       "      <td>9237-HQITU</td>\n",
       "      <td>2019-09-01</td>\n",
       "      <td>No</td>\n",
       "      <td>Month-to-month</td>\n",
       "      <td>Yes</td>\n",
       "      <td>Electronic check</td>\n",
       "      <td>70.70</td>\n",
       "      <td>353.50</td>\n",
       "      <td>Female</td>\n",
       "      <td>No</td>\n",
       "      <td>...</td>\n",
       "      <td>Fiber optic</td>\n",
       "      <td>No</td>\n",
       "      <td>No</td>\n",
       "      <td>No</td>\n",
       "      <td>No</td>\n",
       "      <td>No</td>\n",
       "      <td>No</td>\n",
       "      <td>No</td>\n",
       "      <td>0</td>\n",
       "      <td>153</td>\n",
       "    </tr>\n",
       "    <tr>\n",
       "      <th>5</th>\n",
       "      <td>9305-CDSKC</td>\n",
       "      <td>2019-03-01</td>\n",
       "      <td>No</td>\n",
       "      <td>Month-to-month</td>\n",
       "      <td>Yes</td>\n",
       "      <td>Electronic check</td>\n",
       "      <td>99.65</td>\n",
       "      <td>1150.96</td>\n",
       "      <td>Female</td>\n",
       "      <td>No</td>\n",
       "      <td>...</td>\n",
       "      <td>Fiber optic</td>\n",
       "      <td>No</td>\n",
       "      <td>No</td>\n",
       "      <td>Yes</td>\n",
       "      <td>No</td>\n",
       "      <td>Yes</td>\n",
       "      <td>Yes</td>\n",
       "      <td>Yes</td>\n",
       "      <td>0</td>\n",
       "      <td>337</td>\n",
       "    </tr>\n",
       "    <tr>\n",
       "      <th>6</th>\n",
       "      <td>1452-KIOVK</td>\n",
       "      <td>2018-04-01</td>\n",
       "      <td>No</td>\n",
       "      <td>Month-to-month</td>\n",
       "      <td>Yes</td>\n",
       "      <td>Credit card (automatic)</td>\n",
       "      <td>89.10</td>\n",
       "      <td>2058.21</td>\n",
       "      <td>Male</td>\n",
       "      <td>No</td>\n",
       "      <td>...</td>\n",
       "      <td>Fiber optic</td>\n",
       "      <td>No</td>\n",
       "      <td>Yes</td>\n",
       "      <td>No</td>\n",
       "      <td>No</td>\n",
       "      <td>Yes</td>\n",
       "      <td>No</td>\n",
       "      <td>Yes</td>\n",
       "      <td>0</td>\n",
       "      <td>671</td>\n",
       "    </tr>\n",
       "    <tr>\n",
       "      <th>7</th>\n",
       "      <td>6713-OKOMC</td>\n",
       "      <td>2019-04-01</td>\n",
       "      <td>No</td>\n",
       "      <td>Month-to-month</td>\n",
       "      <td>No</td>\n",
       "      <td>Mailed check</td>\n",
       "      <td>29.75</td>\n",
       "      <td>300.48</td>\n",
       "      <td>Female</td>\n",
       "      <td>No</td>\n",
       "      <td>...</td>\n",
       "      <td>DSL</td>\n",
       "      <td>Yes</td>\n",
       "      <td>No</td>\n",
       "      <td>No</td>\n",
       "      <td>No</td>\n",
       "      <td>No</td>\n",
       "      <td>No</td>\n",
       "      <td>undefined</td>\n",
       "      <td>0</td>\n",
       "      <td>306</td>\n",
       "    </tr>\n",
       "    <tr>\n",
       "      <th>8</th>\n",
       "      <td>7892-POOKP</td>\n",
       "      <td>2017-07-01</td>\n",
       "      <td>No</td>\n",
       "      <td>Month-to-month</td>\n",
       "      <td>Yes</td>\n",
       "      <td>Electronic check</td>\n",
       "      <td>104.80</td>\n",
       "      <td>3573.68</td>\n",
       "      <td>Female</td>\n",
       "      <td>No</td>\n",
       "      <td>...</td>\n",
       "      <td>Fiber optic</td>\n",
       "      <td>No</td>\n",
       "      <td>No</td>\n",
       "      <td>Yes</td>\n",
       "      <td>Yes</td>\n",
       "      <td>Yes</td>\n",
       "      <td>Yes</td>\n",
       "      <td>Yes</td>\n",
       "      <td>0</td>\n",
       "      <td>945</td>\n",
       "    </tr>\n",
       "    <tr>\n",
       "      <th>9</th>\n",
       "      <td>6388-TABGU</td>\n",
       "      <td>2014-12-01</td>\n",
       "      <td>2017-05-01</td>\n",
       "      <td>One year</td>\n",
       "      <td>No</td>\n",
       "      <td>Bank transfer (automatic)</td>\n",
       "      <td>56.15</td>\n",
       "      <td>1628.35</td>\n",
       "      <td>Male</td>\n",
       "      <td>No</td>\n",
       "      <td>...</td>\n",
       "      <td>DSL</td>\n",
       "      <td>Yes</td>\n",
       "      <td>Yes</td>\n",
       "      <td>No</td>\n",
       "      <td>No</td>\n",
       "      <td>No</td>\n",
       "      <td>No</td>\n",
       "      <td>No</td>\n",
       "      <td>1</td>\n",
       "      <td>882</td>\n",
       "    </tr>\n",
       "    <tr>\n",
       "      <th>10</th>\n",
       "      <td>9763-GRSKD</td>\n",
       "      <td>2019-01-01</td>\n",
       "      <td>No</td>\n",
       "      <td>Month-to-month</td>\n",
       "      <td>Yes</td>\n",
       "      <td>Mailed check</td>\n",
       "      <td>49.95</td>\n",
       "      <td>649.35</td>\n",
       "      <td>Male</td>\n",
       "      <td>No</td>\n",
       "      <td>...</td>\n",
       "      <td>DSL</td>\n",
       "      <td>Yes</td>\n",
       "      <td>No</td>\n",
       "      <td>No</td>\n",
       "      <td>No</td>\n",
       "      <td>No</td>\n",
       "      <td>No</td>\n",
       "      <td>No</td>\n",
       "      <td>0</td>\n",
       "      <td>396</td>\n",
       "    </tr>\n",
       "    <tr>\n",
       "      <th>11</th>\n",
       "      <td>7469-LKBCI</td>\n",
       "      <td>2018-10-01</td>\n",
       "      <td>No</td>\n",
       "      <td>Two year</td>\n",
       "      <td>No</td>\n",
       "      <td>Credit card (automatic)</td>\n",
       "      <td>18.95</td>\n",
       "      <td>312.30</td>\n",
       "      <td>Male</td>\n",
       "      <td>No</td>\n",
       "      <td>...</td>\n",
       "      <td>undefined</td>\n",
       "      <td>undefined</td>\n",
       "      <td>undefined</td>\n",
       "      <td>undefined</td>\n",
       "      <td>undefined</td>\n",
       "      <td>undefined</td>\n",
       "      <td>undefined</td>\n",
       "      <td>No</td>\n",
       "      <td>0</td>\n",
       "      <td>488</td>\n",
       "    </tr>\n",
       "    <tr>\n",
       "      <th>12</th>\n",
       "      <td>8091-TTVAX</td>\n",
       "      <td>2015-04-01</td>\n",
       "      <td>No</td>\n",
       "      <td>One year</td>\n",
       "      <td>No</td>\n",
       "      <td>Credit card (automatic)</td>\n",
       "      <td>100.35</td>\n",
       "      <td>6111.31</td>\n",
       "      <td>Male</td>\n",
       "      <td>No</td>\n",
       "      <td>...</td>\n",
       "      <td>Fiber optic</td>\n",
       "      <td>No</td>\n",
       "      <td>No</td>\n",
       "      <td>Yes</td>\n",
       "      <td>No</td>\n",
       "      <td>Yes</td>\n",
       "      <td>Yes</td>\n",
       "      <td>Yes</td>\n",
       "      <td>0</td>\n",
       "      <td>1767</td>\n",
       "    </tr>\n",
       "    <tr>\n",
       "      <th>13</th>\n",
       "      <td>0280-XJGEX</td>\n",
       "      <td>2015-09-01</td>\n",
       "      <td>No</td>\n",
       "      <td>Month-to-month</td>\n",
       "      <td>Yes</td>\n",
       "      <td>Bank transfer (automatic)</td>\n",
       "      <td>103.70</td>\n",
       "      <td>5496.10</td>\n",
       "      <td>Male</td>\n",
       "      <td>No</td>\n",
       "      <td>...</td>\n",
       "      <td>Fiber optic</td>\n",
       "      <td>No</td>\n",
       "      <td>Yes</td>\n",
       "      <td>Yes</td>\n",
       "      <td>No</td>\n",
       "      <td>Yes</td>\n",
       "      <td>Yes</td>\n",
       "      <td>Yes</td>\n",
       "      <td>0</td>\n",
       "      <td>1614</td>\n",
       "    </tr>\n",
       "    <tr>\n",
       "      <th>14</th>\n",
       "      <td>5129-JLPIS</td>\n",
       "      <td>2018-01-01</td>\n",
       "      <td>No</td>\n",
       "      <td>Month-to-month</td>\n",
       "      <td>Yes</td>\n",
       "      <td>Electronic check</td>\n",
       "      <td>105.50</td>\n",
       "      <td>2637.50</td>\n",
       "      <td>Male</td>\n",
       "      <td>No</td>\n",
       "      <td>...</td>\n",
       "      <td>Fiber optic</td>\n",
       "      <td>Yes</td>\n",
       "      <td>No</td>\n",
       "      <td>Yes</td>\n",
       "      <td>Yes</td>\n",
       "      <td>Yes</td>\n",
       "      <td>Yes</td>\n",
       "      <td>No</td>\n",
       "      <td>0</td>\n",
       "      <td>761</td>\n",
       "    </tr>\n",
       "    <tr>\n",
       "      <th>15</th>\n",
       "      <td>3655-SNQYZ</td>\n",
       "      <td>2014-05-01</td>\n",
       "      <td>2016-03-01</td>\n",
       "      <td>Two year</td>\n",
       "      <td>No</td>\n",
       "      <td>Credit card (automatic)</td>\n",
       "      <td>113.25</td>\n",
       "      <td>2491.50</td>\n",
       "      <td>Female</td>\n",
       "      <td>No</td>\n",
       "      <td>...</td>\n",
       "      <td>Fiber optic</td>\n",
       "      <td>Yes</td>\n",
       "      <td>Yes</td>\n",
       "      <td>Yes</td>\n",
       "      <td>Yes</td>\n",
       "      <td>Yes</td>\n",
       "      <td>Yes</td>\n",
       "      <td>Yes</td>\n",
       "      <td>1</td>\n",
       "      <td>670</td>\n",
       "    </tr>\n",
       "    <tr>\n",
       "      <th>16</th>\n",
       "      <td>8191-XWSZG</td>\n",
       "      <td>2015-10-01</td>\n",
       "      <td>No</td>\n",
       "      <td>One year</td>\n",
       "      <td>No</td>\n",
       "      <td>Mailed check</td>\n",
       "      <td>20.65</td>\n",
       "      <td>1106.01</td>\n",
       "      <td>Female</td>\n",
       "      <td>No</td>\n",
       "      <td>...</td>\n",
       "      <td>undefined</td>\n",
       "      <td>undefined</td>\n",
       "      <td>undefined</td>\n",
       "      <td>undefined</td>\n",
       "      <td>undefined</td>\n",
       "      <td>undefined</td>\n",
       "      <td>undefined</td>\n",
       "      <td>No</td>\n",
       "      <td>0</td>\n",
       "      <td>1584</td>\n",
       "    </tr>\n",
       "    <tr>\n",
       "      <th>17</th>\n",
       "      <td>9959-WOFKT</td>\n",
       "      <td>2014-03-01</td>\n",
       "      <td>No</td>\n",
       "      <td>Two year</td>\n",
       "      <td>No</td>\n",
       "      <td>Bank transfer (automatic)</td>\n",
       "      <td>106.70</td>\n",
       "      <td>8257.51</td>\n",
       "      <td>Male</td>\n",
       "      <td>No</td>\n",
       "      <td>...</td>\n",
       "      <td>Fiber optic</td>\n",
       "      <td>Yes</td>\n",
       "      <td>No</td>\n",
       "      <td>Yes</td>\n",
       "      <td>No</td>\n",
       "      <td>Yes</td>\n",
       "      <td>Yes</td>\n",
       "      <td>Yes</td>\n",
       "      <td>0</td>\n",
       "      <td>2163</td>\n",
       "    </tr>\n",
       "    <tr>\n",
       "      <th>18</th>\n",
       "      <td>4190-MFLUW</td>\n",
       "      <td>2019-01-01</td>\n",
       "      <td>No</td>\n",
       "      <td>Month-to-month</td>\n",
       "      <td>No</td>\n",
       "      <td>Credit card (automatic)</td>\n",
       "      <td>55.20</td>\n",
       "      <td>789.36</td>\n",
       "      <td>Female</td>\n",
       "      <td>No</td>\n",
       "      <td>...</td>\n",
       "      <td>DSL</td>\n",
       "      <td>No</td>\n",
       "      <td>No</td>\n",
       "      <td>Yes</td>\n",
       "      <td>Yes</td>\n",
       "      <td>No</td>\n",
       "      <td>No</td>\n",
       "      <td>No</td>\n",
       "      <td>0</td>\n",
       "      <td>396</td>\n",
       "    </tr>\n",
       "    <tr>\n",
       "      <th>19</th>\n",
       "      <td>4183-MYFRB</td>\n",
       "      <td>2018-05-01</td>\n",
       "      <td>No</td>\n",
       "      <td>Month-to-month</td>\n",
       "      <td>Yes</td>\n",
       "      <td>Electronic check</td>\n",
       "      <td>90.05</td>\n",
       "      <td>1891.05</td>\n",
       "      <td>Female</td>\n",
       "      <td>No</td>\n",
       "      <td>...</td>\n",
       "      <td>Fiber optic</td>\n",
       "      <td>No</td>\n",
       "      <td>Yes</td>\n",
       "      <td>Yes</td>\n",
       "      <td>No</td>\n",
       "      <td>No</td>\n",
       "      <td>Yes</td>\n",
       "      <td>No</td>\n",
       "      <td>0</td>\n",
       "      <td>641</td>\n",
       "    </tr>\n",
       "  </tbody>\n",
       "</table>\n",
       "<p>20 rows × 22 columns</p>\n",
       "</div>\n",
       "    <div class=\"colab-df-buttons\">\n",
       "\n",
       "  <div class=\"colab-df-container\">\n",
       "    <button class=\"colab-df-convert\" onclick=\"convertToInteractive('df-5c859f45-bb7f-4fee-aa87-1602a77d1b5c')\"\n",
       "            title=\"Convert this dataframe to an interactive table.\"\n",
       "            style=\"display:none;\">\n",
       "\n",
       "  <svg xmlns=\"http://www.w3.org/2000/svg\" height=\"24px\" viewBox=\"0 -960 960 960\">\n",
       "    <path d=\"M120-120v-720h720v720H120Zm60-500h600v-160H180v160Zm220 220h160v-160H400v160Zm0 220h160v-160H400v160ZM180-400h160v-160H180v160Zm440 0h160v-160H620v160ZM180-180h160v-160H180v160Zm440 0h160v-160H620v160Z\"/>\n",
       "  </svg>\n",
       "    </button>\n",
       "\n",
       "  <style>\n",
       "    .colab-df-container {\n",
       "      display:flex;\n",
       "      gap: 12px;\n",
       "    }\n",
       "\n",
       "    .colab-df-convert {\n",
       "      background-color: #E8F0FE;\n",
       "      border: none;\n",
       "      border-radius: 50%;\n",
       "      cursor: pointer;\n",
       "      display: none;\n",
       "      fill: #1967D2;\n",
       "      height: 32px;\n",
       "      padding: 0 0 0 0;\n",
       "      width: 32px;\n",
       "    }\n",
       "\n",
       "    .colab-df-convert:hover {\n",
       "      background-color: #E2EBFA;\n",
       "      box-shadow: 0px 1px 2px rgba(60, 64, 67, 0.3), 0px 1px 3px 1px rgba(60, 64, 67, 0.15);\n",
       "      fill: #174EA6;\n",
       "    }\n",
       "\n",
       "    .colab-df-buttons div {\n",
       "      margin-bottom: 4px;\n",
       "    }\n",
       "\n",
       "    [theme=dark] .colab-df-convert {\n",
       "      background-color: #3B4455;\n",
       "      fill: #D2E3FC;\n",
       "    }\n",
       "\n",
       "    [theme=dark] .colab-df-convert:hover {\n",
       "      background-color: #434B5C;\n",
       "      box-shadow: 0px 1px 3px 1px rgba(0, 0, 0, 0.15);\n",
       "      filter: drop-shadow(0px 1px 2px rgba(0, 0, 0, 0.3));\n",
       "      fill: #FFFFFF;\n",
       "    }\n",
       "  </style>\n",
       "\n",
       "    <script>\n",
       "      const buttonEl =\n",
       "        document.querySelector('#df-5c859f45-bb7f-4fee-aa87-1602a77d1b5c button.colab-df-convert');\n",
       "      buttonEl.style.display =\n",
       "        google.colab.kernel.accessAllowed ? 'block' : 'none';\n",
       "\n",
       "      async function convertToInteractive(key) {\n",
       "        const element = document.querySelector('#df-5c859f45-bb7f-4fee-aa87-1602a77d1b5c');\n",
       "        const dataTable =\n",
       "          await google.colab.kernel.invokeFunction('convertToInteractive',\n",
       "                                                    [key], {});\n",
       "        if (!dataTable) return;\n",
       "\n",
       "        const docLinkHtml = 'Like what you see? Visit the ' +\n",
       "          '<a target=\"_blank\" href=https://colab.research.google.com/notebooks/data_table.ipynb>data table notebook</a>'\n",
       "          + ' to learn more about interactive tables.';\n",
       "        element.innerHTML = '';\n",
       "        dataTable['output_type'] = 'display_data';\n",
       "        await google.colab.output.renderOutput(dataTable, element);\n",
       "        const docLink = document.createElement('div');\n",
       "        docLink.innerHTML = docLinkHtml;\n",
       "        element.appendChild(docLink);\n",
       "      }\n",
       "    </script>\n",
       "  </div>\n",
       "\n",
       "\n",
       "<div id=\"df-0b12a79a-d509-46f4-9927-1cf6ab8a6fa3\">\n",
       "  <button class=\"colab-df-quickchart\" onclick=\"quickchart('df-0b12a79a-d509-46f4-9927-1cf6ab8a6fa3')\"\n",
       "            title=\"Suggest charts.\"\n",
       "            style=\"display:none;\">\n",
       "\n",
       "<svg xmlns=\"http://www.w3.org/2000/svg\" height=\"24px\"viewBox=\"0 0 24 24\"\n",
       "     width=\"24px\">\n",
       "    <g>\n",
       "        <path d=\"M19 3H5c-1.1 0-2 .9-2 2v14c0 1.1.9 2 2 2h14c1.1 0 2-.9 2-2V5c0-1.1-.9-2-2-2zM9 17H7v-7h2v7zm4 0h-2V7h2v10zm4 0h-2v-4h2v4z\"/>\n",
       "    </g>\n",
       "</svg>\n",
       "  </button>\n",
       "\n",
       "<style>\n",
       "  .colab-df-quickchart {\n",
       "      --bg-color: #E8F0FE;\n",
       "      --fill-color: #1967D2;\n",
       "      --hover-bg-color: #E2EBFA;\n",
       "      --hover-fill-color: #174EA6;\n",
       "      --disabled-fill-color: #AAA;\n",
       "      --disabled-bg-color: #DDD;\n",
       "  }\n",
       "\n",
       "  [theme=dark] .colab-df-quickchart {\n",
       "      --bg-color: #3B4455;\n",
       "      --fill-color: #D2E3FC;\n",
       "      --hover-bg-color: #434B5C;\n",
       "      --hover-fill-color: #FFFFFF;\n",
       "      --disabled-bg-color: #3B4455;\n",
       "      --disabled-fill-color: #666;\n",
       "  }\n",
       "\n",
       "  .colab-df-quickchart {\n",
       "    background-color: var(--bg-color);\n",
       "    border: none;\n",
       "    border-radius: 50%;\n",
       "    cursor: pointer;\n",
       "    display: none;\n",
       "    fill: var(--fill-color);\n",
       "    height: 32px;\n",
       "    padding: 0;\n",
       "    width: 32px;\n",
       "  }\n",
       "\n",
       "  .colab-df-quickchart:hover {\n",
       "    background-color: var(--hover-bg-color);\n",
       "    box-shadow: 0 1px 2px rgba(60, 64, 67, 0.3), 0 1px 3px 1px rgba(60, 64, 67, 0.15);\n",
       "    fill: var(--button-hover-fill-color);\n",
       "  }\n",
       "\n",
       "  .colab-df-quickchart-complete:disabled,\n",
       "  .colab-df-quickchart-complete:disabled:hover {\n",
       "    background-color: var(--disabled-bg-color);\n",
       "    fill: var(--disabled-fill-color);\n",
       "    box-shadow: none;\n",
       "  }\n",
       "\n",
       "  .colab-df-spinner {\n",
       "    border: 2px solid var(--fill-color);\n",
       "    border-color: transparent;\n",
       "    border-bottom-color: var(--fill-color);\n",
       "    animation:\n",
       "      spin 1s steps(1) infinite;\n",
       "  }\n",
       "\n",
       "  @keyframes spin {\n",
       "    0% {\n",
       "      border-color: transparent;\n",
       "      border-bottom-color: var(--fill-color);\n",
       "      border-left-color: var(--fill-color);\n",
       "    }\n",
       "    20% {\n",
       "      border-color: transparent;\n",
       "      border-left-color: var(--fill-color);\n",
       "      border-top-color: var(--fill-color);\n",
       "    }\n",
       "    30% {\n",
       "      border-color: transparent;\n",
       "      border-left-color: var(--fill-color);\n",
       "      border-top-color: var(--fill-color);\n",
       "      border-right-color: var(--fill-color);\n",
       "    }\n",
       "    40% {\n",
       "      border-color: transparent;\n",
       "      border-right-color: var(--fill-color);\n",
       "      border-top-color: var(--fill-color);\n",
       "    }\n",
       "    60% {\n",
       "      border-color: transparent;\n",
       "      border-right-color: var(--fill-color);\n",
       "    }\n",
       "    80% {\n",
       "      border-color: transparent;\n",
       "      border-right-color: var(--fill-color);\n",
       "      border-bottom-color: var(--fill-color);\n",
       "    }\n",
       "    90% {\n",
       "      border-color: transparent;\n",
       "      border-bottom-color: var(--fill-color);\n",
       "    }\n",
       "  }\n",
       "</style>\n",
       "\n",
       "  <script>\n",
       "    async function quickchart(key) {\n",
       "      const quickchartButtonEl =\n",
       "        document.querySelector('#' + key + ' button');\n",
       "      quickchartButtonEl.disabled = true;  // To prevent multiple clicks.\n",
       "      quickchartButtonEl.classList.add('colab-df-spinner');\n",
       "      try {\n",
       "        const charts = await google.colab.kernel.invokeFunction(\n",
       "            'suggestCharts', [key], {});\n",
       "      } catch (error) {\n",
       "        console.error('Error during call to suggestCharts:', error);\n",
       "      }\n",
       "      quickchartButtonEl.classList.remove('colab-df-spinner');\n",
       "      quickchartButtonEl.classList.add('colab-df-quickchart-complete');\n",
       "    }\n",
       "    (() => {\n",
       "      let quickchartButtonEl =\n",
       "        document.querySelector('#df-0b12a79a-d509-46f4-9927-1cf6ab8a6fa3 button');\n",
       "      quickchartButtonEl.style.display =\n",
       "        google.colab.kernel.accessAllowed ? 'block' : 'none';\n",
       "    })();\n",
       "  </script>\n",
       "</div>\n",
       "    </div>\n",
       "  </div>\n"
      ],
      "text/plain": [
       "    CustomerID   BeginDate     EndDate            Type PaperlessBilling  \\\n",
       "0   7590-VHVEG  2020-01-01          No  Month-to-month              Yes   \n",
       "1   5575-GNVDE  2017-04-01          No        One year               No   \n",
       "2   3668-QPYBK  2019-10-01          No  Month-to-month              Yes   \n",
       "3   7795-CFOCW  2016-05-01          No        One year               No   \n",
       "4   9237-HQITU  2019-09-01          No  Month-to-month              Yes   \n",
       "5   9305-CDSKC  2019-03-01          No  Month-to-month              Yes   \n",
       "6   1452-KIOVK  2018-04-01          No  Month-to-month              Yes   \n",
       "7   6713-OKOMC  2019-04-01          No  Month-to-month               No   \n",
       "8   7892-POOKP  2017-07-01          No  Month-to-month              Yes   \n",
       "9   6388-TABGU  2014-12-01  2017-05-01        One year               No   \n",
       "10  9763-GRSKD  2019-01-01          No  Month-to-month              Yes   \n",
       "11  7469-LKBCI  2018-10-01          No        Two year               No   \n",
       "12  8091-TTVAX  2015-04-01          No        One year               No   \n",
       "13  0280-XJGEX  2015-09-01          No  Month-to-month              Yes   \n",
       "14  5129-JLPIS  2018-01-01          No  Month-to-month              Yes   \n",
       "15  3655-SNQYZ  2014-05-01  2016-03-01        Two year               No   \n",
       "16  8191-XWSZG  2015-10-01          No        One year               No   \n",
       "17  9959-WOFKT  2014-03-01          No        Two year               No   \n",
       "18  4190-MFLUW  2019-01-01          No  Month-to-month               No   \n",
       "19  4183-MYFRB  2018-05-01          No  Month-to-month              Yes   \n",
       "\n",
       "                PaymentMethod  MonthlyCharges  TotalCharges  Gender  \\\n",
       "0            Electronic check           29.85         31.04  Female   \n",
       "1                Mailed check           56.95       2071.84    Male   \n",
       "2                Mailed check           53.85        226.17    Male   \n",
       "3   Bank transfer (automatic)           42.30       1960.60    Male   \n",
       "4            Electronic check           70.70        353.50  Female   \n",
       "5            Electronic check           99.65       1150.96  Female   \n",
       "6     Credit card (automatic)           89.10       2058.21    Male   \n",
       "7                Mailed check           29.75        300.48  Female   \n",
       "8            Electronic check          104.80       3573.68  Female   \n",
       "9   Bank transfer (automatic)           56.15       1628.35    Male   \n",
       "10               Mailed check           49.95        649.35    Male   \n",
       "11    Credit card (automatic)           18.95        312.30    Male   \n",
       "12    Credit card (automatic)          100.35       6111.31    Male   \n",
       "13  Bank transfer (automatic)          103.70       5496.10    Male   \n",
       "14           Electronic check          105.50       2637.50    Male   \n",
       "15    Credit card (automatic)          113.25       2491.50  Female   \n",
       "16               Mailed check           20.65       1106.01  Female   \n",
       "17  Bank transfer (automatic)          106.70       8257.51    Male   \n",
       "18    Credit card (automatic)           55.20        789.36  Female   \n",
       "19           Electronic check           90.05       1891.05  Female   \n",
       "\n",
       "   SeniorCitizen  ... InternetService OnlineSecurity OnlineBackup  \\\n",
       "0             No  ...             DSL             No          Yes   \n",
       "1             No  ...             DSL            Yes           No   \n",
       "2             No  ...             DSL            Yes          Yes   \n",
       "3             No  ...             DSL            Yes           No   \n",
       "4             No  ...     Fiber optic             No           No   \n",
       "5             No  ...     Fiber optic             No           No   \n",
       "6             No  ...     Fiber optic             No          Yes   \n",
       "7             No  ...             DSL            Yes           No   \n",
       "8             No  ...     Fiber optic             No           No   \n",
       "9             No  ...             DSL            Yes          Yes   \n",
       "10            No  ...             DSL            Yes           No   \n",
       "11            No  ...       undefined      undefined    undefined   \n",
       "12            No  ...     Fiber optic             No           No   \n",
       "13            No  ...     Fiber optic             No          Yes   \n",
       "14            No  ...     Fiber optic            Yes           No   \n",
       "15            No  ...     Fiber optic            Yes          Yes   \n",
       "16            No  ...       undefined      undefined    undefined   \n",
       "17            No  ...     Fiber optic            Yes           No   \n",
       "18            No  ...             DSL             No           No   \n",
       "19            No  ...     Fiber optic             No          Yes   \n",
       "\n",
       "   DeviceProtection TechSupport StreamingTV StreamingMovies MultipleLines  \\\n",
       "0                No          No          No              No     undefined   \n",
       "1               Yes          No          No              No            No   \n",
       "2                No          No          No              No            No   \n",
       "3               Yes         Yes          No              No     undefined   \n",
       "4                No          No          No              No            No   \n",
       "5               Yes          No         Yes             Yes           Yes   \n",
       "6                No          No         Yes              No           Yes   \n",
       "7                No          No          No              No     undefined   \n",
       "8               Yes         Yes         Yes             Yes           Yes   \n",
       "9                No          No          No              No            No   \n",
       "10               No          No          No              No            No   \n",
       "11        undefined   undefined   undefined       undefined            No   \n",
       "12              Yes          No         Yes             Yes           Yes   \n",
       "13              Yes          No         Yes             Yes           Yes   \n",
       "14              Yes         Yes         Yes             Yes            No   \n",
       "15              Yes         Yes         Yes             Yes           Yes   \n",
       "16        undefined   undefined   undefined       undefined            No   \n",
       "17              Yes          No         Yes             Yes           Yes   \n",
       "18              Yes         Yes          No              No            No   \n",
       "19              Yes          No          No             Yes            No   \n",
       "\n",
       "   CustomerLeft ContractDuration  \n",
       "0             0               31  \n",
       "1             0             1036  \n",
       "2             0              123  \n",
       "3             0             1371  \n",
       "4             0              153  \n",
       "5             0              337  \n",
       "6             0              671  \n",
       "7             0              306  \n",
       "8             0              945  \n",
       "9             1              882  \n",
       "10            0              396  \n",
       "11            0              488  \n",
       "12            0             1767  \n",
       "13            0             1614  \n",
       "14            0              761  \n",
       "15            1              670  \n",
       "16            0             1584  \n",
       "17            0             2163  \n",
       "18            0              396  \n",
       "19            0              641  \n",
       "\n",
       "[20 rows x 22 columns]"
      ]
     },
     "metadata": {},
     "output_type": "display_data"
    }
   ],
   "source": [
    "# добавим признак продолжительности периода действия договора\n",
    "data['ContractDuration'] = data.apply(\n",
    "    lambda x: contract_duration(x['BeginDate'], x['EndDate']), axis=1)\n",
    "\n",
    "# проверим результат создания целевого признака\n",
    "display(data.head(20))"
   ]
  },
  {
   "cell_type": "markdown",
   "metadata": {
    "id": "vO6hBy2T6mKb"
   },
   "source": [
    "### Удаление неинформативных признаков"
   ]
  },
  {
   "cell_type": "markdown",
   "metadata": {
    "id": "om3BmDiA6mKb"
   },
   "source": [
    "Новые, более информативные, признаки добавлены, теперь исходные признаки `BeginDate`, `EndDate` можно удалить. Признак `CustomerID` тоже не информативен, удалим его:"
   ]
  },
  {
   "cell_type": "code",
   "execution_count": 20,
   "metadata": {
    "colab": {
     "base_uri": "https://localhost:8080/"
    },
    "id": "otUMxaMw6mKc",
    "outputId": "1e82e35f-2103-48cc-e554-3ac97b6ecbf9"
   },
   "outputs": [
    {
     "data": {
      "text/plain": [
       "['Type',\n",
       " 'PaperlessBilling',\n",
       " 'PaymentMethod',\n",
       " 'MonthlyCharges',\n",
       " 'TotalCharges',\n",
       " 'Gender',\n",
       " 'SeniorCitizen',\n",
       " 'Partner',\n",
       " 'Dependents',\n",
       " 'InternetService',\n",
       " 'OnlineSecurity',\n",
       " 'OnlineBackup',\n",
       " 'DeviceProtection',\n",
       " 'TechSupport',\n",
       " 'StreamingTV',\n",
       " 'StreamingMovies',\n",
       " 'MultipleLines',\n",
       " 'CustomerLeft',\n",
       " 'ContractDuration']"
      ]
     },
     "execution_count": 20,
     "metadata": {},
     "output_type": "execute_result"
    }
   ],
   "source": [
    "data.drop(['BeginDate', 'EndDate', 'CustomerID'], axis=1, inplace=True)\n",
    "\n",
    "# проверим, что столбцы удалены\n",
    "data.columns.values.tolist()"
   ]
  },
  {
   "cell_type": "markdown",
   "metadata": {
    "id": "OPugH9p16mKc"
   },
   "source": [
    "<div style=\"border:solid green 2px; padding: 20px\">\n",
    "\n",
    "Результаты предобработки:\n",
    "* все датасеты объединены в один по `customerID` без потери данных;\n",
    "* все столбцы с пропусками были категориальными, пропуски в них заполнили новой категорией 'undefined';\n",
    "* столбец `gender` переименовали на `Gender` с большой буквы, как в остальных столбцах;\n",
    "* признак `TotalCharges` по значениям в нем является числовым, преобразоавали его к float;\n",
    "* тип признака `SeniorCitizen` числовой, но по сути он все равно является категориальным. Поэтому чтобы модели более корректно его обрабатывали, далее преобразовали его к строковому типу со значениям Yes, No;\n",
    "* на основе признаков `BeginDate` и `EndDate` создали два новых признака - факт ухода клиента от опреатора связи и количество дней, которые он являлся клиентов оператора;\n",
    "* удалили неинформативные признаки `BeginDate`, `EndDate`, `customerID`.\n",
    "    \n",
    "</div>"
   ]
  },
  {
   "cell_type": "markdown",
   "metadata": {
    "id": "dTpXDbzn6mKc"
   },
   "source": [
    "##  Разделение данных на выборки"
   ]
  },
  {
   "cell_type": "markdown",
   "metadata": {
    "id": "7KESd-Hu6mKd"
   },
   "source": [
    "Подготовим тренировочные и тестовые данные для обучения моделей:"
   ]
  },
  {
   "cell_type": "code",
   "execution_count": 21,
   "metadata": {
    "id": "zUApS42V6mKd"
   },
   "outputs": [],
   "source": [
    "# выделим признаки для обучения и целевой признак\n",
    "features = data.drop('CustomerLeft', axis=1)\n",
    "target = data['CustomerLeft']\n",
    "\n",
    "# разделим исходные данные на тренировочную и тестовую выборку в соотношении 3:1 с использованием стратификации по целевому признаку\n",
    "features_train, features_test, target_train, target_test = train_test_split(\n",
    "    features, target, test_size=0.25, random_state=RANDOM_STATE, stratify=target)"
   ]
  },
  {
   "cell_type": "markdown",
   "metadata": {
    "id": "etTjBEOF6mKe"
   },
   "source": [
    "## Обучение моделей"
   ]
  },
  {
   "cell_type": "markdown",
   "metadata": {
    "id": "Ys0RobYy6mKe"
   },
   "source": [
    "Для упрощения напишем функцию, которая с помощью RandomizedSearchCV подбираем лучшую модель по метрике ROC-AUC среди переданных параметров:"
   ]
  },
  {
   "cell_type": "code",
   "execution_count": 22,
   "metadata": {
    "id": "10fHA_Hw6mKf"
   },
   "outputs": [],
   "source": [
    "def find_best_model(pipeline, parameters):\n",
    "    grid_search = GridSearchCV(\n",
    "        pipeline, parameters, scoring='roc_auc', cv=3, n_jobs=-1, error_score = 'raise')\n",
    "    grid_search.fit(features_train, target_train)\n",
    "\n",
    "    print('Наилучшая модель', grid_search.best_params_)\n",
    "    print('ROC-AUC наилучшей модели', abs(grid_search.best_score_))\n",
    "\n",
    "    return grid_search, abs(grid_search.best_score_)"
   ]
  },
  {
   "cell_type": "markdown",
   "metadata": {
    "id": "rC_YaWLU6mKf"
   },
   "source": [
    "### Логистическая регрессия"
   ]
  },
  {
   "cell_type": "markdown",
   "metadata": {
    "id": "PnVK40iE6mKf"
   },
   "source": [
    "Для логистичекской модели важно предварительно подговить данные: выполнить кодирование категориальных признаков с помощью OneHotEncoder и выполнить масштабирование численных признаков. Для удобства сделаем это в pipeline:"
   ]
  },
  {
   "cell_type": "code",
   "execution_count": 23,
   "metadata": {
    "id": "iVwTb9gR6mKg"
   },
   "outputs": [],
   "source": [
    "category_columns = ['Type', 'PaperlessBilling', 'PaymentMethod', 'Gender', 'SeniorCitizen', 'Partner', 'Dependents', 'InternetService', 'OnlineSecurity',\n",
    "                     'OnlineBackup', 'DeviceProtection', 'TechSupport', 'StreamingTV', 'StreamingMovies', 'MultipleLines']\n",
    "numeric_columns = ['MonthlyCharges', 'TotalCharges', 'ContractDuration']\n",
    "\n",
    "# создадим ColumnTransformer для предобработки признаков: кодирования категориальных и масштабирования численных\n",
    "preprocessor = ColumnTransformer(\n",
    "    transformers=[\n",
    "        ('ohe', OneHotEncoder(sparse=False, drop='first'), category_columns),\n",
    "        ('scal', StandardScaler(), numeric_columns)\n",
    "    ])\n",
    "\n",
    "# создадим pipeline с предобработкой признаков и логистической регрессией\n",
    "pipeline_lr = Pipeline(\n",
    "    [\n",
    "        ('preprocessor', preprocessor),\n",
    "        ('log', LogisticRegression(random_state=RANDOM_STATE,\n",
    "                                   max_iter = 1000))\n",
    "    ])\n",
    "\n",
    "params_lr = {\n",
    "   'log__C': range(2, 15, 1)\n",
    "}"
   ]
  },
  {
   "cell_type": "code",
   "execution_count": 24,
   "metadata": {
    "colab": {
     "base_uri": "https://localhost:8080/"
    },
    "id": "xpnZQshk6mKh",
    "outputId": "4750b6cc-02fd-4a57-803b-a75aee5743b9"
   },
   "outputs": [
    {
     "name": "stdout",
     "output_type": "stream",
     "text": [
      "Наилучшая модель {'log__C': 2}\n",
      "ROC-AUC наилучшей модели 0.7645124393437084\n",
      "CPU times: user 638 ms, sys: 157 ms, total: 796 ms\n",
      "Wall time: 10.5 s\n"
     ]
    },
    {
     "name": "stderr",
     "output_type": "stream",
     "text": [
      "/usr/local/lib/python3.10/dist-packages/sklearn/preprocessing/_encoders.py:868: FutureWarning: `sparse` was renamed to `sparse_output` in version 1.2 and will be removed in 1.4. `sparse_output` is ignored unless you leave `sparse` to its default value.\n",
      "  warnings.warn(\n"
     ]
    }
   ],
   "source": [
    "%%time\n",
    "lc_best_search, lc_best_score = find_best_model(pipeline_lr, params_lr)"
   ]
  },
  {
   "cell_type": "markdown",
   "metadata": {
    "id": "8OaQUA626mKi"
   },
   "source": [
    "### Модель случайного леса"
   ]
  },
  {
   "cell_type": "markdown",
   "metadata": {
    "id": "N5176eGN6mKi"
   },
   "source": [
    "Для модели случайного леса нужно выполнить кодирование категориальных признаков с помощью OrdinalEncoder, выполнять масштабирование численных признаков не требуется."
   ]
  },
  {
   "cell_type": "code",
   "execution_count": 25,
   "metadata": {
    "id": "Hf3IWsYc6mKi"
   },
   "outputs": [],
   "source": [
    "# создадим ColumnTransformer для предобработки признаков: кодирования категориальных и пропуска численных признаков\n",
    "ordinal_encoder_preprocessor = ColumnTransformer(\n",
    "    transformers=[\n",
    "        ('oe', OrdinalEncoder(), category_columns),\n",
    "        ('scal', 'passthrough', numeric_columns)\n",
    "    ],\n",
    "    # удалить все остальные столбцы\n",
    "    remainder='drop'\n",
    ")\n",
    "\n",
    "# создадим pipeline с предобработкой признаков и моделью случайного леса\n",
    "pipeline_rfc = Pipeline(\n",
    "    [\n",
    "        ('preprocessor', ordinal_encoder_preprocessor),\n",
    "        ('rfc', RandomForestClassifier(random_state=RANDOM_STATE))\n",
    "    ])\n",
    "\n",
    "params_rfc = {\n",
    "   'rfc__n_estimators': [100, 200, 300],\n",
    "   'rfc__max_depth': [None, 8, 12, 16],\n",
    "}\n"
   ]
  },
  {
   "cell_type": "code",
   "execution_count": 26,
   "metadata": {
    "colab": {
     "base_uri": "https://localhost:8080/"
    },
    "id": "b3fSNnut6mKj",
    "outputId": "ba82fbbd-ba1c-45e5-a7d7-fd0e9cc06a6d"
   },
   "outputs": [
    {
     "name": "stdout",
     "output_type": "stream",
     "text": [
      "Наилучшая модель {'rfc__max_depth': 8, 'rfc__n_estimators': 300}\n",
      "ROC-AUC наилучшей модели 0.8321723349962994\n",
      "CPU times: user 2.31 s, sys: 124 ms, total: 2.44 s\n",
      "Wall time: 46.9 s\n"
     ]
    }
   ],
   "source": [
    "%%time\n",
    "rfс_best_search, rfс_best_score = find_best_model(pipeline_rfc, params_rfc)"
   ]
  },
  {
   "cell_type": "markdown",
   "metadata": {
    "id": "qPbSG9MA6mKk"
   },
   "source": [
    "### Модель LightGBM"
   ]
  },
  {
   "cell_type": "markdown",
   "metadata": {
    "id": "Bek1QbBY6mKk"
   },
   "source": [
    "Для моделей LightGBM и CatBoost не нужно предварительно выполнять кодирование категориальных признаков и масштабирование численных признаков, они сами с этим справляются. Но для корректной работы этих моделей нужно предварительно поменять тип категориальных переменных на category:"
   ]
  },
  {
   "cell_type": "code",
   "execution_count": 27,
   "metadata": {
    "colab": {
     "base_uri": "https://localhost:8080/"
    },
    "id": "1Gov2ovq6mKl",
    "outputId": "f193e024-9c2c-4f9d-d1fc-b70278d09c38"
   },
   "outputs": [
    {
     "name": "stderr",
     "output_type": "stream",
     "text": [
      "<ipython-input-27-9a4723132fa9>:3: DeprecationWarning: In a future version, `df.iloc[:, i] = newvals` will attempt to set the values inplace instead of always setting a new array. To retain the old behavior, use either `df[df.columns[i]] = newvals` or, if columns are non-unique, `df.isetitem(i, newvals)`\n",
      "  features_train.loc[:, category_columns] = features_train[category_columns].astype('category')\n",
      "<ipython-input-27-9a4723132fa9>:6: DeprecationWarning: In a future version, `df.iloc[:, i] = newvals` will attempt to set the values inplace instead of always setting a new array. To retain the old behavior, use either `df[df.columns[i]] = newvals` or, if columns are non-unique, `df.isetitem(i, newvals)`\n",
      "  features_test.loc[:, category_columns] = features_test[category_columns].astype('category')\n"
     ]
    }
   ],
   "source": [
    "# предварительно скопируем датасет, чтобы избежать ошибок\n",
    "features_train = features_train.copy()\n",
    "features_train.loc[:, category_columns] = features_train[category_columns].astype('category')\n",
    "\n",
    "features_test = features_test.copy()\n",
    "features_test.loc[:, category_columns] = features_test[category_columns].astype('category')"
   ]
  },
  {
   "cell_type": "code",
   "execution_count": 28,
   "metadata": {
    "id": "hb0L96bZ6mKn"
   },
   "outputs": [],
   "source": [
    "# создадим pipeline с моделью LightGBM\n",
    "pipeline_lgbm = Pipeline(\n",
    "    [\n",
    "        #('preprocessor', ordinal_encoder_preprocessor),\n",
    "        ('lgbm', LGBMClassifier(random_state=RANDOM_STATE, verbose=1000))\n",
    "    ])\n",
    "\n",
    "params_lgbm = {\n",
    "   'lgbm__max_depth': [5, 10],\n",
    "   'lgbm__num_leaves': [400, 500],\n",
    "   'lgbm__learning_rate' : [0.3]\n",
    "}\n"
   ]
  },
  {
   "cell_type": "code",
   "execution_count": 29,
   "metadata": {
    "colab": {
     "base_uri": "https://localhost:8080/"
    },
    "id": "SCRYcBGU6mKn",
    "outputId": "cf039aad-01ba-456a-f0c7-d6362b9608ab"
   },
   "outputs": [
    {
     "name": "stdout",
     "output_type": "stream",
     "text": [
      "[LightGBM] [Info] Number of positive: 826, number of negative: 4456\n",
      "[LightGBM] [Debug] Dataset::GetMultiBinFromSparseFeatures: sparse rate 0.769784\n",
      "[LightGBM] [Debug] Dataset::GetMultiBinFromAllFeatures: sparse rate 0.400417\n",
      "[LightGBM] [Debug] init for col-wise cost 0.000855 seconds, init for row-wise cost 0.002777 seconds\n",
      "[LightGBM] [Warning] Auto-choosing row-wise multi-threading, the overhead of testing was 0.001538 seconds.\n",
      "You can set `force_row_wise=true` to remove the overhead.\n",
      "And if memory is not enough, you can set `force_col_wise=true`.\n",
      "[LightGBM] [Debug] Using Sparse Multi-Val Bin\n",
      "[LightGBM] [Info] Total Bins 752\n",
      "[LightGBM] [Info] Number of data points in the train set: 5282, number of used features: 18\n",
      "[LightGBM] [Info] [binary:BoostFromScore]: pavg=0.156380 -> initscore=-1.685412\n",
      "[LightGBM] [Info] Start training from score -1.685412\n",
      "[LightGBM] [Warning] No further splits with positive gain, best gain: -inf\n",
      "[LightGBM] [Debug] Trained a tree with leaves = 24 and depth = 5\n",
      "[LightGBM] [Warning] No further splits with positive gain, best gain: -inf\n",
      "[LightGBM] [Debug] Trained a tree with leaves = 27 and depth = 5\n",
      "[LightGBM] [Warning] No further splits with positive gain, best gain: -inf\n",
      "[LightGBM] [Debug] Trained a tree with leaves = 27 and depth = 5\n",
      "[LightGBM] [Warning] No further splits with positive gain, best gain: -inf\n",
      "[LightGBM] [Debug] Trained a tree with leaves = 28 and depth = 5\n",
      "[LightGBM] [Warning] No further splits with positive gain, best gain: -inf\n",
      "[LightGBM] [Debug] Trained a tree with leaves = 27 and depth = 5\n",
      "[LightGBM] [Warning] No further splits with positive gain, best gain: -inf\n",
      "[LightGBM] [Debug] Trained a tree with leaves = 27 and depth = 5\n",
      "[LightGBM] [Warning] No further splits with positive gain, best gain: -inf\n",
      "[LightGBM] [Debug] Trained a tree with leaves = 30 and depth = 5\n",
      "[LightGBM] [Warning] No further splits with positive gain, best gain: -inf\n",
      "[LightGBM] [Debug] Trained a tree with leaves = 29 and depth = 5\n",
      "[LightGBM] [Warning] No further splits with positive gain, best gain: -inf\n",
      "[LightGBM] [Debug] Trained a tree with leaves = 14 and depth = 5\n",
      "[LightGBM] [Warning] No further splits with positive gain, best gain: -inf\n",
      "[LightGBM] [Debug] Trained a tree with leaves = 28 and depth = 5\n",
      "[LightGBM] [Warning] No further splits with positive gain, best gain: -inf\n",
      "[LightGBM] [Debug] Trained a tree with leaves = 21 and depth = 5\n",
      "[LightGBM] [Warning] No further splits with positive gain, best gain: -inf\n",
      "[LightGBM] [Debug] Trained a tree with leaves = 19 and depth = 5\n",
      "[LightGBM] [Warning] No further splits with positive gain, best gain: -inf\n",
      "[LightGBM] [Debug] Trained a tree with leaves = 28 and depth = 5\n",
      "[LightGBM] [Warning] No further splits with positive gain, best gain: -inf\n",
      "[LightGBM] [Debug] Trained a tree with leaves = 25 and depth = 5\n",
      "[LightGBM] [Warning] No further splits with positive gain, best gain: -inf\n",
      "[LightGBM] [Debug] Trained a tree with leaves = 27 and depth = 5\n",
      "[LightGBM] [Warning] No further splits with positive gain, best gain: -inf\n",
      "[LightGBM] [Debug] Trained a tree with leaves = 24 and depth = 5\n",
      "[LightGBM] [Warning] No further splits with positive gain, best gain: -inf\n",
      "[LightGBM] [Debug] Trained a tree with leaves = 19 and depth = 5\n",
      "[LightGBM] [Warning] No further splits with positive gain, best gain: -inf\n",
      "[LightGBM] [Debug] Trained a tree with leaves = 16 and depth = 5\n",
      "[LightGBM] [Warning] No further splits with positive gain, best gain: -inf\n",
      "[LightGBM] [Debug] Trained a tree with leaves = 23 and depth = 5\n",
      "[LightGBM] [Warning] No further splits with positive gain, best gain: -inf\n",
      "[LightGBM] [Debug] Trained a tree with leaves = 20 and depth = 5\n",
      "[LightGBM] [Warning] No further splits with positive gain, best gain: -inf\n",
      "[LightGBM] [Debug] Trained a tree with leaves = 12 and depth = 5\n",
      "[LightGBM] [Warning] No further splits with positive gain, best gain: -inf\n",
      "[LightGBM] [Debug] Trained a tree with leaves = 19 and depth = 5\n",
      "[LightGBM] [Warning] No further splits with positive gain, best gain: -inf\n",
      "[LightGBM] [Debug] Trained a tree with leaves = 17 and depth = 5\n",
      "[LightGBM] [Warning] No further splits with positive gain, best gain: -inf\n",
      "[LightGBM] [Debug] Trained a tree with leaves = 29 and depth = 5\n",
      "[LightGBM] [Warning] No further splits with positive gain, best gain: -inf\n",
      "[LightGBM] [Debug] Trained a tree with leaves = 29 and depth = 5\n",
      "[LightGBM] [Warning] No further splits with positive gain, best gain: -inf\n",
      "[LightGBM] [Debug] Trained a tree with leaves = 14 and depth = 5\n",
      "[LightGBM] [Warning] No further splits with positive gain, best gain: -inf\n",
      "[LightGBM] [Debug] Trained a tree with leaves = 19 and depth = 5\n",
      "[LightGBM] [Warning] No further splits with positive gain, best gain: -inf\n",
      "[LightGBM] [Debug] Trained a tree with leaves = 17 and depth = 5\n",
      "[LightGBM] [Warning] No further splits with positive gain, best gain: -inf\n",
      "[LightGBM] [Debug] Trained a tree with leaves = 24 and depth = 5\n",
      "[LightGBM] [Warning] No further splits with positive gain, best gain: -inf\n",
      "[LightGBM] [Debug] Trained a tree with leaves = 20 and depth = 5\n",
      "[LightGBM] [Warning] No further splits with positive gain, best gain: -inf\n",
      "[LightGBM] [Debug] Trained a tree with leaves = 19 and depth = 5\n",
      "[LightGBM] [Warning] No further splits with positive gain, best gain: -inf\n",
      "[LightGBM] [Debug] Trained a tree with leaves = 20 and depth = 5\n",
      "[LightGBM] [Warning] No further splits with positive gain, best gain: -inf\n",
      "[LightGBM] [Debug] Trained a tree with leaves = 20 and depth = 5\n",
      "[LightGBM] [Warning] No further splits with positive gain, best gain: -inf\n",
      "[LightGBM] [Debug] Trained a tree with leaves = 27 and depth = 5\n",
      "[LightGBM] [Warning] No further splits with positive gain, best gain: -inf\n",
      "[LightGBM] [Debug] Trained a tree with leaves = 13 and depth = 5\n",
      "[LightGBM] [Warning] No further splits with positive gain, best gain: -inf\n",
      "[LightGBM] [Debug] Trained a tree with leaves = 27 and depth = 5\n",
      "[LightGBM] [Warning] No further splits with positive gain, best gain: -inf\n",
      "[LightGBM] [Debug] Trained a tree with leaves = 21 and depth = 5\n",
      "[LightGBM] [Warning] No further splits with positive gain, best gain: -inf\n",
      "[LightGBM] [Debug] Trained a tree with leaves = 20 and depth = 5\n",
      "[LightGBM] [Warning] No further splits with positive gain, best gain: -inf\n",
      "[LightGBM] [Debug] Trained a tree with leaves = 19 and depth = 5\n",
      "[LightGBM] [Warning] No further splits with positive gain, best gain: -inf\n",
      "[LightGBM] [Debug] Trained a tree with leaves = 25 and depth = 5\n",
      "[LightGBM] [Warning] No further splits with positive gain, best gain: -inf\n",
      "[LightGBM] [Debug] Trained a tree with leaves = 13 and depth = 5\n",
      "[LightGBM] [Warning] No further splits with positive gain, best gain: -inf\n",
      "[LightGBM] [Debug] Trained a tree with leaves = 24 and depth = 5\n",
      "[LightGBM] [Warning] No further splits with positive gain, best gain: -inf\n",
      "[LightGBM] [Debug] Trained a tree with leaves = 18 and depth = 5\n",
      "[LightGBM] [Warning] No further splits with positive gain, best gain: -inf\n",
      "[LightGBM] [Debug] Trained a tree with leaves = 21 and depth = 5\n",
      "[LightGBM] [Warning] No further splits with positive gain, best gain: -inf\n",
      "[LightGBM] [Debug] Trained a tree with leaves = 19 and depth = 5\n",
      "[LightGBM] [Warning] No further splits with positive gain, best gain: -inf\n",
      "[LightGBM] [Debug] Trained a tree with leaves = 16 and depth = 5\n",
      "[LightGBM] [Warning] No further splits with positive gain, best gain: -inf\n",
      "[LightGBM] [Debug] Trained a tree with leaves = 23 and depth = 5\n",
      "[LightGBM] [Warning] No further splits with positive gain, best gain: -inf\n",
      "[LightGBM] [Debug] Trained a tree with leaves = 30 and depth = 5\n",
      "[LightGBM] [Warning] No further splits with positive gain, best gain: -inf\n",
      "[LightGBM] [Debug] Trained a tree with leaves = 16 and depth = 5\n",
      "[LightGBM] [Warning] No further splits with positive gain, best gain: -inf\n",
      "[LightGBM] [Debug] Trained a tree with leaves = 18 and depth = 5\n",
      "[LightGBM] [Warning] No further splits with positive gain, best gain: -inf\n",
      "[LightGBM] [Debug] Trained a tree with leaves = 19 and depth = 5\n",
      "[LightGBM] [Warning] No further splits with positive gain, best gain: -inf\n",
      "[LightGBM] [Debug] Trained a tree with leaves = 21 and depth = 5\n",
      "[LightGBM] [Warning] No further splits with positive gain, best gain: -inf\n",
      "[LightGBM] [Debug] Trained a tree with leaves = 14 and depth = 5\n",
      "[LightGBM] [Warning] No further splits with positive gain, best gain: -inf\n",
      "[LightGBM] [Debug] Trained a tree with leaves = 21 and depth = 5\n",
      "[LightGBM] [Warning] No further splits with positive gain, best gain: -inf\n",
      "[LightGBM] [Debug] Trained a tree with leaves = 18 and depth = 5\n",
      "[LightGBM] [Warning] No further splits with positive gain, best gain: -inf\n",
      "[LightGBM] [Debug] Trained a tree with leaves = 15 and depth = 5\n",
      "[LightGBM] [Warning] No further splits with positive gain, best gain: -inf\n",
      "[LightGBM] [Debug] Trained a tree with leaves = 12 and depth = 5\n",
      "[LightGBM] [Warning] No further splits with positive gain, best gain: -inf\n",
      "[LightGBM] [Debug] Trained a tree with leaves = 16 and depth = 5\n",
      "[LightGBM] [Warning] No further splits with positive gain, best gain: -inf\n",
      "[LightGBM] [Debug] Trained a tree with leaves = 12 and depth = 5\n",
      "[LightGBM] [Warning] No further splits with positive gain, best gain: -inf\n",
      "[LightGBM] [Debug] Trained a tree with leaves = 30 and depth = 5\n",
      "[LightGBM] [Warning] No further splits with positive gain, best gain: -inf\n",
      "[LightGBM] [Debug] Trained a tree with leaves = 20 and depth = 5\n",
      "[LightGBM] [Warning] No further splits with positive gain, best gain: -inf\n",
      "[LightGBM] [Debug] Trained a tree with leaves = 15 and depth = 5\n",
      "[LightGBM] [Warning] No further splits with positive gain, best gain: -inf\n",
      "[LightGBM] [Debug] Trained a tree with leaves = 21 and depth = 5\n",
      "[LightGBM] [Warning] No further splits with positive gain, best gain: -inf\n",
      "[LightGBM] [Debug] Trained a tree with leaves = 16 and depth = 5\n",
      "[LightGBM] [Warning] No further splits with positive gain, best gain: -inf\n",
      "[LightGBM] [Debug] Trained a tree with leaves = 21 and depth = 5\n",
      "[LightGBM] [Warning] No further splits with positive gain, best gain: -inf\n",
      "[LightGBM] [Debug] Trained a tree with leaves = 11 and depth = 5\n",
      "[LightGBM] [Warning] No further splits with positive gain, best gain: -inf\n",
      "[LightGBM] [Debug] Trained a tree with leaves = 22 and depth = 5\n",
      "[LightGBM] [Warning] No further splits with positive gain, best gain: -inf\n",
      "[LightGBM] [Debug] Trained a tree with leaves = 13 and depth = 5\n",
      "[LightGBM] [Warning] No further splits with positive gain, best gain: -inf\n",
      "[LightGBM] [Debug] Trained a tree with leaves = 16 and depth = 5\n",
      "[LightGBM] [Warning] No further splits with positive gain, best gain: -inf\n",
      "[LightGBM] [Debug] Trained a tree with leaves = 16 and depth = 5\n",
      "[LightGBM] [Warning] No further splits with positive gain, best gain: -inf\n",
      "[LightGBM] [Debug] Trained a tree with leaves = 19 and depth = 5\n",
      "[LightGBM] [Warning] No further splits with positive gain, best gain: -inf\n",
      "[LightGBM] [Debug] Trained a tree with leaves = 18 and depth = 5\n",
      "[LightGBM] [Warning] No further splits with positive gain, best gain: -inf\n",
      "[LightGBM] [Debug] Trained a tree with leaves = 27 and depth = 5\n",
      "[LightGBM] [Warning] No further splits with positive gain, best gain: -inf\n",
      "[LightGBM] [Debug] Trained a tree with leaves = 17 and depth = 5\n",
      "[LightGBM] [Warning] No further splits with positive gain, best gain: -inf\n",
      "[LightGBM] [Debug] Trained a tree with leaves = 13 and depth = 5\n",
      "[LightGBM] [Warning] No further splits with positive gain, best gain: -inf\n",
      "[LightGBM] [Debug] Trained a tree with leaves = 13 and depth = 5\n",
      "[LightGBM] [Warning] No further splits with positive gain, best gain: -inf\n",
      "[LightGBM] [Debug] Trained a tree with leaves = 26 and depth = 5\n",
      "[LightGBM] [Warning] No further splits with positive gain, best gain: -inf\n",
      "[LightGBM] [Debug] Trained a tree with leaves = 27 and depth = 5\n",
      "[LightGBM] [Warning] No further splits with positive gain, best gain: -inf\n",
      "[LightGBM] [Debug] Trained a tree with leaves = 15 and depth = 5\n",
      "[LightGBM] [Warning] No further splits with positive gain, best gain: -inf\n",
      "[LightGBM] [Debug] Trained a tree with leaves = 29 and depth = 5\n",
      "[LightGBM] [Warning] No further splits with positive gain, best gain: -inf\n",
      "[LightGBM] [Debug] Trained a tree with leaves = 15 and depth = 5\n",
      "[LightGBM] [Warning] No further splits with positive gain, best gain: -inf\n",
      "[LightGBM] [Debug] Trained a tree with leaves = 20 and depth = 5\n",
      "[LightGBM] [Warning] No further splits with positive gain, best gain: -inf\n",
      "[LightGBM] [Debug] Trained a tree with leaves = 22 and depth = 5\n",
      "[LightGBM] [Warning] No further splits with positive gain, best gain: -inf\n",
      "[LightGBM] [Debug] Trained a tree with leaves = 15 and depth = 5\n",
      "[LightGBM] [Warning] No further splits with positive gain, best gain: -inf\n",
      "[LightGBM] [Debug] Trained a tree with leaves = 18 and depth = 5\n",
      "[LightGBM] [Warning] No further splits with positive gain, best gain: -inf\n",
      "[LightGBM] [Debug] Trained a tree with leaves = 16 and depth = 5\n",
      "[LightGBM] [Warning] No further splits with positive gain, best gain: -inf\n",
      "[LightGBM] [Debug] Trained a tree with leaves = 13 and depth = 5\n",
      "[LightGBM] [Warning] No further splits with positive gain, best gain: -inf\n",
      "[LightGBM] [Debug] Trained a tree with leaves = 18 and depth = 5\n",
      "[LightGBM] [Warning] No further splits with positive gain, best gain: -inf\n",
      "[LightGBM] [Debug] Trained a tree with leaves = 26 and depth = 5\n",
      "[LightGBM] [Warning] No further splits with positive gain, best gain: -inf\n",
      "[LightGBM] [Debug] Trained a tree with leaves = 13 and depth = 5\n",
      "[LightGBM] [Warning] No further splits with positive gain, best gain: -inf\n",
      "[LightGBM] [Debug] Trained a tree with leaves = 15 and depth = 5\n",
      "[LightGBM] [Warning] No further splits with positive gain, best gain: -inf\n",
      "[LightGBM] [Debug] Trained a tree with leaves = 11 and depth = 5\n",
      "[LightGBM] [Warning] No further splits with positive gain, best gain: -inf\n",
      "[LightGBM] [Debug] Trained a tree with leaves = 21 and depth = 5\n",
      "[LightGBM] [Warning] No further splits with positive gain, best gain: -inf\n",
      "[LightGBM] [Debug] Trained a tree with leaves = 20 and depth = 5\n",
      "[LightGBM] [Warning] No further splits with positive gain, best gain: -inf\n",
      "[LightGBM] [Debug] Trained a tree with leaves = 19 and depth = 5\n",
      "[LightGBM] [Warning] No further splits with positive gain, best gain: -inf\n",
      "[LightGBM] [Debug] Trained a tree with leaves = 21 and depth = 5\n",
      "[LightGBM] [Warning] No further splits with positive gain, best gain: -inf\n",
      "[LightGBM] [Debug] Trained a tree with leaves = 25 and depth = 5\n",
      "[LightGBM] [Warning] No further splits with positive gain, best gain: -inf\n",
      "[LightGBM] [Debug] Trained a tree with leaves = 16 and depth = 5\n",
      "[LightGBM] [Warning] No further splits with positive gain, best gain: -inf\n",
      "[LightGBM] [Debug] Trained a tree with leaves = 25 and depth = 5\n",
      "[LightGBM] [Warning] No further splits with positive gain, best gain: -inf\n",
      "[LightGBM] [Debug] Trained a tree with leaves = 16 and depth = 5\n",
      "Наилучшая модель {'lgbm__learning_rate': 0.3, 'lgbm__max_depth': 5, 'lgbm__num_leaves': 400}\n",
      "ROC-AUC наилучшей модели 0.8640188162838282\n",
      "CPU times: user 425 ms, sys: 20.7 ms, total: 446 ms\n",
      "Wall time: 4.73 s\n"
     ]
    }
   ],
   "source": [
    "%%time\n",
    "lgbmc_best_search, lgbmc_best_score = find_best_model(pipeline_lgbm, params_lgbm)"
   ]
  },
  {
   "cell_type": "markdown",
   "metadata": {
    "id": "xrWPCbtY6mKn"
   },
   "source": [
    "### Модель CatBoost"
   ]
  },
  {
   "cell_type": "markdown",
   "metadata": {
    "id": "8CLWScNQ6mKo"
   },
   "source": [
    "Для модели CatBoost не нужно предварительно выполнять кодирование категориальных признаков и масштабирование численных признаков, она сама с этим справляется."
   ]
  },
  {
   "cell_type": "code",
   "execution_count": 30,
   "metadata": {
    "id": "PY8pxnfH6mKp"
   },
   "outputs": [],
   "source": [
    "# создадим pipeline с моделью CatBoost\n",
    "pipeline_cbc = Pipeline(\n",
    "    [\n",
    "        ('cbc', CatBoostClassifier(random_state=RANDOM_STATE, verbose=1000, cat_features=category_columns))\n",
    "    ])\n",
    "\n",
    "params_cbc = {\n",
    "   'cbc__max_depth': [None, 5, 10],\n",
    "   'cbc__learning_rate' : [0.1, 0.5]\n",
    "}"
   ]
  },
  {
   "cell_type": "code",
   "execution_count": 31,
   "metadata": {
    "colab": {
     "base_uri": "https://localhost:8080/"
    },
    "id": "Z6OiZ0Bd6mKp",
    "outputId": "7bb971e3-d0b2-446d-b48b-6e2a06f9f60a"
   },
   "outputs": [
    {
     "name": "stdout",
     "output_type": "stream",
     "text": [
      "0:\tlearn: 0.6227663\ttotal: 63.3ms\tremaining: 1m 3s\n",
      "999:\tlearn: 0.0966577\ttotal: 14.9s\tremaining: 0us\n",
      "Наилучшая модель {'cbc__learning_rate': 0.1, 'cbc__max_depth': 5}\n",
      "ROC-AUC наилучшей модели 0.8942656561001541\n",
      "CPU times: user 29.3 s, sys: 2.05 s, total: 31.4 s\n",
      "Wall time: 9min\n"
     ]
    }
   ],
   "source": [
    "%%time\n",
    "cbc_best_search, cbc_best_score = find_best_model(pipeline_cbc, params_cbc)"
   ]
  },
  {
   "cell_type": "markdown",
   "metadata": {
    "id": "7jHIpSXv6mKq"
   },
   "source": [
    "<div style=\"border:solid green 2px; padding: 20px\">\n",
    "\n",
    "Наилучшей оказалась модель Catboost, на тренировочной выборке у нее ROC-AUC = 0.89, далее идет модель LightGBM с ROC-AUC = 0.86, далее модель случайного леса с ROC-AUC = 0.83, и далее логистическая модель с ROC-AUC = 0.76\n",
    "    \n",
    "</div>"
   ]
  },
  {
   "cell_type": "markdown",
   "metadata": {
    "id": "Jl4JcEra6mKq"
   },
   "source": [
    "## Тестирование и проверка на адекватность лучшей модели"
   ]
  },
  {
   "cell_type": "markdown",
   "metadata": {
    "id": "VnRw0mnv6mKq"
   },
   "source": [
    "### Тестирование лучшей модели"
   ]
  },
  {
   "cell_type": "markdown",
   "metadata": {
    "id": "6kZS5CvX6mKr"
   },
   "source": [
    "Проверим, как лучшая модель отрабатывает на тестовой выборке:"
   ]
  },
  {
   "cell_type": "code",
   "execution_count": 32,
   "metadata": {
    "id": "Gi7WfYeA6mKr"
   },
   "outputs": [],
   "source": [
    "# определим функцию, вычиляющую ROC-AUC модели на тестовой выборке\n",
    "def test_model(best_estimator):\n",
    "    # вычислим вероятности класса 1\n",
    "    prediction_probabilities_test = best_estimator.predict_proba(features_test)[:, 1]\n",
    "    roc_auc_test = roc_auc_score(target_test, prediction_probabilities_test)\n",
    "    print('Итоговый ROC-AUC на тестовой выборке', roc_auc_test)"
   ]
  },
  {
   "cell_type": "code",
   "execution_count": 33,
   "metadata": {
    "colab": {
     "base_uri": "https://localhost:8080/"
    },
    "id": "vaX6EY-c6mKs",
    "outputId": "a8b64c4e-5b27-4fc0-9e62-26a472a84c09"
   },
   "outputs": [
    {
     "name": "stdout",
     "output_type": "stream",
     "text": [
      "Итоговый ROC-AUC на тестовой выборке 0.9037440352379786\n"
     ]
    }
   ],
   "source": [
    "# протестируем модель CatBoost\n",
    "test_model(cbc_best_search.best_estimator_)"
   ]
  },
  {
   "cell_type": "markdown",
   "metadata": {
    "id": "h1Qlr-Yt6mKs"
   },
   "source": [
    "На тестовой выборке ROC-AUC лучшей модели 0.90. Таким образом требуемая в задаче граница метрики в 0.85 преодолена."
   ]
  },
  {
   "cell_type": "markdown",
   "metadata": {
    "id": "zBg7K_076mKu"
   },
   "source": [
    "### Проверка на адекватность лучшей модели"
   ]
  },
  {
   "cell_type": "markdown",
   "metadata": {
    "id": "EnycB7Je6mKu"
   },
   "source": [
    "Сравним, как соотносятся полученные результаты с результатами фиктивного классификатора, который будет прогнозировать классы в соответствии с их относительными частотами в исходных данных:"
   ]
  },
  {
   "cell_type": "code",
   "execution_count": 34,
   "metadata": {
    "colab": {
     "base_uri": "https://localhost:8080/"
    },
    "id": "vidfzo3M6mKu",
    "outputId": "503db942-ed60-4322-c670-c2f444133c55"
   },
   "outputs": [
    {
     "name": "stdout",
     "output_type": "stream",
     "text": [
      "Наилучшая модель {}\n",
      "ROC-AUC наилучшей модели 0.5045284586228078\n",
      "Итоговый ROC-AUC на тестовой выборке 0.4882662425058118\n"
     ]
    }
   ],
   "source": [
    "dc_model = DummyClassifier(strategy='stratified')\n",
    "dc_parameters = {}\n",
    "\n",
    "dc_best_search, dc_best_score = find_best_model(dc_model, dc_parameters)\n",
    "test_model(dc_best_search.best_estimator_)"
   ]
  },
  {
   "cell_type": "markdown",
   "metadata": {
    "id": "2HPiuW_66mKv"
   },
   "source": [
    "Результаты ROC-AUC на тестовой выборке наилучшей модели 0.90, что значительно превосходит результаты фиктивного классификатора 0.51, поэтому модель адекватна."
   ]
  },
  {
   "cell_type": "markdown",
   "metadata": {
    "id": "aT5fRrN66mKv"
   },
   "source": [
    "<div style=\"border:solid green 2px; padding: 20px\">\n",
    "\n",
    "* На тестовой выборке ROC-AUC лучшей модели 0.90. Таким образом требуемая в задаче граница метрики в 0.85 преодолена.\n",
    "* Результаты ROC-AUC на тестовой выборке наилучшей модели 0.90, что значительно превосходит результаты фиктивного классификатора 0.49, поэтому модель адекватна.\n",
    "    \n",
    "</div>"
   ]
  },
  {
   "cell_type": "markdown",
   "metadata": {
    "id": "CfFSQsir6mKw"
   },
   "source": [
    "## Построение матрицы ошибок и исследование важности признаков"
   ]
  },
  {
   "cell_type": "markdown",
   "metadata": {
    "id": "P-zRY50F6mKw"
   },
   "source": [
    "### Построение матрицы ошибок"
   ]
  },
  {
   "cell_type": "markdown",
   "metadata": {
    "id": "opUq-jom6mKw"
   },
   "source": [
    "Посмотрим, насколько хорошо наилучшая модель предсказывает положительные и отрицательные значения."
   ]
  },
  {
   "cell_type": "code",
   "execution_count": 35,
   "metadata": {
    "colab": {
     "base_uri": "https://localhost:8080/",
     "height": 564
    },
    "id": "PF0XesDU6mKx",
    "outputId": "e8bd5e64-e830-48ef-b2fb-e23bed332aa4"
   },
   "outputs": [
    {
     "data": {
      "image/png": "[encoded data removed]",
      "text/plain": [
       "<Figure size 800x600 with 2 Axes>"
      ]
     },
     "metadata": {},
     "output_type": "display_data"
    }
   ],
   "source": [
    "cbc_predictions_test = cbc_best_search.predict(features_test)\n",
    "confusion = confusion_matrix(target_test, cbc_predictions_test, normalize='true')\n",
    "\n",
    "plt.figure(figsize=(8, 6))\n",
    "sns.heatmap(confusion, annot=True)\n",
    "plt.xlabel(\"Предсказанные классы\")\n",
    "plt.ylabel(\"Фактические классы\")\n",
    "plt.title(\"Матрица ошибок\")\n",
    "plt.show()"
   ]
  },
  {
   "cell_type": "markdown",
   "metadata": {
    "id": "CcZfYi_Q6mKx"
   },
   "source": [
    "Наилучшая модель Catboost отлично предсказывает отрицательные значения c с долей правильных ответов 0.98, когда клиент не ушел от оператора связи. Но положительные значения, когда клиент ушел, модель предсказывает не очень хорошо - с долей 0.55."
   ]
  },
  {
   "cell_type": "markdown",
   "metadata": {
    "id": "jfwCszEq6mKy"
   },
   "source": [
    "### Исследование важности признаков"
   ]
  },
  {
   "cell_type": "markdown",
   "metadata": {
    "id": "1KlnhC-R6mKy"
   },
   "source": [
    "Определим, какие из признаков вносят наибольший вклад в результат предсказания наилучшей модели CatBoost:"
   ]
  },
  {
   "cell_type": "code",
   "execution_count": 36,
   "metadata": {
    "colab": {
     "base_uri": "https://localhost:8080/",
     "height": 607
    },
    "id": "k1eSmdWs6mKy",
    "outputId": "89e34a81-7762-4121-f89b-5adfbe369a59"
   },
   "outputs": [
    {
     "data": {
      "image/png": "[encoded data removed]",
      "text/plain": [
       "<Figure size 1000x600 with 1 Axes>"
      ]
     },
     "metadata": {},
     "output_type": "display_data"
    }
   ],
   "source": [
    "feature_importance = cbc_best_search.best_estimator_['cbc'].feature_importances_\n",
    "feature_names = features_train.columns\n",
    "\n",
    "# создадим список индексов, отсортированный по значению feature_importance\n",
    "sorted_indices = sorted(range(len(feature_importance)), key=lambda i: feature_importance[i], reverse=True)\n",
    "\n",
    "#отсортируем feature_importance и feature_names\n",
    "sorted_feature_importance = [feature_importance[i] for i in sorted_indices]\n",
    "sorted_feature_names = [feature_names[i] for i in sorted_indices]\n",
    "\n",
    "# отобразим график важности признаков\n",
    "plt.figure(figsize=(10, 6))\n",
    "plt.bar(range(len(sorted_feature_importance)), sorted_feature_importance, tick_label=sorted_feature_names)\n",
    "plt.xlabel('Признаки')\n",
    "plt.ylabel('Важность признаков')\n",
    "plt.title('График важности признаков')\n",
    "plt.xticks(rotation=90)\n",
    "plt.tight_layout()\n",
    "plt.show()"
   ]
  },
  {
   "cell_type": "markdown",
   "metadata": {
    "id": "V0KARgnL6mKz"
   },
   "source": [
    "Наибольший вклад в предсказания наилучшей модели вносят признаки `ContractDuration`, `MonthlyCharges`, `TotalCharges`, `Type`, `PaymentMethod`."
   ]
  },
  {
   "cell_type": "markdown",
   "metadata": {
    "id": "FHelKcJ96mKz"
   },
   "source": [
    "<div style=\"border:solid green 2px; padding: 20px\">\n",
    "\n",
    "* Наилучшая модель Catboost отлично предсказывает отрицательные значения c с долей правильных ответов 0.98, когда клиент не ушел от оператора связи. Но положительные значения, когда клиент ушел, модель предсказывает не очень хорошо - с долей 0.55.\n",
    "* Наибольший вклад в предсказания наилучшей модели вносят признаки `ContractDuration`, `MonthlyCharges`, `TotalCharges`, `Type`, `PaymentMethod`.\n",
    "    \n",
    "</div>"
   ]
  },
  {
   "cell_type": "markdown",
   "metadata": {
    "id": "Nzh5kOxu7bSs"
   },
   "source": [
    "## Ход решения проекта"
   ]
  },
  {
   "cell_type": "markdown",
   "metadata": {
    "id": "7ahdjDDS7lWY"
   },
   "source": [
    "### Соответствие исходному плану"
   ]
  },
  {
   "cell_type": "markdown",
   "metadata": {
    "id": "lgNbW0tk8D-e"
   },
   "source": [
    "Вспомним исходный план и посмотри, какие пункты были выполнены, а какие нет:\n",
    "1. После выполненного обзора данных, объединим датасеты по `customerID`. Данных немного, поэтому объединять будем без потери данных. Так как количество записей в датасетах разное, появятся пропуски, далее нужно будет их обработать.\n",
    "2. Выполним предобработку этого датасета: исправим неудачные типы данных, выделим из данных новые более полезные признаки, удалим ненужные признаки, обработаем пропуски после объединения датасетов.\n",
    "3. Разделим данные на выборки, выполним кодирование и масштабирование данных. С pipeline я еще не работала, но в рамках этой работы попробую разобраться с ними и применить.\n",
    "4. Далее будем выполнять моделирование и искать наилучшие модели по метрике ROC-AUC. Хочу попровать следующие модели: линейная, случайного леса, LightGBM, CatBoost.\n",
    "5. Протестируем лучшую найденную модель и проверим ее на адекватность.\n",
    "6. Проведем исследование важности признаков лучшей модели.\n",
    "\n",
    "В итоге все пункты были выполнены.\n",
    "\n",
    "В качестве линейной модели мы использовали логистическую регрессию, так как она хорошо подходит для задач классификации.\n",
    "\n",
    "Оказалось, что некоторые модели градиентного бустинга, такие как LightGBM или Catboost, не требуют предварительного кодирования категориальных признаков. Для них нужно было преобразовать категориальные столбцы к типу category, и дальше эти модели сами используют встроенные алгоритмы кодирования."
   ]
  },
  {
   "cell_type": "markdown",
   "metadata": {
    "id": "7BQ0tKSvTycz"
   },
   "source": [
    "### Возникшие трудности"
   ]
  },
  {
   "cell_type": "markdown",
   "metadata": {
    "id": "m7D3xmtsT4a3"
   },
   "source": [
    "Вспомним, с какими трудностями мы столкнулись во время выполнения проекта:\n",
    "* не получалось достичь требуемой метрики ROC-AUC на тестовой выборке. Оказалось, что для вычиления ROC-AUC можно использовать предсказанные вероятности с помощью model.predict_proba, после этого метрика стала заметно лучше и стала удовлетворять требованиям.\n",
    "* не получалось модель LightGBM обучать на датасете без предварительного приведения типов категориальных признаков к category. Привели и получилось.\n",
    "* для построения графика важности признаков не получалось получить список признаков после применения кодирования в pipeline. В итоге оказалось, что наилучшую модель можно предварительно не кодировать, поэтому не пришлось решать эту проблему.\n",
    "* изначально целевым признаком сделала столбец со строковыми данными Yes, No, в итоге возникали ошибки при обучении моделей. В итоге изменила тип этого признака на числовой со значениями 0, 1. Проблема ушла.\n",
    "* после добавления pipeline не получалось поочередно применять кодирование и масштабирование к части признаков. В итоге разобралась, что для этого можно использовать ColumnTransformer."
   ]
  },
  {
   "cell_type": "markdown",
   "metadata": {
    "id": "8nShFUJrZXgV"
   },
   "source": [
    "### Ключевые шаги проекта"
   ]
  },
  {
   "cell_type": "markdown",
   "metadata": {
    "id": "0OY1ZPm6Zbd2"
   },
   "source": [
    "Выделим следующие ключевые шаги проекта:\n",
    "1. Обзор данных, составление списка их особеностей, которые нужно было устранить перед обучением моделей на них.\n",
    "2. Составление плана дальнейшей работы и валидация его у тимлида.\n",
    "3. Предобработка данных\n",
    "4. Разделение данных на выборки\n",
    "5. Обучение моделей\n",
    "6. Выбор наилучшей модели по метрике, тестирование этой модели, проверка ее на адеватность\n",
    "7. Построение матрицы ошибок и исследование важности признаков наилучшей модели\n",
    "8. Написание выводов по проекту."
   ]
  },
  {
   "cell_type": "markdown",
   "metadata": {
    "id": "ALzUBPrRah0L"
   },
   "source": [
    "## Общие выводы"
   ]
  },
  {
   "cell_type": "markdown",
   "metadata": {
    "id": "24zvf-P83bJy"
   },
   "source": [
    "<div style=\"border:solid green 2px; padding: 20px\">\n",
    "\n",
    "В проекте требовалось разработать прототип **модели, которая подскажет, с кем из абонентов оператора связи следует поработать над удержанием**, чтобы они не ушли от заказчика. Целевой признак - это факт ухода клиента, этот признак можно получить из признака EndDate датасета с договорами. **ROC-AUC модели по требованию задачи должен быть не менее 0.85.**\n",
    "\n",
    "Данные состоят из файлов, полученных из разных источников:\n",
    "* contract_new.csv — информация о договоре;\n",
    "* personal_new.csv — персональные данные клиента;\n",
    "* internet_new.csv — информация об интернет-услугах;\n",
    "* phone_new.csv — информация об услугах телефонии.\n",
    "\n",
    "----------------------------------------------------------------------------\n",
    "\n",
    "Выводы обзора данных:\n",
    "* в каждом из датасетов значения кодов клиента `customerID` уникальны;\n",
    "* во всех датасетах пропусков, выбросов, явных дубликатов нет, то есть данные уже пришли обработанные;\n",
    "* далее для удобства моделирования датасеты нужно будет объединить по `customerID`;\n",
    "* признак `TotalCharges` по значениям в нем является числовым, нужно будет изменить его тип;\n",
    "* типы призаков `BeginDate` и `EndDate` должны бы быть типа дата, но далее лучше создадим на основе этих двух признаков два новых признака - факт ухода клиента от опреатора связи и количество дней, которые он являлся клиентов оператора;\n",
    "* тип признака `SeniorCitizen` числовой, но по сути он все равно является категориальным. Поэтому чтобы модели более корректно его обрабатывали, далее преобразуем его к строковому типу со значениям Yes, No.\n",
    "* у категориальных признаков небольшое число категорий.\n",
    "\n",
    "----------------------------------------------------------------------------\n",
    "\n",
    "Результаты предобработки данных:\n",
    "* все датасеты объединены в один по `customerID` без потери данных;\n",
    "* все столбцы с пропусками были категориальными, пропуски в них заполнили новой категорией 'undefined';\n",
    "* столбец `gender` переименовали на `Gender` с большой буквы, как в остальных столбцах;\n",
    "* признак `TotalCharges` по значениям в нем является числовым, преобразоавали его к float;\n",
    "* тип признака `SeniorCitizen` числовой, но по сути он все равно является категориальным. Поэтому чтобы модели более корректно его обрабатывали, далее преобразовали его к строковому типу со значениям Yes, No;\n",
    "* на основе признаков `BeginDate` и `EndDate` создали два новых признака - факт ухода клиента от опреатора связи и количество дней, которые он являлся клиентов оператора;\n",
    "* удалили неинформативные признаки `BeginDate`, `EndDate`, `customerID`.\n",
    "\n",
    "----------------------------------------------------------------------------\n",
    "\n",
    "* Попробовали обучить следующие модели для решения этой задачи: логистичекая, случайного леса, LightGBM, CatBoost.\n",
    "* **Наилучшей оказалась модель Catboost, на тренировочной выборке у нее ROC-AUC = 0.89, далее идет модель LightGBM с ROC-AUC = 0.86, далее модель случайного леса с ROC-AUC = 0.83, и далее логистическая модель с ROC-AUC = 0.76.**\n",
    "* **Для решения задачи выбрали модель Catboost со следующими гиперпараметрами:\n",
    "learning_rate = 0.1, max_dept = 5.**\n",
    "\n",
    "----------------------------------------------------------------------------\n",
    "\n",
    "* При оценке **качества модели на тестовой выборке ROC-AUC лучшей модели 0.90.** Таким образом требуемая в задаче граница метрики в 0.85 преодолена.\n",
    "* Результаты ROC-AUC на тестовой выборке наилучшей модели 0.90, что значительно превосходит результаты фиктивного классификатора 0.49, поэтому модель адекватна.\n",
    "\n",
    "----------------------------------------------------------------------------\n",
    "\n",
    "* Наилучшая модель Catboost отлично предсказывает отрицательные значения c с долей правильных ответов 0.98, когда клиент не ушел от оператора связи. Но положительные значения, когда клиент ушел, модель предсказывает не очень хорошо - с долей 0.55.\n",
    "\n",
    "---------------------------------------------------------------------------\n",
    "\n",
    "Список признаков, используемых для обучения лучшей модели:\n",
    "\n",
    " * `Type` - тип оплаты: раз в год-два или ежемесячно,\n",
    " * `PaperlessBilling` - электронный расчётный лист,\n",
    " * `PaymentMethod` - тип платежа,\n",
    " * `MonthlyCharges` - расходы за месяц,\n",
    " * `TotalCharges` - общие расходы абонента,\n",
    " * `Gender` - пол абонента,\n",
    " * `SeniorCitizen` - является ли абонент пенсионером,\n",
    " * `Partner` - есть ли у абонента супруг или супруга,\n",
    " * `Dependents` - есть ли у абонента дети,\n",
    " * `InternetService` - тип подключения интернета,\n",
    " * `OnlineSecurity` - блокировка опасных сайтов,\n",
    " * `OnlineBackup` - облачное хранилище файлов для резервного копирования данных,\n",
    " * `DeviceProtection` - антивирус,\n",
    " * `TechSupport` - выделенная линия технической поддержки,\n",
    " * `StreamingTV` - стриминговое телевидение,\n",
    " * `StreamingMovies` - каталог фильмов,\n",
    " * `MultipleLines` - подключение телефона к нескольким линиям одновременно,\n",
    " * `CustomerLeft` - факт ухода абонента от оператора связи,\n",
    " * `ContractDuration` - количество дней, которые он являлся абонентом оператора.\n",
    "\n",
    "**Наибольший вклад в предсказания наилучшей модели вносят признаки `ContractDuration`, `MonthlyCharges`, `TotalCharges`, `Type`, `PaymentMethod`.**\n",
    "\n",
    "    \n",
    "</div>"
   ]
  },
  {
   "cell_type": "code",
   "execution_count": null,
   "metadata": {},
   "outputs": [],
   "source": []
  }
 ],
 "metadata": {
  "ExecuteTimeLog": [
   {
    "duration": 66,
    "start_time": "2023-09-29T08:09:21.154Z"
   },
   {
    "duration": 1632,
    "start_time": "2023-09-29T08:09:21.223Z"
   },
   {
    "duration": 426,
    "start_time": "2023-09-29T08:09:22.857Z"
   },
   {
    "duration": 6,
    "start_time": "2023-09-29T08:09:23.285Z"
   },
   {
    "duration": 344,
    "start_time": "2023-09-29T08:09:23.293Z"
   },
   {
    "duration": 301,
    "start_time": "2023-09-29T08:09:23.639Z"
   },
   {
    "duration": 93,
    "start_time": "2023-09-29T08:09:23.942Z"
   },
   {
    "duration": 40,
    "start_time": "2023-09-29T08:09:24.037Z"
   },
   {
    "duration": 101,
    "start_time": "2023-09-29T08:52:10.942Z"
   },
   {
    "duration": 1423,
    "start_time": "2023-09-29T08:52:11.045Z"
   },
   {
    "duration": 130,
    "start_time": "2023-09-29T08:52:12.472Z"
   },
   {
    "duration": 7,
    "start_time": "2023-09-29T08:52:12.605Z"
   },
   {
    "duration": 425,
    "start_time": "2023-09-29T08:52:12.615Z"
   },
   {
    "duration": 345,
    "start_time": "2023-09-29T08:52:13.042Z"
   },
   {
    "duration": 99,
    "start_time": "2023-09-29T08:52:13.389Z"
   },
   {
    "duration": 69,
    "start_time": "2023-09-29T08:52:13.490Z"
   },
   {
    "duration": 75,
    "start_time": "2023-09-29T08:52:13.561Z"
   },
   {
    "duration": 38,
    "start_time": "2023-09-29T09:10:53.824Z"
   },
   {
    "duration": 6,
    "start_time": "2023-09-29T09:30:39.776Z"
   },
   {
    "duration": 135,
    "start_time": "2023-09-29T09:53:38.485Z"
   },
   {
    "duration": 20,
    "start_time": "2023-09-29T09:54:01.301Z"
   },
   {
    "duration": 6,
    "start_time": "2023-09-29T09:54:21.186Z"
   },
   {
    "duration": 7,
    "start_time": "2023-09-29T09:54:31.868Z"
   },
   {
    "duration": 9,
    "start_time": "2023-09-29T09:54:36.223Z"
   },
   {
    "duration": 22,
    "start_time": "2023-09-29T09:54:54.257Z"
   },
   {
    "duration": 9,
    "start_time": "2023-09-29T10:00:59.994Z"
   },
   {
    "duration": 5,
    "start_time": "2023-09-29T10:01:07.193Z"
   },
   {
    "duration": 6,
    "start_time": "2023-09-29T10:06:01.925Z"
   },
   {
    "duration": 750,
    "start_time": "2023-09-29T10:06:07.027Z"
   },
   {
    "duration": 9,
    "start_time": "2023-09-29T10:06:22.107Z"
   },
   {
    "duration": 6,
    "start_time": "2023-09-29T10:06:57.623Z"
   },
   {
    "duration": 5,
    "start_time": "2023-09-29T10:07:14.731Z"
   },
   {
    "duration": 18,
    "start_time": "2023-09-29T10:07:19.546Z"
   },
   {
    "duration": 6,
    "start_time": "2023-09-29T10:09:04.028Z"
   },
   {
    "duration": 16,
    "start_time": "2023-09-29T10:09:08.425Z"
   },
   {
    "duration": 12,
    "start_time": "2023-09-29T10:12:53.234Z"
   },
   {
    "duration": 12,
    "start_time": "2023-09-30T10:00:07.326Z"
   },
   {
    "duration": 28,
    "start_time": "2023-09-30T10:00:32.733Z"
   },
   {
    "duration": 39,
    "start_time": "2023-09-30T10:00:49.186Z"
   },
   {
    "duration": 45,
    "start_time": "2023-09-30T10:01:03.631Z"
   },
   {
    "duration": 3,
    "start_time": "2023-09-30T10:36:04.495Z"
   },
   {
    "duration": 33,
    "start_time": "2023-09-30T10:36:35.166Z"
   },
   {
    "duration": 28,
    "start_time": "2023-09-30T10:37:04.404Z"
   },
   {
    "duration": 31,
    "start_time": "2023-09-30T10:37:31.615Z"
   },
   {
    "duration": 3,
    "start_time": "2023-09-30T10:41:56.408Z"
   },
   {
    "duration": 33,
    "start_time": "2023-09-30T10:41:58.832Z"
   },
   {
    "duration": 3,
    "start_time": "2023-09-30T10:45:30.211Z"
   },
   {
    "duration": 26,
    "start_time": "2023-09-30T10:46:48.450Z"
   },
   {
    "duration": 3,
    "start_time": "2023-09-30T11:01:57.001Z"
   },
   {
    "duration": 3,
    "start_time": "2023-09-30T11:03:55.648Z"
   },
   {
    "duration": 23,
    "start_time": "2023-09-30T11:03:58.520Z"
   },
   {
    "duration": 3,
    "start_time": "2023-09-30T11:04:12.901Z"
   },
   {
    "duration": 204,
    "start_time": "2023-09-30T11:04:15.749Z"
   },
   {
    "duration": 4,
    "start_time": "2023-09-30T11:06:26.289Z"
   },
   {
    "duration": 198,
    "start_time": "2023-09-30T11:06:34.378Z"
   },
   {
    "duration": 4,
    "start_time": "2023-09-30T11:07:43.053Z"
   },
   {
    "duration": 197,
    "start_time": "2023-09-30T11:07:45.640Z"
   },
   {
    "duration": 5,
    "start_time": "2023-09-30T11:21:53.959Z"
   },
   {
    "duration": 7,
    "start_time": "2023-09-30T11:23:23.187Z"
   },
   {
    "duration": 65,
    "start_time": "2023-09-30T11:29:37.140Z"
   },
   {
    "duration": 1277,
    "start_time": "2023-09-30T11:29:37.207Z"
   },
   {
    "duration": 107,
    "start_time": "2023-09-30T11:29:38.486Z"
   },
   {
    "duration": 7,
    "start_time": "2023-09-30T11:29:38.595Z"
   },
   {
    "duration": 305,
    "start_time": "2023-09-30T11:29:38.604Z"
   },
   {
    "duration": 276,
    "start_time": "2023-09-30T11:29:38.911Z"
   },
   {
    "duration": 82,
    "start_time": "2023-09-30T11:29:39.189Z"
   },
   {
    "duration": 329,
    "start_time": "2023-09-30T11:29:39.273Z"
   },
   {
    "duration": 45,
    "start_time": "2023-09-30T11:29:39.603Z"
   },
   {
    "duration": 34,
    "start_time": "2023-09-30T11:29:39.652Z"
   },
   {
    "duration": 23,
    "start_time": "2023-09-30T11:29:39.688Z"
   },
   {
    "duration": 73,
    "start_time": "2023-09-30T11:29:39.712Z"
   },
   {
    "duration": 190,
    "start_time": "2023-09-30T11:29:39.787Z"
   },
   {
    "duration": 19,
    "start_time": "2023-09-30T11:29:39.978Z"
   },
   {
    "duration": 48,
    "start_time": "2023-09-30T11:29:39.999Z"
   },
   {
    "duration": 17,
    "start_time": "2023-09-30T11:29:40.049Z"
   },
   {
    "duration": 215,
    "start_time": "2023-09-30T11:29:40.068Z"
   },
   {
    "duration": 113,
    "start_time": "2023-09-30T11:29:40.284Z"
   },
   {
    "duration": 71,
    "start_time": "2023-09-30T11:30:08.495Z"
   },
   {
    "duration": 1189,
    "start_time": "2023-09-30T11:30:08.569Z"
   },
   {
    "duration": 107,
    "start_time": "2023-09-30T11:30:09.759Z"
   },
   {
    "duration": 6,
    "start_time": "2023-09-30T11:30:09.867Z"
   },
   {
    "duration": 298,
    "start_time": "2023-09-30T11:30:09.875Z"
   },
   {
    "duration": 278,
    "start_time": "2023-09-30T11:30:10.175Z"
   },
   {
    "duration": 97,
    "start_time": "2023-09-30T11:30:10.455Z"
   },
   {
    "duration": 66,
    "start_time": "2023-09-30T11:30:10.554Z"
   },
   {
    "duration": 41,
    "start_time": "2023-09-30T11:30:10.622Z"
   },
   {
    "duration": 56,
    "start_time": "2023-09-30T11:30:10.665Z"
   },
   {
    "duration": 6,
    "start_time": "2023-09-30T11:30:10.723Z"
   },
   {
    "duration": 28,
    "start_time": "2023-09-30T11:30:10.731Z"
   },
   {
    "duration": 18,
    "start_time": "2023-09-30T11:30:10.762Z"
   },
   {
    "duration": 23,
    "start_time": "2023-09-30T11:30:10.784Z"
   },
   {
    "duration": 43,
    "start_time": "2023-09-30T11:30:10.809Z"
   },
   {
    "duration": 36,
    "start_time": "2023-09-30T11:30:10.854Z"
   },
   {
    "duration": 251,
    "start_time": "2023-09-30T11:30:10.891Z"
   },
   {
    "duration": 8,
    "start_time": "2023-09-30T11:30:11.144Z"
   },
   {
    "duration": 3,
    "start_time": "2023-09-30T12:14:59.085Z"
   },
   {
    "duration": 115,
    "start_time": "2023-09-30T12:15:03.880Z"
   },
   {
    "duration": 375,
    "start_time": "2023-09-30T12:16:38.463Z"
   },
   {
    "duration": 7,
    "start_time": "2023-09-30T12:16:48.970Z"
   },
   {
    "duration": 9,
    "start_time": "2023-09-30T12:17:54.176Z"
   },
   {
    "duration": 6,
    "start_time": "2023-09-30T12:28:08.416Z"
   },
   {
    "duration": 3,
    "start_time": "2023-09-30T13:00:29.826Z"
   },
   {
    "duration": 28,
    "start_time": "2023-09-30T13:02:34.199Z"
   },
   {
    "duration": 13,
    "start_time": "2023-09-30T13:02:54.054Z"
   },
   {
    "duration": 17,
    "start_time": "2023-09-30T13:03:14.098Z"
   },
   {
    "duration": 13,
    "start_time": "2023-09-30T13:03:41.967Z"
   },
   {
    "duration": 13,
    "start_time": "2023-09-30T13:15:59.848Z"
   },
   {
    "duration": 5,
    "start_time": "2023-09-30T13:16:09.733Z"
   },
   {
    "duration": 13,
    "start_time": "2023-09-30T13:16:15.751Z"
   },
   {
    "duration": 6,
    "start_time": "2023-09-30T13:16:38.599Z"
   },
   {
    "duration": 83,
    "start_time": "2023-09-30T13:16:42.772Z"
   },
   {
    "duration": 82,
    "start_time": "2023-09-30T13:17:11.718Z"
   },
   {
    "duration": 5,
    "start_time": "2023-09-30T13:17:15.119Z"
   },
   {
    "duration": 121,
    "start_time": "2023-09-30T13:17:17.509Z"
   },
   {
    "duration": 5,
    "start_time": "2023-09-30T13:17:50.319Z"
   },
   {
    "duration": 132,
    "start_time": "2023-09-30T13:17:53.216Z"
   },
   {
    "duration": 4,
    "start_time": "2023-09-30T13:25:19.301Z"
   },
   {
    "duration": 214,
    "start_time": "2023-09-30T13:25:22.368Z"
   },
   {
    "duration": 4,
    "start_time": "2023-09-30T13:25:41.743Z"
   },
   {
    "duration": 124,
    "start_time": "2023-09-30T13:25:43.785Z"
   },
   {
    "duration": 4,
    "start_time": "2023-09-30T13:26:26.421Z"
   },
   {
    "duration": 144,
    "start_time": "2023-09-30T13:26:28.958Z"
   },
   {
    "duration": 13,
    "start_time": "2023-09-30T13:30:27.440Z"
   },
   {
    "duration": 7,
    "start_time": "2023-09-30T13:30:52.328Z"
   },
   {
    "duration": 8,
    "start_time": "2023-09-30T13:30:58.408Z"
   },
   {
    "duration": 100161,
    "start_time": "2023-09-30T13:31:01.955Z"
   },
   {
    "duration": 6,
    "start_time": "2023-09-30T13:35:36.455Z"
   },
   {
    "duration": 155,
    "start_time": "2023-09-30T13:35:39.558Z"
   },
   {
    "duration": 7,
    "start_time": "2023-09-30T13:37:52.611Z"
   },
   {
    "duration": 29944,
    "start_time": "2023-09-30T13:37:55.473Z"
   },
   {
    "duration": 5,
    "start_time": "2023-09-30T13:40:20.920Z"
   },
   {
    "duration": 31708,
    "start_time": "2023-09-30T13:40:23.009Z"
   },
   {
    "duration": 5,
    "start_time": "2023-09-30T13:51:49.224Z"
   },
   {
    "duration": 4,
    "start_time": "2023-09-30T13:52:06.474Z"
   },
   {
    "duration": 15687,
    "start_time": "2023-09-30T13:52:09.210Z"
   },
   {
    "duration": 5,
    "start_time": "2023-09-30T13:52:44.980Z"
   },
   {
    "duration": 26511,
    "start_time": "2023-09-30T13:52:47.051Z"
   },
   {
    "duration": 11,
    "start_time": "2023-09-30T14:00:05.571Z"
   },
   {
    "duration": 5,
    "start_time": "2023-09-30T14:00:36.159Z"
   },
   {
    "duration": 4,
    "start_time": "2023-09-30T14:00:45.414Z"
   },
   {
    "duration": 160,
    "start_time": "2023-09-30T14:00:48.517Z"
   },
   {
    "duration": 4,
    "start_time": "2023-09-30T14:04:21.518Z"
   },
   {
    "duration": 4,
    "start_time": "2023-09-30T14:11:18.130Z"
   },
   {
    "duration": 332844,
    "start_time": "2023-09-30T14:11:20.673Z"
   },
   {
    "duration": 4,
    "start_time": "2023-09-30T14:31:39.583Z"
   },
   {
    "duration": 4,
    "start_time": "2023-09-30T14:31:54.139Z"
   },
   {
    "duration": 167,
    "start_time": "2023-09-30T14:31:56.467Z"
   },
   {
    "duration": 5,
    "start_time": "2023-09-30T14:32:05.062Z"
   },
   {
    "duration": 146555,
    "start_time": "2023-09-30T14:32:06.669Z"
   },
   {
    "duration": 4,
    "start_time": "2023-09-30T14:35:52.207Z"
   },
   {
    "duration": 158309,
    "start_time": "2023-09-30T14:35:54.310Z"
   },
   {
    "duration": 4,
    "start_time": "2023-09-30T17:59:38.237Z"
   },
   {
    "duration": 56,
    "start_time": "2023-09-30T18:15:26.622Z"
   },
   {
    "duration": 1932,
    "start_time": "2023-09-30T18:15:26.680Z"
   },
   {
    "duration": 4,
    "start_time": "2023-09-30T18:15:28.614Z"
   },
   {
    "duration": 110,
    "start_time": "2023-09-30T18:15:28.623Z"
   },
   {
    "duration": 5,
    "start_time": "2023-09-30T18:15:28.736Z"
   },
   {
    "duration": 343,
    "start_time": "2023-09-30T18:15:28.742Z"
   },
   {
    "duration": 300,
    "start_time": "2023-09-30T18:15:29.086Z"
   },
   {
    "duration": 90,
    "start_time": "2023-09-30T18:15:29.388Z"
   },
   {
    "duration": 75,
    "start_time": "2023-09-30T18:15:29.480Z"
   },
   {
    "duration": 136,
    "start_time": "2023-09-30T18:15:29.557Z"
   },
   {
    "duration": 43,
    "start_time": "2023-09-30T18:15:29.695Z"
   },
   {
    "duration": 4,
    "start_time": "2023-09-30T18:15:29.740Z"
   },
   {
    "duration": 11,
    "start_time": "2023-09-30T18:15:29.746Z"
   },
   {
    "duration": 11,
    "start_time": "2023-09-30T18:15:29.760Z"
   },
   {
    "duration": 3,
    "start_time": "2023-09-30T18:15:29.773Z"
   },
   {
    "duration": 39,
    "start_time": "2023-09-30T18:15:29.809Z"
   },
   {
    "duration": 5,
    "start_time": "2023-09-30T18:15:29.850Z"
   },
   {
    "duration": 248,
    "start_time": "2023-09-30T18:15:29.857Z"
   },
   {
    "duration": 17,
    "start_time": "2023-09-30T18:15:30.111Z"
   },
   {
    "duration": 23,
    "start_time": "2023-09-30T18:15:30.130Z"
   },
   {
    "duration": 4,
    "start_time": "2023-09-30T18:15:30.155Z"
   },
   {
    "duration": 13,
    "start_time": "2023-09-30T18:15:30.160Z"
   },
   {
    "duration": 21,
    "start_time": "2023-09-30T18:15:30.175Z"
   },
   {
    "duration": 28425,
    "start_time": "2023-09-30T18:16:12.821Z"
   },
   {
    "duration": 4,
    "start_time": "2023-09-30T18:16:41.247Z"
   },
   {
    "duration": 110058,
    "start_time": "2023-09-30T18:16:41.253Z"
   },
   {
    "duration": 16,
    "start_time": "2023-09-30T18:18:31.313Z"
   },
   {
    "duration": 3594,
    "start_time": "2023-09-30T18:18:31.331Z"
   },
   {
    "duration": 4,
    "start_time": "2023-09-30T18:18:34.932Z"
   },
   {
    "duration": 4,
    "start_time": "2023-09-30T18:21:57.820Z"
   },
   {
    "duration": 4,
    "start_time": "2023-09-30T18:22:15.111Z"
   },
   {
    "duration": 893,
    "start_time": "2023-09-30T18:22:36.602Z"
   },
   {
    "duration": 4,
    "start_time": "2023-09-30T18:22:59.517Z"
   },
   {
    "duration": 4,
    "start_time": "2023-09-30T18:23:12.029Z"
   },
   {
    "duration": 99388,
    "start_time": "2023-09-30T18:23:17.653Z"
   },
   {
    "duration": 5,
    "start_time": "2023-09-30T18:25:30.046Z"
   },
   {
    "duration": 203041,
    "start_time": "2023-09-30T18:25:32.816Z"
   },
   {
    "duration": 4,
    "start_time": "2023-09-30T18:30:14.022Z"
   },
   {
    "duration": 3,
    "start_time": "2023-09-30T18:30:22.170Z"
   },
   {
    "duration": 50,
    "start_time": "2023-09-30T18:30:24.828Z"
   },
   {
    "duration": 52,
    "start_time": "2023-09-30T18:37:06.383Z"
   },
   {
    "duration": 1583,
    "start_time": "2023-09-30T18:37:06.438Z"
   },
   {
    "duration": 3,
    "start_time": "2023-09-30T18:37:08.022Z"
   },
   {
    "duration": 134,
    "start_time": "2023-09-30T18:37:08.027Z"
   },
   {
    "duration": 5,
    "start_time": "2023-09-30T18:37:08.163Z"
   },
   {
    "duration": 320,
    "start_time": "2023-09-30T18:37:08.169Z"
   },
   {
    "duration": 301,
    "start_time": "2023-09-30T18:37:08.491Z"
   },
   {
    "duration": 95,
    "start_time": "2023-09-30T18:37:08.794Z"
   },
   {
    "duration": 52,
    "start_time": "2023-09-30T18:37:08.890Z"
   },
   {
    "duration": 140,
    "start_time": "2023-09-30T18:37:08.944Z"
   },
   {
    "duration": 48,
    "start_time": "2023-09-30T18:37:09.086Z"
   },
   {
    "duration": 26,
    "start_time": "2023-09-30T18:37:09.136Z"
   },
   {
    "duration": 20,
    "start_time": "2023-09-30T18:37:09.164Z"
   },
   {
    "duration": 12,
    "start_time": "2023-09-30T18:37:09.187Z"
   },
   {
    "duration": 20,
    "start_time": "2023-09-30T18:37:09.201Z"
   },
   {
    "duration": 39,
    "start_time": "2023-09-30T18:37:09.223Z"
   },
   {
    "duration": 5,
    "start_time": "2023-09-30T18:37:09.264Z"
   },
   {
    "duration": 252,
    "start_time": "2023-09-30T18:37:09.271Z"
   },
   {
    "duration": 7,
    "start_time": "2023-09-30T18:37:09.525Z"
   },
   {
    "duration": 37,
    "start_time": "2023-09-30T18:37:09.534Z"
   },
   {
    "duration": 9,
    "start_time": "2023-09-30T18:37:09.572Z"
   },
   {
    "duration": 18,
    "start_time": "2023-09-30T18:37:09.583Z"
   },
   {
    "duration": 19,
    "start_time": "2023-09-30T18:37:09.603Z"
   },
   {
    "duration": 63306,
    "start_time": "2023-09-30T18:37:09.624Z"
   },
   {
    "duration": 85,
    "start_time": "2023-09-30T18:38:12.932Z"
   },
   {
    "duration": 28346,
    "start_time": "2023-09-30T18:38:13.019Z"
   },
   {
    "duration": 4,
    "start_time": "2023-09-30T18:38:41.367Z"
   },
   {
    "duration": 57,
    "start_time": "2023-09-30T19:21:10.648Z"
   },
   {
    "duration": 1654,
    "start_time": "2023-09-30T19:21:10.707Z"
   },
   {
    "duration": 3,
    "start_time": "2023-09-30T19:21:12.363Z"
   },
   {
    "duration": 151,
    "start_time": "2023-09-30T19:21:12.367Z"
   },
   {
    "duration": 6,
    "start_time": "2023-09-30T19:21:12.521Z"
   },
   {
    "duration": 365,
    "start_time": "2023-09-30T19:21:12.529Z"
   },
   {
    "duration": 288,
    "start_time": "2023-09-30T19:21:12.896Z"
   },
   {
    "duration": 83,
    "start_time": "2023-09-30T19:21:13.186Z"
   },
   {
    "duration": 66,
    "start_time": "2023-09-30T19:21:13.271Z"
   },
   {
    "duration": 139,
    "start_time": "2023-09-30T19:21:13.341Z"
   },
   {
    "duration": 39,
    "start_time": "2023-09-30T19:21:13.481Z"
   },
   {
    "duration": 6,
    "start_time": "2023-09-30T19:21:13.521Z"
   },
   {
    "duration": 13,
    "start_time": "2023-09-30T19:21:13.528Z"
   },
   {
    "duration": 10,
    "start_time": "2023-09-30T19:21:13.542Z"
   },
   {
    "duration": 3,
    "start_time": "2023-09-30T19:21:13.554Z"
   },
   {
    "duration": 67,
    "start_time": "2023-09-30T19:21:13.559Z"
   },
   {
    "duration": 4,
    "start_time": "2023-09-30T19:21:13.629Z"
   },
   {
    "duration": 218,
    "start_time": "2023-09-30T19:21:13.635Z"
   },
   {
    "duration": 8,
    "start_time": "2023-09-30T19:21:13.856Z"
   },
   {
    "duration": 10,
    "start_time": "2023-09-30T19:21:13.866Z"
   },
   {
    "duration": 32,
    "start_time": "2023-09-30T19:21:13.877Z"
   },
   {
    "duration": 18,
    "start_time": "2023-09-30T19:21:13.911Z"
   },
   {
    "duration": 13,
    "start_time": "2023-09-30T19:21:13.931Z"
   },
   {
    "duration": 32864,
    "start_time": "2023-09-30T19:21:13.946Z"
   },
   {
    "duration": 9,
    "start_time": "2023-09-30T19:21:46.812Z"
   },
   {
    "duration": 26196,
    "start_time": "2023-09-30T19:21:46.910Z"
   },
   {
    "duration": 4,
    "start_time": "2023-09-30T19:22:13.109Z"
   },
   {
    "duration": 50,
    "start_time": "2023-09-30T19:28:56.023Z"
   },
   {
    "duration": 1610,
    "start_time": "2023-09-30T19:28:56.075Z"
   },
   {
    "duration": 3,
    "start_time": "2023-09-30T19:28:57.687Z"
   },
   {
    "duration": 118,
    "start_time": "2023-09-30T19:28:57.693Z"
   },
   {
    "duration": 5,
    "start_time": "2023-09-30T19:28:57.813Z"
   },
   {
    "duration": 329,
    "start_time": "2023-09-30T19:28:57.819Z"
   },
   {
    "duration": 298,
    "start_time": "2023-09-30T19:28:58.150Z"
   },
   {
    "duration": 97,
    "start_time": "2023-09-30T19:28:58.450Z"
   },
   {
    "duration": 67,
    "start_time": "2023-09-30T19:28:58.549Z"
   },
   {
    "duration": 132,
    "start_time": "2023-09-30T19:28:58.620Z"
   },
   {
    "duration": 44,
    "start_time": "2023-09-30T19:28:58.754Z"
   },
   {
    "duration": 49,
    "start_time": "2023-09-30T19:28:58.800Z"
   },
   {
    "duration": 37,
    "start_time": "2023-09-30T19:28:58.851Z"
   },
   {
    "duration": 76,
    "start_time": "2023-09-30T19:28:58.890Z"
   },
   {
    "duration": 54,
    "start_time": "2023-09-30T19:28:58.967Z"
   },
   {
    "duration": 118,
    "start_time": "2023-09-30T19:28:59.023Z"
   },
   {
    "duration": 46,
    "start_time": "2023-09-30T19:28:59.144Z"
   },
   {
    "duration": 273,
    "start_time": "2023-09-30T19:28:59.192Z"
   },
   {
    "duration": 8,
    "start_time": "2023-09-30T19:28:59.467Z"
   },
   {
    "duration": 73,
    "start_time": "2023-09-30T19:28:59.477Z"
   },
   {
    "duration": 18,
    "start_time": "2023-09-30T19:28:59.552Z"
   },
   {
    "duration": 51,
    "start_time": "2023-09-30T19:28:59.573Z"
   },
   {
    "duration": 30,
    "start_time": "2023-09-30T19:28:59.626Z"
   },
   {
    "duration": 30656,
    "start_time": "2023-09-30T19:28:59.658Z"
   },
   {
    "duration": 94,
    "start_time": "2023-09-30T19:29:30.316Z"
   },
   {
    "duration": 27377,
    "start_time": "2023-09-30T19:29:30.412Z"
   },
   {
    "duration": 5,
    "start_time": "2023-09-30T19:29:57.791Z"
   },
   {
    "duration": 54,
    "start_time": "2023-09-30T19:55:07.335Z"
   },
   {
    "duration": 1611,
    "start_time": "2023-09-30T19:55:07.391Z"
   },
   {
    "duration": 3,
    "start_time": "2023-09-30T19:55:09.004Z"
   },
   {
    "duration": 118,
    "start_time": "2023-09-30T19:55:09.009Z"
   },
   {
    "duration": 6,
    "start_time": "2023-09-30T19:55:09.129Z"
   },
   {
    "duration": 329,
    "start_time": "2023-09-30T19:55:09.137Z"
   },
   {
    "duration": 308,
    "start_time": "2023-09-30T19:55:09.467Z"
   },
   {
    "duration": 95,
    "start_time": "2023-09-30T19:55:09.777Z"
   },
   {
    "duration": 70,
    "start_time": "2023-09-30T19:55:09.874Z"
   },
   {
    "duration": 151,
    "start_time": "2023-09-30T19:55:09.945Z"
   },
   {
    "duration": 54,
    "start_time": "2023-09-30T19:55:10.098Z"
   },
   {
    "duration": 7,
    "start_time": "2023-09-30T19:55:10.154Z"
   },
   {
    "duration": 32,
    "start_time": "2023-09-30T19:55:10.162Z"
   },
   {
    "duration": 23,
    "start_time": "2023-09-30T19:55:10.198Z"
   },
   {
    "duration": 11,
    "start_time": "2023-09-30T19:55:10.228Z"
   },
   {
    "duration": 38,
    "start_time": "2023-09-30T19:55:10.241Z"
   },
   {
    "duration": 5,
    "start_time": "2023-09-30T19:55:10.281Z"
   },
   {
    "duration": 244,
    "start_time": "2023-09-30T19:55:10.288Z"
   },
   {
    "duration": 11,
    "start_time": "2023-09-30T19:55:10.534Z"
   },
   {
    "duration": 13,
    "start_time": "2023-09-30T19:55:10.548Z"
   },
   {
    "duration": 7,
    "start_time": "2023-09-30T19:55:10.563Z"
   },
   {
    "duration": 11,
    "start_time": "2023-09-30T19:55:10.572Z"
   },
   {
    "duration": 39,
    "start_time": "2023-09-30T19:55:10.585Z"
   },
   {
    "duration": 60200,
    "start_time": "2023-09-30T19:55:10.629Z"
   },
   {
    "duration": 81,
    "start_time": "2023-09-30T19:56:10.832Z"
   },
   {
    "duration": 24629,
    "start_time": "2023-09-30T19:56:10.915Z"
   },
   {
    "duration": 5,
    "start_time": "2023-09-30T19:56:35.545Z"
   },
   {
    "duration": 78,
    "start_time": "2023-10-01T06:48:38.906Z"
   },
   {
    "duration": 1840,
    "start_time": "2023-10-01T06:48:38.986Z"
   },
   {
    "duration": 3,
    "start_time": "2023-10-01T06:48:40.828Z"
   },
   {
    "duration": 422,
    "start_time": "2023-10-01T06:48:40.832Z"
   },
   {
    "duration": 5,
    "start_time": "2023-10-01T06:48:41.256Z"
   },
   {
    "duration": 327,
    "start_time": "2023-10-01T06:48:41.263Z"
   },
   {
    "duration": 283,
    "start_time": "2023-10-01T06:48:41.592Z"
   },
   {
    "duration": 91,
    "start_time": "2023-10-01T06:48:41.877Z"
   },
   {
    "duration": 67,
    "start_time": "2023-10-01T06:48:41.970Z"
   },
   {
    "duration": 116,
    "start_time": "2023-10-01T06:48:42.039Z"
   },
   {
    "duration": 29,
    "start_time": "2023-10-01T06:48:42.157Z"
   },
   {
    "duration": 33,
    "start_time": "2023-10-01T06:48:42.187Z"
   },
   {
    "duration": 15,
    "start_time": "2023-10-01T06:48:42.222Z"
   },
   {
    "duration": 23,
    "start_time": "2023-10-01T06:48:42.240Z"
   },
   {
    "duration": 24,
    "start_time": "2023-10-01T06:48:42.264Z"
   },
   {
    "duration": 44,
    "start_time": "2023-10-01T06:48:42.290Z"
   },
   {
    "duration": 25,
    "start_time": "2023-10-01T06:48:42.336Z"
   },
   {
    "duration": 305,
    "start_time": "2023-10-01T06:48:42.363Z"
   },
   {
    "duration": 10,
    "start_time": "2023-10-01T06:48:42.670Z"
   },
   {
    "duration": 34,
    "start_time": "2023-10-01T06:48:42.682Z"
   },
   {
    "duration": 5,
    "start_time": "2023-10-01T06:48:42.718Z"
   },
   {
    "duration": 10,
    "start_time": "2023-10-01T06:48:42.726Z"
   },
   {
    "duration": 7,
    "start_time": "2023-10-01T06:48:42.740Z"
   },
   {
    "duration": 53384,
    "start_time": "2023-10-01T06:48:42.749Z"
   },
   {
    "duration": 88,
    "start_time": "2023-10-01T06:49:36.135Z"
   },
   {
    "duration": 25787,
    "start_time": "2023-10-01T06:49:36.314Z"
   },
   {
    "duration": 8,
    "start_time": "2023-10-01T06:50:02.103Z"
   },
   {
    "duration": 471702,
    "start_time": "2023-10-01T06:50:02.123Z"
   },
   {
    "duration": 4,
    "start_time": "2023-10-01T06:57:53.828Z"
   },
   {
    "duration": 209512,
    "start_time": "2023-10-01T06:57:53.833Z"
   },
   {
    "duration": 3,
    "start_time": "2023-10-01T07:01:23.347Z"
   },
   {
    "duration": 51,
    "start_time": "2023-10-01T07:01:23.351Z"
   },
   {
    "duration": 28,
    "start_time": "2023-10-01T07:01:23.403Z"
   },
   {
    "duration": 4,
    "start_time": "2023-10-01T07:01:23.433Z"
   },
   {
    "duration": 468,
    "start_time": "2023-10-01T07:01:23.438Z"
   },
   {
    "duration": 0,
    "start_time": "2023-10-01T07:01:23.908Z"
   },
   {
    "duration": 231,
    "start_time": "2023-10-01T08:19:53.162Z"
   },
   {
    "duration": 4,
    "start_time": "2023-10-01T12:22:27.450Z"
   },
   {
    "duration": 4,
    "start_time": "2023-10-01T12:22:31.485Z"
   },
   {
    "duration": 77,
    "start_time": "2023-10-01T12:23:08.694Z"
   },
   {
    "duration": 1811,
    "start_time": "2023-10-01T12:23:08.773Z"
   },
   {
    "duration": 3,
    "start_time": "2023-10-01T12:23:10.588Z"
   },
   {
    "duration": 155,
    "start_time": "2023-10-01T12:23:10.594Z"
   },
   {
    "duration": 5,
    "start_time": "2023-10-01T12:23:10.751Z"
   },
   {
    "duration": 343,
    "start_time": "2023-10-01T12:23:10.758Z"
   },
   {
    "duration": 322,
    "start_time": "2023-10-01T12:23:11.109Z"
   },
   {
    "duration": 110,
    "start_time": "2023-10-01T12:23:11.433Z"
   },
   {
    "duration": 69,
    "start_time": "2023-10-01T12:23:11.546Z"
   },
   {
    "duration": 154,
    "start_time": "2023-10-01T12:23:11.619Z"
   },
   {
    "duration": 36,
    "start_time": "2023-10-01T12:23:11.774Z"
   },
   {
    "duration": 7,
    "start_time": "2023-10-01T12:23:11.813Z"
   },
   {
    "duration": 24,
    "start_time": "2023-10-01T12:23:11.822Z"
   },
   {
    "duration": 38,
    "start_time": "2023-10-01T12:23:11.847Z"
   },
   {
    "duration": 6,
    "start_time": "2023-10-01T12:23:11.887Z"
   },
   {
    "duration": 52,
    "start_time": "2023-10-01T12:23:11.894Z"
   },
   {
    "duration": 16,
    "start_time": "2023-10-01T12:23:11.948Z"
   },
   {
    "duration": 270,
    "start_time": "2023-10-01T12:23:11.966Z"
   },
   {
    "duration": 9,
    "start_time": "2023-10-01T12:23:12.238Z"
   },
   {
    "duration": 9,
    "start_time": "2023-10-01T12:23:12.249Z"
   },
   {
    "duration": 5,
    "start_time": "2023-10-01T12:23:12.260Z"
   },
   {
    "duration": 5,
    "start_time": "2023-10-01T12:23:12.266Z"
   },
   {
    "duration": 15,
    "start_time": "2023-10-01T12:23:12.273Z"
   },
   {
    "duration": 45241,
    "start_time": "2023-10-01T12:23:12.289Z"
   },
   {
    "duration": 79,
    "start_time": "2023-10-01T12:23:57.532Z"
   },
   {
    "duration": 29451,
    "start_time": "2023-10-01T12:23:57.614Z"
   },
   {
    "duration": 3,
    "start_time": "2023-10-01T12:24:27.067Z"
   },
   {
    "duration": 288,
    "start_time": "2023-10-01T12:24:27.073Z"
   },
   {
    "duration": 4,
    "start_time": "2023-10-01T12:24:27.363Z"
   },
   {
    "duration": 5068,
    "start_time": "2023-10-01T12:24:27.368Z"
   },
   {
    "duration": 3,
    "start_time": "2023-10-01T12:24:32.439Z"
   },
   {
    "duration": 22,
    "start_time": "2023-10-01T12:24:32.445Z"
   },
   {
    "duration": 0,
    "start_time": "2023-10-01T12:24:32.469Z"
   },
   {
    "duration": 0,
    "start_time": "2023-10-01T12:24:32.471Z"
   },
   {
    "duration": 0,
    "start_time": "2023-10-01T12:24:32.473Z"
   },
   {
    "duration": 0,
    "start_time": "2023-10-01T12:24:32.475Z"
   },
   {
    "duration": 4,
    "start_time": "2023-10-01T12:34:47.860Z"
   },
   {
    "duration": 61,
    "start_time": "2023-10-01T12:57:10.781Z"
   },
   {
    "duration": 1597,
    "start_time": "2023-10-01T12:57:10.844Z"
   },
   {
    "duration": 4,
    "start_time": "2023-10-01T12:57:12.443Z"
   },
   {
    "duration": 122,
    "start_time": "2023-10-01T12:57:12.450Z"
   },
   {
    "duration": 5,
    "start_time": "2023-10-01T12:57:12.574Z"
   },
   {
    "duration": 360,
    "start_time": "2023-10-01T12:57:12.582Z"
   },
   {
    "duration": 310,
    "start_time": "2023-10-01T12:57:12.944Z"
   },
   {
    "duration": 102,
    "start_time": "2023-10-01T12:57:13.256Z"
   },
   {
    "duration": 60,
    "start_time": "2023-10-01T12:57:13.360Z"
   },
   {
    "duration": 132,
    "start_time": "2023-10-01T12:57:13.423Z"
   },
   {
    "duration": 32,
    "start_time": "2023-10-01T12:57:13.557Z"
   },
   {
    "duration": 9,
    "start_time": "2023-10-01T12:57:13.610Z"
   },
   {
    "duration": 24,
    "start_time": "2023-10-01T12:57:13.621Z"
   },
   {
    "duration": 16,
    "start_time": "2023-10-01T12:57:13.648Z"
   },
   {
    "duration": 3,
    "start_time": "2023-10-01T12:57:13.667Z"
   },
   {
    "duration": 70,
    "start_time": "2023-10-01T12:57:13.672Z"
   },
   {
    "duration": 5,
    "start_time": "2023-10-01T12:57:13.745Z"
   },
   {
    "duration": 336,
    "start_time": "2023-10-01T12:57:13.752Z"
   },
   {
    "duration": 27,
    "start_time": "2023-10-01T12:57:14.090Z"
   },
   {
    "duration": 15,
    "start_time": "2023-10-01T12:57:14.120Z"
   },
   {
    "duration": 4,
    "start_time": "2023-10-01T12:57:14.137Z"
   },
   {
    "duration": 6,
    "start_time": "2023-10-01T12:57:14.143Z"
   },
   {
    "duration": 8,
    "start_time": "2023-10-01T12:57:14.151Z"
   },
   {
    "duration": 49248,
    "start_time": "2023-10-01T12:57:14.161Z"
   },
   {
    "duration": 8,
    "start_time": "2023-10-01T12:58:03.412Z"
   },
   {
    "duration": 23956,
    "start_time": "2023-10-01T12:58:03.424Z"
   },
   {
    "duration": 4,
    "start_time": "2023-10-01T12:58:27.381Z"
   },
   {
    "duration": 62,
    "start_time": "2023-10-01T13:00:15.009Z"
   },
   {
    "duration": 1668,
    "start_time": "2023-10-01T13:00:15.073Z"
   },
   {
    "duration": 3,
    "start_time": "2023-10-01T13:00:16.744Z"
   },
   {
    "duration": 135,
    "start_time": "2023-10-01T13:00:16.749Z"
   },
   {
    "duration": 7,
    "start_time": "2023-10-01T13:00:16.886Z"
   },
   {
    "duration": 355,
    "start_time": "2023-10-01T13:00:16.895Z"
   },
   {
    "duration": 316,
    "start_time": "2023-10-01T13:00:17.252Z"
   },
   {
    "duration": 102,
    "start_time": "2023-10-01T13:00:17.570Z"
   },
   {
    "duration": 64,
    "start_time": "2023-10-01T13:00:17.675Z"
   },
   {
    "duration": 146,
    "start_time": "2023-10-01T13:00:17.743Z"
   },
   {
    "duration": 37,
    "start_time": "2023-10-01T13:00:17.891Z"
   },
   {
    "duration": 6,
    "start_time": "2023-10-01T13:00:17.931Z"
   },
   {
    "duration": 19,
    "start_time": "2023-10-01T13:00:17.940Z"
   },
   {
    "duration": 12,
    "start_time": "2023-10-01T13:00:17.961Z"
   },
   {
    "duration": 3,
    "start_time": "2023-10-01T13:00:17.975Z"
   },
   {
    "duration": 42,
    "start_time": "2023-10-01T13:00:18.008Z"
   },
   {
    "duration": 20,
    "start_time": "2023-10-01T13:00:18.052Z"
   },
   {
    "duration": 261,
    "start_time": "2023-10-01T13:00:18.074Z"
   },
   {
    "duration": 8,
    "start_time": "2023-10-01T13:00:18.336Z"
   },
   {
    "duration": 26,
    "start_time": "2023-10-01T13:00:18.346Z"
   },
   {
    "duration": 21,
    "start_time": "2023-10-01T13:00:18.373Z"
   },
   {
    "duration": 29,
    "start_time": "2023-10-01T13:00:18.395Z"
   },
   {
    "duration": 10,
    "start_time": "2023-10-01T13:00:18.426Z"
   },
   {
    "duration": 58078,
    "start_time": "2023-10-01T13:00:18.438Z"
   },
   {
    "duration": 14,
    "start_time": "2023-10-01T13:01:16.518Z"
   },
   {
    "duration": 30420,
    "start_time": "2023-10-01T13:01:16.536Z"
   },
   {
    "duration": 4,
    "start_time": "2023-10-01T13:01:46.958Z"
   },
   {
    "duration": 63,
    "start_time": "2023-10-01T13:19:41.878Z"
   },
   {
    "duration": 1783,
    "start_time": "2023-10-01T13:19:41.944Z"
   },
   {
    "duration": 3,
    "start_time": "2023-10-01T13:19:43.728Z"
   },
   {
    "duration": 128,
    "start_time": "2023-10-01T13:19:43.733Z"
   },
   {
    "duration": 5,
    "start_time": "2023-10-01T13:19:43.863Z"
   },
   {
    "duration": 326,
    "start_time": "2023-10-01T13:19:43.870Z"
   },
   {
    "duration": 338,
    "start_time": "2023-10-01T13:19:44.198Z"
   },
   {
    "duration": 104,
    "start_time": "2023-10-01T13:19:44.538Z"
   },
   {
    "duration": 78,
    "start_time": "2023-10-01T13:19:44.644Z"
   },
   {
    "duration": 128,
    "start_time": "2023-10-01T13:19:44.724Z"
   },
   {
    "duration": 32,
    "start_time": "2023-10-01T13:19:44.854Z"
   },
   {
    "duration": 24,
    "start_time": "2023-10-01T13:19:44.888Z"
   },
   {
    "duration": 16,
    "start_time": "2023-10-01T13:19:44.919Z"
   },
   {
    "duration": 11,
    "start_time": "2023-10-01T13:19:44.939Z"
   },
   {
    "duration": 4,
    "start_time": "2023-10-01T13:19:44.951Z"
   },
   {
    "duration": 65,
    "start_time": "2023-10-01T13:19:44.956Z"
   },
   {
    "duration": 5,
    "start_time": "2023-10-01T13:19:45.027Z"
   },
   {
    "duration": 239,
    "start_time": "2023-10-01T13:19:45.034Z"
   },
   {
    "duration": 8,
    "start_time": "2023-10-01T13:19:45.274Z"
   },
   {
    "duration": 28,
    "start_time": "2023-10-01T13:19:45.283Z"
   },
   {
    "duration": 10,
    "start_time": "2023-10-01T13:19:45.318Z"
   },
   {
    "duration": 8,
    "start_time": "2023-10-01T13:19:45.332Z"
   },
   {
    "duration": 5,
    "start_time": "2023-10-01T13:19:45.342Z"
   },
   {
    "duration": 70182,
    "start_time": "2023-10-01T13:19:45.349Z"
   },
   {
    "duration": 7,
    "start_time": "2023-10-01T13:20:55.533Z"
   },
   {
    "duration": 31737,
    "start_time": "2023-10-01T13:20:55.612Z"
   },
   {
    "duration": 5,
    "start_time": "2023-10-01T13:21:27.351Z"
   },
   {
    "duration": 1301360,
    "start_time": "2023-10-01T13:21:27.358Z"
   },
   {
    "duration": 4,
    "start_time": "2023-10-01T13:43:08.721Z"
   },
   {
    "duration": 97897,
    "start_time": "2023-10-01T13:43:08.727Z"
   },
   {
    "duration": 4,
    "start_time": "2023-10-01T13:44:46.626Z"
   },
   {
    "duration": 36,
    "start_time": "2023-10-01T13:44:46.631Z"
   },
   {
    "duration": 26,
    "start_time": "2023-10-01T13:44:46.669Z"
   },
   {
    "duration": 5,
    "start_time": "2023-10-01T13:44:46.697Z"
   },
   {
    "duration": 422,
    "start_time": "2023-10-01T13:44:46.716Z"
   },
   {
    "duration": 160,
    "start_time": "2023-10-01T13:44:47.140Z"
   },
   {
    "duration": 4,
    "start_time": "2023-10-01T13:45:13.476Z"
   },
   {
    "duration": 438089,
    "start_time": "2023-10-01T13:45:29.885Z"
   },
   {
    "duration": 3,
    "start_time": "2023-10-01T13:52:47.976Z"
   },
   {
    "duration": 41,
    "start_time": "2023-10-01T13:52:47.981Z"
   },
   {
    "duration": 37,
    "start_time": "2023-10-01T13:52:48.026Z"
   },
   {
    "duration": 27,
    "start_time": "2023-10-01T13:59:59.147Z"
   },
   {
    "duration": 39,
    "start_time": "2023-10-01T14:02:12.678Z"
   },
   {
    "duration": 30,
    "start_time": "2023-10-01T14:03:09.219Z"
   },
   {
    "duration": 41,
    "start_time": "2023-10-01T14:03:22.531Z"
   },
   {
    "duration": 27,
    "start_time": "2023-10-01T14:04:57.177Z"
   },
   {
    "duration": 29,
    "start_time": "2023-10-01T14:05:05.592Z"
   },
   {
    "duration": 26,
    "start_time": "2023-10-01T14:05:53.475Z"
   },
   {
    "duration": 27,
    "start_time": "2023-10-01T14:06:12.280Z"
   },
   {
    "duration": 36,
    "start_time": "2023-10-01T14:08:16.634Z"
   },
   {
    "duration": 39,
    "start_time": "2023-10-01T14:08:37.882Z"
   },
   {
    "duration": 27,
    "start_time": "2023-10-01T14:10:02.075Z"
   },
   {
    "duration": 30,
    "start_time": "2023-10-01T14:10:38.123Z"
   },
   {
    "duration": 54,
    "start_time": "2023-10-01T14:18:51.031Z"
   },
   {
    "duration": 1664,
    "start_time": "2023-10-01T14:18:51.087Z"
   },
   {
    "duration": 3,
    "start_time": "2023-10-01T14:18:52.754Z"
   },
   {
    "duration": 116,
    "start_time": "2023-10-01T14:18:52.760Z"
   },
   {
    "duration": 5,
    "start_time": "2023-10-01T14:18:52.878Z"
   },
   {
    "duration": 345,
    "start_time": "2023-10-01T14:18:52.885Z"
   },
   {
    "duration": 291,
    "start_time": "2023-10-01T14:18:53.232Z"
   },
   {
    "duration": 96,
    "start_time": "2023-10-01T14:18:53.525Z"
   },
   {
    "duration": 38,
    "start_time": "2023-10-01T14:18:53.624Z"
   },
   {
    "duration": 158,
    "start_time": "2023-10-01T14:18:53.664Z"
   },
   {
    "duration": 27,
    "start_time": "2023-10-01T14:18:53.824Z"
   },
   {
    "duration": 7,
    "start_time": "2023-10-01T14:18:53.853Z"
   },
   {
    "duration": 13,
    "start_time": "2023-10-01T14:18:53.862Z"
   },
   {
    "duration": 34,
    "start_time": "2023-10-01T14:18:53.879Z"
   },
   {
    "duration": 6,
    "start_time": "2023-10-01T14:18:53.915Z"
   },
   {
    "duration": 43,
    "start_time": "2023-10-01T14:18:53.924Z"
   },
   {
    "duration": 3,
    "start_time": "2023-10-01T14:18:53.969Z"
   },
   {
    "duration": 231,
    "start_time": "2023-10-01T14:18:53.974Z"
   },
   {
    "duration": 14,
    "start_time": "2023-10-01T14:18:54.207Z"
   },
   {
    "duration": 16,
    "start_time": "2023-10-01T14:18:54.223Z"
   },
   {
    "duration": 8,
    "start_time": "2023-10-01T14:18:54.241Z"
   },
   {
    "duration": 14,
    "start_time": "2023-10-01T14:18:54.251Z"
   },
   {
    "duration": 6,
    "start_time": "2023-10-01T14:18:54.266Z"
   },
   {
    "duration": 53360,
    "start_time": "2023-10-01T14:18:54.273Z"
   },
   {
    "duration": 8,
    "start_time": "2023-10-01T14:19:47.711Z"
   },
   {
    "duration": 27670,
    "start_time": "2023-10-01T14:19:47.721Z"
   },
   {
    "duration": 3,
    "start_time": "2023-10-01T14:20:15.393Z"
   },
   {
    "duration": 553,
    "start_time": "2023-10-01T14:20:15.409Z"
   },
   {
    "duration": 4,
    "start_time": "2023-10-01T14:20:15.965Z"
   },
   {
    "duration": 58,
    "start_time": "2023-10-01T14:21:41.826Z"
   },
   {
    "duration": 1660,
    "start_time": "2023-10-01T14:21:41.886Z"
   },
   {
    "duration": 3,
    "start_time": "2023-10-01T14:21:43.548Z"
   },
   {
    "duration": 123,
    "start_time": "2023-10-01T14:21:43.555Z"
   },
   {
    "duration": 6,
    "start_time": "2023-10-01T14:21:43.679Z"
   },
   {
    "duration": 358,
    "start_time": "2023-10-01T14:21:43.687Z"
   },
   {
    "duration": 306,
    "start_time": "2023-10-01T14:21:44.047Z"
   },
   {
    "duration": 102,
    "start_time": "2023-10-01T14:21:44.355Z"
   },
   {
    "duration": 81,
    "start_time": "2023-10-01T14:21:44.459Z"
   },
   {
    "duration": 149,
    "start_time": "2023-10-01T14:21:44.544Z"
   },
   {
    "duration": 48,
    "start_time": "2023-10-01T14:21:44.695Z"
   },
   {
    "duration": 6,
    "start_time": "2023-10-01T14:21:44.747Z"
   },
   {
    "duration": 18,
    "start_time": "2023-10-01T14:21:44.754Z"
   },
   {
    "duration": 38,
    "start_time": "2023-10-01T14:21:44.774Z"
   },
   {
    "duration": 5,
    "start_time": "2023-10-01T14:21:44.814Z"
   },
   {
    "duration": 37,
    "start_time": "2023-10-01T14:21:44.820Z"
   },
   {
    "duration": 7,
    "start_time": "2023-10-01T14:21:44.859Z"
   },
   {
    "duration": 256,
    "start_time": "2023-10-01T14:21:44.868Z"
   },
   {
    "duration": 9,
    "start_time": "2023-10-01T14:21:45.126Z"
   },
   {
    "duration": 19,
    "start_time": "2023-10-01T14:21:45.137Z"
   },
   {
    "duration": 22,
    "start_time": "2023-10-01T14:21:45.158Z"
   },
   {
    "duration": 48,
    "start_time": "2023-10-01T14:21:45.182Z"
   },
   {
    "duration": 27,
    "start_time": "2023-10-01T14:21:45.232Z"
   },
   {
    "duration": 251,
    "start_time": "2023-10-01T14:21:45.261Z"
   },
   {
    "duration": 6,
    "start_time": "2023-10-01T14:21:45.523Z"
   },
   {
    "duration": 418,
    "start_time": "2023-10-01T14:21:45.531Z"
   },
   {
    "duration": 4,
    "start_time": "2023-10-01T14:21:45.951Z"
   },
   {
    "duration": 208,
    "start_time": "2023-10-01T14:21:45.958Z"
   },
   {
    "duration": 4,
    "start_time": "2023-10-01T14:21:46.168Z"
   },
   {
    "duration": 183,
    "start_time": "2023-10-01T14:21:46.174Z"
   },
   {
    "duration": 4,
    "start_time": "2023-10-01T14:21:46.360Z"
   },
   {
    "duration": 27,
    "start_time": "2023-10-01T14:21:46.366Z"
   },
   {
    "duration": 0,
    "start_time": "2023-10-01T14:21:46.396Z"
   },
   {
    "duration": 0,
    "start_time": "2023-10-01T14:21:46.397Z"
   },
   {
    "duration": 0,
    "start_time": "2023-10-01T14:21:46.399Z"
   },
   {
    "duration": 0,
    "start_time": "2023-10-01T14:21:46.402Z"
   },
   {
    "duration": 60,
    "start_time": "2023-10-01T14:24:23.907Z"
   },
   {
    "duration": 1634,
    "start_time": "2023-10-01T14:24:23.969Z"
   },
   {
    "duration": 16,
    "start_time": "2023-10-01T14:24:25.605Z"
   },
   {
    "duration": 111,
    "start_time": "2023-10-01T14:24:25.625Z"
   },
   {
    "duration": 5,
    "start_time": "2023-10-01T14:24:25.738Z"
   },
   {
    "duration": 307,
    "start_time": "2023-10-01T14:24:25.745Z"
   },
   {
    "duration": 291,
    "start_time": "2023-10-01T14:24:26.054Z"
   },
   {
    "duration": 93,
    "start_time": "2023-10-01T14:24:26.347Z"
   },
   {
    "duration": 43,
    "start_time": "2023-10-01T14:24:26.442Z"
   },
   {
    "duration": 156,
    "start_time": "2023-10-01T14:24:26.487Z"
   },
   {
    "duration": 30,
    "start_time": "2023-10-01T14:24:26.645Z"
   },
   {
    "duration": 6,
    "start_time": "2023-10-01T14:24:26.676Z"
   },
   {
    "duration": 40,
    "start_time": "2023-10-01T14:24:26.684Z"
   },
   {
    "duration": 12,
    "start_time": "2023-10-01T14:24:26.727Z"
   },
   {
    "duration": 3,
    "start_time": "2023-10-01T14:24:26.740Z"
   },
   {
    "duration": 35,
    "start_time": "2023-10-01T14:24:26.745Z"
   },
   {
    "duration": 4,
    "start_time": "2023-10-01T14:24:26.782Z"
   },
   {
    "duration": 239,
    "start_time": "2023-10-01T14:24:26.787Z"
   },
   {
    "duration": 6,
    "start_time": "2023-10-01T14:24:27.028Z"
   },
   {
    "duration": 10,
    "start_time": "2023-10-01T14:24:27.036Z"
   },
   {
    "duration": 5,
    "start_time": "2023-10-01T14:24:27.047Z"
   },
   {
    "duration": 12,
    "start_time": "2023-10-01T14:24:27.054Z"
   },
   {
    "duration": 16,
    "start_time": "2023-10-01T14:24:27.068Z"
   },
   {
    "duration": 73043,
    "start_time": "2023-10-01T14:24:27.086Z"
   },
   {
    "duration": 91,
    "start_time": "2023-10-01T14:25:40.131Z"
   },
   {
    "duration": 32155,
    "start_time": "2023-10-01T14:25:40.226Z"
   },
   {
    "duration": 4,
    "start_time": "2023-10-01T14:26:12.382Z"
   },
   {
    "duration": 424239,
    "start_time": "2023-10-01T14:26:12.388Z"
   },
   {
    "duration": 80,
    "start_time": "2023-10-01T14:33:16.630Z"
   },
   {
    "duration": 409982,
    "start_time": "2023-10-01T14:33:16.712Z"
   },
   {
    "duration": 3,
    "start_time": "2023-10-01T14:40:06.696Z"
   },
   {
    "duration": 28,
    "start_time": "2023-10-01T14:40:06.700Z"
   },
   {
    "duration": 20,
    "start_time": "2023-10-01T14:40:06.730Z"
   },
   {
    "duration": 338,
    "start_time": "2023-10-01T14:40:06.752Z"
   },
   {
    "duration": 0,
    "start_time": "2023-10-01T14:40:07.092Z"
   },
   {
    "duration": 0,
    "start_time": "2023-10-01T14:40:07.093Z"
   },
   {
    "duration": 267,
    "start_time": "2023-10-01T15:31:24.786Z"
   },
   {
    "duration": 10,
    "start_time": "2023-10-01T15:31:43.950Z"
   },
   {
    "duration": 16,
    "start_time": "2023-10-01T15:31:48.623Z"
   },
   {
    "duration": 402,
    "start_time": "2023-10-01T15:31:58.466Z"
   },
   {
    "duration": 5,
    "start_time": "2023-10-01T15:32:08.524Z"
   },
   {
    "duration": 217,
    "start_time": "2023-10-01T15:34:03.439Z"
   },
   {
    "duration": 339,
    "start_time": "2023-10-01T15:35:33.437Z"
   },
   {
    "duration": 495,
    "start_time": "2023-10-01T15:37:32.444Z"
   },
   {
    "duration": 381,
    "start_time": "2023-10-01T15:38:04.772Z"
   },
   {
    "duration": 388,
    "start_time": "2023-10-01T15:44:14.542Z"
   },
   {
    "duration": 416,
    "start_time": "2023-10-01T15:44:22.138Z"
   },
   {
    "duration": 4,
    "start_time": "2023-10-01T15:55:27.995Z"
   },
   {
    "duration": 788288,
    "start_time": "2023-10-01T15:55:42.788Z"
   },
   {
    "duration": 504,
    "start_time": "2023-10-01T16:11:20.637Z"
   },
   {
    "duration": 1732,
    "start_time": "2023-10-01T16:11:21.143Z"
   },
   {
    "duration": 3,
    "start_time": "2023-10-01T16:11:22.876Z"
   },
   {
    "duration": 123,
    "start_time": "2023-10-01T16:11:22.881Z"
   },
   {
    "duration": 9,
    "start_time": "2023-10-01T16:11:23.007Z"
   },
   {
    "duration": 340,
    "start_time": "2023-10-01T16:11:23.018Z"
   },
   {
    "duration": 304,
    "start_time": "2023-10-01T16:11:23.360Z"
   },
   {
    "duration": 97,
    "start_time": "2023-10-01T16:11:23.666Z"
   },
   {
    "duration": 73,
    "start_time": "2023-10-01T16:11:23.765Z"
   },
   {
    "duration": 142,
    "start_time": "2023-10-01T16:11:23.841Z"
   },
   {
    "duration": 36,
    "start_time": "2023-10-01T16:11:23.984Z"
   },
   {
    "duration": 10,
    "start_time": "2023-10-01T16:11:24.021Z"
   },
   {
    "duration": 15,
    "start_time": "2023-10-01T16:11:24.032Z"
   },
   {
    "duration": 11,
    "start_time": "2023-10-01T16:11:24.050Z"
   },
   {
    "duration": 3,
    "start_time": "2023-10-01T16:11:24.063Z"
   },
   {
    "duration": 70,
    "start_time": "2023-10-01T16:11:24.067Z"
   },
   {
    "duration": 5,
    "start_time": "2023-10-01T16:11:24.140Z"
   },
   {
    "duration": 238,
    "start_time": "2023-10-01T16:11:24.147Z"
   },
   {
    "duration": 7,
    "start_time": "2023-10-01T16:11:24.387Z"
   },
   {
    "duration": 25,
    "start_time": "2023-10-01T16:11:24.395Z"
   },
   {
    "duration": 5,
    "start_time": "2023-10-01T16:11:24.431Z"
   },
   {
    "duration": 7,
    "start_time": "2023-10-01T16:11:24.438Z"
   },
   {
    "duration": 85,
    "start_time": "2023-10-01T16:12:54.693Z"
   },
   {
    "duration": 3234,
    "start_time": "2023-10-01T16:12:54.780Z"
   },
   {
    "duration": 1877,
    "start_time": "2023-10-01T16:12:58.016Z"
   },
   {
    "duration": 3,
    "start_time": "2023-10-01T16:12:59.896Z"
   },
   {
    "duration": 167,
    "start_time": "2023-10-01T16:12:59.901Z"
   },
   {
    "duration": 6,
    "start_time": "2023-10-01T16:13:00.069Z"
   },
   {
    "duration": 406,
    "start_time": "2023-10-01T16:13:00.076Z"
   },
   {
    "duration": 353,
    "start_time": "2023-10-01T16:13:00.484Z"
   },
   {
    "duration": 117,
    "start_time": "2023-10-01T16:13:00.839Z"
   },
   {
    "duration": 82,
    "start_time": "2023-10-01T16:13:00.960Z"
   },
   {
    "duration": 139,
    "start_time": "2023-10-01T16:13:01.050Z"
   },
   {
    "duration": 68,
    "start_time": "2023-10-01T16:13:01.191Z"
   },
   {
    "duration": 38,
    "start_time": "2023-10-01T16:13:01.262Z"
   },
   {
    "duration": 50,
    "start_time": "2023-10-01T16:13:01.302Z"
   },
   {
    "duration": 38,
    "start_time": "2023-10-01T16:13:01.353Z"
   },
   {
    "duration": 51,
    "start_time": "2023-10-01T16:13:01.393Z"
   },
   {
    "duration": 58,
    "start_time": "2023-10-01T16:13:01.447Z"
   },
   {
    "duration": 92,
    "start_time": "2023-10-01T16:13:01.507Z"
   },
   {
    "duration": 320,
    "start_time": "2023-10-01T16:13:01.601Z"
   },
   {
    "duration": 18,
    "start_time": "2023-10-01T16:13:01.933Z"
   },
   {
    "duration": 75,
    "start_time": "2023-10-01T16:13:01.953Z"
   },
   {
    "duration": 62,
    "start_time": "2023-10-01T16:13:02.031Z"
   },
   {
    "duration": 112,
    "start_time": "2023-10-01T16:13:02.095Z"
   },
   {
    "duration": 94728,
    "start_time": "2023-10-01T16:13:02.211Z"
   },
   {
    "duration": 36,
    "start_time": "2023-10-01T16:14:37.024Z"
   },
   {
    "duration": 34844,
    "start_time": "2023-10-01T16:14:37.062Z"
   },
   {
    "duration": 12,
    "start_time": "2023-10-01T16:15:11.910Z"
   },
   {
    "duration": 54,
    "start_time": "2023-10-02T17:46:02.988Z"
   },
   {
    "duration": 2520,
    "start_time": "2023-10-02T17:46:03.044Z"
   },
   {
    "duration": 1790,
    "start_time": "2023-10-02T17:46:05.566Z"
   },
   {
    "duration": 2,
    "start_time": "2023-10-02T17:46:07.362Z"
   },
   {
    "duration": 469,
    "start_time": "2023-10-02T17:46:07.367Z"
   },
   {
    "duration": 4,
    "start_time": "2023-10-02T17:46:07.838Z"
   },
   {
    "duration": 286,
    "start_time": "2023-10-02T17:46:07.844Z"
   },
   {
    "duration": 319,
    "start_time": "2023-10-02T17:46:08.132Z"
   },
   {
    "duration": 119,
    "start_time": "2023-10-02T17:46:08.452Z"
   },
   {
    "duration": 35,
    "start_time": "2023-10-02T17:46:08.575Z"
   },
   {
    "duration": 64,
    "start_time": "2023-10-02T17:46:08.612Z"
   },
   {
    "duration": 24,
    "start_time": "2023-10-02T17:46:08.678Z"
   },
   {
    "duration": 5,
    "start_time": "2023-10-02T17:46:08.704Z"
   },
   {
    "duration": 16,
    "start_time": "2023-10-02T17:46:08.711Z"
   },
   {
    "duration": 26,
    "start_time": "2023-10-02T17:46:08.729Z"
   },
   {
    "duration": 5,
    "start_time": "2023-10-02T17:46:08.756Z"
   },
   {
    "duration": 30,
    "start_time": "2023-10-02T17:46:08.762Z"
   },
   {
    "duration": 4,
    "start_time": "2023-10-02T17:46:08.794Z"
   },
   {
    "duration": 247,
    "start_time": "2023-10-02T17:46:08.800Z"
   },
   {
    "duration": 23,
    "start_time": "2023-10-02T17:46:09.051Z"
   },
   {
    "duration": 13,
    "start_time": "2023-10-02T17:46:09.076Z"
   },
   {
    "duration": 5,
    "start_time": "2023-10-02T17:46:09.091Z"
   },
   {
    "duration": 36,
    "start_time": "2023-10-02T17:46:09.097Z"
   },
   {
    "duration": 70925,
    "start_time": "2023-10-02T17:46:09.136Z"
   },
   {
    "duration": 10,
    "start_time": "2023-10-02T17:47:20.065Z"
   },
   {
    "duration": 28111,
    "start_time": "2023-10-02T17:47:20.157Z"
   },
   {
    "duration": 33,
    "start_time": "2023-10-02T17:47:48.270Z"
   },
   {
    "duration": 3,
    "start_time": "2023-10-02T17:47:48.306Z"
   },
   {
    "duration": 51,
    "start_time": "2023-10-02T17:52:23.870Z"
   },
   {
    "duration": 2172,
    "start_time": "2023-10-02T17:52:23.923Z"
   },
   {
    "duration": 1442,
    "start_time": "2023-10-02T17:52:26.097Z"
   },
   {
    "duration": 2,
    "start_time": "2023-10-02T17:52:27.540Z"
   },
   {
    "duration": 130,
    "start_time": "2023-10-02T17:52:27.544Z"
   },
   {
    "duration": 6,
    "start_time": "2023-10-02T17:52:27.676Z"
   },
   {
    "duration": 284,
    "start_time": "2023-10-02T17:52:27.683Z"
   },
   {
    "duration": 235,
    "start_time": "2023-10-02T17:52:27.969Z"
   },
   {
    "duration": 78,
    "start_time": "2023-10-02T17:52:28.206Z"
   },
   {
    "duration": 36,
    "start_time": "2023-10-02T17:52:28.286Z"
   },
   {
    "duration": 116,
    "start_time": "2023-10-02T17:52:28.355Z"
   },
   {
    "duration": 39,
    "start_time": "2023-10-02T17:52:28.473Z"
   },
   {
    "duration": 5,
    "start_time": "2023-10-02T17:52:28.514Z"
   },
   {
    "duration": 40,
    "start_time": "2023-10-02T17:52:28.522Z"
   },
   {
    "duration": 13,
    "start_time": "2023-10-02T17:52:28.563Z"
   },
   {
    "duration": 17,
    "start_time": "2023-10-02T17:52:28.578Z"
   },
   {
    "duration": 51,
    "start_time": "2023-10-02T17:52:28.596Z"
   },
   {
    "duration": 20,
    "start_time": "2023-10-02T17:52:28.648Z"
   },
   {
    "duration": 209,
    "start_time": "2023-10-02T17:52:28.669Z"
   },
   {
    "duration": 6,
    "start_time": "2023-10-02T17:52:28.879Z"
   },
   {
    "duration": 26,
    "start_time": "2023-10-02T17:52:28.886Z"
   },
   {
    "duration": 17,
    "start_time": "2023-10-02T17:52:28.913Z"
   },
   {
    "duration": 24,
    "start_time": "2023-10-02T17:52:28.932Z"
   },
   {
    "duration": 78011,
    "start_time": "2023-10-02T17:52:28.962Z"
   },
   {
    "duration": 13,
    "start_time": "2023-10-02T17:53:47.050Z"
   },
   {
    "duration": 28020,
    "start_time": "2023-10-02T17:53:47.074Z"
   },
   {
    "duration": 54,
    "start_time": "2023-10-02T17:54:15.096Z"
   },
   {
    "duration": 10,
    "start_time": "2023-10-02T17:54:15.152Z"
   },
   {
    "duration": 2274101,
    "start_time": "2023-10-02T17:54:15.169Z"
   },
   {
    "duration": 4,
    "start_time": "2023-10-02T18:32:09.272Z"
   },
   {
    "duration": 430562,
    "start_time": "2023-10-02T18:32:09.277Z"
   },
   {
    "duration": 3,
    "start_time": "2023-10-02T18:39:19.841Z"
   },
   {
    "duration": 28,
    "start_time": "2023-10-02T18:39:19.845Z"
   },
   {
    "duration": 21,
    "start_time": "2023-10-02T18:39:19.875Z"
   },
   {
    "duration": 296,
    "start_time": "2023-10-02T18:39:19.898Z"
   },
   {
    "duration": 386,
    "start_time": "2023-10-02T18:39:20.195Z"
   },
   {
    "duration": 3,
    "start_time": "2023-10-02T18:57:39.577Z"
   },
   {
    "duration": 13,
    "start_time": "2023-10-02T18:57:41.895Z"
   },
   {
    "duration": 36,
    "start_time": "2023-10-02T18:57:50.639Z"
   },
   {
    "duration": 311,
    "start_time": "2023-10-02T18:58:42.526Z"
   },
   {
    "duration": 173,
    "start_time": "2023-10-02T19:01:52.431Z"
   },
   {
    "duration": 308,
    "start_time": "2023-10-02T19:02:24.615Z"
   },
   {
    "duration": 388,
    "start_time": "2023-10-02T19:02:29.703Z"
   },
   {
    "duration": 58,
    "start_time": "2023-10-02T19:10:26.229Z"
   },
   {
    "duration": 2200,
    "start_time": "2023-10-02T19:10:26.290Z"
   },
   {
    "duration": 1516,
    "start_time": "2023-10-02T19:10:28.492Z"
   },
   {
    "duration": 3,
    "start_time": "2023-10-02T19:10:30.010Z"
   },
   {
    "duration": 248,
    "start_time": "2023-10-02T19:10:30.014Z"
   },
   {
    "duration": 5,
    "start_time": "2023-10-02T19:10:30.265Z"
   },
   {
    "duration": 356,
    "start_time": "2023-10-02T19:10:30.271Z"
   },
   {
    "duration": 261,
    "start_time": "2023-10-02T19:10:30.628Z"
   },
   {
    "duration": 98,
    "start_time": "2023-10-02T19:10:30.891Z"
   },
   {
    "duration": 64,
    "start_time": "2023-10-02T19:10:30.992Z"
   },
   {
    "duration": 117,
    "start_time": "2023-10-02T19:10:31.058Z"
   },
   {
    "duration": 62,
    "start_time": "2023-10-02T19:10:31.177Z"
   },
   {
    "duration": 39,
    "start_time": "2023-10-02T19:10:31.241Z"
   },
   {
    "duration": 53,
    "start_time": "2023-10-02T19:10:31.282Z"
   },
   {
    "duration": 52,
    "start_time": "2023-10-02T19:10:31.336Z"
   },
   {
    "duration": 54,
    "start_time": "2023-10-02T19:10:31.389Z"
   },
   {
    "duration": 122,
    "start_time": "2023-10-02T19:10:31.445Z"
   },
   {
    "duration": 96,
    "start_time": "2023-10-02T19:10:31.569Z"
   },
   {
    "duration": 261,
    "start_time": "2023-10-02T19:10:31.668Z"
   },
   {
    "duration": 7,
    "start_time": "2023-10-02T19:10:31.931Z"
   },
   {
    "duration": 23,
    "start_time": "2023-10-02T19:10:31.949Z"
   },
   {
    "duration": 7,
    "start_time": "2023-10-02T19:10:31.973Z"
   },
   {
    "duration": 21,
    "start_time": "2023-10-02T19:10:31.981Z"
   },
   {
    "duration": 66975,
    "start_time": "2023-10-02T19:10:32.003Z"
   },
   {
    "duration": 99,
    "start_time": "2023-10-02T19:11:39.051Z"
   },
   {
    "duration": 28175,
    "start_time": "2023-10-02T19:11:39.156Z"
   },
   {
    "duration": 55,
    "start_time": "2023-10-02T19:12:07.333Z"
   },
   {
    "duration": 3,
    "start_time": "2023-10-02T19:12:07.391Z"
   },
   {
    "duration": 863461,
    "start_time": "2023-10-02T19:12:07.396Z"
   },
   {
    "duration": 4,
    "start_time": "2023-10-02T19:26:30.859Z"
   },
   {
    "duration": 413316,
    "start_time": "2023-10-02T19:26:30.864Z"
   },
   {
    "duration": 4,
    "start_time": "2023-10-02T19:33:24.182Z"
   },
   {
    "duration": 27,
    "start_time": "2023-10-02T19:33:24.188Z"
   },
   {
    "duration": 25,
    "start_time": "2023-10-02T19:33:24.217Z"
   },
   {
    "duration": 276,
    "start_time": "2023-10-02T19:33:24.244Z"
   },
   {
    "duration": 346,
    "start_time": "2023-10-02T19:33:24.522Z"
   }
  ],
  "colab": {
   "provenance": []
  },
  "kernelspec": {
   "display_name": "Python 3 (ipykernel)",
   "language": "python",
   "name": "python3"
  },
  "language_info": {
   "codemirror_mode": {
    "name": "ipython",
    "version": 3
   },
   "file_extension": ".py",
   "mimetype": "text/x-python",
   "name": "python",
   "nbconvert_exporter": "python",
   "pygments_lexer": "ipython3",
   "version": "3.9.13"
  },
  "toc": {
   "base_numbering": 1,
   "nav_menu": {},
   "number_sections": true,
   "sideBar": true,
   "skip_h1_title": true,
   "title_cell": "Table of Contents",
   "title_sidebar": "Contents",
   "toc_cell": false,
   "toc_position": {},
   "toc_section_display": true,
   "toc_window_display": false
  }
 },
 "nbformat": 4,
 "nbformat_minor": 1
}
