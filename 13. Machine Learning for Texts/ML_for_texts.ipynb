{
 "cells": [
  {
   "cell_type": "markdown",
   "metadata": {
    "toc": true
   },
   "source": [
    "<h1>Содержание<span class=\"tocSkip\"></span></h1>\n",
    "<div class=\"toc\"><ul class=\"toc-item\"><li><span><a href=\"#Подготовка\" data-toc-modified-id=\"Подготовка-1\"><span class=\"toc-item-num\">1&nbsp;&nbsp;</span>Подготовка</a></span><ul class=\"toc-item\"><li><span><a href=\"#Обзор-данных\" data-toc-modified-id=\"Обзор-данных-1.1\"><span class=\"toc-item-num\">1.1&nbsp;&nbsp;</span>Обзор данных</a></span></li><li><span><a href=\"#Очистка-и-лемматизация-текста\" data-toc-modified-id=\"Очистка-и-лемматизация-текста-1.2\"><span class=\"toc-item-num\">1.2&nbsp;&nbsp;</span>Очистка и лемматизация текста</a></span></li><li><span><a href=\"#Подготовка-выборок\" data-toc-modified-id=\"Подготовка-выборок-1.3\"><span class=\"toc-item-num\">1.3&nbsp;&nbsp;</span>Подготовка выборок</a></span></li><li><span><a href=\"#Векторизация-текста\" data-toc-modified-id=\"Векторизация-текста-1.4\"><span class=\"toc-item-num\">1.4&nbsp;&nbsp;</span>Векторизация текста</a></span></li></ul></li><li><span><a href=\"#Обучение\" data-toc-modified-id=\"Обучение-2\"><span class=\"toc-item-num\">2&nbsp;&nbsp;</span>Обучение</a></span><ul class=\"toc-item\"><li><span><a href=\"#Модель-дерева-решений\" data-toc-modified-id=\"Модель-дерева-решений-2.1\"><span class=\"toc-item-num\">2.1&nbsp;&nbsp;</span>Модель дерева решений</a></span></li><li><span><a href=\"#Модель-случайного-леса\" data-toc-modified-id=\"Модель-случайного-леса-2.2\"><span class=\"toc-item-num\">2.2&nbsp;&nbsp;</span>Модель случайного леса</a></span></li><li><span><a href=\"#Логистическая-регрессия\" data-toc-modified-id=\"Логистическая-регрессия-2.3\"><span class=\"toc-item-num\">2.3&nbsp;&nbsp;</span>Логистическая регрессия</a></span></li></ul></li><li><span><a href=\"#Тестирование\" data-toc-modified-id=\"Тестирование-3\"><span class=\"toc-item-num\">3&nbsp;&nbsp;</span>Тестирование</a></span><ul class=\"toc-item\"><li><span><a href=\"#Тестирование-лучшей-модели\" data-toc-modified-id=\"Тестирование-лучшей-модели-3.1\"><span class=\"toc-item-num\">3.1&nbsp;&nbsp;</span>Тестирование лучшей модели</a></span></li><li><span><a href=\"#Проверка-на-адекватность\" data-toc-modified-id=\"Проверка-на-адекватность-3.2\"><span class=\"toc-item-num\">3.2&nbsp;&nbsp;</span>Проверка на адекватность</a></span></li></ul></li><li><span><a href=\"#Общие-выводы\" data-toc-modified-id=\"Общие-выводы-4\"><span class=\"toc-item-num\">4&nbsp;&nbsp;</span>Общие выводы</a></span></li><li><span><a href=\"#Чек-лист-проверки\" data-toc-modified-id=\"Чек-лист-проверки-5\"><span class=\"toc-item-num\">5&nbsp;&nbsp;</span>Чек-лист проверки</a></span></li></ul></div>"
   ]
  },
  {
   "cell_type": "markdown",
   "metadata": {},
   "source": [
    "# Проект для «Викишоп»"
   ]
  },
  {
   "cell_type": "markdown",
   "metadata": {},
   "source": [
    "Интернет-магазин «Викишоп» запускает новый сервис. Теперь пользователи могут редактировать и дополнять описания товаров, как в вики-сообществах. То есть клиенты предлагают свои правки и комментируют изменения других. Магазину нужен инструмент, который будет искать токсичные комментарии и отправлять их на модерацию. \n",
    "\n",
    "Обучите модель классифицировать комментарии на позитивные и негативные. В вашем распоряжении набор данных с разметкой о токсичности правок.\n",
    "\n",
    "Постройте модель со значением метрики качества *F1* не меньше 0.75. \n",
    "\n",
    "**Инструкция по выполнению проекта**\n",
    "\n",
    "1. Загрузите и подготовьте данные.\n",
    "2. Обучите разные модели. \n",
    "3. Сделайте выводы.\n",
    "\n",
    "**Описание данных**\n",
    "\n",
    "Данные находятся в файле `toxic_comments.csv`. Столбец *text* в нём содержит текст комментария, а *toxic* — целевой признак."
   ]
  },
  {
   "cell_type": "markdown",
   "metadata": {},
   "source": [
    "## Подготовка"
   ]
  },
  {
   "cell_type": "code",
   "execution_count": 1,
   "metadata": {},
   "outputs": [
    {
     "data": {
      "text/html": [
       "<style>.container { width:90% !important; }</style>"
      ],
      "text/plain": [
       "<IPython.core.display.HTML object>"
      ]
     },
     "metadata": {},
     "output_type": "display_data"
    }
   ],
   "source": [
    "# перейдем в широкоформатный режим  Jupyterи\n",
    "from IPython.core.display import display, HTML\n",
    "display(HTML(\"<style>.container { width:90% !important; }</style>\"))"
   ]
  },
  {
   "cell_type": "code",
   "execution_count": 2,
   "metadata": {},
   "outputs": [
    {
     "name": "stdout",
     "output_type": "stream",
     "text": [
      "\u001b[38;5;3m⚠ As of spaCy v3.0, shortcuts like 'en' are deprecated. Please use the\n",
      "full pipeline package name 'en_core_web_sm' instead.\u001b[0m\n",
      "Collecting en-core-web-sm==3.2.0\n",
      "  Downloading https://github.com/explosion/spacy-models/releases/download/en_core_web_sm-3.2.0/en_core_web_sm-3.2.0-py3-none-any.whl (13.9 MB)\n",
      "\u001b[K     |████████████████████████████████| 13.9 MB 1.4 MB/s eta 0:00:01\n",
      "\u001b[?25hRequirement already satisfied: spacy<3.3.0,>=3.2.0 in /opt/conda/lib/python3.9/site-packages (from en-core-web-sm==3.2.0) (3.2.0)\n",
      "Requirement already satisfied: catalogue<2.1.0,>=2.0.6 in /opt/conda/lib/python3.9/site-packages (from spacy<3.3.0,>=3.2.0->en-core-web-sm==3.2.0) (2.0.8)\n",
      "Requirement already satisfied: pathy>=0.3.5 in /opt/conda/lib/python3.9/site-packages (from spacy<3.3.0,>=3.2.0->en-core-web-sm==3.2.0) (0.6.2)\n",
      "Requirement already satisfied: packaging>=20.0 in /opt/conda/lib/python3.9/site-packages (from spacy<3.3.0,>=3.2.0->en-core-web-sm==3.2.0) (21.3)\n",
      "Requirement already satisfied: numpy>=1.15.0 in /opt/conda/lib/python3.9/site-packages (from spacy<3.3.0,>=3.2.0->en-core-web-sm==3.2.0) (1.21.1)\n",
      "Requirement already satisfied: requests<3.0.0,>=2.13.0 in /opt/conda/lib/python3.9/site-packages (from spacy<3.3.0,>=3.2.0->en-core-web-sm==3.2.0) (2.25.1)\n",
      "Requirement already satisfied: setuptools in /opt/conda/lib/python3.9/site-packages (from spacy<3.3.0,>=3.2.0->en-core-web-sm==3.2.0) (49.6.0.post20210108)\n",
      "Requirement already satisfied: pydantic!=1.8,!=1.8.1,<1.9.0,>=1.7.4 in /opt/conda/lib/python3.9/site-packages (from spacy<3.3.0,>=3.2.0->en-core-web-sm==3.2.0) (1.8.2)\n",
      "Requirement already satisfied: tqdm<5.0.0,>=4.38.0 in /opt/conda/lib/python3.9/site-packages (from spacy<3.3.0,>=3.2.0->en-core-web-sm==3.2.0) (4.61.2)\n",
      "Requirement already satisfied: srsly<3.0.0,>=2.4.1 in /opt/conda/lib/python3.9/site-packages (from spacy<3.3.0,>=3.2.0->en-core-web-sm==3.2.0) (2.4.4)\n",
      "Requirement already satisfied: wasabi<1.1.0,>=0.8.1 in /opt/conda/lib/python3.9/site-packages (from spacy<3.3.0,>=3.2.0->en-core-web-sm==3.2.0) (0.10.1)\n",
      "Requirement already satisfied: preshed<3.1.0,>=3.0.2 in /opt/conda/lib/python3.9/site-packages (from spacy<3.3.0,>=3.2.0->en-core-web-sm==3.2.0) (3.0.7)\n",
      "Requirement already satisfied: langcodes<4.0.0,>=3.2.0 in /opt/conda/lib/python3.9/site-packages (from spacy<3.3.0,>=3.2.0->en-core-web-sm==3.2.0) (3.3.0)\n",
      "Requirement already satisfied: murmurhash<1.1.0,>=0.28.0 in /opt/conda/lib/python3.9/site-packages (from spacy<3.3.0,>=3.2.0->en-core-web-sm==3.2.0) (1.0.8)\n",
      "Requirement already satisfied: spacy-legacy<3.1.0,>=3.0.8 in /opt/conda/lib/python3.9/site-packages (from spacy<3.3.0,>=3.2.0->en-core-web-sm==3.2.0) (3.0.10)\n",
      "Requirement already satisfied: typer<0.5.0,>=0.3.0 in /opt/conda/lib/python3.9/site-packages (from spacy<3.3.0,>=3.2.0->en-core-web-sm==3.2.0) (0.4.2)\n",
      "Requirement already satisfied: cymem<2.1.0,>=2.0.2 in /opt/conda/lib/python3.9/site-packages (from spacy<3.3.0,>=3.2.0->en-core-web-sm==3.2.0) (2.0.6)\n",
      "Requirement already satisfied: blis<0.8.0,>=0.4.0 in /opt/conda/lib/python3.9/site-packages (from spacy<3.3.0,>=3.2.0->en-core-web-sm==3.2.0) (0.7.8)\n",
      "Requirement already satisfied: spacy-loggers<2.0.0,>=1.0.0 in /opt/conda/lib/python3.9/site-packages (from spacy<3.3.0,>=3.2.0->en-core-web-sm==3.2.0) (1.0.3)\n",
      "Requirement already satisfied: thinc<8.1.0,>=8.0.12 in /opt/conda/lib/python3.9/site-packages (from spacy<3.3.0,>=3.2.0->en-core-web-sm==3.2.0) (8.0.17)\n",
      "Requirement already satisfied: jinja2 in /opt/conda/lib/python3.9/site-packages (from spacy<3.3.0,>=3.2.0->en-core-web-sm==3.2.0) (3.0.1)\n",
      "Requirement already satisfied: pyparsing!=3.0.5,>=2.0.2 in /opt/conda/lib/python3.9/site-packages (from packaging>=20.0->spacy<3.3.0,>=3.2.0->en-core-web-sm==3.2.0) (2.4.7)\n",
      "Requirement already satisfied: smart-open<6.0.0,>=5.2.1 in /opt/conda/lib/python3.9/site-packages (from pathy>=0.3.5->spacy<3.3.0,>=3.2.0->en-core-web-sm==3.2.0) (5.2.1)\n",
      "Requirement already satisfied: typing-extensions>=3.7.4.3 in /opt/conda/lib/python3.9/site-packages (from pydantic!=1.8,!=1.8.1,<1.9.0,>=1.7.4->spacy<3.3.0,>=3.2.0->en-core-web-sm==3.2.0) (4.3.0)\n",
      "Requirement already satisfied: urllib3<1.27,>=1.21.1 in /opt/conda/lib/python3.9/site-packages (from requests<3.0.0,>=2.13.0->spacy<3.3.0,>=3.2.0->en-core-web-sm==3.2.0) (1.26.6)\n",
      "Requirement already satisfied: chardet<5,>=3.0.2 in /opt/conda/lib/python3.9/site-packages (from requests<3.0.0,>=2.13.0->spacy<3.3.0,>=3.2.0->en-core-web-sm==3.2.0) (4.0.0)\n",
      "Requirement already satisfied: idna<3,>=2.5 in /opt/conda/lib/python3.9/site-packages (from requests<3.0.0,>=2.13.0->spacy<3.3.0,>=3.2.0->en-core-web-sm==3.2.0) (2.10)\n",
      "Requirement already satisfied: certifi>=2017.4.17 in /opt/conda/lib/python3.9/site-packages (from requests<3.0.0,>=2.13.0->spacy<3.3.0,>=3.2.0->en-core-web-sm==3.2.0) (2022.6.15)\n",
      "Requirement already satisfied: click<9.0.0,>=7.1.1 in /opt/conda/lib/python3.9/site-packages (from typer<0.5.0,>=0.3.0->spacy<3.3.0,>=3.2.0->en-core-web-sm==3.2.0) (8.1.3)\n",
      "Requirement already satisfied: MarkupSafe>=2.0 in /opt/conda/lib/python3.9/site-packages (from jinja2->spacy<3.3.0,>=3.2.0->en-core-web-sm==3.2.0) (2.1.1)\n",
      "\u001b[38;5;2m✔ Download and installation successful\u001b[0m\n",
      "You can now load the package via spacy.load('en_core_web_sm')\n"
     ]
    }
   ],
   "source": [
    "# загрузим библиотеку для лемматизации\n",
    "!pip install -q spacy\n",
    "import spacy\n",
    "!python -m spacy download en"
   ]
  },
  {
   "cell_type": "code",
   "execution_count": 3,
   "metadata": {},
   "outputs": [],
   "source": [
    "# импортируем необходимые библиотеки\n",
    "import os\n",
    "import re\n",
    "import pickle\n",
    "import scipy.sparse\n",
    "import pandas as pd\n",
    "import matplotlib.pyplot as plt\n",
    "import seaborn as sns\n",
    "import numpy as np\n",
    "from tqdm.notebook import tqdm \n",
    "\n",
    "from sklearn.model_selection import train_test_split, RandomizedSearchCV\n",
    "from sklearn.tree import DecisionTreeClassifier\n",
    "from sklearn.ensemble import RandomForestClassifier\n",
    "from sklearn.linear_model import LogisticRegression\n",
    "from sklearn.dummy import DummyClassifier\n",
    "from sklearn.metrics import f1_score\n",
    "from sklearn.feature_extraction.text import TfidfVectorizer\n",
    "\n",
    "from nltk.corpus import stopwords as nltk_stopwords\n",
    "from lightgbm import LGBMRegressor\n",
    "from catboost import CatBoostRegressor"
   ]
  },
  {
   "cell_type": "code",
   "execution_count": 4,
   "metadata": {},
   "outputs": [],
   "source": [
    "# начальное состояние генератора случайных чисел\n",
    "RANDOM_STATE = 12345"
   ]
  },
  {
   "cell_type": "markdown",
   "metadata": {},
   "source": [
    "### Обзор данных"
   ]
  },
  {
   "cell_type": "code",
   "execution_count": 5,
   "metadata": {},
   "outputs": [],
   "source": [
    "# считаем датафрейм\n",
    "data = pd.read_csv('/datasets/toxic_comments.csv')"
   ]
  },
  {
   "cell_type": "code",
   "execution_count": 6,
   "metadata": {},
   "outputs": [],
   "source": [
    "# напишем функцию, выполняющую первичный анализ данных\n",
    "def overview_data(data):\n",
    "    # выведем первые 20 строк\n",
    "    display(data.head(20))\n",
    "    # выведем информацию о датафрейме\n",
    "    data.info()\n",
    "       \n",
    "    # построим общую гистограмму для всех числовых признаков\n",
    "    data.hist(figsize=(10, 10), bins=20);\n",
    "    plt.xlabel('Значения')\n",
    "    plt.ylabel('Частота')\n",
    "    plt.show()\n",
    "    \n",
    "    # выведем описание данных\n",
    "    display(data.describe())"
   ]
  },
  {
   "cell_type": "code",
   "execution_count": 7,
   "metadata": {
    "scrolled": false
   },
   "outputs": [
    {
     "data": {
      "text/html": [
       "<div>\n",
       "<style scoped>\n",
       "    .dataframe tbody tr th:only-of-type {\n",
       "        vertical-align: middle;\n",
       "    }\n",
       "\n",
       "    .dataframe tbody tr th {\n",
       "        vertical-align: top;\n",
       "    }\n",
       "\n",
       "    .dataframe thead th {\n",
       "        text-align: right;\n",
       "    }\n",
       "</style>\n",
       "<table border=\"1\" class=\"dataframe\">\n",
       "  <thead>\n",
       "    <tr style=\"text-align: right;\">\n",
       "      <th></th>\n",
       "      <th>Unnamed: 0</th>\n",
       "      <th>text</th>\n",
       "      <th>toxic</th>\n",
       "    </tr>\n",
       "  </thead>\n",
       "  <tbody>\n",
       "    <tr>\n",
       "      <th>0</th>\n",
       "      <td>0</td>\n",
       "      <td>Explanation\\nWhy the edits made under my usern...</td>\n",
       "      <td>0</td>\n",
       "    </tr>\n",
       "    <tr>\n",
       "      <th>1</th>\n",
       "      <td>1</td>\n",
       "      <td>D'aww! He matches this background colour I'm s...</td>\n",
       "      <td>0</td>\n",
       "    </tr>\n",
       "    <tr>\n",
       "      <th>2</th>\n",
       "      <td>2</td>\n",
       "      <td>Hey man, I'm really not trying to edit war. It...</td>\n",
       "      <td>0</td>\n",
       "    </tr>\n",
       "    <tr>\n",
       "      <th>3</th>\n",
       "      <td>3</td>\n",
       "      <td>\"\\nMore\\nI can't make any real suggestions on ...</td>\n",
       "      <td>0</td>\n",
       "    </tr>\n",
       "    <tr>\n",
       "      <th>4</th>\n",
       "      <td>4</td>\n",
       "      <td>You, sir, are my hero. Any chance you remember...</td>\n",
       "      <td>0</td>\n",
       "    </tr>\n",
       "    <tr>\n",
       "      <th>5</th>\n",
       "      <td>5</td>\n",
       "      <td>\"\\n\\nCongratulations from me as well, use the ...</td>\n",
       "      <td>0</td>\n",
       "    </tr>\n",
       "    <tr>\n",
       "      <th>6</th>\n",
       "      <td>6</td>\n",
       "      <td>COCKSUCKER BEFORE YOU PISS AROUND ON MY WORK</td>\n",
       "      <td>1</td>\n",
       "    </tr>\n",
       "    <tr>\n",
       "      <th>7</th>\n",
       "      <td>7</td>\n",
       "      <td>Your vandalism to the Matt Shirvington article...</td>\n",
       "      <td>0</td>\n",
       "    </tr>\n",
       "    <tr>\n",
       "      <th>8</th>\n",
       "      <td>8</td>\n",
       "      <td>Sorry if the word 'nonsense' was offensive to ...</td>\n",
       "      <td>0</td>\n",
       "    </tr>\n",
       "    <tr>\n",
       "      <th>9</th>\n",
       "      <td>9</td>\n",
       "      <td>alignment on this subject and which are contra...</td>\n",
       "      <td>0</td>\n",
       "    </tr>\n",
       "    <tr>\n",
       "      <th>10</th>\n",
       "      <td>10</td>\n",
       "      <td>\"\\nFair use rationale for Image:Wonju.jpg\\n\\nT...</td>\n",
       "      <td>0</td>\n",
       "    </tr>\n",
       "    <tr>\n",
       "      <th>11</th>\n",
       "      <td>11</td>\n",
       "      <td>bbq \\n\\nbe a man and lets discuss it-maybe ove...</td>\n",
       "      <td>0</td>\n",
       "    </tr>\n",
       "    <tr>\n",
       "      <th>12</th>\n",
       "      <td>12</td>\n",
       "      <td>Hey... what is it..\\n@ | talk .\\nWhat is it......</td>\n",
       "      <td>1</td>\n",
       "    </tr>\n",
       "    <tr>\n",
       "      <th>13</th>\n",
       "      <td>13</td>\n",
       "      <td>Before you start throwing accusations and warn...</td>\n",
       "      <td>0</td>\n",
       "    </tr>\n",
       "    <tr>\n",
       "      <th>14</th>\n",
       "      <td>14</td>\n",
       "      <td>Oh, and the girl above started her arguments w...</td>\n",
       "      <td>0</td>\n",
       "    </tr>\n",
       "    <tr>\n",
       "      <th>15</th>\n",
       "      <td>15</td>\n",
       "      <td>\"\\n\\nJuelz Santanas Age\\n\\nIn 2002, Juelz Sant...</td>\n",
       "      <td>0</td>\n",
       "    </tr>\n",
       "    <tr>\n",
       "      <th>16</th>\n",
       "      <td>16</td>\n",
       "      <td>Bye! \\n\\nDon't look, come or think of comming ...</td>\n",
       "      <td>1</td>\n",
       "    </tr>\n",
       "    <tr>\n",
       "      <th>17</th>\n",
       "      <td>17</td>\n",
       "      <td>REDIRECT Talk:Voydan Pop Georgiev- Chernodrinski</td>\n",
       "      <td>0</td>\n",
       "    </tr>\n",
       "    <tr>\n",
       "      <th>18</th>\n",
       "      <td>18</td>\n",
       "      <td>The Mitsurugi point made no sense - why not ar...</td>\n",
       "      <td>0</td>\n",
       "    </tr>\n",
       "    <tr>\n",
       "      <th>19</th>\n",
       "      <td>19</td>\n",
       "      <td>Don't mean to bother you \\n\\nI see that you're...</td>\n",
       "      <td>0</td>\n",
       "    </tr>\n",
       "  </tbody>\n",
       "</table>\n",
       "</div>"
      ],
      "text/plain": [
       "    Unnamed: 0                                               text  toxic\n",
       "0            0  Explanation\\nWhy the edits made under my usern...      0\n",
       "1            1  D'aww! He matches this background colour I'm s...      0\n",
       "2            2  Hey man, I'm really not trying to edit war. It...      0\n",
       "3            3  \"\\nMore\\nI can't make any real suggestions on ...      0\n",
       "4            4  You, sir, are my hero. Any chance you remember...      0\n",
       "5            5  \"\\n\\nCongratulations from me as well, use the ...      0\n",
       "6            6       COCKSUCKER BEFORE YOU PISS AROUND ON MY WORK      1\n",
       "7            7  Your vandalism to the Matt Shirvington article...      0\n",
       "8            8  Sorry if the word 'nonsense' was offensive to ...      0\n",
       "9            9  alignment on this subject and which are contra...      0\n",
       "10          10  \"\\nFair use rationale for Image:Wonju.jpg\\n\\nT...      0\n",
       "11          11  bbq \\n\\nbe a man and lets discuss it-maybe ove...      0\n",
       "12          12  Hey... what is it..\\n@ | talk .\\nWhat is it......      1\n",
       "13          13  Before you start throwing accusations and warn...      0\n",
       "14          14  Oh, and the girl above started her arguments w...      0\n",
       "15          15  \"\\n\\nJuelz Santanas Age\\n\\nIn 2002, Juelz Sant...      0\n",
       "16          16  Bye! \\n\\nDon't look, come or think of comming ...      1\n",
       "17          17   REDIRECT Talk:Voydan Pop Georgiev- Chernodrinski      0\n",
       "18          18  The Mitsurugi point made no sense - why not ar...      0\n",
       "19          19  Don't mean to bother you \\n\\nI see that you're...      0"
      ]
     },
     "metadata": {},
     "output_type": "display_data"
    },
    {
     "name": "stdout",
     "output_type": "stream",
     "text": [
      "<class 'pandas.core.frame.DataFrame'>\n",
      "RangeIndex: 159292 entries, 0 to 159291\n",
      "Data columns (total 3 columns):\n",
      " #   Column      Non-Null Count   Dtype \n",
      "---  ------      --------------   ----- \n",
      " 0   Unnamed: 0  159292 non-null  int64 \n",
      " 1   text        159292 non-null  object\n",
      " 2   toxic       159292 non-null  int64 \n",
      "dtypes: int64(2), object(1)\n",
      "memory usage: 3.6+ MB\n"
     ]
    },
    {
     "data": {
      "image/png": "[encoded data removed]",
      "text/plain": [
       "<Figure size 720x720 with 2 Axes>"
      ]
     },
     "metadata": {
      "needs_background": "light"
     },
     "output_type": "display_data"
    },
    {
     "data": {
      "text/html": [
       "<div>\n",
       "<style scoped>\n",
       "    .dataframe tbody tr th:only-of-type {\n",
       "        vertical-align: middle;\n",
       "    }\n",
       "\n",
       "    .dataframe tbody tr th {\n",
       "        vertical-align: top;\n",
       "    }\n",
       "\n",
       "    .dataframe thead th {\n",
       "        text-align: right;\n",
       "    }\n",
       "</style>\n",
       "<table border=\"1\" class=\"dataframe\">\n",
       "  <thead>\n",
       "    <tr style=\"text-align: right;\">\n",
       "      <th></th>\n",
       "      <th>Unnamed: 0</th>\n",
       "      <th>toxic</th>\n",
       "    </tr>\n",
       "  </thead>\n",
       "  <tbody>\n",
       "    <tr>\n",
       "      <th>count</th>\n",
       "      <td>159292.000000</td>\n",
       "      <td>159292.000000</td>\n",
       "    </tr>\n",
       "    <tr>\n",
       "      <th>mean</th>\n",
       "      <td>79725.697242</td>\n",
       "      <td>0.101612</td>\n",
       "    </tr>\n",
       "    <tr>\n",
       "      <th>std</th>\n",
       "      <td>46028.837471</td>\n",
       "      <td>0.302139</td>\n",
       "    </tr>\n",
       "    <tr>\n",
       "      <th>min</th>\n",
       "      <td>0.000000</td>\n",
       "      <td>0.000000</td>\n",
       "    </tr>\n",
       "    <tr>\n",
       "      <th>25%</th>\n",
       "      <td>39872.750000</td>\n",
       "      <td>0.000000</td>\n",
       "    </tr>\n",
       "    <tr>\n",
       "      <th>50%</th>\n",
       "      <td>79721.500000</td>\n",
       "      <td>0.000000</td>\n",
       "    </tr>\n",
       "    <tr>\n",
       "      <th>75%</th>\n",
       "      <td>119573.250000</td>\n",
       "      <td>0.000000</td>\n",
       "    </tr>\n",
       "    <tr>\n",
       "      <th>max</th>\n",
       "      <td>159450.000000</td>\n",
       "      <td>1.000000</td>\n",
       "    </tr>\n",
       "  </tbody>\n",
       "</table>\n",
       "</div>"
      ],
      "text/plain": [
       "          Unnamed: 0          toxic\n",
       "count  159292.000000  159292.000000\n",
       "mean    79725.697242       0.101612\n",
       "std     46028.837471       0.302139\n",
       "min         0.000000       0.000000\n",
       "25%     39872.750000       0.000000\n",
       "50%     79721.500000       0.000000\n",
       "75%    119573.250000       0.000000\n",
       "max    159450.000000       1.000000"
      ]
     },
     "metadata": {},
     "output_type": "display_data"
    }
   ],
   "source": [
    "# выполним первичный анализ данных для датафрейма\n",
    "overview_data(data)"
   ]
  },
  {
   "cell_type": "markdown",
   "metadata": {},
   "source": [
    "Столбец 'Unnamed: не информативен, поэтому удалим его:"
   ]
  },
  {
   "cell_type": "code",
   "execution_count": 8,
   "metadata": {
    "scrolled": true
   },
   "outputs": [
    {
     "name": "stdout",
     "output_type": "stream",
     "text": [
      "<class 'pandas.core.frame.DataFrame'>\n",
      "RangeIndex: 159292 entries, 0 to 159291\n",
      "Data columns (total 2 columns):\n",
      " #   Column  Non-Null Count   Dtype \n",
      "---  ------  --------------   ----- \n",
      " 0   text    159292 non-null  object\n",
      " 1   toxic   159292 non-null  int64 \n",
      "dtypes: int64(1), object(1)\n",
      "memory usage: 2.4+ MB\n"
     ]
    }
   ],
   "source": [
    "data = data.drop('Unnamed: 0', axis=1)\n",
    "data.info()"
   ]
  },
  {
   "cell_type": "markdown",
   "metadata": {},
   "source": [
    "<div style=\"border:solid green 2px; padding: 20px\">\n",
    "\n",
    "* Данные содержат комментарии и целевой признак - является ли комментарий токсичным.\n",
    "* Столбец `Unnamed: 0` удалён, так как он не информативен.\n",
    "* Пропусков в данных нет.\n",
    "* Судя по описанию данных, доля токсичных комментариев в датафрейме: 10%.\n",
    "    \n",
    "</div>"
   ]
  },
  {
   "cell_type": "markdown",
   "metadata": {},
   "source": [
    "### Очистка и лемматизация текста"
   ]
  },
  {
   "cell_type": "markdown",
   "metadata": {},
   "source": [
    "Для корректных результатов анализа комментариев приведем их к нижнему регистру, удалим из них символы  и лемматизируем их:"
   ]
  },
  {
   "cell_type": "code",
   "execution_count": 9,
   "metadata": {},
   "outputs": [],
   "source": [
    "# добавим функцию, выполняющую очистку текста\n",
    "def clear_text(text):\n",
    "    clean_test = re.sub(r'[^a-zA-Z ]', ' ', text) \n",
    "    return ' '.join(clean_test.split())\n",
    "\n",
    "# загрузим модель английского языка для обработки текста\n",
    "nlp = spacy.load('en_core_web_sm', disable=['parser', 'ner'])\n",
    "# добавим функцию, выполняющую лемматизацию текста\n",
    "def lemmatize(text):\n",
    "    doc = nlp(text)\n",
    "    # Выполните лемматизацию для каждого токена\n",
    "    lemmatized_text = ' '.join([token.lemma_ for token in doc])\n",
    "    return lemmatized_text"
   ]
  },
  {
   "cell_type": "code",
   "execution_count": 10,
   "metadata": {
    "scrolled": false
   },
   "outputs": [],
   "source": [
    "# приведем текст к нижнему регистру\n",
    "data['text'] = data['text'].str.lower()\n",
    "\n",
    "# применим функцию clear_text к каждой строке столбца 'text'\n",
    "data['text'] = data['text'].apply(clear_text)"
   ]
  },
  {
   "cell_type": "code",
   "execution_count": 11,
   "metadata": {
    "scrolled": true
   },
   "outputs": [
    {
     "data": {
      "application/vnd.jupyter.widget-view+json": {
       "model_id": "7ff6f168c2004a11acfe2d742dd9c1ed",
       "version_major": 2,
       "version_minor": 0
      },
      "text/plain": [
       "  0%|          | 0/159292 [00:00<?, ?it/s]"
      ]
     },
     "metadata": {},
     "output_type": "display_data"
    },
    {
     "data": {
      "text/html": [
       "<div>\n",
       "<style scoped>\n",
       "    .dataframe tbody tr th:only-of-type {\n",
       "        vertical-align: middle;\n",
       "    }\n",
       "\n",
       "    .dataframe tbody tr th {\n",
       "        vertical-align: top;\n",
       "    }\n",
       "\n",
       "    .dataframe thead th {\n",
       "        text-align: right;\n",
       "    }\n",
       "</style>\n",
       "<table border=\"1\" class=\"dataframe\">\n",
       "  <thead>\n",
       "    <tr style=\"text-align: right;\">\n",
       "      <th></th>\n",
       "      <th>text</th>\n",
       "      <th>toxic</th>\n",
       "    </tr>\n",
       "  </thead>\n",
       "  <tbody>\n",
       "    <tr>\n",
       "      <th>0</th>\n",
       "      <td>explanation why the edit make under my usernam...</td>\n",
       "      <td>0</td>\n",
       "    </tr>\n",
       "    <tr>\n",
       "      <th>1</th>\n",
       "      <td>d aww he match this background colour I m seem...</td>\n",
       "      <td>0</td>\n",
       "    </tr>\n",
       "    <tr>\n",
       "      <th>2</th>\n",
       "      <td>hey man I m really not try to edit war it s ju...</td>\n",
       "      <td>0</td>\n",
       "    </tr>\n",
       "    <tr>\n",
       "      <th>3</th>\n",
       "      <td>more I can t make any real suggestion on impro...</td>\n",
       "      <td>0</td>\n",
       "    </tr>\n",
       "    <tr>\n",
       "      <th>4</th>\n",
       "      <td>you sir be my hero any chance you remember wha...</td>\n",
       "      <td>0</td>\n",
       "    </tr>\n",
       "  </tbody>\n",
       "</table>\n",
       "</div>"
      ],
      "text/plain": [
       "                                                text  toxic\n",
       "0  explanation why the edit make under my usernam...      0\n",
       "1  d aww he match this background colour I m seem...      0\n",
       "2  hey man I m really not try to edit war it s ju...      0\n",
       "3  more I can t make any real suggestion on impro...      0\n",
       "4  you sir be my hero any chance you remember wha...      0"
      ]
     },
     "metadata": {},
     "output_type": "display_data"
    }
   ],
   "source": [
    "# применим функцию лемматизации текста с отображением прогресс-бара, так как операция длительная\n",
    "tqdm.pandas()\n",
    "data['text'] = data['text'].progress_apply(lemmatize)\n",
    "\n",
    "display(data.head())"
   ]
  },
  {
   "cell_type": "markdown",
   "metadata": {},
   "source": [
    "Так как процесс лемматизации занимает много времени, сохраним в файл результат лемматизации, чтобы не ждать результаты ее применения при каждом запуске:"
   ]
  },
  {
   "cell_type": "code",
   "execution_count": 12,
   "metadata": {},
   "outputs": [
    {
     "name": "stdout",
     "output_type": "stream",
     "text": [
      "text => 0         explanation why the edit make under my usernam...\n",
      "1         d aww he match this background colour I m seem...\n",
      "2         hey man I m really not try to edit war it s ju...\n",
      "3         more I can t make any real suggestion on impro...\n",
      "4         you sir be my hero any chance you remember wha...\n",
      "                                ...                        \n",
      "159287    and for the second time of ask when your view ...\n",
      "159288    you should be ashamed of yourself that be a ho...\n",
      "159289    spitzer umm there s no actual article for pros...\n",
      "159290    and it look like it be actually you who put on...\n",
      "159291    and I really don t think you understand I come...\n",
      "Name: text, Length: 159292, dtype: object\n",
      "toxic => 0         0\n",
      "1         0\n",
      "2         0\n",
      "3         0\n",
      "4         0\n",
      "         ..\n",
      "159287    0\n",
      "159288    0\n",
      "159289    0\n",
      "159290    0\n",
      "159291    0\n",
      "Name: toxic, Length: 159292, dtype: int64\n"
     ]
    },
    {
     "data": {
      "text/html": [
       "<div>\n",
       "<style scoped>\n",
       "    .dataframe tbody tr th:only-of-type {\n",
       "        vertical-align: middle;\n",
       "    }\n",
       "\n",
       "    .dataframe tbody tr th {\n",
       "        vertical-align: top;\n",
       "    }\n",
       "\n",
       "    .dataframe thead th {\n",
       "        text-align: right;\n",
       "    }\n",
       "</style>\n",
       "<table border=\"1\" class=\"dataframe\">\n",
       "  <thead>\n",
       "    <tr style=\"text-align: right;\">\n",
       "      <th></th>\n",
       "      <th>text</th>\n",
       "      <th>toxic</th>\n",
       "    </tr>\n",
       "  </thead>\n",
       "  <tbody>\n",
       "    <tr>\n",
       "      <th>0</th>\n",
       "      <td>explanation why the edit make under my usernam...</td>\n",
       "      <td>0</td>\n",
       "    </tr>\n",
       "    <tr>\n",
       "      <th>1</th>\n",
       "      <td>d aww he match this background colour I m seem...</td>\n",
       "      <td>0</td>\n",
       "    </tr>\n",
       "    <tr>\n",
       "      <th>2</th>\n",
       "      <td>hey man I m really not try to edit war it s ju...</td>\n",
       "      <td>0</td>\n",
       "    </tr>\n",
       "    <tr>\n",
       "      <th>3</th>\n",
       "      <td>more I can t make any real suggestion on impro...</td>\n",
       "      <td>0</td>\n",
       "    </tr>\n",
       "    <tr>\n",
       "      <th>4</th>\n",
       "      <td>you sir be my hero any chance you remember wha...</td>\n",
       "      <td>0</td>\n",
       "    </tr>\n",
       "  </tbody>\n",
       "</table>\n",
       "</div>"
      ],
      "text/plain": [
       "                                                text  toxic\n",
       "0  explanation why the edit make under my usernam...      0\n",
       "1  d aww he match this background colour I m seem...      0\n",
       "2  hey man I m really not try to edit war it s ju...      0\n",
       "3  more I can t make any real suggestion on impro...      0\n",
       "4  you sir be my hero any chance you remember wha...      0"
      ]
     },
     "execution_count": 12,
     "metadata": {},
     "output_type": "execute_result"
    }
   ],
   "source": [
    "# добавим функцию, сохраняющую лемматизированные тексты в файл\n",
    "def storeData(data):\n",
    "    dbfile = open('Lemmatized_texts', 'wb')\n",
    "    pickle.dump(data, dbfile)                   \n",
    "    dbfile.close()\n",
    "\n",
    "# добавим функцию, считывающие лемматизированные текстыы из файла в data\n",
    "def loadData():\n",
    "    dbfile = open('Lemmatized_texts', 'rb')   \n",
    "    data = pickle.load(dbfile)\n",
    "    for keys in data:\n",
    "        print(keys, '=>', data[keys])\n",
    "    dbfile.close()\n",
    "    return data\n",
    "\n",
    "# раскомментировать, чтобы сохранить лемматизированные тексты в файл\n",
    "# storeData(data)\n",
    "\n",
    "# раскомментировать, чтобы загрузить лемматизированные тексты из файла\n",
    "# data = loadData()\n",
    "# data.head()"
   ]
  },
  {
   "cell_type": "markdown",
   "metadata": {},
   "source": [
    "### Подготовка выборок"
   ]
  },
  {
   "cell_type": "code",
   "execution_count": 34,
   "metadata": {},
   "outputs": [
    {
     "data": {
      "text/plain": [
       "(119469, 1)"
      ]
     },
     "execution_count": 34,
     "metadata": {},
     "output_type": "execute_result"
    }
   ],
   "source": [
    "features = data.drop('toxic', axis=1)\n",
    "target = data['toxic']\n",
    "features_train, features_test, target_train, target_test = train_test_split(\n",
    "    features, target, shuffle=False, test_size=0.25, random_state=RANDOM_STATE)\n",
    "\n",
    "# проверим, что выборки получились нужного размера\n",
    "features_train.shape"
   ]
  },
  {
   "cell_type": "markdown",
   "metadata": {},
   "source": [
    "### Векторизация текста"
   ]
  },
  {
   "cell_type": "markdown",
   "metadata": {},
   "source": [
    "Проведем векторизацию, вычисляя TF-IDF для корпуса текстов. Укажем также стоп-слова, т.е слова без смысловой нагрузки, которые нужно удалить из текстов:"
   ]
  },
  {
   "cell_type": "code",
   "execution_count": 35,
   "metadata": {},
   "outputs": [
    {
     "data": {
      "text/plain": [
       "(119469, 15000)"
      ]
     },
     "execution_count": 35,
     "metadata": {},
     "output_type": "execute_result"
    }
   ],
   "source": [
    "stopwords = set(nltk_stopwords.words('english'))\n",
    "\n",
    "tf_idf_vectorizer = TfidfVectorizer(stop_words=stopwords, dtype=np.float32, max_features=15000)\n",
    "\n",
    "# обучим и применим TfidfVectorizer на тренировочной выборке\n",
    "tf_idf_train = tf_idf_vectorizer.fit_transform(features_train['text'].values)\n",
    "\n",
    "td_idf_features_train = pd.DataFrame.sparse.from_spmatrix(data=tf_idf_train, columns=tf_idf_vectorizer.get_feature_names())\n",
    "\n",
    "# посмотрим, сколько признаков получилось после векторизации\n",
    "td_idf_features_train.shape"
   ]
  },
  {
   "cell_type": "code",
   "execution_count": 36,
   "metadata": {},
   "outputs": [
    {
     "data": {
      "text/plain": [
       "LogisticRegression(C=10, solver='saga')"
      ]
     },
     "execution_count": 36,
     "metadata": {},
     "output_type": "execute_result"
    }
   ],
   "source": [
    "# обучим и применим TfidfVectorizer на тренировочной выборке\n",
    "tf_idf_train_row = tf_idf_vectorizer.fit_transform(features_train['text'].values)\n",
    "dtr_model = LogisticRegression(solver='saga', C =10) \n",
    "dtr_model.fit(tf_idf_train_row, target_train)"
   ]
  },
  {
   "cell_type": "code",
   "execution_count": 37,
   "metadata": {},
   "outputs": [
    {
     "data": {
      "text/plain": [
       "scipy.sparse._csr.csr_matrix"
      ]
     },
     "execution_count": 37,
     "metadata": {},
     "output_type": "execute_result"
    }
   ],
   "source": [
    "type(tf_idf_train_row)"
   ]
  },
  {
   "cell_type": "code",
   "execution_count": 38,
   "metadata": {},
   "outputs": [
    {
     "data": {
      "text/plain": [
       "(39823, 15000)"
      ]
     },
     "execution_count": 38,
     "metadata": {},
     "output_type": "execute_result"
    }
   ],
   "source": [
    "# выполним векторизацию на тестовой выборке\n",
    "tf_idf_test = tf_idf_vectorizer.transform(features_test['text'].values)\n",
    "\n",
    "td_idf_features_test = pd.DataFrame.sparse.from_spmatrix(data=tf_idf_test, columns=tf_idf_vectorizer.get_feature_names())\n",
    "\n",
    "# посмотрим, сколько признаков получилось после векторизации\n",
    "td_idf_features_test.shape"
   ]
  },
  {
   "cell_type": "markdown",
   "metadata": {},
   "source": [
    "<div style=\"border:solid green 2px; padding: 20px\">\n",
    "\n",
    "* В рамках предобработки комментариев привели их к нижнему регистру, удалили из них символы  и лемматизировали их.\n",
    "* Убрали из комментариев стоп-слова, т.е слова без смысловой нагрузки.\n",
    "* Выполнили векторизацию текстов, вычисляя для них TF-IDF.\n",
    "* Так как процесс лемматизации занимает много времени, добавили функции, сохраняющую в файл результат лемматизации и считывающие его из файла, чтобы не ждат результаты ее применения при каждом запуске.\n",
    "    \n",
    "</div>"
   ]
  },
  {
   "cell_type": "markdown",
   "metadata": {},
   "source": [
    "## Обучение"
   ]
  },
  {
   "cell_type": "markdown",
   "metadata": {},
   "source": [
    "Для упрощения напишем функцию, которая с помощью RandomizedSearchCV подбираем лучшую модель по метрике F1 среди переданных параметров:"
   ]
  },
  {
   "cell_type": "code",
   "execution_count": 39,
   "metadata": {},
   "outputs": [],
   "source": [
    "def find_best_model(model, parameters):\n",
    "    grid_search = RandomizedSearchCV(\n",
    "        model, parameters, scoring='f1', cv=3, n_iter=10, n_jobs=-1, error_score = 'raise')\n",
    "    grid_search.fit(td_idf_features_train, target_train)\n",
    "\n",
    "    print('Наилучшая модель', grid_search.best_params_)\n",
    "    print('F1 наилучшей модели', abs(grid_search.best_score_))\n",
    "    \n",
    "    return grid_search.best_estimator_, abs(grid_search.best_score_)"
   ]
  },
  {
   "cell_type": "markdown",
   "metadata": {},
   "source": [
    "### Модель дерева решений"
   ]
  },
  {
   "cell_type": "markdown",
   "metadata": {},
   "source": [
    "Воспользуемся DecisionTreeClassifier для поиска наилучшей модели дерева решений по метрике F1:"
   ]
  },
  {
   "cell_type": "code",
   "execution_count": 40,
   "metadata": {
    "scrolled": false
   },
   "outputs": [
    {
     "name": "stdout",
     "output_type": "stream",
     "text": [
      "Наилучшая модель {'min_samples_split': 15, 'min_samples_leaf': 20, 'max_depth': 20}\n",
      "F1 наилучшей модели 0.6708169052782412\n",
      "CPU times: user 22min 33s, sys: 1.23 s, total: 22min 34s\n",
      "Wall time: 22min 35s\n"
     ]
    }
   ],
   "source": [
    "%%time\n",
    "dtr_model = DecisionTreeClassifier(random_state=RANDOM_STATE)\n",
    "dtr_parameters = {'max_depth': range(5,21, 5), 'min_samples_split': range(5, 21, 5), 'min_samples_leaf': range(5, 21, 5)}\n",
    "\n",
    "dtr_best_estimator, dtr_best_score = find_best_model(dtr_model, dtr_parameters)"
   ]
  },
  {
   "cell_type": "markdown",
   "metadata": {},
   "source": [
    "### Модель случайного леса"
   ]
  },
  {
   "cell_type": "markdown",
   "metadata": {},
   "source": [
    "Воспользуемся RandomForestClassifier для поиска наилучшей модели случайного дерева по метрике F1:"
   ]
  },
  {
   "cell_type": "code",
   "execution_count": 41,
   "metadata": {
    "scrolled": true
   },
   "outputs": [
    {
     "name": "stderr",
     "output_type": "stream",
     "text": [
      "/opt/conda/lib/python3.9/site-packages/sklearn/model_selection/_search.py:285: UserWarning: The total space of parameters 8 is smaller than n_iter=10. Running 8 iterations. For exhaustive searches, use GridSearchCV.\n",
      "  warnings.warn(\n"
     ]
    },
    {
     "name": "stdout",
     "output_type": "stream",
     "text": [
      "Наилучшая модель {'n_estimators': 200, 'max_depth': None}\n",
      "F1 наилучшей модели 0.7537217339459499\n",
      "CPU times: user 49min 58s, sys: 3.08 s, total: 50min 1s\n",
      "Wall time: 50min 3s\n"
     ]
    }
   ],
   "source": [
    "%%time\n",
    "rfr_model = RandomForestClassifier(random_state=RANDOM_STATE)\n",
    "rfr_parameters = {\"n_estimators\": [100, 200], 'max_depth': [None, 8, 12, 16]}\n",
    "\n",
    "rfr_best_estimator, rfr_best_score = find_best_model(rfr_model, rfr_parameters)"
   ]
  },
  {
   "cell_type": "markdown",
   "metadata": {},
   "source": [
    "### Логистическая регрессия"
   ]
  },
  {
   "cell_type": "code",
   "execution_count": 42,
   "metadata": {
    "scrolled": true
   },
   "outputs": [
    {
     "name": "stderr",
     "output_type": "stream",
     "text": [
      "/opt/conda/lib/python3.9/site-packages/sklearn/model_selection/_search.py:285: UserWarning: The total space of parameters 8 is smaller than n_iter=10. Running 8 iterations. For exhaustive searches, use GridSearchCV.\n",
      "  warnings.warn(\n"
     ]
    },
    {
     "name": "stdout",
     "output_type": "stream",
     "text": [
      "Наилучшая модель {'C': 9}\n",
      "F1 наилучшей модели 0.774324900805451\n",
      "CPU times: user 17min 48s, sys: 1.41 s, total: 17min 49s\n",
      "Wall time: 17min 50s\n"
     ]
    }
   ],
   "source": [
    "%%time\n",
    "lr_model = LogisticRegression(solver='liblinear', dual=True, max_iter = 1000)\n",
    "lr_parameters = {'C': range(5, 13, 1)}\n",
    "\n",
    "lr_best_estimator, lr_best_score = find_best_model(lr_model, lr_parameters)"
   ]
  },
  {
   "cell_type": "markdown",
   "metadata": {},
   "source": [
    "<div style=\"border:solid green 2px; padding: 20px\">\n",
    "    \n",
    "* Наилучший результат по метрике F1 выдала модель логистической регрессии: 0.765. Далее идет модель случайного леса с F1 0.759. Наихудший результат F1 у модели дерева решений 0.65.\n",
    "* Для решения задачи классификации комментариев по токсичности выберем модель логистической регрессии.\n",
    "\n",
    "</div>"
   ]
  },
  {
   "cell_type": "markdown",
   "metadata": {},
   "source": [
    "## Тестирование"
   ]
  },
  {
   "cell_type": "markdown",
   "metadata": {},
   "source": [
    "### Тестирование лучшей модели"
   ]
  },
  {
   "cell_type": "markdown",
   "metadata": {},
   "source": [
    "Проверим, как лучшая модель отрабатывает на тестовой выборке:"
   ]
  },
  {
   "cell_type": "code",
   "execution_count": 43,
   "metadata": {},
   "outputs": [],
   "source": [
    "# определим функцию, вычиляющую F1 модели на тестовой выборке\n",
    "def test_model(best_estimator):\n",
    "    predictions_test = best_estimator.predict(td_idf_features_test)\n",
    "\n",
    "    f1_test =  f1_score(target_test, predictions_test)\n",
    "    print('Итоговый F1 на тестовой выборке', f1_test) "
   ]
  },
  {
   "cell_type": "code",
   "execution_count": 44,
   "metadata": {},
   "outputs": [
    {
     "name": "stdout",
     "output_type": "stream",
     "text": [
      "Итоговый F1 на тестовой выборке 0.7806752676365633\n"
     ]
    }
   ],
   "source": [
    "# протестируем модель логистической регрессии\n",
    "test_model(lr_best_estimator)"
   ]
  },
  {
   "cell_type": "markdown",
   "metadata": {},
   "source": [
    "### Проверка на адекватность"
   ]
  },
  {
   "cell_type": "markdown",
   "metadata": {},
   "source": [
    "Сравним, как соотносятся полученные результаты с результатами фиктивного классификатора, который будет прогнозировать классы в соответствии с их относительными частотами в исходных данных:"
   ]
  },
  {
   "cell_type": "code",
   "execution_count": 45,
   "metadata": {},
   "outputs": [
    {
     "name": "stderr",
     "output_type": "stream",
     "text": [
      "/opt/conda/lib/python3.9/site-packages/sklearn/model_selection/_search.py:285: UserWarning: The total space of parameters 1 is smaller than n_iter=10. Running 1 iterations. For exhaustive searches, use GridSearchCV.\n",
      "  warnings.warn(\n"
     ]
    },
    {
     "name": "stdout",
     "output_type": "stream",
     "text": [
      "Наилучшая модель {}\n",
      "F1 наилучшей модели 0.10294597357046927\n",
      "Итоговый F1 на тестовой выборке 0.0948636028508233\n"
     ]
    }
   ],
   "source": [
    "dr_model = DummyClassifier(strategy='stratified')\n",
    "dr_parameters = {}\n",
    "\n",
    "dr_best_estimator, dr_best_score = find_best_model(dr_model, dr_parameters)\n",
    "test_model(dr_best_estimator)"
   ]
  },
  {
   "cell_type": "markdown",
   "metadata": {},
   "source": [
    "<div style=\"border:solid green 2px; padding: 20px\">\n",
    "    \n",
    "* Наилучшая модель логистической регрессии на тестовой выборке вычислила F1 0.772, что очень близко к результату на тренировочной выборке: 0.765 Это означает, что модель не переобучилась.\n",
    "* Сравнили результат наилучшей найденной модели логистической регрессии с фиктивным классификатором, который прогнозирует классы в соответствии с их относительными частотами в исходных данных. На тестовой выборке модель логистической регрессии показала F1 0.772, а фиктивный регрессор 0.103, что заметно лучше. В отличие от фиктивного классификатора модель логистической регрессии превосходит требуемое в задаче значение F1 на тестовой выборке не больше 0.75.\n",
    "    \n",
    "</div>"
   ]
  },
  {
   "cell_type": "markdown",
   "metadata": {},
   "source": [
    "## Общие выводы"
   ]
  },
  {
   "cell_type": "markdown",
   "metadata": {},
   "source": [
    "<div style=\"border:solid green 2px; padding: 20px\">\n",
    "    \n",
    "* В проекте **требовалось построить модель для интернет-магазина, которая будет искать токсичные комментарии к описаниям товаров**, чтобы затем отправлять их на модерацию.\n",
    "--------------------------------------------------------------------------------------------------------------------------------------------------------------------------\n",
    "* Данные содержат комментарии и целевой признак - является ли комментарий токсичным.\n",
    "* Столбец `Unnamed: 0` удалили, так как он не информативен.\n",
    "* Пропусков в данных нет.\n",
    "* Судя по описанию данных, доля токсичных комментариев в датафрейме: 10%.\n",
    "--------------------------------------------------------------------------------------------------------------------------------------------------------------------------\n",
    "* В рамках предобработки комментариев привели их к нижнему регистру, удалили из них символы  и лемматизировали их.\n",
    "* Убрали из комментариев стоп-слова, т.е слова без смысловой нагрузки.\n",
    "* Выполнили векторизацию текстов, вычисляя для них TF-IDF.\n",
    "* Так как процесс лемматизации занимает много времени, добавили функции, сохраняющую в файл результат лемматизации и считывающие его из файла, чтобы не ждать результаты ее применения при каждом запуске.   \n",
    "--------------------------------------------------------------------------------------------------------------------------------------------------------------------------   \n",
    "* **Наилучший результат по метрике F1 выдала модель логистической регрессии: 0.765.** Далее идет модель случайного леса с F1 0.759. Наихудший результат F1 у модели дерева решений 0.65.\n",
    "* Для решения задачи классификации комментариев по токсичности **выбрали модель логистической регрессии**.\n",
    "--------------------------------------------------------------------------------------------------------------------------------------------------------------------------\n",
    "* Наилучшая **модель логистической регрессии на тестовой выборке вычислила F1 0.772**, что очень близко к результату на тренировочной выборке: 0.765 Это означает, что модель не переобучилась.\n",
    "* Сравнили результат наилучшей найденной модели логистической регрессии с фиктивным классификатором, который прогнозирует классы в соответствии с их относительными частотами в исходных данных. На тестовой выборке модель логистической регрессии показала F1 0.772, а фиктивный регрессор 0.103, что заметно лучше. В отличие от фиктивного классификатора **модель логистической регрессии превосходит требуемое в задаче значение F1 на тестовой выборке не больше 0.75.**\n",
    "</div>"
   ]
  }
 ],
 "metadata": {
  "ExecuteTimeLog": [
   {
    "duration": 82,
    "start_time": "2023-08-14T18:04:10.258Z"
   },
   {
    "duration": 1482,
    "start_time": "2023-08-14T18:05:03.950Z"
   },
   {
    "duration": 2,
    "start_time": "2023-08-14T18:07:38.106Z"
   },
   {
    "duration": 3,
    "start_time": "2023-08-14T18:08:19.050Z"
   },
   {
    "duration": 104,
    "start_time": "2023-08-14T18:17:13.564Z"
   },
   {
    "duration": 2218,
    "start_time": "2023-08-14T18:17:49.721Z"
   },
   {
    "duration": 9,
    "start_time": "2023-08-14T18:23:02.863Z"
   },
   {
    "duration": 2,
    "start_time": "2023-08-14T18:23:07.374Z"
   },
   {
    "duration": 7,
    "start_time": "2023-08-14T18:23:09.523Z"
   },
   {
    "duration": 3,
    "start_time": "2023-08-14T18:25:24.565Z"
   },
   {
    "duration": 369,
    "start_time": "2023-08-14T18:25:35.699Z"
   },
   {
    "duration": 10,
    "start_time": "2023-08-14T18:29:01.221Z"
   },
   {
    "duration": 4,
    "start_time": "2023-08-14T18:29:16.170Z"
   },
   {
    "duration": 10,
    "start_time": "2023-08-14T18:29:20.225Z"
   },
   {
    "duration": 44,
    "start_time": "2023-08-14T18:29:28.697Z"
   },
   {
    "duration": 1301,
    "start_time": "2023-08-14T18:29:28.743Z"
   },
   {
    "duration": 3,
    "start_time": "2023-08-14T18:29:30.045Z"
   },
   {
    "duration": 833,
    "start_time": "2023-08-14T18:29:30.050Z"
   },
   {
    "duration": 15,
    "start_time": "2023-08-14T18:29:30.884Z"
   },
   {
    "duration": 37,
    "start_time": "2023-08-14T18:29:30.901Z"
   },
   {
    "duration": 345,
    "start_time": "2023-08-14T18:29:30.939Z"
   },
   {
    "duration": 21,
    "start_time": "2023-08-14T18:29:31.286Z"
   },
   {
    "duration": 170,
    "start_time": "2023-08-14T19:05:03.970Z"
   },
   {
    "duration": 110,
    "start_time": "2023-08-14T19:05:28.818Z"
   },
   {
    "duration": 78,
    "start_time": "2023-08-14T19:06:07.596Z"
   },
   {
    "duration": 77,
    "start_time": "2023-08-14T19:06:34.052Z"
   },
   {
    "duration": 11641,
    "start_time": "2023-08-14T19:06:48.413Z"
   },
   {
    "duration": 503,
    "start_time": "2023-08-14T19:13:36.964Z"
   },
   {
    "duration": 4,
    "start_time": "2023-08-14T19:16:04.214Z"
   },
   {
    "duration": 429,
    "start_time": "2023-08-14T19:16:13.126Z"
   },
   {
    "duration": 141,
    "start_time": "2023-08-14T19:17:36.973Z"
   },
   {
    "duration": 98,
    "start_time": "2023-08-14T19:18:01.655Z"
   },
   {
    "duration": 3,
    "start_time": "2023-08-14T19:21:16.174Z"
   },
   {
    "duration": 312,
    "start_time": "2023-08-14T19:23:28.369Z"
   },
   {
    "duration": 46,
    "start_time": "2023-08-14T19:23:42.205Z"
   },
   {
    "duration": 406,
    "start_time": "2023-08-14T19:23:59.534Z"
   },
   {
    "duration": 118088,
    "start_time": "2023-08-14T19:24:03.273Z"
   },
   {
    "duration": 49,
    "start_time": "2023-08-15T05:06:44.779Z"
   },
   {
    "duration": 12579,
    "start_time": "2023-08-15T05:06:44.829Z"
   },
   {
    "duration": 748,
    "start_time": "2023-08-15T05:06:57.410Z"
   },
   {
    "duration": 3,
    "start_time": "2023-08-15T05:06:58.160Z"
   },
   {
    "duration": 2215,
    "start_time": "2023-08-15T05:06:58.165Z"
   },
   {
    "duration": 19,
    "start_time": "2023-08-15T05:07:00.382Z"
   },
   {
    "duration": 19,
    "start_time": "2023-08-15T05:07:00.403Z"
   },
   {
    "duration": 304,
    "start_time": "2023-08-15T05:07:00.424Z"
   },
   {
    "duration": 18,
    "start_time": "2023-08-15T05:07:00.730Z"
   },
   {
    "duration": 701,
    "start_time": "2023-08-15T05:07:00.749Z"
   },
   {
    "duration": 159,
    "start_time": "2023-08-15T05:07:01.451Z"
   },
   {
    "duration": 126027,
    "start_time": "2023-08-15T05:07:01.611Z"
   },
   {
    "duration": 2,
    "start_time": "2023-08-15T05:09:07.639Z"
   },
   {
    "duration": 88642,
    "start_time": "2023-08-15T06:32:45.566Z"
   },
   {
    "duration": 106,
    "start_time": "2023-08-15T06:40:50.171Z"
   },
   {
    "duration": 64,
    "start_time": "2023-08-15T06:41:03.970Z"
   },
   {
    "duration": 12832,
    "start_time": "2023-08-15T06:41:04.036Z"
   },
   {
    "duration": 621,
    "start_time": "2023-08-15T06:41:16.871Z"
   },
   {
    "duration": 2,
    "start_time": "2023-08-15T06:41:17.494Z"
   },
   {
    "duration": 862,
    "start_time": "2023-08-15T06:41:17.498Z"
   },
   {
    "duration": 17,
    "start_time": "2023-08-15T06:41:18.361Z"
   },
   {
    "duration": 4,
    "start_time": "2023-08-15T06:41:18.380Z"
   },
   {
    "duration": 362,
    "start_time": "2023-08-15T06:41:18.386Z"
   },
   {
    "duration": 12,
    "start_time": "2023-08-15T06:41:18.753Z"
   },
   {
    "duration": 536,
    "start_time": "2023-08-15T06:41:18.767Z"
   },
   {
    "duration": 167,
    "start_time": "2023-08-15T06:41:19.305Z"
   },
   {
    "duration": 2178,
    "start_time": "2023-08-15T06:41:19.474Z"
   },
   {
    "duration": 0,
    "start_time": "2023-08-15T06:41:21.654Z"
   },
   {
    "duration": 1771,
    "start_time": "2023-08-15T06:46:20.318Z"
   },
   {
    "duration": 50,
    "start_time": "2023-08-15T06:49:25.770Z"
   },
   {
    "duration": 12540,
    "start_time": "2023-08-15T06:49:25.821Z"
   },
   {
    "duration": 637,
    "start_time": "2023-08-15T06:49:38.363Z"
   },
   {
    "duration": 2,
    "start_time": "2023-08-15T06:49:39.002Z"
   },
   {
    "duration": 824,
    "start_time": "2023-08-15T06:49:39.006Z"
   },
   {
    "duration": 27,
    "start_time": "2023-08-15T06:49:39.832Z"
   },
   {
    "duration": 16,
    "start_time": "2023-08-15T06:49:39.861Z"
   },
   {
    "duration": 322,
    "start_time": "2023-08-15T06:49:39.879Z"
   },
   {
    "duration": 11,
    "start_time": "2023-08-15T06:49:40.203Z"
   },
   {
    "duration": 512,
    "start_time": "2023-08-15T06:49:40.216Z"
   },
   {
    "duration": 173,
    "start_time": "2023-08-15T06:49:40.730Z"
   },
   {
    "duration": 360,
    "start_time": "2023-08-15T06:49:40.905Z"
   },
   {
    "duration": 0,
    "start_time": "2023-08-15T06:49:41.267Z"
   },
   {
    "duration": 3,
    "start_time": "2023-08-15T06:50:10.765Z"
   },
   {
    "duration": 133118,
    "start_time": "2023-08-15T06:50:16.051Z"
   },
   {
    "duration": 116,
    "start_time": "2023-08-15T07:51:45.165Z"
   },
   {
    "duration": 9728,
    "start_time": "2023-08-15T07:51:45.283Z"
   },
   {
    "duration": 4,
    "start_time": "2023-08-15T07:51:55.013Z"
   },
   {
    "duration": 14,
    "start_time": "2023-08-15T07:51:55.019Z"
   },
   {
    "duration": 885,
    "start_time": "2023-08-15T07:51:55.035Z"
   },
   {
    "duration": 31,
    "start_time": "2023-08-15T07:51:55.921Z"
   },
   {
    "duration": 5,
    "start_time": "2023-08-15T07:51:55.956Z"
   },
   {
    "duration": 338,
    "start_time": "2023-08-15T07:51:55.962Z"
   },
   {
    "duration": 13,
    "start_time": "2023-08-15T07:51:56.302Z"
   },
   {
    "duration": 439,
    "start_time": "2023-08-15T07:51:56.337Z"
   },
   {
    "duration": 181,
    "start_time": "2023-08-15T07:51:56.778Z"
   },
   {
    "duration": 146853,
    "start_time": "2023-08-15T07:51:56.961Z"
   },
   {
    "duration": 3,
    "start_time": "2023-08-15T07:54:23.817Z"
   },
   {
    "duration": 27,
    "start_time": "2023-08-15T07:54:23.821Z"
   },
   {
    "duration": 53,
    "start_time": "2023-08-15T08:18:16.170Z"
   },
   {
    "duration": 13496,
    "start_time": "2023-08-15T08:18:16.225Z"
   },
   {
    "duration": 708,
    "start_time": "2023-08-15T08:18:29.722Z"
   },
   {
    "duration": 12,
    "start_time": "2023-08-15T08:18:30.433Z"
   },
   {
    "duration": 1016,
    "start_time": "2023-08-15T08:18:30.453Z"
   },
   {
    "duration": 24,
    "start_time": "2023-08-15T08:18:31.473Z"
   },
   {
    "duration": 32,
    "start_time": "2023-08-15T08:18:31.499Z"
   },
   {
    "duration": 444,
    "start_time": "2023-08-15T08:18:31.532Z"
   },
   {
    "duration": 19,
    "start_time": "2023-08-15T08:18:31.981Z"
   },
   {
    "duration": 674,
    "start_time": "2023-08-15T08:18:32.007Z"
   },
   {
    "duration": 202,
    "start_time": "2023-08-15T08:18:32.683Z"
   },
   {
    "duration": 142068,
    "start_time": "2023-08-15T08:18:32.888Z"
   },
   {
    "duration": 4,
    "start_time": "2023-08-15T08:20:54.957Z"
   },
   {
    "duration": 33,
    "start_time": "2023-08-15T08:20:54.962Z"
   },
   {
    "duration": 219,
    "start_time": "2023-08-15T08:25:44.511Z"
   },
   {
    "duration": 380,
    "start_time": "2023-08-15T08:39:35.671Z"
   },
   {
    "duration": 8,
    "start_time": "2023-08-15T08:39:46.056Z"
   },
   {
    "duration": 7,
    "start_time": "2023-08-15T08:41:10.103Z"
   },
   {
    "duration": 8,
    "start_time": "2023-08-15T08:42:13.679Z"
   },
   {
    "duration": 8,
    "start_time": "2023-08-15T08:46:08.978Z"
   },
   {
    "duration": 11,
    "start_time": "2023-08-15T08:46:38.929Z"
   },
   {
    "duration": 20,
    "start_time": "2023-08-15T08:47:06.591Z"
   },
   {
    "duration": 8,
    "start_time": "2023-08-15T08:47:12.795Z"
   },
   {
    "duration": 21,
    "start_time": "2023-08-15T08:48:50.109Z"
   },
   {
    "duration": 1020,
    "start_time": "2023-08-15T08:49:35.731Z"
   },
   {
    "duration": 929,
    "start_time": "2023-08-15T08:49:54.461Z"
   },
   {
    "duration": 303,
    "start_time": "2023-08-15T08:52:21.659Z"
   },
   {
    "duration": 4,
    "start_time": "2023-08-15T10:17:35.870Z"
   },
   {
    "duration": 133,
    "start_time": "2023-08-15T10:21:02.411Z"
   },
   {
    "duration": 45,
    "start_time": "2023-08-15T10:22:12.329Z"
   },
   {
    "duration": 198,
    "start_time": "2023-08-15T10:22:19.450Z"
   },
   {
    "duration": 277,
    "start_time": "2023-08-15T10:22:30.898Z"
   },
   {
    "duration": 4,
    "start_time": "2023-08-15T10:23:41.782Z"
   },
   {
    "duration": 67,
    "start_time": "2023-08-15T10:31:34.763Z"
   },
   {
    "duration": 14837,
    "start_time": "2023-08-15T10:31:34.833Z"
   },
   {
    "duration": 883,
    "start_time": "2023-08-15T10:31:49.672Z"
   },
   {
    "duration": 5,
    "start_time": "2023-08-15T10:31:50.558Z"
   },
   {
    "duration": 891,
    "start_time": "2023-08-15T10:31:50.565Z"
   },
   {
    "duration": 14,
    "start_time": "2023-08-15T10:31:51.458Z"
   },
   {
    "duration": 10,
    "start_time": "2023-08-15T10:31:51.474Z"
   },
   {
    "duration": 346,
    "start_time": "2023-08-15T10:31:51.485Z"
   },
   {
    "duration": 25,
    "start_time": "2023-08-15T10:31:51.833Z"
   },
   {
    "duration": 532,
    "start_time": "2023-08-15T10:31:51.861Z"
   },
   {
    "duration": 174,
    "start_time": "2023-08-15T10:31:52.395Z"
   },
   {
    "duration": 136640,
    "start_time": "2023-08-15T10:31:52.571Z"
   },
   {
    "duration": 2,
    "start_time": "2023-08-15T10:34:09.212Z"
   },
   {
    "duration": 25,
    "start_time": "2023-08-15T10:34:09.216Z"
   },
   {
    "duration": 883,
    "start_time": "2023-08-15T10:34:09.242Z"
   },
   {
    "duration": 287,
    "start_time": "2023-08-15T10:34:10.126Z"
   },
   {
    "duration": 3,
    "start_time": "2023-08-15T10:34:10.416Z"
   },
   {
    "duration": 17294,
    "start_time": "2023-08-15T10:34:10.421Z"
   },
   {
    "duration": 61,
    "start_time": "2023-08-15T10:35:50.533Z"
   },
   {
    "duration": 98,
    "start_time": "2023-08-15T10:36:24.657Z"
   },
   {
    "duration": 15013,
    "start_time": "2023-08-15T10:36:24.757Z"
   },
   {
    "duration": 929,
    "start_time": "2023-08-15T10:36:39.773Z"
   },
   {
    "duration": 5,
    "start_time": "2023-08-15T10:36:40.703Z"
   },
   {
    "duration": 2479,
    "start_time": "2023-08-15T10:36:40.711Z"
   },
   {
    "duration": 15,
    "start_time": "2023-08-15T10:36:43.191Z"
   },
   {
    "duration": 4,
    "start_time": "2023-08-15T10:36:43.208Z"
   },
   {
    "duration": 312,
    "start_time": "2023-08-15T10:36:43.214Z"
   },
   {
    "duration": 23,
    "start_time": "2023-08-15T10:36:43.527Z"
   },
   {
    "duration": 530,
    "start_time": "2023-08-15T10:36:43.552Z"
   },
   {
    "duration": 166,
    "start_time": "2023-08-15T10:36:44.083Z"
   },
   {
    "duration": 136401,
    "start_time": "2023-08-15T10:36:44.251Z"
   },
   {
    "duration": 3,
    "start_time": "2023-08-15T10:39:00.654Z"
   },
   {
    "duration": 61,
    "start_time": "2023-08-15T10:39:00.660Z"
   },
   {
    "duration": 943,
    "start_time": "2023-08-15T10:39:00.723Z"
   },
   {
    "duration": 302,
    "start_time": "2023-08-15T10:39:01.668Z"
   },
   {
    "duration": 4,
    "start_time": "2023-08-15T10:39:01.972Z"
   },
   {
    "duration": 118,
    "start_time": "2023-08-15T10:39:01.977Z"
   },
   {
    "duration": 21553,
    "start_time": "2023-08-15T10:39:02.097Z"
   },
   {
    "duration": 161,
    "start_time": "2023-08-15T10:54:59.548Z"
   },
   {
    "duration": 1735,
    "start_time": "2023-08-15T10:55:16.402Z"
   },
   {
    "duration": 51,
    "start_time": "2023-08-15T10:55:43.370Z"
   },
   {
    "duration": 13222,
    "start_time": "2023-08-15T10:55:43.422Z"
   },
   {
    "duration": 798,
    "start_time": "2023-08-15T10:55:56.646Z"
   },
   {
    "duration": 5,
    "start_time": "2023-08-15T10:55:57.445Z"
   },
   {
    "duration": 2402,
    "start_time": "2023-08-15T10:55:57.452Z"
   },
   {
    "duration": 16,
    "start_time": "2023-08-15T10:55:59.856Z"
   },
   {
    "duration": 6,
    "start_time": "2023-08-15T10:55:59.875Z"
   },
   {
    "duration": 321,
    "start_time": "2023-08-15T10:55:59.883Z"
   },
   {
    "duration": 12,
    "start_time": "2023-08-15T10:56:00.206Z"
   },
   {
    "duration": 560,
    "start_time": "2023-08-15T10:56:00.238Z"
   },
   {
    "duration": 81,
    "start_time": "2023-08-15T10:56:00.800Z"
   },
   {
    "duration": 68388,
    "start_time": "2023-08-15T10:56:00.883Z"
   },
   {
    "duration": 3,
    "start_time": "2023-08-15T10:57:09.272Z"
   },
   {
    "duration": 43,
    "start_time": "2023-08-15T10:57:09.276Z"
   },
   {
    "duration": 418,
    "start_time": "2023-08-15T10:57:09.321Z"
   },
   {
    "duration": 134,
    "start_time": "2023-08-15T10:57:09.740Z"
   },
   {
    "duration": 3,
    "start_time": "2023-08-15T10:57:09.875Z"
   },
   {
    "duration": 47,
    "start_time": "2023-08-15T10:57:09.880Z"
   },
   {
    "duration": 4,
    "start_time": "2023-08-15T10:57:09.929Z"
   },
   {
    "duration": 49,
    "start_time": "2023-08-15T10:59:47.414Z"
   },
   {
    "duration": 13046,
    "start_time": "2023-08-15T10:59:47.466Z"
   },
   {
    "duration": 912,
    "start_time": "2023-08-15T11:00:00.514Z"
   },
   {
    "duration": 6,
    "start_time": "2023-08-15T11:00:01.427Z"
   },
   {
    "duration": 1005,
    "start_time": "2023-08-15T11:00:01.437Z"
   },
   {
    "duration": 17,
    "start_time": "2023-08-15T11:00:02.444Z"
   },
   {
    "duration": 399,
    "start_time": "2023-08-15T11:00:02.464Z"
   },
   {
    "duration": 445,
    "start_time": "2023-08-15T11:00:02.866Z"
   },
   {
    "duration": 12,
    "start_time": "2023-08-15T11:00:03.313Z"
   },
   {
    "duration": 660,
    "start_time": "2023-08-15T11:00:03.338Z"
   },
   {
    "duration": 81,
    "start_time": "2023-08-15T11:00:03.999Z"
   },
   {
    "duration": 71208,
    "start_time": "2023-08-15T11:00:04.082Z"
   },
   {
    "duration": 3,
    "start_time": "2023-08-15T11:01:15.291Z"
   },
   {
    "duration": 10,
    "start_time": "2023-08-15T11:01:15.296Z"
   },
   {
    "duration": 406,
    "start_time": "2023-08-15T11:01:15.307Z"
   },
   {
    "duration": 131,
    "start_time": "2023-08-15T11:01:15.714Z"
   },
   {
    "duration": 4,
    "start_time": "2023-08-15T11:01:15.846Z"
   },
   {
    "duration": 37,
    "start_time": "2023-08-15T11:01:15.851Z"
   },
   {
    "duration": 196287,
    "start_time": "2023-08-15T11:01:15.889Z"
   },
   {
    "duration": 119737,
    "start_time": "2023-08-15T11:04:32.178Z"
   },
   {
    "duration": 63,
    "start_time": "2023-08-15T11:20:22.265Z"
   },
   {
    "duration": 12651,
    "start_time": "2023-08-15T11:20:22.330Z"
   },
   {
    "duration": 796,
    "start_time": "2023-08-15T11:20:34.983Z"
   },
   {
    "duration": 5,
    "start_time": "2023-08-15T11:20:35.781Z"
   },
   {
    "duration": 820,
    "start_time": "2023-08-15T11:20:35.788Z"
   },
   {
    "duration": 13,
    "start_time": "2023-08-15T11:20:36.609Z"
   },
   {
    "duration": 3,
    "start_time": "2023-08-15T11:20:36.624Z"
   },
   {
    "duration": 300,
    "start_time": "2023-08-15T11:20:36.638Z"
   },
   {
    "duration": 10,
    "start_time": "2023-08-15T11:20:36.939Z"
   },
   {
    "duration": 469,
    "start_time": "2023-08-15T11:20:36.951Z"
   },
   {
    "duration": 79,
    "start_time": "2023-08-15T11:20:37.421Z"
   },
   {
    "duration": 65343,
    "start_time": "2023-08-15T11:20:37.502Z"
   },
   {
    "duration": 3,
    "start_time": "2023-08-15T11:21:42.847Z"
   },
   {
    "duration": 13,
    "start_time": "2023-08-15T11:21:42.851Z"
   },
   {
    "duration": 333,
    "start_time": "2023-08-15T11:21:42.866Z"
   },
   {
    "duration": 112,
    "start_time": "2023-08-15T11:21:43.201Z"
   },
   {
    "duration": 4,
    "start_time": "2023-08-15T11:21:43.315Z"
   },
   {
    "duration": 34,
    "start_time": "2023-08-15T11:21:43.321Z"
   },
   {
    "duration": 138289,
    "start_time": "2023-08-15T11:21:43.357Z"
   },
   {
    "duration": 117838,
    "start_time": "2023-08-15T11:24:01.648Z"
   },
   {
    "duration": 60,
    "start_time": "2023-08-15T11:31:28.382Z"
   },
   {
    "duration": 12664,
    "start_time": "2023-08-15T11:31:28.444Z"
   },
   {
    "duration": 889,
    "start_time": "2023-08-15T11:31:41.111Z"
   },
   {
    "duration": 5,
    "start_time": "2023-08-15T11:31:42.002Z"
   },
   {
    "duration": 824,
    "start_time": "2023-08-15T11:31:42.009Z"
   },
   {
    "duration": 4,
    "start_time": "2023-08-15T11:31:42.834Z"
   },
   {
    "duration": 24,
    "start_time": "2023-08-15T11:31:42.840Z"
   },
   {
    "duration": 364,
    "start_time": "2023-08-15T11:31:42.866Z"
   },
   {
    "duration": 33,
    "start_time": "2023-08-15T11:31:43.232Z"
   },
   {
    "duration": 479,
    "start_time": "2023-08-15T11:31:43.268Z"
   },
   {
    "duration": 2336,
    "start_time": "2023-08-15T11:31:43.748Z"
   },
   {
    "duration": 2074667,
    "start_time": "2023-08-15T11:31:46.086Z"
   },
   {
    "duration": 153,
    "start_time": "2023-08-15T12:06:20.754Z"
   },
   {
    "duration": 16,
    "start_time": "2023-08-15T12:06:20.909Z"
   },
   {
    "duration": 64,
    "start_time": "2023-08-15T12:07:34.530Z"
   },
   {
    "duration": 6,
    "start_time": "2023-08-15T12:07:38.849Z"
   },
   {
    "duration": 1721,
    "start_time": "2023-08-15T12:07:47.299Z"
   },
   {
    "duration": 99,
    "start_time": "2023-08-15T12:07:56.059Z"
   },
   {
    "duration": 6,
    "start_time": "2023-08-15T12:22:00.606Z"
   },
   {
    "duration": 59,
    "start_time": "2023-08-15T12:26:16.897Z"
   },
   {
    "duration": 13100,
    "start_time": "2023-08-15T12:26:16.957Z"
   },
   {
    "duration": 1009,
    "start_time": "2023-08-15T12:26:30.059Z"
   },
   {
    "duration": 7,
    "start_time": "2023-08-15T12:26:31.071Z"
   },
   {
    "duration": 2428,
    "start_time": "2023-08-15T12:26:31.080Z"
   },
   {
    "duration": 3,
    "start_time": "2023-08-15T12:26:33.509Z"
   },
   {
    "duration": 17,
    "start_time": "2023-08-15T12:26:33.513Z"
   },
   {
    "duration": 384,
    "start_time": "2023-08-15T12:26:33.532Z"
   },
   {
    "duration": 35,
    "start_time": "2023-08-15T12:26:33.918Z"
   },
   {
    "duration": 543,
    "start_time": "2023-08-15T12:26:33.955Z"
   },
   {
    "duration": 2338,
    "start_time": "2023-08-15T12:26:34.500Z"
   },
   {
    "duration": 6,
    "start_time": "2023-08-15T12:26:36.839Z"
   },
   {
    "duration": 1990,
    "start_time": "2023-08-15T12:26:36.846Z"
   },
   {
    "duration": 17,
    "start_time": "2023-08-15T12:26:38.838Z"
   },
   {
    "duration": 5916,
    "start_time": "2023-08-15T12:26:38.857Z"
   },
   {
    "duration": 1825,
    "start_time": "2023-08-15T12:26:44.775Z"
   },
   {
    "duration": 3,
    "start_time": "2023-08-15T12:26:46.602Z"
   },
   {
    "duration": 2396,
    "start_time": "2023-08-15T12:26:46.607Z"
   },
   {
    "duration": 1288693,
    "start_time": "2023-08-15T12:26:49.004Z"
   },
   {
    "duration": 886687,
    "start_time": "2023-08-15T12:48:17.698Z"
   },
   {
    "duration": 495,
    "start_time": "2023-08-15T13:03:04.387Z"
   },
   {
    "duration": 3,
    "start_time": "2023-08-15T13:03:04.883Z"
   },
   {
    "duration": 23,
    "start_time": "2023-08-15T13:03:04.888Z"
   },
   {
    "duration": 5,
    "start_time": "2023-08-15T14:11:38.321Z"
   },
   {
    "duration": 37333,
    "start_time": "2023-08-15T14:11:46.305Z"
   },
   {
    "duration": 3,
    "start_time": "2023-08-15T14:12:23.640Z"
   },
   {
    "duration": 67,
    "start_time": "2023-08-15T14:12:23.645Z"
   },
   {
    "duration": 211337,
    "start_time": "2023-08-15T14:17:13.922Z"
   },
   {
    "duration": 3,
    "start_time": "2023-08-15T14:20:45.261Z"
   },
   {
    "duration": 55,
    "start_time": "2023-08-15T14:20:45.265Z"
   },
   {
    "duration": 39958,
    "start_time": "2023-08-15T14:29:05.485Z"
   },
   {
    "duration": 1273852,
    "start_time": "2023-08-15T14:31:41.333Z"
   },
   {
    "duration": 3,
    "start_time": "2023-08-15T14:52:55.187Z"
   },
   {
    "duration": 58,
    "start_time": "2023-08-15T14:52:55.192Z"
   },
   {
    "duration": 0,
    "start_time": "2023-08-15T14:52:55.251Z"
   },
   {
    "duration": 3,
    "start_time": "2023-08-15T15:08:51.519Z"
   },
   {
    "duration": 1421,
    "start_time": "2023-08-15T15:08:55.000Z"
   },
   {
    "duration": 3,
    "start_time": "2023-08-15T15:09:11.264Z"
   },
   {
    "duration": 363,
    "start_time": "2023-08-15T15:09:14.025Z"
   },
   {
    "duration": 106,
    "start_time": "2023-08-15T15:09:30.176Z"
   },
   {
    "duration": 3077022,
    "start_time": "2023-08-15T15:09:59.935Z"
   },
   {
    "duration": 1032519,
    "start_time": "2023-08-15T16:01:16.959Z"
   },
   {
    "duration": 38690,
    "start_time": "2023-08-15T16:18:29.480Z"
   },
   {
    "duration": 0,
    "start_time": "2023-08-15T16:19:08.172Z"
   },
   {
    "duration": 0,
    "start_time": "2023-08-15T16:19:08.173Z"
   },
   {
    "duration": 2,
    "start_time": "2023-08-15T16:22:05.711Z"
   },
   {
    "duration": 338,
    "start_time": "2023-08-15T16:22:07.231Z"
   },
   {
    "duration": 17,
    "start_time": "2023-08-15T16:22:18.163Z"
   },
   {
    "duration": 5,
    "start_time": "2023-08-15T16:22:26.944Z"
   },
   {
    "duration": 228009,
    "start_time": "2023-08-15T16:22:31.025Z"
   },
   {
    "duration": 4,
    "start_time": "2023-08-15T16:34:40.435Z"
   },
   {
    "duration": 465,
    "start_time": "2023-08-15T16:34:44.538Z"
   },
   {
    "duration": 3,
    "start_time": "2023-08-15T16:35:19.187Z"
   },
   {
    "duration": 209,
    "start_time": "2023-08-15T16:35:26.742Z"
   },
   {
    "duration": 48,
    "start_time": "2023-08-15T16:43:47.964Z"
   },
   {
    "duration": 13618,
    "start_time": "2023-08-15T16:43:48.014Z"
   },
   {
    "duration": 936,
    "start_time": "2023-08-15T16:44:01.635Z"
   },
   {
    "duration": 8,
    "start_time": "2023-08-15T16:44:02.573Z"
   },
   {
    "duration": 867,
    "start_time": "2023-08-15T16:44:02.582Z"
   },
   {
    "duration": 5,
    "start_time": "2023-08-15T16:44:03.450Z"
   },
   {
    "duration": 414,
    "start_time": "2023-08-15T16:44:03.456Z"
   },
   {
    "duration": 37,
    "start_time": "2023-08-15T16:44:03.871Z"
   },
   {
    "duration": 532,
    "start_time": "2023-08-15T16:44:03.910Z"
   },
   {
    "duration": 2472,
    "start_time": "2023-08-15T16:44:04.446Z"
   },
   {
    "duration": 8,
    "start_time": "2023-08-15T16:44:06.920Z"
   },
   {
    "duration": 884,
    "start_time": "2023-08-15T16:44:06.938Z"
   },
   {
    "duration": 0,
    "start_time": "2023-08-15T16:44:07.824Z"
   },
   {
    "duration": 0,
    "start_time": "2023-08-15T16:44:07.826Z"
   },
   {
    "duration": 0,
    "start_time": "2023-08-15T16:44:07.827Z"
   },
   {
    "duration": 0,
    "start_time": "2023-08-15T16:44:07.828Z"
   },
   {
    "duration": 0,
    "start_time": "2023-08-15T16:44:07.829Z"
   },
   {
    "duration": 0,
    "start_time": "2023-08-15T16:44:07.838Z"
   },
   {
    "duration": 0,
    "start_time": "2023-08-15T16:44:07.839Z"
   },
   {
    "duration": 0,
    "start_time": "2023-08-15T16:44:07.840Z"
   },
   {
    "duration": 0,
    "start_time": "2023-08-15T16:44:07.842Z"
   },
   {
    "duration": 0,
    "start_time": "2023-08-15T16:44:07.844Z"
   },
   {
    "duration": 602,
    "start_time": "2023-08-15T16:46:44.350Z"
   },
   {
    "duration": 153,
    "start_time": "2023-08-15T16:47:10.268Z"
   },
   {
    "duration": 128,
    "start_time": "2023-08-15T16:47:38.257Z"
   },
   {
    "duration": 51,
    "start_time": "2023-08-15T16:47:57.185Z"
   },
   {
    "duration": 14356,
    "start_time": "2023-08-15T16:47:57.237Z"
   },
   {
    "duration": 901,
    "start_time": "2023-08-15T16:48:11.595Z"
   },
   {
    "duration": 6,
    "start_time": "2023-08-15T16:48:12.499Z"
   },
   {
    "duration": 928,
    "start_time": "2023-08-15T16:48:12.506Z"
   },
   {
    "duration": 28,
    "start_time": "2023-08-15T16:48:13.436Z"
   },
   {
    "duration": 416,
    "start_time": "2023-08-15T16:48:13.469Z"
   },
   {
    "duration": 28,
    "start_time": "2023-08-15T16:48:13.887Z"
   },
   {
    "duration": 541,
    "start_time": "2023-08-15T16:48:13.917Z"
   },
   {
    "duration": 2851,
    "start_time": "2023-08-15T16:48:14.466Z"
   },
   {
    "duration": 7,
    "start_time": "2023-08-15T16:48:17.318Z"
   },
   {
    "duration": 565,
    "start_time": "2023-08-15T16:48:17.327Z"
   },
   {
    "duration": 21,
    "start_time": "2023-08-15T16:48:17.894Z"
   },
   {
    "duration": 6196,
    "start_time": "2023-08-15T16:48:17.917Z"
   },
   {
    "duration": 2189,
    "start_time": "2023-08-15T16:48:24.114Z"
   },
   {
    "duration": 4,
    "start_time": "2023-08-15T16:48:26.305Z"
   },
   {
    "duration": 60,
    "start_time": "2023-08-15T16:56:18.459Z"
   },
   {
    "duration": 13797,
    "start_time": "2023-08-15T16:56:18.521Z"
   },
   {
    "duration": 822,
    "start_time": "2023-08-15T16:56:32.323Z"
   },
   {
    "duration": 7,
    "start_time": "2023-08-15T16:56:33.147Z"
   },
   {
    "duration": 881,
    "start_time": "2023-08-15T16:56:33.156Z"
   },
   {
    "duration": 5,
    "start_time": "2023-08-15T16:56:34.040Z"
   },
   {
    "duration": 414,
    "start_time": "2023-08-15T16:56:34.047Z"
   },
   {
    "duration": 39,
    "start_time": "2023-08-15T16:56:34.464Z"
   },
   {
    "duration": 585,
    "start_time": "2023-08-15T16:56:34.507Z"
   },
   {
    "duration": 2460,
    "start_time": "2023-08-15T16:56:35.094Z"
   },
   {
    "duration": 65,
    "start_time": "2023-08-15T17:06:30.510Z"
   },
   {
    "duration": 16004,
    "start_time": "2023-08-15T17:06:30.577Z"
   },
   {
    "duration": 1022,
    "start_time": "2023-08-15T17:06:46.583Z"
   },
   {
    "duration": 5,
    "start_time": "2023-08-15T17:06:47.607Z"
   },
   {
    "duration": 1472,
    "start_time": "2023-08-15T17:06:47.614Z"
   },
   {
    "duration": 10,
    "start_time": "2023-08-15T17:06:49.088Z"
   },
   {
    "duration": 507,
    "start_time": "2023-08-15T17:06:49.100Z"
   },
   {
    "duration": 44,
    "start_time": "2023-08-15T17:06:49.609Z"
   },
   {
    "duration": 781,
    "start_time": "2023-08-15T17:06:49.655Z"
   },
   {
    "duration": 3540,
    "start_time": "2023-08-15T17:06:50.438Z"
   },
   {
    "duration": 182,
    "start_time": "2023-08-15T17:06:53.980Z"
   },
   {
    "duration": 7,
    "start_time": "2023-08-15T17:06:54.164Z"
   },
   {
    "duration": 41,
    "start_time": "2023-08-15T17:07:49.363Z"
   },
   {
    "duration": 7359,
    "start_time": "2023-08-15T17:07:49.406Z"
   },
   {
    "duration": 798,
    "start_time": "2023-08-15T17:07:56.767Z"
   },
   {
    "duration": 5,
    "start_time": "2023-08-15T17:07:57.567Z"
   },
   {
    "duration": 730,
    "start_time": "2023-08-15T17:07:57.574Z"
   },
   {
    "duration": 4,
    "start_time": "2023-08-15T17:07:58.305Z"
   },
   {
    "duration": 378,
    "start_time": "2023-08-15T17:07:58.310Z"
   },
   {
    "duration": 32,
    "start_time": "2023-08-15T17:07:58.689Z"
   },
   {
    "duration": 736,
    "start_time": "2023-08-15T17:07:58.723Z"
   },
   {
    "duration": 2215,
    "start_time": "2023-08-15T17:07:59.461Z"
   },
   {
    "duration": 7007,
    "start_time": "2023-08-15T17:08:01.678Z"
   },
   {
    "duration": 0,
    "start_time": "2023-08-15T17:08:08.687Z"
   },
   {
    "duration": 0,
    "start_time": "2023-08-15T17:08:08.689Z"
   },
   {
    "duration": 0,
    "start_time": "2023-08-15T17:08:08.690Z"
   },
   {
    "duration": 0,
    "start_time": "2023-08-15T17:08:08.691Z"
   },
   {
    "duration": 0,
    "start_time": "2023-08-15T17:08:08.693Z"
   },
   {
    "duration": 0,
    "start_time": "2023-08-15T17:08:08.693Z"
   },
   {
    "duration": 0,
    "start_time": "2023-08-15T17:08:08.695Z"
   },
   {
    "duration": 0,
    "start_time": "2023-08-15T17:08:08.696Z"
   },
   {
    "duration": 0,
    "start_time": "2023-08-15T17:08:08.697Z"
   },
   {
    "duration": 0,
    "start_time": "2023-08-15T17:08:08.698Z"
   },
   {
    "duration": 0,
    "start_time": "2023-08-15T17:08:08.699Z"
   },
   {
    "duration": 60,
    "start_time": "2023-08-15T17:08:47.518Z"
   },
   {
    "duration": 8069,
    "start_time": "2023-08-15T17:08:47.580Z"
   },
   {
    "duration": 849,
    "start_time": "2023-08-15T17:08:55.652Z"
   },
   {
    "duration": 5,
    "start_time": "2023-08-15T17:08:56.503Z"
   },
   {
    "duration": 808,
    "start_time": "2023-08-15T17:08:56.510Z"
   },
   {
    "duration": 4,
    "start_time": "2023-08-15T17:08:57.320Z"
   },
   {
    "duration": 422,
    "start_time": "2023-08-15T17:08:57.325Z"
   },
   {
    "duration": 47,
    "start_time": "2023-08-15T17:08:57.749Z"
   },
   {
    "duration": 765,
    "start_time": "2023-08-15T17:08:57.798Z"
   },
   {
    "duration": 2391,
    "start_time": "2023-08-15T17:08:58.565Z"
   },
   {
    "duration": 180,
    "start_time": "2023-08-15T17:09:00.958Z"
   },
   {
    "duration": 101,
    "start_time": "2023-08-15T17:09:01.139Z"
   },
   {
    "duration": 59,
    "start_time": "2023-08-15T17:09:42.153Z"
   },
   {
    "duration": 16018,
    "start_time": "2023-08-15T17:09:43.187Z"
   },
   {
    "duration": 50,
    "start_time": "2023-08-15T21:21:49.288Z"
   },
   {
    "duration": 12954,
    "start_time": "2023-08-15T21:21:49.340Z"
   },
   {
    "duration": 1172,
    "start_time": "2023-08-15T21:22:02.296Z"
   },
   {
    "duration": 5,
    "start_time": "2023-08-15T21:22:03.471Z"
   },
   {
    "duration": 2473,
    "start_time": "2023-08-15T21:22:03.477Z"
   },
   {
    "duration": 3,
    "start_time": "2023-08-15T21:22:05.952Z"
   },
   {
    "duration": 360,
    "start_time": "2023-08-15T21:22:05.957Z"
   },
   {
    "duration": 37,
    "start_time": "2023-08-15T21:22:06.318Z"
   },
   {
    "duration": 504,
    "start_time": "2023-08-15T21:22:06.357Z"
   },
   {
    "duration": 2170,
    "start_time": "2023-08-15T21:22:06.864Z"
   },
   {
    "duration": 2,
    "start_time": "2023-08-15T21:22:09.036Z"
   },
   {
    "duration": 675,
    "start_time": "2023-08-15T21:22:09.039Z"
   },
   {
    "duration": 17,
    "start_time": "2023-08-15T21:22:09.716Z"
   },
   {
    "duration": 5009,
    "start_time": "2023-08-15T21:22:09.735Z"
   },
   {
    "duration": 1897,
    "start_time": "2023-08-15T21:22:14.746Z"
   },
   {
    "duration": 4,
    "start_time": "2023-08-15T21:22:16.645Z"
   },
   {
    "duration": 413,
    "start_time": "2023-08-15T21:22:16.651Z"
   },
   {
    "duration": 106,
    "start_time": "2023-08-15T21:22:17.066Z"
   },
   {
    "duration": 96,
    "start_time": "2023-08-15T21:22:17.174Z"
   },
   {
    "duration": 3,
    "start_time": "2023-08-15T21:22:17.272Z"
   },
   {
    "duration": 40,
    "start_time": "2023-08-15T21:22:17.277Z"
   },
   {
    "duration": 0,
    "start_time": "2023-08-15T21:22:17.320Z"
   },
   {
    "duration": 4759,
    "start_time": "2023-08-15T21:24:42.930Z"
   },
   {
    "duration": 4693,
    "start_time": "2023-08-15T21:25:02.731Z"
   },
   {
    "duration": 51,
    "start_time": "2023-08-15T21:26:06.766Z"
   },
   {
    "duration": 12444,
    "start_time": "2023-08-15T21:26:06.819Z"
   },
   {
    "duration": 824,
    "start_time": "2023-08-15T21:26:19.265Z"
   },
   {
    "duration": 5,
    "start_time": "2023-08-15T21:26:20.091Z"
   },
   {
    "duration": 839,
    "start_time": "2023-08-15T21:26:20.098Z"
   },
   {
    "duration": 3,
    "start_time": "2023-08-15T21:26:20.939Z"
   },
   {
    "duration": 412,
    "start_time": "2023-08-15T21:26:20.944Z"
   },
   {
    "duration": 45,
    "start_time": "2023-08-15T21:26:21.357Z"
   },
   {
    "duration": 561,
    "start_time": "2023-08-15T21:26:21.404Z"
   },
   {
    "duration": 2317,
    "start_time": "2023-08-15T21:26:21.967Z"
   },
   {
    "duration": 2,
    "start_time": "2023-08-15T21:26:24.286Z"
   },
   {
    "duration": 410,
    "start_time": "2023-08-15T21:26:24.290Z"
   },
   {
    "duration": 24,
    "start_time": "2023-08-15T21:26:24.702Z"
   },
   {
    "duration": 5094,
    "start_time": "2023-08-15T21:26:24.730Z"
   },
   {
    "duration": 1844,
    "start_time": "2023-08-15T21:26:29.826Z"
   },
   {
    "duration": 3,
    "start_time": "2023-08-15T21:26:31.672Z"
   },
   {
    "duration": 61,
    "start_time": "2023-08-15T21:31:19.867Z"
   },
   {
    "duration": 13270,
    "start_time": "2023-08-15T21:31:19.929Z"
   },
   {
    "duration": 871,
    "start_time": "2023-08-15T21:31:33.201Z"
   },
   {
    "duration": 5,
    "start_time": "2023-08-15T21:31:34.074Z"
   },
   {
    "duration": 957,
    "start_time": "2023-08-15T21:31:34.086Z"
   },
   {
    "duration": 5,
    "start_time": "2023-08-15T21:31:35.045Z"
   },
   {
    "duration": 504,
    "start_time": "2023-08-15T21:31:35.052Z"
   },
   {
    "duration": 52,
    "start_time": "2023-08-15T21:31:35.557Z"
   },
   {
    "duration": 528,
    "start_time": "2023-08-15T21:31:35.611Z"
   },
   {
    "duration": 2325,
    "start_time": "2023-08-15T21:31:36.142Z"
   },
   {
    "duration": 2,
    "start_time": "2023-08-15T21:31:38.469Z"
   },
   {
    "duration": 609,
    "start_time": "2023-08-15T21:31:38.472Z"
   },
   {
    "duration": 22,
    "start_time": "2023-08-15T21:31:39.082Z"
   },
   {
    "duration": 4950,
    "start_time": "2023-08-15T21:31:39.106Z"
   },
   {
    "duration": 0,
    "start_time": "2023-08-15T21:31:44.058Z"
   },
   {
    "duration": 0,
    "start_time": "2023-08-15T21:31:44.060Z"
   },
   {
    "duration": 0,
    "start_time": "2023-08-15T21:31:44.062Z"
   },
   {
    "duration": 0,
    "start_time": "2023-08-15T21:31:44.063Z"
   },
   {
    "duration": 0,
    "start_time": "2023-08-15T21:31:44.064Z"
   },
   {
    "duration": 0,
    "start_time": "2023-08-15T21:31:44.066Z"
   },
   {
    "duration": 0,
    "start_time": "2023-08-15T21:31:44.087Z"
   },
   {
    "duration": 0,
    "start_time": "2023-08-15T21:31:44.089Z"
   },
   {
    "duration": 75,
    "start_time": "2023-08-15T21:32:16.959Z"
   },
   {
    "duration": 12630,
    "start_time": "2023-08-15T21:32:17.035Z"
   },
   {
    "duration": 894,
    "start_time": "2023-08-15T21:32:29.668Z"
   },
   {
    "duration": 6,
    "start_time": "2023-08-15T21:32:30.564Z"
   },
   {
    "duration": 844,
    "start_time": "2023-08-15T21:32:30.572Z"
   },
   {
    "duration": 4,
    "start_time": "2023-08-15T21:32:31.418Z"
   },
   {
    "duration": 442,
    "start_time": "2023-08-15T21:32:31.423Z"
   },
   {
    "duration": 47,
    "start_time": "2023-08-15T21:32:31.867Z"
   },
   {
    "duration": 487,
    "start_time": "2023-08-15T21:32:31.916Z"
   },
   {
    "duration": 2208,
    "start_time": "2023-08-15T21:32:32.406Z"
   },
   {
    "duration": 2,
    "start_time": "2023-08-15T21:32:34.616Z"
   },
   {
    "duration": 570,
    "start_time": "2023-08-15T21:32:34.620Z"
   },
   {
    "duration": 19,
    "start_time": "2023-08-15T21:32:35.192Z"
   },
   {
    "duration": 4959,
    "start_time": "2023-08-15T21:32:35.213Z"
   },
   {
    "duration": 1762,
    "start_time": "2023-08-15T21:32:40.173Z"
   },
   {
    "duration": 4,
    "start_time": "2023-08-15T21:32:41.936Z"
   },
   {
    "duration": 972959,
    "start_time": "2023-08-15T21:32:41.942Z"
   },
   {
    "duration": 19665,
    "start_time": "2023-08-15T21:48:54.903Z"
   },
   {
    "duration": 5061,
    "start_time": "2023-08-15T21:49:14.570Z"
   },
   {
    "duration": 3,
    "start_time": "2023-08-15T21:49:19.632Z"
   },
   {
    "duration": 96,
    "start_time": "2023-08-15T21:49:19.637Z"
   },
   {
    "duration": 0,
    "start_time": "2023-08-15T21:49:19.735Z"
   },
   {
    "duration": 107902,
    "start_time": "2023-08-15T21:49:35.816Z"
   },
   {
    "duration": 60,
    "start_time": "2023-08-15T21:58:08.829Z"
   },
   {
    "duration": 12561,
    "start_time": "2023-08-15T21:58:08.891Z"
   },
   {
    "duration": 829,
    "start_time": "2023-08-15T21:58:21.454Z"
   },
   {
    "duration": 5,
    "start_time": "2023-08-15T21:58:22.286Z"
   },
   {
    "duration": 845,
    "start_time": "2023-08-15T21:58:22.292Z"
   },
   {
    "duration": 3,
    "start_time": "2023-08-15T21:58:23.139Z"
   },
   {
    "duration": 389,
    "start_time": "2023-08-15T21:58:23.144Z"
   },
   {
    "duration": 38,
    "start_time": "2023-08-15T21:58:23.534Z"
   },
   {
    "duration": 473,
    "start_time": "2023-08-15T21:58:23.574Z"
   },
   {
    "duration": 2258,
    "start_time": "2023-08-15T21:58:24.049Z"
   },
   {
    "duration": 3,
    "start_time": "2023-08-15T21:58:26.308Z"
   },
   {
    "duration": 798,
    "start_time": "2023-08-15T21:58:26.312Z"
   },
   {
    "duration": 20,
    "start_time": "2023-08-15T21:58:27.112Z"
   },
   {
    "duration": 4974,
    "start_time": "2023-08-15T21:58:27.134Z"
   },
   {
    "duration": 1797,
    "start_time": "2023-08-15T21:58:32.110Z"
   },
   {
    "duration": 3,
    "start_time": "2023-08-15T21:58:33.909Z"
   },
   {
    "duration": 58,
    "start_time": "2023-08-16T09:26:46.558Z"
   },
   {
    "duration": 17605,
    "start_time": "2023-08-16T09:26:46.618Z"
   },
   {
    "duration": 1326,
    "start_time": "2023-08-16T09:27:04.226Z"
   },
   {
    "duration": 7,
    "start_time": "2023-08-16T09:27:05.555Z"
   },
   {
    "duration": 2395,
    "start_time": "2023-08-16T09:27:05.564Z"
   },
   {
    "duration": 5,
    "start_time": "2023-08-16T09:27:07.960Z"
   },
   {
    "duration": 535,
    "start_time": "2023-08-16T09:27:07.967Z"
   },
   {
    "duration": 61,
    "start_time": "2023-08-16T09:27:08.504Z"
   },
   {
    "duration": 818,
    "start_time": "2023-08-16T09:27:08.569Z"
   },
   {
    "duration": 2403,
    "start_time": "2023-08-16T09:27:09.389Z"
   },
   {
    "duration": 27,
    "start_time": "2023-08-16T09:27:36.667Z"
   },
   {
    "duration": 11,
    "start_time": "2023-08-16T09:32:25.397Z"
   },
   {
    "duration": 415,
    "start_time": "2023-08-16T09:34:28.251Z"
   },
   {
    "duration": 6,
    "start_time": "2023-08-16T09:34:42.454Z"
   },
   {
    "duration": 103044,
    "start_time": "2023-08-16T09:34:46.221Z"
   },
   {
    "duration": 464222,
    "start_time": "2023-08-16T09:36:33.071Z"
   },
   {
    "duration": 172519,
    "start_time": "2023-08-16T09:44:19.541Z"
   },
   {
    "duration": 10104,
    "start_time": "2023-08-16T09:47:39.046Z"
   },
   {
    "duration": 4,
    "start_time": "2023-08-16T09:48:15.063Z"
   },
   {
    "duration": 59,
    "start_time": "2023-10-31T20:03:06.287Z"
   },
   {
    "duration": 27496,
    "start_time": "2023-10-31T20:03:06.348Z"
   },
   {
    "duration": 2021,
    "start_time": "2023-10-31T20:03:33.847Z"
   },
   {
    "duration": 8,
    "start_time": "2023-10-31T20:03:35.928Z"
   },
   {
    "duration": 3402,
    "start_time": "2023-10-31T20:03:35.943Z"
   },
   {
    "duration": 4,
    "start_time": "2023-10-31T20:03:39.347Z"
   },
   {
    "duration": 988,
    "start_time": "2023-10-31T20:03:39.353Z"
   },
   {
    "duration": 102,
    "start_time": "2023-10-31T20:03:40.343Z"
   },
   {
    "duration": 1528,
    "start_time": "2023-10-31T20:03:40.447Z"
   },
   {
    "duration": 5567,
    "start_time": "2023-10-31T20:03:41.977Z"
   },
   {
    "duration": 104,
    "start_time": "2023-11-07T19:23:35.836Z"
   },
   {
    "duration": 33408,
    "start_time": "2023-11-07T19:23:35.943Z"
   },
   {
    "duration": 2606,
    "start_time": "2023-11-07T19:24:09.353Z"
   },
   {
    "duration": 12,
    "start_time": "2023-11-07T19:24:11.961Z"
   },
   {
    "duration": 3647,
    "start_time": "2023-11-07T19:24:12.015Z"
   },
   {
    "duration": 6,
    "start_time": "2023-11-07T19:24:15.665Z"
   },
   {
    "duration": 1187,
    "start_time": "2023-11-07T19:24:15.674Z"
   },
   {
    "duration": 160,
    "start_time": "2023-11-07T19:24:16.865Z"
   },
   {
    "duration": 1800,
    "start_time": "2023-11-07T19:24:17.028Z"
   },
   {
    "duration": 9813,
    "start_time": "2023-11-07T19:24:18.835Z"
   },
   {
    "duration": 3889876,
    "start_time": "2023-11-07T19:24:28.652Z"
   },
   {
    "duration": 56,
    "start_time": "2023-11-07T20:29:18.556Z"
   },
   {
    "duration": 119,
    "start_time": "2023-11-07T20:29:18.637Z"
   },
   {
    "duration": 37176,
    "start_time": "2023-11-07T20:29:18.770Z"
   },
   {
    "duration": 55975,
    "start_time": "2023-11-07T20:29:55.953Z"
   },
   {
    "duration": 10,
    "start_time": "2023-11-07T20:30:51.938Z"
   },
   {
    "duration": 11461,
    "start_time": "2023-11-07T20:30:51.950Z"
   },
   {
    "duration": 5,
    "start_time": "2023-11-07T20:31:03.414Z"
   },
   {
    "duration": 143,
    "start_time": "2023-11-08T09:02:53.258Z"
   },
   {
    "duration": 50,
    "start_time": "2023-11-08T09:03:27.976Z"
   },
   {
    "duration": 14606,
    "start_time": "2023-11-08T09:03:28.028Z"
   },
   {
    "duration": 1105,
    "start_time": "2023-11-08T09:03:42.636Z"
   },
   {
    "duration": 6,
    "start_time": "2023-11-08T09:03:43.743Z"
   },
   {
    "duration": 2419,
    "start_time": "2023-11-08T09:03:43.751Z"
   },
   {
    "duration": 4,
    "start_time": "2023-11-08T09:03:46.172Z"
   },
   {
    "duration": 454,
    "start_time": "2023-11-08T09:03:46.178Z"
   },
   {
    "duration": 39,
    "start_time": "2023-11-08T09:03:46.634Z"
   },
   {
    "duration": 1518,
    "start_time": "2023-11-08T09:03:46.674Z"
   },
   {
    "duration": 2415,
    "start_time": "2023-11-08T09:03:48.194Z"
   },
   {
    "duration": 74,
    "start_time": "2023-11-08T09:06:16.888Z"
   },
   {
    "duration": 13482,
    "start_time": "2023-11-08T09:06:16.964Z"
   },
   {
    "duration": 877,
    "start_time": "2023-11-08T09:06:30.449Z"
   },
   {
    "duration": 5,
    "start_time": "2023-11-08T09:06:31.328Z"
   },
   {
    "duration": 932,
    "start_time": "2023-11-08T09:06:31.335Z"
   },
   {
    "duration": 4,
    "start_time": "2023-11-08T09:06:32.269Z"
   },
   {
    "duration": 1162,
    "start_time": "2023-11-08T09:06:32.274Z"
   },
   {
    "duration": 43,
    "start_time": "2023-11-08T09:06:33.438Z"
   },
   {
    "duration": 992,
    "start_time": "2023-11-08T09:06:33.483Z"
   },
   {
    "duration": 2532,
    "start_time": "2023-11-08T09:06:34.477Z"
   },
   {
    "duration": 1049536,
    "start_time": "2023-11-08T09:06:37.011Z"
   },
   {
    "duration": 3166,
    "start_time": "2023-11-08T09:24:06.550Z"
   },
   {
    "duration": 24,
    "start_time": "2023-11-08T09:24:09.718Z"
   },
   {
    "duration": 5501,
    "start_time": "2023-11-08T09:24:09.745Z"
   },
   {
    "duration": 8901,
    "start_time": "2023-11-08T09:24:15.247Z"
   },
   {
    "duration": 4,
    "start_time": "2023-11-08T09:24:24.150Z"
   },
   {
    "duration": 1719,
    "start_time": "2023-11-08T09:24:24.156Z"
   },
   {
    "duration": 5,
    "start_time": "2023-11-08T09:24:25.876Z"
   },
   {
    "duration": 1348065,
    "start_time": "2023-11-08T09:24:25.883Z"
   },
   {
    "duration": 17136380,
    "start_time": "2023-11-08T09:46:53.950Z"
   },
   {
    "duration": 3871172,
    "start_time": "2023-11-08T14:32:30.334Z"
   },
   {
    "duration": 3,
    "start_time": "2023-11-08T15:37:01.508Z"
   },
   {
    "duration": 664,
    "start_time": "2023-11-08T15:37:01.523Z"
   },
   {
    "duration": 0,
    "start_time": "2023-11-08T15:37:02.190Z"
   },
   {
    "duration": 8634,
    "start_time": "2023-11-08T18:09:35.566Z"
   },
   {
    "duration": 4,
    "start_time": "2023-11-08T18:09:48.177Z"
   },
   {
    "duration": 2260,
    "start_time": "2023-11-08T18:09:53.769Z"
   },
   {
    "duration": 5599,
    "start_time": "2023-11-08T18:10:38.608Z"
   },
   {
    "duration": 9847,
    "start_time": "2023-11-08T18:10:48.201Z"
   },
   {
    "duration": 4,
    "start_time": "2023-11-08T18:11:12.927Z"
   },
   {
    "duration": 2353,
    "start_time": "2023-11-08T18:11:15.337Z"
   },
   {
    "duration": 3,
    "start_time": "2023-11-08T18:11:31.742Z"
   },
   {
    "duration": 1145,
    "start_time": "2023-11-08T18:11:36.358Z"
   },
   {
    "duration": 120030,
    "start_time": "2023-11-08T18:11:41.455Z"
   },
   {
    "duration": 27,
    "start_time": "2023-11-08T18:15:37.426Z"
   },
   {
    "duration": 5306,
    "start_time": "2023-11-08T18:15:37.455Z"
   },
   {
    "duration": 9561,
    "start_time": "2023-11-08T18:15:42.763Z"
   },
   {
    "duration": 5,
    "start_time": "2023-11-08T18:15:52.326Z"
   },
   {
    "duration": 1866,
    "start_time": "2023-11-08T18:15:52.333Z"
   },
   {
    "duration": 4,
    "start_time": "2023-11-08T18:15:54.201Z"
   },
   {
    "duration": 1355865,
    "start_time": "2023-11-08T18:15:54.206Z"
   },
   {
    "duration": 3003933,
    "start_time": "2023-11-08T18:38:30.073Z"
   },
   {
    "duration": 1070953,
    "start_time": "2023-11-08T19:28:34.008Z"
   },
   {
    "duration": 3,
    "start_time": "2023-11-08T19:46:24.964Z"
   },
   {
    "duration": 1582,
    "start_time": "2023-11-08T19:46:24.969Z"
   },
   {
    "duration": 119565,
    "start_time": "2023-11-08T19:46:26.553Z"
   }
  ],
  "kernelspec": {
   "display_name": "Python 3 (ipykernel)",
   "language": "python",
   "name": "python3"
  },
  "language_info": {
   "codemirror_mode": {
    "name": "ipython",
    "version": 3
   },
   "file_extension": ".py",
   "mimetype": "text/x-python",
   "name": "python",
   "nbconvert_exporter": "python",
   "pygments_lexer": "ipython3",
   "version": "3.9.13"
  },
  "toc": {
   "base_numbering": 1,
   "nav_menu": {},
   "number_sections": true,
   "sideBar": true,
   "skip_h1_title": true,
   "title_cell": "Содержание",
   "title_sidebar": "Contents",
   "toc_cell": true,
   "toc_position": {
    "height": "calc(100% - 180px)",
    "left": "10px",
    "top": "150px",
    "width": "302.391px"
   },
   "toc_section_display": true,
   "toc_window_display": false
  }
 },
 "nbformat": 4,
 "nbformat_minor": 2
}
